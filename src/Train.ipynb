{
 "cells": [
  {
   "cell_type": "markdown",
   "id": "b0f0f4f3",
   "metadata": {},
   "source": [
    "# Import packages & functions"
   ]
  },
  {
   "cell_type": "code",
   "execution_count": 1,
   "id": "5bad764b-45c1-45ce-a716-8d055e09821a",
   "metadata": {
    "tags": []
   },
   "outputs": [
    {
     "name": "stderr",
     "output_type": "stream",
     "text": [
      "/export/raid1/home/kneel027/mamba/envs/mindeye_imagery_sc/lib/python3.11/site-packages/kornia/feature/lightglue.py:44: FutureWarning: `torch.cuda.amp.custom_fwd(args...)` is deprecated. Please use `torch.amp.custom_fwd(args..., device_type='cuda')` instead.\n",
      "  @torch.cuda.amp.custom_fwd(cast_inputs=torch.float32)\n"
     ]
    }
   ],
   "source": [
    "import os\n",
    "import sys\n",
    "import json\n",
    "import argparse\n",
    "import numpy as np\n",
    "import math\n",
    "from einops import rearrange\n",
    "import time\n",
    "import random\n",
    "import string\n",
    "import h5py\n",
    "from tqdm import tqdm\n",
    "import webdataset as wds\n",
    "import gc\n",
    "from PIL import Image\n",
    "import matplotlib.pyplot as plt\n",
    "import torch\n",
    "import torch.nn as nn\n",
    "from torchvision import transforms\n",
    "from accelerate import Accelerator\n",
    "from sklearn.linear_model import SGDRegressor\n",
    "from sklearn.preprocessing import StandardScaler\n",
    "from sklearn.utils import shuffle\n",
    "# tf32 data type is faster than standard float32\n",
    "torch.backends.cuda.matmul.allow_tf32 = True\n",
    "from sklearn.linear_model import Ridge\n",
    "import pickle\n",
    "# custom functions #\n",
    "import utils\n",
    "from sc_reconstructor import SC_Reconstructor\n",
    "from sd35_reconstructor import SD35_Reconstructor"
   ]
  },
  {
   "cell_type": "markdown",
   "id": "4588554b",
   "metadata": {
    "tags": []
   },
   "source": [
    "# Configurations"
   ]
  },
  {
   "cell_type": "code",
   "execution_count": 2,
   "id": "42d13c25-1369-4c49-81d4-83d713586096",
   "metadata": {
    "tags": []
   },
   "outputs": [
    {
     "name": "stdout",
     "output_type": "stream",
     "text": [
      "model_name: subj01_40sess_hypatia_ridge_sc2\n",
      "--data_path=../dataset/                     --cache_dir=../cache/                     --model_name=subj01_40sess_hypatia_ridge_sc2                     --batch_size=64                     --no-multi_subject --subj=1 --num_sessions=40                     --dual_guidance\n"
     ]
    }
   ],
   "source": [
    "# if running this interactively, can specify jupyter_args here for argparser to use\n",
    "if utils.is_interactive():\n",
    "    model_name = \"subj01_40sess_hypatia_ridge_sd35\"\n",
    "    print(\"model_name:\", model_name)\n",
    "    \n",
    "    # global_batch_size and batch_size should already be defined in the 2nd cell block\n",
    "    jupyter_args = f\"--data_path=../dataset/ \\\n",
    "                    --cache_dir=../cache/ \\\n",
    "                    --model_name={model_name} \\\n",
    "                    --batch_size=64 \\\n",
    "                    --no-multi_subject --subj=1 --num_sessions=40\"\n",
    "\n",
    "    print(jupyter_args)\n",
    "    jupyter_args = jupyter_args.split()\n",
    "    \n",
    "    from IPython.display import clear_output # function to clear print outputs in cell\n",
    "    %load_ext autoreload \n",
    "    # this allows you to change functions in models.py or utils.py and have this notebook automatically update with your revisions\n",
    "    %autoreload 2 "
   ]
  },
  {
   "cell_type": "code",
   "execution_count": 3,
   "id": "1c023f24-5233-4a15-a2f5-78487b3a8546",
   "metadata": {},
   "outputs": [
    {
     "name": "stdout",
     "output_type": "stream",
     "text": [
      "subj_list [1] num_sessions 40\n"
     ]
    }
   ],
   "source": [
    "parser = argparse.ArgumentParser(description=\"Model Training Configuration\")\n",
    "parser.add_argument(\n",
    "    \"--model_name\", type=str, default=\"testing\",\n",
    "    help=\"name of model, used for ckpt saving and wandb logging (if enabled)\",\n",
    ")\n",
    "parser.add_argument(\n",
    "    \"--data_path\", type=str, default=os.getcwd(),\n",
    "    help=\"Path to where NSD data is stored / where to download it to\",\n",
    ")\n",
    "parser.add_argument(\n",
    "    \"--cache_dir\", type=str, default=os.getcwd(),\n",
    "    help=\"Path to where misc. files downloaded from huggingface are stored. Defaults to current src directory.\",\n",
    ")\n",
    "parser.add_argument(\n",
    "    \"--subj\",type=int, default=1, choices=[1,2,3,4,5,6,7,8,9,10,11],\n",
    "    help=\"Validate on which subject?\",\n",
    ")\n",
    "parser.add_argument(\n",
    "    \"--multisubject_ckpt\", type=str, default=None,\n",
    "    help=\"Path to pre-trained multisubject model to finetune a single subject from. multisubject must be False.\",\n",
    ")\n",
    "parser.add_argument(\n",
    "    \"--num_sessions\", type=int, default=1,\n",
    "    help=\"Number of training sessions to include\",\n",
    ")\n",
    "parser.add_argument(\n",
    "    \"--use_prior\",action=argparse.BooleanOptionalAction,default=True,\n",
    "    help=\"whether to train diffusion prior (True) or just rely on retrieval part of the pipeline (False)\",\n",
    ")\n",
    "parser.add_argument(\n",
    "    \"--visualize_prior\",action=argparse.BooleanOptionalAction,default=False,\n",
    "    help=\"output visualizations from unCLIP every ckpt_interval (requires much more memory!)\",\n",
    ")\n",
    "parser.add_argument(\n",
    "    \"--batch_size\", type=int, default=16,\n",
    "    help=\"Batch size can be increased by 10x if only training retreival submodule and not diffusion prior\",\n",
    ")\n",
    "parser.add_argument(\n",
    "    \"--wandb_log\",action=argparse.BooleanOptionalAction,default=False,\n",
    "    help=\"whether to log to wandb\",\n",
    ")\n",
    "parser.add_argument(\n",
    "    \"--resume_from_ckpt\",action=argparse.BooleanOptionalAction,default=False,\n",
    "    help=\"if not using wandb and want to resume from a ckpt\",\n",
    ")\n",
    "parser.add_argument(\n",
    "    \"--wandb_project\",type=str,default=\"stability\",\n",
    "    help=\"wandb project name\",\n",
    ")\n",
    "parser.add_argument(\n",
    "    \"--mixup_pct\",type=float,default=.33,\n",
    "    help=\"proportion of way through training when to switch from BiMixCo to SoftCLIP\",\n",
    ")\n",
    "parser.add_argument(\n",
    "    \"--blurry_recon\",action=argparse.BooleanOptionalAction,default=True,\n",
    "    help=\"whether to output blurry reconstructions\",\n",
    ")\n",
    "parser.add_argument(\n",
    "    \"--blur_scale\",type=float,default=.5,\n",
    "    help=\"multiply loss from blurry recons by this number\",\n",
    ")\n",
    "parser.add_argument(\n",
    "    \"--clip_scale\",type=float,default=1.,\n",
    "    help=\"multiply contrastive loss by this number\",\n",
    ")\n",
    "parser.add_argument(\n",
    "    \"--prior_scale\",type=float,default=30,\n",
    "    help=\"multiply diffusion prior loss by this\",\n",
    ")\n",
    "parser.add_argument(\n",
    "    \"--use_image_aug\",action=argparse.BooleanOptionalAction,default=False,\n",
    "    help=\"whether to use image augmentation\",\n",
    ")\n",
    "parser.add_argument(\n",
    "    \"--num_epochs\",type=int,default=150,\n",
    "    help=\"number of epochs of training\",\n",
    ")\n",
    "parser.add_argument(\n",
    "    \"--multi_subject\",action=argparse.BooleanOptionalAction,default=False,\n",
    ")\n",
    "parser.add_argument(\n",
    "    \"--new_test\",action=argparse.BooleanOptionalAction,default=True,\n",
    ")\n",
    "parser.add_argument(\n",
    "    \"--n_blocks\",type=int,default=4,\n",
    ")\n",
    "parser.add_argument(\n",
    "    \"--hidden_dim\",type=int,default=1024,\n",
    ")\n",
    "parser.add_argument(\n",
    "    \"--seq_past\",type=int,default=0,\n",
    ")\n",
    "parser.add_argument(\n",
    "    \"--seq_future\",type=int,default=0,\n",
    ")\n",
    "parser.add_argument(\n",
    "    \"--lr_scheduler_type\",type=str,default='cycle',choices=['cycle','linear'],\n",
    ")\n",
    "parser.add_argument(\n",
    "    \"--ckpt_saving\",action=argparse.BooleanOptionalAction,default=True,\n",
    ")\n",
    "parser.add_argument(\n",
    "    \"--ckpt_interval\",type=int,default=5,\n",
    "    help=\"save backup ckpt and reconstruct every x epochs\",\n",
    ")\n",
    "parser.add_argument(\n",
    "    \"--seed\",type=int,default=42,\n",
    ")\n",
    "parser.add_argument(\n",
    "    \"--max_lr\",type=float,default=3e-4,\n",
    ")\n",
    "parser.add_argument(\n",
    "    \"--weight_decay\",type=float,default=60000,\n",
    ")\n",
    "parser.add_argument(\n",
    "    \"--train_imageryrf\",action=argparse.BooleanOptionalAction,default=False,\n",
    "    help=\"Use the ImageryRF dataset for pretraining\",\n",
    ")\n",
    "parser.add_argument(\n",
    "    \"--no_nsd\",action=argparse.BooleanOptionalAction,default=False,\n",
    "    help=\"Don't use the Natural Scenes Dataset for pretraining\",\n",
    ")\n",
    "parser.add_argument(\n",
    "    \"--snr_threshold\",type=float,default=-1.0,\n",
    "    help=\"Used for calculating SNR on a whole brain to narrow down voxels.\",\n",
    ")\n",
    "parser.add_argument(\n",
    "    \"--mode\",type=str,default=\"all\",\n",
    ")\n",
    "parser.add_argument(\n",
    "    \"--sd35\",action=argparse.BooleanOptionalAction,default=False,\n",
    ")\n",
    "if utils.is_interactive():\n",
    "    args = parser.parse_args(jupyter_args)\n",
    "else:\n",
    "    args = parser.parse_args()\n",
    "\n",
    "# create global variables without the args prefix\n",
    "for attribute_name in vars(args).keys():\n",
    "    globals()[attribute_name] = getattr(args, attribute_name)\n",
    "    \n",
    "# seed all random functions\n",
    "utils.seed_everything(seed)\n",
    "\n",
    "outdir = os.path.abspath(f'../train_logs/{model_name}')\n",
    "if not os.path.exists(outdir) and ckpt_saving:\n",
    "    os.makedirs(outdir,exist_ok=True)\n",
    "    \n",
    "if use_image_aug or blurry_recon:\n",
    "    import kornia\n",
    "    from kornia.augmentation.container import AugmentationSequential\n",
    "if use_image_aug:\n",
    "    img_augment = AugmentationSequential(\n",
    "        kornia.augmentation.ColorJitter(brightness=0.4, contrast=0.4, saturation=0.4, hue=0.1, p=0.3),\n",
    "        same_on_batch=False,\n",
    "        data_keys=[\"input\"],\n",
    "    )\n",
    "    \n",
    "if multi_subject:\n",
    "    if train_imageryrf:\n",
    "            # 9,10,11 is ImageryRF subjects\n",
    "        if no_nsd:\n",
    "            subj_list = np.arange(9,12)\n",
    "        else:\n",
    "            subj_list = np.arange(1,12)\n",
    "    else:\n",
    "        subj_list = np.arange(1,9)\n",
    "    subj_list = subj_list[subj_list != subj]\n",
    "else:\n",
    "    subj_list = [subj]\n",
    "\n",
    "print(\"subj_list\", subj_list, \"num_sessions\", num_sessions)\n",
    "device = \"cuda\""
   ]
  },
  {
   "cell_type": "markdown",
   "id": "20c4743c",
   "metadata": {
    "tags": []
   },
   "source": [
    "# Prep data, models, and dataloaders"
   ]
  },
  {
   "cell_type": "markdown",
   "id": "c3964338",
   "metadata": {},
   "source": [
    "### Creating betas and all 73k possible images"
   ]
  },
  {
   "cell_type": "code",
   "execution_count": 5,
   "id": "10ec4517-dbdf-4ece-98f6-4714d5de4e15",
   "metadata": {},
   "outputs": [
    {
     "name": "stdout",
     "output_type": "stream",
     "text": [
      "Training with 40 sessions\n",
      "../dataset//wds/subj01/train/{0..39}.tar\n",
      "torch.Size([27000, 15724]) (27000,)\n",
      "num_voxels for subj01: 15724\n",
      "Loaded all subj train dls and betas!\n",
      "\n",
      "../dataset//wds/subj01/new_test/0.tar\n",
      "Loaded test dl for subj1!\n",
      "\n",
      "currently using 1 seq_len (chose 0 past behav and 0 future behav)\n"
     ]
    }
   ],
   "source": [
    "betas = utils.create_snr_betas(subject=subj, data_type=torch.float16, data_path=data_path, threshold = snr_threshold)\n",
    "# betas = utils.load_subject_based_on_rank_order_rois(excluded_subject=subj, data_type=torch.float16, top_n_rois=top_n_rank_order_rois, samplewise=samplewise_rank_order_rois)\n",
    "x_train, valid_nsd_ids_train, x_test, test_nsd_ids = utils.load_nsd(subject=subj, betas=betas, data_path=data_path)\n",
    "print(x_train.shape, valid_nsd_ids_train.shape)\n",
    "\n",
    "print(f\"Loaded subj {subj} betas!\\n\")"
   ]
  },
  {
   "cell_type": "code",
   "execution_count": 6,
   "id": "48d6160e-1ee8-4da7-a755-9dbb452a6fa5",
   "metadata": {},
   "outputs": [
    {
     "name": "stdout",
     "output_type": "stream",
     "text": [
      "Loaded all 73k possible NSD images to cpu! (73000, 3, 224, 224)\n",
      "Loaded all 73k NSD captions to cpu! (73000,)\n"
     ]
    }
   ],
   "source": [
    "# Load 73k NSD images\n",
    "f = h5py.File(f'{data_path}/coco_images_224_float16.hdf5', 'r')\n",
    "images = f['images'] # if you go OOM you can remove the [:] so it isnt preloaded to cpu! (will require a few edits elsewhere tho)\n",
    "# images = torch.Tensor(images).to(\"cpu\").to(data_type)\n",
    "print(\"Loaded all 73k possible NSD images to cpu!\", images.shape)\n",
    "\n",
    "# Load 73k NSD captions\n",
    "captions = np.load(f'{data_path}/preprocessed_data/annots_73k.npy')\n",
    "print(\"Loaded all 73k NSD captions to cpu!\", captions.shape)\n",
    "\n",
    "train_images = torch.zeros((len(valid_nsd_ids_train), 3, 224, 224))\n",
    "train_captions = np.zeros((len(valid_nsd_ids_train),), dtype=object)\n",
    "for i, idx in enumerate(valid_nsd_ids_train):\n",
    "    train_images[i] =  torch.from_numpy(images[idx])\n",
    "    train_captions[i] = captions[idx]"
   ]
  },
  {
   "cell_type": "markdown",
   "id": "b168051b",
   "metadata": {},
   "source": [
    "## Load models"
   ]
  },
  {
   "cell_type": "markdown",
   "id": "71a17b31",
   "metadata": {},
   "source": [
    "### Feature extractor model"
   ]
  },
  {
   "cell_type": "code",
   "execution_count": 7,
   "id": "b0420dc0-199e-4c1a-857d-b1747058b467",
   "metadata": {
    "tags": []
   },
   "outputs": [
    {
     "name": "stdout",
     "output_type": "stream",
     "text": [
      "Stable Cascade Reconstructor: Loading model...\n",
      "['model_version', 'effnet_checkpoint_path', 'previewer_checkpoint_path']\n",
      "['transforms', 'clip_preprocess', 'gdf', 'sampling_configs', 'effnet_preprocess']\n"
     ]
    },
    {
     "name": "stderr",
     "output_type": "stream",
     "text": [
      "/export/raid1/home/kneel027/mamba/envs/mindeye_imagery_sc/lib/python3.11/site-packages/huggingface_hub/file_download.py:797: FutureWarning: `resume_download` is deprecated and will be removed in version 1.0.0. Downloads always resume when possible. If you want to force a new download, use `force_download=True`.\n",
      "  warnings.warn(\n"
     ]
    },
    {
     "data": {
      "application/vnd.jupyter.widget-view+json": {
       "model_id": "acf25a9548d64decaf74856c038f6cd5",
       "version_major": 2,
       "version_minor": 0
      },
      "text/plain": [
       "Loading checkpoint shards:   0%|          | 0/2 [00:00<?, ?it/s]"
      ]
     },
     "metadata": {},
     "output_type": "display_data"
    },
    {
     "name": "stderr",
     "output_type": "stream",
     "text": [
      "/export/raid1/home/kneel027/mamba/envs/mindeye_imagery_sc/lib/python3.11/site-packages/torch/_utils.py:831: UserWarning: TypedStorage is deprecated. It will be removed in the future and UntypedStorage will be the only storage class. This should only matter to you if you are using storages directly.  To access UntypedStorage directly, use tensor.untyped_storage() instead of tensor.storage()\n",
      "  return self.fget.__get__(instance, owner)()\n"
     ]
    },
    {
     "name": "stdout",
     "output_type": "stream",
     "text": [
      "['tokenizer', 'text_model', 'generator', 'effnet', 'previewer']\n",
      "['tokenizer', 'text_model', 'generator', 'effnet', 'previewer']\n",
      "STAGE C READY\n"
     ]
    }
   ],
   "source": [
    "image_extractor = SC_Reconstructor(compile_models=False, embedder_only=True, device=device)\n",
    "image_embedding_variant = \"stable_cascade\"\n",
    "clip_emb_dim = 768\n",
    "clip_seq_dim = 1\n",
    "latent_embedding_variant = \"stable_cascade\"\n",
    "latent_emb_dim = 9216\n",
    "if sd35:\n",
    "    text_extractor = SD35_Reconstructor(embedder_only=True, device=device)\n",
    "    text_embedding_variant = \"sd35_t5\"\n",
    "    clip_text_seq_dim=154\n",
    "    clip_text_emb_dim=4096\n",
    "    text_embedding_variant2 = \"sd35_clip\"\n",
    "    clip_text_seq_dim2=1\n",
    "    clip_text_emb_dim2=2048\n",
    "else:\n",
    "    text_embedding_variant = \"flux_clip\"\n",
    "    clip_text_seq_dim=1\n",
    "    clip_text_emb_dim=768\n",
    "    text_embedding_variant2 = \"flux_t5\"\n",
    "    clip_text_seq_dim2=64\n",
    "    clip_text_emb_dim2=4096\n",
    "    text_extractor = Flux_Reconstructor(embedder_only=True, device=device)\n"
   ]
  },
  {
   "cell_type": "markdown",
   "id": "d2d2e145",
   "metadata": {},
   "source": [
    "# Creating block of CLIP embeddings"
   ]
  },
  {
   "cell_type": "code",
   "execution_count": 12,
   "id": "4bb00346",
   "metadata": {},
   "outputs": [
    {
     "name": "stdout",
     "output_type": "stream",
     "text": [
      "Generating Latent Image embeddings!\n"
     ]
    },
    {
     "name": "stderr",
     "output_type": "stream",
     "text": [
      "Encoding images...: 100%|██████████| 1460/1460 [11:12<00:00,  2.17it/s] \n"
     ]
    },
    {
     "name": "stdout",
     "output_type": "stream",
     "text": [
      "Loaded train image clip and text clip for subj1! torch.Size([27000, 1, 768])\n"
     ]
    }
   ],
   "source": [
    "file_path = f\"{data_path}/preprocessed_data/subject{subj}/{image_embedding_variant}_image_embeddings_train.pt\"\n",
    "emb_batch_size = 50\n",
    "if not os.path.exists(file_path):\n",
    "    # Generate CLIP Image embeddings\n",
    "    print(\"Generating Image embeddings!\")\n",
    "    clip_image_train = torch.zeros((len(train_images), clip_seq_dim, clip_emb_dim)).to(\"cpu\")\n",
    "    for i in tqdm(range(len(train_images) // emb_batch_size), desc=\"Encoding images...\"):\n",
    "        batch_list = []\n",
    "        for img in train_images[i * emb_batch_size:i * emb_batch_size + emb_batch_size]:\n",
    "            batch_list.append(transforms.ToPILImage()(torch.from_numpy(img)))\n",
    "        clip_image_train[i * emb_batch_size:i * emb_batch_size + emb_batch_size] = image_extractor.embed_image(batch_list).to(\"cpu\")\n",
    "\n",
    "    torch.save(clip_image_train, file_path)\n",
    "else:\n",
    "    clip_image_train = torch.load(file_path)\n",
    "        \n",
    "\n",
    "file_path_txt = f\"{data_path}/preprocessed_data/subject{subj}/{text_embedding_variant}_text_embeddings_train.pt\"\n",
    "file_path_txt2 = f\"{data_path}/preprocessed_data/subject{subj}/{text_embedding_variant2}_text_embeddings_train.pt\"\n",
    "if not os.path.exists(file_path_txt) or not os.path.exists(file_path_txt2):\n",
    "    # Generate CLIP Text embeddings\n",
    "    print(\"Generating Text embeddings!\")\n",
    "    clip_text_train = torch.zeros((len(train_captions), clip_text_seq_dim, clip_text_emb_dim)).to(\"cpu\")\n",
    "    clip_text_train2 = torch.zeros((len(train_captions), clip_text_seq_dim2, clip_text_emb_dim2)).to(\"cpu\")\n",
    "    for i in tqdm(range(len(train_captions)), desc=\"Encoding captions...\"):\n",
    "        batch_captions = str(train_captions[i])\n",
    "        emb1, emb2 =  text_extractor.embed_text(batch_captions)\n",
    "        clip_text_train[i] =  emb1.reshape((clip_text_seq_dim, clip_text_emb_dim)).to(\"cpu\")\n",
    "        clip_text_train2[i] =  emb2.reshape((clip_text_seq_dim2, clip_text_emb_dim2)).to(\"cpu\")\n",
    "            \n",
    "    torch.save(clip_text_train, file_path_txt)\n",
    "    torch.save(clip_text_train2, file_path_txt2)\n",
    "else:\n",
    "    clip_text_train = torch.load(file_path_txt)\n",
    "    clip_text_train2 = torch.load(file_path_txt2)\n",
    "\n",
    "\n",
    "if blurry_recon:\n",
    "    emb_batch_size = 50\n",
    "    file_path = f\"{data_path}/preprocessed_data/subject{subj}/{latent_embedding_variant}_latent_embeddings_train.pt\"\n",
    "    if not os.path.exists(file_path):\n",
    "        print(\"Generating Latent Image embeddings!\")\n",
    "        vae_image_train = torch.zeros((len(train_images), latent_emb_dim)).to(\"cpu\")\n",
    "        for i in tqdm(range(len(train_images) // emb_batch_size), desc=\"Encoding images...\"):\n",
    "            batch_list = []\n",
    "            for img in train_images[i * emb_batch_size:i * emb_batch_size + emb_batch_size]:\n",
    "                batch_list.append(transforms.ToPILImage()(torch.from_numpy(img)))\n",
    "            vae_image_train[i * emb_batch_size:i * emb_batch_size + emb_batch_size] = image_extractor.embed_latent(batch_list).reshape(-1, latent_emb_dim).to(\"cpu\")\n",
    "        torch.save(vae_image_train, file_path)\n",
    "    else:\n",
    "        vae_image_train = torch.load(file_path)\n",
    "print(f\"Loaded train image clip and text clip for subj{subj}!\", clip_image_train.shape)"
   ]
  },
  {
   "cell_type": "markdown",
   "id": "3991d756",
   "metadata": {},
   "source": [
    "# Train Ridge regression models"
   ]
  },
  {
   "cell_type": "code",
   "execution_count": 13,
   "id": "65570b65",
   "metadata": {},
   "outputs": [
    {
     "name": "stdout",
     "output_type": "stream",
     "text": [
      "Training Ridge Image model with alpha=60000\n",
      "Training Ridge Text model with alpha=60000\n",
      "Training Ridge Blurry recon model with alpha=60000\n",
      "Elapsed training time for subj01_40sess_hypatia_ridge_sc2: 00:05:41\n"
     ]
    }
   ],
   "source": [
    "start = time.time()\n",
    "ridge_weights = np.zeros((clip_seq_dim * clip_emb_dim, x_train.shape[-1])).astype(np.float32)\n",
    "ridge_biases = np.zeros((clip_seq_dim * clip_emb_dim)).astype(np.float32)\n",
    "print(f\"Training Ridge Image model with alpha={weight_decay}\")\n",
    "model = Ridge(\n",
    "    alpha=weight_decay,\n",
    "    max_iter=50000,\n",
    "    random_state=42,\n",
    ")\n",
    "\n",
    "model.fit(x_train, clip_image_train.reshape(len(clip_image_train), -1))\n",
    "ridge_weights = model.coef_\n",
    "ridge_biases = model.intercept_\n",
    "datadict = {\"coef\" : ridge_weights, \"intercept\" : ridge_biases}\n",
    "# Save the regression weights\n",
    "with open(f'{outdir}/ridge_image_weights.pkl', 'wb') as f:\n",
    "    pickle.dump(datadict, f)\n",
    "    \n",
    "ridge_weights_txt = np.zeros((clip_text_seq_dim * clip_text_emb_dim, x_train.shape[-1])).astype(np.float32)\n",
    "ridge_biases_txt = np.zeros((clip_text_seq_dim * clip_text_emb_dim)).astype(np.float32)\n",
    "print(f\"Training Ridge Text model with alpha={weight_decay}\")\n",
    "model = Ridge(\n",
    "    alpha=weight_decay,\n",
    "    max_iter=50000,\n",
    "    random_state=42,\n",
    ")\n",
    "\n",
    "model.fit(x_train, clip_text_train.reshape(len(clip_text_train), -1))\n",
    "ridge_weights_txt = model.coef_\n",
    "ridge_biases_txt = model.intercept_\n",
    "datadict = {\"coef\" : ridge_weights_txt, \"intercept\" : ridge_biases_txt}\n",
    "# Save the regression weights\n",
    "with open(f'{outdir}/ridge_text_weights.pkl', 'wb') as f:\n",
    "    pickle.dump(datadict, f)\n",
    "    \n",
    "ridge_weights_txt = np.zeros((clip_text_seq_dim2 * clip_text_emb_dim2, x_train.shape[-1])).astype(np.float32)\n",
    "ridge_biases_txt = np.zeros((clip_text_seq_dim2 * clip_text_emb_dim2)).astype(np.float32)\n",
    "print(f\"Training Ridge Text2 model with alpha={weight_decay}\")\n",
    "model = Ridge(\n",
    "    alpha=weight_decay,\n",
    "    max_iter=50000,\n",
    "    random_state=42,\n",
    ")\n",
    "\n",
    "model.fit(x_train, clip_text_train2.reshape(len(clip_text_train2), -1))\n",
    "ridge_weights_txt = model.coef_\n",
    "ridge_biases_txt = model.intercept_\n",
    "datadict = {\"coef\" : ridge_weights_txt, \"intercept\" : ridge_biases_txt}\n",
    "# Save the regression weights\n",
    "with open(f'{outdir}/ridge_text2_weights.pkl', 'wb') as f:\n",
    "    pickle.dump(datadict, f)\n",
    "            \n",
    "if blurry_recon:\n",
    "    ridge_weights_blurry = np.zeros((latent_emb_dim,x_train.shape[-1])).astype(np.float32)\n",
    "    ridge_biases_blurry = np.zeros((latent_emb_dim,)).astype(np.float32)\n",
    "    print(f\"Training Ridge Blurry recon model with alpha={weight_decay}\")\n",
    "    model = Ridge(\n",
    "        alpha=weight_decay,\n",
    "        max_iter=50000,\n",
    "        random_state=42,\n",
    "    )\n",
    "    model.fit(x_train, vae_image_train)\n",
    "    ridge_weights_blurry = model.coef_\n",
    "    ridge_biases_blurry = model.intercept_\n",
    "    datadict = {\"coef\" : ridge_weights_blurry, \"intercept\" : ridge_biases_blurry}\n",
    "    # Save the regression weights\n",
    "    with open(f'{outdir}/ridge_blurry_weights.pkl', 'wb') as f:\n",
    "        pickle.dump(datadict, f)\n",
    "\n",
    "\n",
    "print(f\"Elapsed training time for {model_name}: {time.strftime('%H:%M:%S', time.gmtime(time.time() - start))}\")"
   ]
  }
 ],
 "metadata": {
  "kernelspec": {
   "display_name": "mindeye_imagery_sc",
   "language": "python",
   "name": "python3"
  },
  "language_info": {
   "codemirror_mode": {
    "name": "ipython",
    "version": 3
   },
   "file_extension": ".py",
   "mimetype": "text/x-python",
   "name": "python",
   "nbconvert_exporter": "python",
   "pygments_lexer": "ipython3",
   "version": "3.11.10"
  },
  "toc": {
   "base_numbering": 1,
   "nav_menu": {},
   "number_sections": true,
   "sideBar": true,
   "skip_h1_title": false,
   "title_cell": "Table of Contents",
   "title_sidebar": "Contents",
   "toc_cell": false,
   "toc_position": {
    "height": "calc(100% - 180px)",
    "left": "10px",
    "top": "150px",
    "width": "165px"
   },
   "toc_section_display": true,
   "toc_window_display": true
  },
  "toc-autonumbering": true,
  "widgets": {
   "application/vnd.jupyter.widget-state+json": {
    "state": {},
    "version_major": 2,
    "version_minor": 0
   }
  }
 },
 "nbformat": 4,
 "nbformat_minor": 5
}
