{
 "cells": [
  {
   "cell_type": "code",
   "execution_count": 1,
   "id": "f4d95fac-ac1d-473c-ab96-650f76e6aaf5",
   "metadata": {
    "tags": []
   },
   "outputs": [],
   "source": [
    "# # Code to convert this notebook to .py if you want to run it via command line or with Slurm\n",
    "# from subprocess import call\n",
    "# command = \"jupyter nbconvert multisubject.ipynb --to python\"\n",
    "# call(command,shell=True)"
   ]
  },
  {
   "cell_type": "markdown",
   "id": "b0f0f4f3",
   "metadata": {},
   "source": [
    "# Import packages & functions"
   ]
  },
  {
   "cell_type": "code",
   "execution_count": 2,
   "id": "5bad764b-45c1-45ce-a716-8d055e09821a",
   "metadata": {
    "tags": []
   },
   "outputs": [
    {
     "name": "stdout",
     "output_type": "stream",
     "text": [
      "[2023-08-28 02:01:31,691] [INFO] [real_accelerator.py:133:get_accelerator] Setting ds_accelerator to cuda (auto detect)\n",
      "LOCAL RANK  0\n"
     ]
    },
    {
     "name": "stderr",
     "output_type": "stream",
     "text": [
      "/admin/home-paulscotti/miniconda3/envs/mindeye/lib/python3.10/site-packages/torch/functional.py:504: UserWarning: torch.meshgrid: in an upcoming release, it will be required to pass the indexing argument. (Triggered internally at ../aten/src/ATen/native/TensorShape.cpp:3483.)\n",
      "  return _VF.meshgrid(tensors, **kwargs)  # type: ignore[attr-defined]\n"
     ]
    },
    {
     "name": "stdout",
     "output_type": "stream",
     "text": [
      "PID of this process = 1542493\n",
      "device: cuda:0\n",
      "Distributed environment: MULTI_GPU  Backend: nccl\n",
      "Num processes: 1\n",
      "Process index: 0\n",
      "Local process index: 0\n",
      "Device: cuda:0\n",
      "\n",
      "Mixed precision type: no\n",
      "\n",
      "distributed = True num_devices = 1 local rank = 0 world size = 1\n"
     ]
    }
   ],
   "source": [
    "import os\n",
    "import sys\n",
    "import json\n",
    "import argparse\n",
    "import numpy as np\n",
    "import time\n",
    "import random\n",
    "import h5py\n",
    "from tqdm import tqdm\n",
    "\n",
    "import webdataset as wds\n",
    "import gc\n",
    "\n",
    "import matplotlib.pyplot as plt\n",
    "import torch\n",
    "import torch.nn as nn\n",
    "from torchvision import transforms\n",
    "\n",
    "# tf32 data type is faster than standard float32\n",
    "torch.backends.cuda.matmul.allow_tf32 = True\n",
    "\n",
    "# custom functions #\n",
    "import utils\n",
    "\n",
    "### Multi-GPU config ###\n",
    "local_rank = os.getenv('RANK')\n",
    "if local_rank is None: \n",
    "    local_rank = 0\n",
    "else:\n",
    "    local_rank = int(local_rank)\n",
    "print(\"LOCAL RANK \", local_rank)\n",
    "\n",
    "##\n",
    "import timm \n",
    "# couldnt figure out how to load pretrained model from shared folder rather than home directory using timm...\n",
    "eva02_model = timm.create_model(\"eva02_enormous_patch14_clip_224.laion2b\", \n",
    "                                pretrained=True, num_classes=0) #eva02_enormous_patch14_clip_224.laion2b eva02_large_patch14_clip_224.merged2b\n",
    "eva02_model.eval()\n",
    "eva02_model.requires_grad_(False)\n",
    "eva02_model.to(f\"cuda:{local_rank}\")\n",
    "\n",
    "def eva_extractor(image):\n",
    "    input = eva02_model.forward_features(image)\n",
    "    # input = eva02_model.patch_embed(image)\n",
    "    # input = eva02_model.pos_drop(input)\n",
    "    # for block in eva02_model.blocks: input = block(input)\n",
    "    # input = eva02_model.norm(input)\n",
    "    # input = eva02_model.head_drop(input)\n",
    "    # input = eva02_model.head(input)\n",
    "    return input\n",
    "\n",
    "# from models import Clipper\n",
    "# eva02_model = Clipper(\"ViT-L/14\", device=torch.device(f\"cuda:{local_rank}\"), hidden_state=False, norm_embs=True)\n",
    "hidden_dim = 256*1028 #262144\n",
    "clip_size = 1028\n",
    "##\n",
    "\n",
    "from accelerate import Accelerator, DeepSpeedPlugin\n",
    "num_devices = torch.cuda.device_count()\n",
    "if num_devices==0: num_devices = 1\n",
    "if num_devices <= 1 and utils.is_interactive():\n",
    "    # can emulate a distributed environment for deepspeed to work in jupyter notebook\n",
    "    os.environ[\"MASTER_ADDR\"] = \"localhost\"\n",
    "    os.environ[\"MASTER_PORT\"] = str(np.random.randint(10000)+9000)\n",
    "    os.environ[\"RANK\"] = \"0\"\n",
    "    os.environ[\"LOCAL_RANK\"] = \"0\"\n",
    "    os.environ[\"WORLD_SIZE\"] = \"1\"\n",
    "    os.environ[\"GLOBAL_BATCH_SIZE\"] = \"32\" # set this to your batch size!\n",
    "    batch_size = os.environ[\"GLOBAL_BATCH_SIZE\"]\n",
    "\n",
    "# alter the deepspeed config according to your global and local batch size\n",
    "if not utils.is_interactive():\n",
    "    if local_rank == 0:\n",
    "        with open('deepspeed_config_stage2.json', 'r') as file:\n",
    "            config = json.load(file)\n",
    "        config['train_batch_size'] = int(os.environ[\"GLOBAL_BATCH_SIZE\"])\n",
    "        config['train_micro_batch_size_per_gpu'] = int(os.environ[\"GLOBAL_BATCH_SIZE\"]) // num_devices\n",
    "        with open('deepspeed_config_stage2.json', 'w') as file:\n",
    "            json.dump(config, file)\n",
    "    else:\n",
    "        time.sleep(10)\n",
    "    deepspeed_plugin = DeepSpeedPlugin(\"deepspeed_config_stage2.json\")\n",
    "    accelerator = Accelerator(split_batches=False, deepspeed_plugin=deepspeed_plugin)\n",
    "else:\n",
    "    accelerator = Accelerator(split_batches=False)\n",
    "\n",
    "print(\"PID of this process =\",os.getpid())\n",
    "device = accelerator.device\n",
    "print(\"device:\",device)\n",
    "num_workers = num_devices\n",
    "print(accelerator.state)\n",
    "world_size = accelerator.state.num_processes\n",
    "distributed = not accelerator.state.distributed_type == 'NO'\n",
    "print(\"distributed =\",distributed, \"num_devices =\", num_devices, \"local rank =\", local_rank, \"world size =\", world_size)\n",
    "print = accelerator.print # only print if local_rank=0"
   ]
  },
  {
   "cell_type": "markdown",
   "id": "9018b82b-c054-4463-9527-4b0c2a75bda6",
   "metadata": {
    "tags": []
   },
   "source": [
    "# Configurations"
   ]
  },
  {
   "cell_type": "code",
   "execution_count": 3,
   "id": "2b61fec7-72a0-4b67-86da-1375f1d9fbd3",
   "metadata": {},
   "outputs": [
    {
     "name": "stdout",
     "output_type": "stream",
     "text": [
      "['--data_path=/fsx/proj-fmri/shared/mindeyev2_dataset', '--model_name=test', '--subj=1', '--batch_size=32', '--n_samples_save=0', '--max_lr=3e-4', '--mixup_pct=.5', '--num_epochs=12', '--ckpt_interval=999', '--no-use_image_aug']\n"
     ]
    }
   ],
   "source": [
    "# if running this interactively, can specify jupyter_args here for argparser to use\n",
    "if utils.is_interactive():\n",
    "    # Example use\n",
    "    jupyter_args = f\"--data_path=/fsx/proj-fmri/shared/mindeyev2_dataset \\\n",
    "                    --model_name=test \\\n",
    "                    --subj=1 --batch_size={batch_size} --n_samples_save=0 \\\n",
    "                    --max_lr=3e-4 --mixup_pct=.5 --num_epochs=12 --ckpt_interval=999 --no-use_image_aug\"\n",
    "\n",
    "    jupyter_args = jupyter_args.split()\n",
    "    print(jupyter_args)\n",
    "    \n",
    "    from IPython.display import clear_output # function to clear print outputs in cell\n",
    "    %load_ext autoreload \n",
    "    # this allows you to change functions in models.py or utils.py and have this notebook automatically update with your revisions\n",
    "    %autoreload 2 "
   ]
  },
  {
   "cell_type": "code",
   "execution_count": 4,
   "id": "2028bdf0-2f41-46d9-b6e7-86b870dbf16c",
   "metadata": {},
   "outputs": [
    {
     "name": "stdout",
     "output_type": "stream",
     "text": [
      "batch_size 32\n"
     ]
    }
   ],
   "source": [
    "parser = argparse.ArgumentParser(description=\"Model Training Configuration\")\n",
    "parser.add_argument(\n",
    "    \"--model_name\", type=str, default=\"testing\",\n",
    "    help=\"name of model, used for ckpt saving and wandb logging (if enabled)\",\n",
    ")\n",
    "parser.add_argument(\n",
    "    \"--data_path\", type=str, default=\"/fsx/proj-fmri/shared/natural-scenes-dataset\",\n",
    "    help=\"Path to where NSD data is stored / where to download it to\",\n",
    ")\n",
    "parser.add_argument(\n",
    "    \"--subj\",type=int, default=1, choices=[1,2,5,7],\n",
    ")\n",
    "parser.add_argument(\n",
    "    \"--batch_size\", type=int, default=32,\n",
    "    help=\"Batch size can be increased by 10x if only training v2c and not diffusion prior\",\n",
    ")\n",
    "parser.add_argument(\n",
    "    \"--wandb_log\",action=argparse.BooleanOptionalAction,default=False,\n",
    "    help=\"whether to log to wandb\",\n",
    ")\n",
    "parser.add_argument(\n",
    "    \"--resume_from_ckpt\",action=argparse.BooleanOptionalAction,default=False,\n",
    "    help=\"if not using wandb and want to resume from a ckpt\",\n",
    ")\n",
    "parser.add_argument(\n",
    "    \"--wandb_project\",type=str,default=\"stability\",\n",
    "    help=\"wandb project name\",\n",
    ")\n",
    "parser.add_argument(\n",
    "    \"--mixup_pct\",type=float,default=.33,\n",
    "    help=\"proportion of way through training when to switch from BiMixCo to SoftCLIP\",\n",
    ")\n",
    "parser.add_argument(\n",
    "    \"--use_image_aug\",action=argparse.BooleanOptionalAction,default=True,\n",
    "    help=\"whether to use image augmentation\",\n",
    ")\n",
    "parser.add_argument(\n",
    "    \"--num_epochs\",type=int,default=240,\n",
    "    help=\"number of epochs of training\",\n",
    ")\n",
    "parser.add_argument(\n",
    "    \"--lr_scheduler_type\",type=str,default='cycle',choices=['cycle','linear'],\n",
    ")\n",
    "parser.add_argument(\n",
    "    \"--ckpt_saving\",action=argparse.BooleanOptionalAction,default=True,\n",
    ")\n",
    "parser.add_argument(\n",
    "    \"--ckpt_interval\",type=int,default=5,\n",
    "    help=\"save backup ckpt and reconstruct every x epochs\",\n",
    ")\n",
    "parser.add_argument(\n",
    "    \"--seed\",type=int,default=42,\n",
    ")\n",
    "parser.add_argument(\n",
    "    \"--max_lr\",type=float,default=3e-4,\n",
    ")\n",
    "parser.add_argument(\n",
    "    \"--n_samples_save\",type=int,default=0,choices=[0,1],\n",
    "    help=\"Number of reconstructions for monitoring progress, 0 will speed up training\",\n",
    ")\n",
    "\n",
    "if utils.is_interactive():\n",
    "    args = parser.parse_args(jupyter_args)\n",
    "else:\n",
    "    args = parser.parse_args()\n",
    "\n",
    "# create global variables without the args prefix\n",
    "for attribute_name in vars(args).keys():\n",
    "    globals()[attribute_name] = getattr(args, attribute_name)\n",
    "\n",
    "batch_size = int(batch_size / num_devices)\n",
    "print(\"batch_size\", batch_size)"
   ]
  },
  {
   "cell_type": "code",
   "execution_count": 5,
   "id": "60cd7f2c-37fd-426b-a0c6-633e51bc4c4d",
   "metadata": {
    "tags": []
   },
   "outputs": [],
   "source": [
    "outdir = os.path.abspath(f'../train_logs/{model_name}')\n",
    "if not os.path.exists(outdir):\n",
    "    os.makedirs(outdir,exist_ok=True)\n",
    "if use_image_aug:\n",
    "    import kornia\n",
    "    from kornia.augmentation.container import AugmentationSequential\n",
    "    img_augment = AugmentationSequential(\n",
    "        kornia.augmentation.RandomResizedCrop((224,224), (0.6,1), p=0.3),\n",
    "        kornia.augmentation.Resize((224, 224)),\n",
    "        kornia.augmentation.RandomHorizontalFlip(p=0.3),\n",
    "        kornia.augmentation.ColorJitter(brightness=0.4, contrast=0.4, saturation=0.2, hue=0.1, p=0.3),\n",
    "        kornia.augmentation.RandomGrayscale(p=0.3),\n",
    "        same_on_batch=False,\n",
    "        data_keys=[\"input\"],\n",
    "    )"
   ]
  },
  {
   "cell_type": "markdown",
   "id": "42d13c25-1369-4c49-81d4-83d713586096",
   "metadata": {
    "tags": []
   },
   "source": [
    "# Prep data, models, and dataloaders"
   ]
  },
  {
   "cell_type": "markdown",
   "id": "1c023f24-5233-4a15-a2f5-78487b3a8546",
   "metadata": {},
   "source": [
    "## Dataloader"
   ]
  },
  {
   "cell_type": "code",
   "execution_count": 6,
   "id": "81084834-035f-4465-ad59-59e6b806a2f5",
   "metadata": {},
   "outputs": [
    {
     "name": "stdout",
     "output_type": "stream",
     "text": [
      "/fsx/proj-fmri/shared/mindeyev2_dataset/wds/subj01/train/{0..36}.tar\n",
      "/fsx/proj-fmri/shared/mindeyev2_dataset/wds/subj01/test/0.tar\n"
     ]
    }
   ],
   "source": [
    "if subj==1:\n",
    "    num_train = 24958\n",
    "    num_test = 2770\n",
    "test_batch_size = num_test\n",
    "\n",
    "def my_split_by_node(urls): return urls\n",
    "    \n",
    "train_url = f\"{data_path}/wds/subj0{subj}/train/\" + \"{0..36}.tar\"\n",
    "print(train_url)\n",
    "\n",
    "train_data = wds.WebDataset(train_url,resampled=False,nodesplitter=my_split_by_node)\\\n",
    "                    .shuffle(750, initial=1500, rng=random.Random(42))\\\n",
    "                    .decode(\"torch\")\\\n",
    "                    .rename(behav=\"behav.npy\", olds_behav=\"olds_behav.npy\")\\\n",
    "                    .to_tuple(*[\"behav\", \"olds_behav\"])\n",
    "train_dl = torch.utils.data.DataLoader(train_data, batch_size=batch_size, shuffle=False, drop_last=False, pin_memory=True)\n",
    "\n",
    "test_url = f\"{data_path}/wds/subj0{subj}/test/\" + \"0.tar\"\n",
    "print(test_url)\n",
    "\n",
    "test_data = wds.WebDataset(test_url,resampled=False,nodesplitter=my_split_by_node)\\\n",
    "                    .shuffle(750, initial=1500, rng=random.Random(42))\\\n",
    "                    .decode(\"torch\")\\\n",
    "                    .rename(behav=\"behav.npy\", olds_behav=\"olds_behav.npy\")\\\n",
    "                    .to_tuple(*[\"behav\", \"olds_behav\"])\n",
    "test_dl = torch.utils.data.DataLoader(test_data, batch_size=test_batch_size, shuffle=False, drop_last=False, pin_memory=True)"
   ]
  },
  {
   "cell_type": "markdown",
   "id": "203b060a-2dd2-4c35-929b-c576be82eb52",
   "metadata": {},
   "source": [
    "### check dataloaders are working"
   ]
  },
  {
   "cell_type": "code",
   "execution_count": 7,
   "id": "e7a9c68c-c3c9-4080-bd99-067c4486dc37",
   "metadata": {},
   "outputs": [],
   "source": [
    "# test_indices = []\n",
    "# test_images = []\n",
    "# for test_i, (behav, old_behav) in enumerate(test_dl):\n",
    "#     test_indices = np.append(test_indices, behav[:,0,5].numpy())\n",
    "#     test_images = np.append(test_images, behav[:,0,0].numpy())\n",
    "# test_indices = test_indices.astype(np.int16)\n",
    "# print(test_i, (test_i+1) * test_batch_size, len(test_indices))\n",
    "# print(\"---\\n\")\n",
    "\n",
    "# train_indices = []\n",
    "# train_images = []\n",
    "# for train_i, (behav, old_behav) in enumerate(train_dl):\n",
    "#     train_indices = np.append(train_indices, behav[:,0,5].long().numpy())\n",
    "#     train_images = np.append(train_images, behav[:,0,0].numpy())\n",
    "# train_indices = train_indices.astype(np.int16)\n",
    "# print(train_i, (train_i+1) * batch_size, len(train_indices))"
   ]
  },
  {
   "cell_type": "markdown",
   "id": "45fad12c-f9fb-4408-8fd4-9bca324ad634",
   "metadata": {},
   "source": [
    "## Load voxel betas, K-means clustering model, and images"
   ]
  },
  {
   "cell_type": "code",
   "execution_count": 8,
   "id": "039dd330-7339-4f88-8f00-45f95e47baa0",
   "metadata": {},
   "outputs": [
    {
     "name": "stdout",
     "output_type": "stream",
     "text": [
      "subj01 betas loaded into memory\n",
      "voxels torch.Size([27750, 15729])\n",
      "images torch.Size([73000, 3, 224, 224])\n"
     ]
    }
   ],
   "source": [
    "# load betas\n",
    "f = h5py.File(f'{data_path}/betas_all_subj0{subj}.hdf5', 'r')\n",
    "voxels = f['betas'][:]\n",
    "print(f\"subj0{subj} betas loaded into memory\")\n",
    "voxels = torch.Tensor(voxels).to(\"cpu\").half()\n",
    "if subj==1:\n",
    "    voxels = torch.hstack((voxels, torch.zeros((len(voxels), 5))))\n",
    "print(\"voxels\", voxels.shape)\n",
    "num_voxels = voxels.shape[-1]\n",
    "\n",
    "# load orig images\n",
    "f = h5py.File(f'{data_path}/coco_images_224_float16.hdf5', 'r')\n",
    "images = f['images'][:]\n",
    "images = torch.Tensor(images).to(\"cpu\").half()\n",
    "print(\"images\", images.shape)"
   ]
  },
  {
   "cell_type": "code",
   "execution_count": 9,
   "id": "ca8443cf-1aaa-4a4a-8129-9fc774ba88f2",
   "metadata": {},
   "outputs": [],
   "source": [
    "# from fast_pytorch_kmeans import KMeans\n",
    "# kmeans = KMeans(n_clusters=32, mode='euclidean', verbose=0) # can also try cosine\n",
    "\n",
    "# # Voxelwise k-means clustering to lower feature dimensionality\n",
    "# voxel_lookup = torch.zeros((betas.shape[0], betas.shape[1]), dtype=torch.long)\n",
    "# for i in tqdm(range(betas.shape[1])):\n",
    "#     betas[train_indices, i] = kmeans.fit_predict(betas[train_indices, i][:,None]).float()\n",
    "#     betas[test_indices, i] = kmeans.predict(betas[test_indices, i][:,None]).float()\n",
    "# betas = betas.long()"
   ]
  },
  {
   "cell_type": "code",
   "execution_count": 10,
   "id": "324dcd21-3fa1-4ec6-9996-5bcbf0879ac7",
   "metadata": {},
   "outputs": [],
   "source": [
    "# from huggingface_hub import notebook_login, upload_file\n",
    "# notebook_login()\n",
    "# upload_file(\n",
    "#     path_or_fileobj=f\"{data_path}/subj0{subj}_train_clusters.npy\",\n",
    "#     path_in_repo=f\"subj0{subj}_train_clusters.npy\",\n",
    "#     repo_id=\"pscotti/mindeyev2\",\n",
    "#     repo_type=\"dataset\")\n",
    "\n",
    "# upload_file(\n",
    "#     path_or_fileobj=f\"{data_path}/subj0{subj}_test_clusters.npy\",\n",
    "#     path_in_repo=f\"subj0{subj}_test_clusters.npy\",\n",
    "#     repo_id=\"pscotti/mindeyev2\",\n",
    "#     repo_type=\"dataset\")"
   ]
  },
  {
   "cell_type": "code",
   "execution_count": 11,
   "id": "c44c271b-173f-472e-b059-a2eda0f4c4c5",
   "metadata": {},
   "outputs": [
    {
     "data": {
      "text/plain": [
       "MindEyeModule()"
      ]
     },
     "execution_count": 11,
     "metadata": {},
     "output_type": "execute_result"
    }
   ],
   "source": [
    "class MindEyeModule(nn.Module):\n",
    "    def __init__(self):\n",
    "        super(MindEyeModule, self).__init__()\n",
    "\n",
    "    def forward(self, x):\n",
    "        # No operations performed on the input\n",
    "        return x\n",
    "\n",
    "# Example usage\n",
    "model = MindEyeModule()\n",
    "model"
   ]
  },
  {
   "cell_type": "code",
   "execution_count": 12,
   "id": "038a5d61-4769-40b9-a004-f4e7b5b38bb0",
   "metadata": {},
   "outputs": [
    {
     "name": "stdout",
     "output_type": "stream",
     "text": [
      "param counts:\n",
      "64,430,080 total\n",
      "64,430,080 trainable\n",
      "torch.Size([2, 15729]) torch.Size([2, 4096])\n"
     ]
    }
   ],
   "source": [
    "class RidgeRegression(torch.nn.Module):\n",
    "    def __init__(self, input_size, out_features, alpha=1.0): \n",
    "        super(RidgeRegression, self).__init__()\n",
    "        self.linear = torch.nn.Linear(input_size, out_features)\n",
    "        self.alpha = alpha\n",
    "    def forward(self, x):\n",
    "        return self.linear(x)\n",
    "\n",
    "# class RidgeRegression(nn.Module):\n",
    "#     def __init__(self, voxel_count, subset_groups, out_features):\n",
    "#         super().__init__()\n",
    "#         self.subset_groups = subset_groups\n",
    "#         self.bias = nn.Parameter(torch.randn(voxel_count))\n",
    "#         self.shared_linear = nn.Linear(voxel_count//subset_groups, out_features//subset_groups, bias=False) \n",
    "\n",
    "#     def forward(self, x):\n",
    "#         x += self.bias\n",
    "#         x = x.view(len(x), self.subset_groups, -1)\n",
    "#         # print(x.shape)\n",
    "#         x = self.shared_linear(x).flatten(1)\n",
    "#         # print(x.shape)\n",
    "#         return x\n",
    "\n",
    "# model.ridge = RidgeRegression(voxels.shape[1], subset_groups=1, out_features=4096)\n",
    "model.ridge = RidgeRegression(voxels.shape[1], out_features=4096)\n",
    "\n",
    "utils.count_params(model)\n",
    "\n",
    "b = torch.randn((2,voxels.shape[1]))\n",
    "print(b.shape, model.ridge(b).shape)"
   ]
  },
  {
   "cell_type": "code",
   "execution_count": 13,
   "id": "47659071-bd1e-4f63-b1a6-7f377b3d4b52",
   "metadata": {},
   "outputs": [],
   "source": [
    "# # need to change TORCH_HOME env variable to specify pretrained model should go in shared folder, not home directory\n",
    "# dinov2_cache = '/fsx/proj-fmri/shared/cache/dinov2'\n",
    "# if os.path.exists(dinov2_cache):\n",
    "#     os.environ['TORCH_HOME'] = dinov2_cache\n",
    "\n",
    "# dinov2 = torch.hub.load('facebookresearch/dinov2', 'dinov2_vitl14')\n",
    "\n",
    "# # remove initial image patching\n",
    "# dinov2.patch_embed = nn.Identity()\n",
    "# dinov2.patch_embed = nn.Identity()\n",
    "\n",
    "# utils.count_params(dinov2)\n",
    "\n",
    "# # attach it to the overaching model\n",
    "# model.dinov2 = dinov2\n",
    "# del dinov2\n",
    "# utils.count_params(model)\n",
    "\n",
    "# # # testing it out to make sure it works\n",
    "# # input = torch.randn((2,4,1024))\n",
    "# # print(\"input\",input.shape)\n",
    "\n",
    "# # for block in model.module.dinov2.blocks: input = block(input)\n",
    "# # output = model.module.dinov2.norm(input)\n",
    "\n",
    "# # print(\"output\",output.shape)"
   ]
  },
  {
   "cell_type": "code",
   "execution_count": 14,
   "id": "863fcb22-f588-480f-ad1c-14bcda9130ef",
   "metadata": {},
   "outputs": [
    {
     "name": "stdout",
     "output_type": "stream",
     "text": [
      "param counts:\n",
      "1,153,777,676 total\n",
      "1,153,777,676 trainable\n",
      "param counts:\n",
      "1,218,207,756 total\n",
      "1,218,207,756 trainable\n",
      "torch.Size([2, 4096]) torch.Size([2, 256, 1028])\n"
     ]
    }
   ],
   "source": [
    "from functools import partial\n",
    "class BrainNetwork(nn.Module):\n",
    "    def __init__(self, out_dim=768, in_dim=15724, clip_size=768, h=4096, n_blocks=4, norm_type='ln', act_first=False, use_projector=True, drop1=.5, drop2=.15):\n",
    "        super().__init__()\n",
    "        norm_func = partial(nn.BatchNorm1d, num_features=h) if norm_type == 'bn' else partial(nn.LayerNorm, normalized_shape=h)\n",
    "        act_fn = partial(nn.ReLU, inplace=True) if norm_type == 'bn' else nn.GELU\n",
    "        act_and_norm = (act_fn, norm_func) if act_first else (norm_func, act_fn)\n",
    "        self.mlp = nn.ModuleList([\n",
    "            nn.Sequential(\n",
    "                nn.Linear(h, h),\n",
    "                *[item() for item in act_and_norm],\n",
    "                nn.Dropout(drop2)\n",
    "            ) for _ in range(n_blocks)\n",
    "        ])\n",
    "        self.lin1 = nn.Linear(h, out_dim, bias=True)\n",
    "        self.n_blocks = n_blocks\n",
    "        self.clip_size = clip_size\n",
    "        self.use_projector = use_projector\n",
    "        if use_projector:\n",
    "            self.projector = nn.Sequential(\n",
    "                nn.LayerNorm(clip_size),\n",
    "                nn.GELU(),\n",
    "                nn.Linear(clip_size, 2048),\n",
    "                nn.LayerNorm(2048),\n",
    "                nn.GELU(),\n",
    "                nn.Linear(2048, 2048),\n",
    "                nn.LayerNorm(2048),\n",
    "                nn.GELU(),\n",
    "                nn.Linear(2048, clip_size)\n",
    "            )\n",
    "        \n",
    "    def forward(self, x):\n",
    "        residual = x\n",
    "        for res_block in range(self.n_blocks):\n",
    "            x = self.mlp[res_block](x)\n",
    "            x += residual\n",
    "            residual = x\n",
    "        x = x.reshape(len(x), -1)\n",
    "        x = self.lin1(x)\n",
    "        if self.use_projector:\n",
    "            return self.projector(x.reshape(len(x), -1, self.clip_size))\n",
    "        return x\n",
    "\n",
    "model.dinov2 = BrainNetwork(in_dim=4096, out_dim=hidden_dim, clip_size=clip_size, use_projector=True)\n",
    "utils.count_params(model.dinov2)\n",
    "utils.count_params(model)\n",
    "\n",
    "b = torch.randn((2,4096))\n",
    "print(b.shape, model.dinov2(b).shape)"
   ]
  },
  {
   "cell_type": "code",
   "execution_count": 15,
   "id": "3c7290fd-4ac4-4b09-92a3-71b6c6183e0f",
   "metadata": {},
   "outputs": [],
   "source": [
    "# class EVA02CLIP_MLPProjector(nn.Module):\n",
    "#     def __init__(self, in_features, out_features, h=4096):\n",
    "#         super().__init__()\n",
    "#         self.out_features = out_features\n",
    "#         self.projector = nn.Sequential(\n",
    "#                 nn.LayerNorm(in_features),\n",
    "#                 nn.GELU(),\n",
    "#                 nn.Linear(in_features, h),\n",
    "#                 nn.LayerNorm(h),\n",
    "#                 nn.GELU(),\n",
    "#                 nn.Linear(h, h),\n",
    "#                 nn.LayerNorm(h),\n",
    "#                 nn.GELU(),\n",
    "#                 nn.Linear(h, out_features)\n",
    "#             )\n",
    "        \n",
    "#     def forward(self, x):\n",
    "#         return self.projector(x)\n",
    "\n",
    "# model.eva02clip_proj = EVA02CLIP_MLPProjector(in_features=4096, out_features=257*768) #1024)\n",
    "# utils.count_params(model.eva02clip_proj)\n",
    "# utils.count_params(model)\n",
    "\n",
    "# b = torch.randn((2,4096))\n",
    "# print(b.shape, model.eva02clip_proj(b).shape)"
   ]
  },
  {
   "cell_type": "code",
   "execution_count": 16,
   "id": "520e4016-6f23-4c43-8edb-cd44c0ea5bf6",
   "metadata": {},
   "outputs": [],
   "source": [
    "# import timm \n",
    "# # couldnt figure out how to load pretrained model from shared folder rather than home directory using timm...\n",
    "# eva02_model = timm.create_model(\"eva02_large_patch14_clip_224.merged2b_s4b_b131k\", pretrained=True) #eva02_enormous_patch14_clip_224.laion2b\n",
    "# # eva02_model.head_drop = nn.Identity()\n",
    "# # eva02_model.head = nn.Identity()\n",
    "\n",
    "# eva02_model.eval()\n",
    "# eva02_model.requires_grad_(False)\n",
    "# eva02_model.to(device)\n",
    "\n",
    "# # from models import Clipper\n",
    "# # eva02_model = Clipper(\"ViT-L/14\", device=torch.device(f\"cuda:{local_rank}\"), hidden_state=False, norm_embs=False)\n",
    "\n",
    "# utils.count_params(eva02_model)"
   ]
  },
  {
   "cell_type": "code",
   "execution_count": 17,
   "id": "570242d8-307e-412d-b87b-5eeb9b193315",
   "metadata": {},
   "outputs": [],
   "source": [
    "normalize = transforms.Compose([\n",
    "                transforms.Resize(size=224, interpolation=transforms.InterpolationMode.BICUBIC, antialias=False),\n",
    "                transforms.CenterCrop(size=224),\n",
    "                transforms.Normalize(mean=(0.4815, 0.4578, 0.4082), std=(0.2686, 0.2613, 0.2758))\n",
    "            ])"
   ]
  },
  {
   "cell_type": "code",
   "execution_count": 18,
   "id": "e14d0482-dc42-43b9-9ce1-953c32f2c9c1",
   "metadata": {},
   "outputs": [
    {
     "name": "stdout",
     "output_type": "stream",
     "text": [
      "\n",
      "Done with model preparations!\n"
     ]
    }
   ],
   "source": [
    "no_decay = ['bias', 'LayerNorm.bias', 'LayerNorm.weight']\n",
    "opt_grouped_parameters = [\n",
    "    {'params': [p for n, p in model.ridge.named_parameters()], 'weight_decay': 1e-2},\n",
    "    {'params': [p for n, p in model.dinov2.named_parameters() if not any(nd in n for nd in no_decay)], 'weight_decay': 1e-2},\n",
    "    {'params': [p for n, p in model.dinov2.named_parameters() if any(nd in n for nd in no_decay)], 'weight_decay': 0.0},\n",
    "    # {'params': [p for n, p in model.eva02clip_proj.named_parameters() if not any(nd in n for nd in no_decay)], 'weight_decay': 1e-2},\n",
    "    # {'params': [p for n, p in model.eva02clip_proj.named_parameters() if any(nd in n for nd in no_decay)], 'weight_decay': 0.0},\n",
    "]\n",
    "\n",
    "optimizer = torch.optim.AdamW(opt_grouped_parameters, lr=max_lr)\n",
    "\n",
    "if lr_scheduler_type == 'linear':\n",
    "    lr_scheduler = torch.optim.lr_scheduler.LinearLR(\n",
    "        optimizer,\n",
    "        total_iters=int(num_epochs*(num_train*num_devices//batch_size)),\n",
    "        last_epoch=-1\n",
    "    )\n",
    "elif lr_scheduler_type == 'cycle':\n",
    "    total_steps=int(num_epochs*(num_train*num_devices//batch_size))\n",
    "    lr_scheduler = torch.optim.lr_scheduler.OneCycleLR(\n",
    "        optimizer, \n",
    "        max_lr=max_lr,\n",
    "        total_steps=total_steps,\n",
    "        final_div_factor=1000,\n",
    "        last_epoch=-1, pct_start=2/num_epochs\n",
    "    )\n",
    "    \n",
    "def save_ckpt(tag):    \n",
    "    ckpt_path = outdir+f'/{tag}.pth'\n",
    "    print(f'saving {ckpt_path}',flush=True)\n",
    "    unwrapped_model = accelerator.unwrap_model(model)\n",
    "    try:\n",
    "        torch.save({\n",
    "            'epoch': epoch,\n",
    "            'model_state_dict': unwrapped_model.state_dict(),\n",
    "            'optimizer_state_dict': optimizer.state_dict(),\n",
    "            'lr_scheduler': lr_scheduler.state_dict(),\n",
    "            'train_losses': losses,\n",
    "            'test_losses': test_losses,\n",
    "            'lrs': lrs,\n",
    "            }, ckpt_path)\n",
    "    except:\n",
    "        print(\"Couldn't save... moving on to prevent crashing.\")\n",
    "    del unwrapped_model\n",
    "        \n",
    "print(\"\\nDone with model preparations!\")"
   ]
  },
  {
   "cell_type": "markdown",
   "id": "983f458b-35b8-49f2-b6db-80296cece730",
   "metadata": {},
   "source": [
    "# Weights and Biases"
   ]
  },
  {
   "cell_type": "code",
   "execution_count": 19,
   "id": "0a25a662-daa8-4de9-9233-8364800fcb6b",
   "metadata": {},
   "outputs": [],
   "source": [
    "# params for wandb\n",
    "if local_rank==0 and wandb_log: # only use main process for wandb logging\n",
    "    import wandb\n",
    "    \n",
    "    wandb_project = 'stability'\n",
    "    wandb_run = model_name\n",
    "    wandb_notes = ''\n",
    "    \n",
    "    print(f\"wandb {wandb_project} run {wandb_run}\")\n",
    "    wandb.login(host='https://stability.wandb.io')#, relogin=True)\n",
    "    wandb_config = {\n",
    "      \"model_name\": model_name,\n",
    "      \"clip_variant\": clip_variant,\n",
    "      \"batch_size\": batch_size,\n",
    "      \"num_epochs\": num_epochs,\n",
    "      \"use_image_aug\": use_image_aug,\n",
    "      \"max_lr\": max_lr,\n",
    "      \"lr_scheduler_type\": lr_scheduler_type,\n",
    "      \"mixup_pct\": mixup_pct,\n",
    "      \"num_train\": num_train,\n",
    "      \"num_test\": num_test,\n",
    "      \"seed\": seed,\n",
    "      \"distributed\": distributed,\n",
    "      \"num_devices\": num_devices,\n",
    "      \"world_size\": world_size,\n",
    "    }\n",
    "    print(\"wandb_config:\\n\",wandb_config)\n",
    "    if True: # wandb_auto_resume\n",
    "        print(\"wandb_id:\",model_name)\n",
    "        wandb.init(\n",
    "            id = model_name,\n",
    "            project=wandb_project,\n",
    "            name=wandb_run,\n",
    "            config=wandb_config,\n",
    "            notes=wandb_notes,\n",
    "            resume=\"allow\",\n",
    "        )\n",
    "    else:\n",
    "        wandb.init(\n",
    "            project=wandb_project,\n",
    "            name=wandb_run,\n",
    "            config=wandb_config,\n",
    "            notes=wandb_notes,\n",
    "        )\n",
    "else:\n",
    "    wandb_log = False"
   ]
  },
  {
   "cell_type": "markdown",
   "id": "d5690151-2131-4918-b750-e869cbd1a8a8",
   "metadata": {},
   "source": [
    "# Main"
   ]
  },
  {
   "cell_type": "code",
   "execution_count": 20,
   "id": "12de6387-6e18-4e4b-b5ce-a847d625330a",
   "metadata": {},
   "outputs": [],
   "source": [
    "epoch = 0\n",
    "losses, test_losses, lrs = [], [], []\n",
    "best_test_loss = 1e9\n",
    "soft_loss_temps = utils.cosine_anneal(0.004, 0.0075, num_epochs - int(mixup_pct * num_epochs))\n",
    "\n",
    "# Optionally resume from checkpoint #\n",
    "if resume_from_ckpt:\n",
    "    print(\"\\n---resuming from last.pth ckpt---\\n\")\n",
    "    try:\n",
    "        checkpoint = torch.load(outdir+'/last.pth', map_location='cpu')\n",
    "    except:\n",
    "        print('last.pth failed... trying last_backup.pth')\n",
    "        checkpoint = torch.load(outdir+'/last_backup.pth', map_location='cpu')\n",
    "    epoch = checkpoint['epoch']\n",
    "    print(\"Epoch\",epoch)\n",
    "    optimizer.load_state_dict(checkpoint['optimizer_state_dict'])\n",
    "    lr_scheduler.load_state_dict(checkpoint['lr_scheduler'])\n",
    "    diffusion_prior.load_state_dict(checkpoint['model_state_dict'])\n",
    "    del checkpoint\n",
    "elif wandb_log:\n",
    "    if wandb.run.resumed:\n",
    "        print(\"\\n---resuming from last.pth ckpt---\\n\")\n",
    "        try:\n",
    "            checkpoint = torch.load(outdir+'/last.pth', map_location='cpu')\n",
    "        except:\n",
    "            print('last.pth failed... trying last_backup.pth')\n",
    "            checkpoint = torch.load(outdir+'/last_backup.pth', map_location='cpu')\n",
    "        epoch = checkpoint['epoch']\n",
    "        print(\"Epoch\",epoch)\n",
    "        optimizer.load_state_dict(checkpoint['optimizer_state_dict'])\n",
    "        lr_scheduler.load_state_dict(checkpoint['lr_scheduler'])\n",
    "        diffusion_prior.load_state_dict(checkpoint['model_state_dict'])\n",
    "        del checkpoint\n",
    "torch.cuda.empty_cache()"
   ]
  },
  {
   "cell_type": "code",
   "execution_count": 21,
   "id": "99f09f76-4481-4133-b09a-a22b10dbc0c4",
   "metadata": {},
   "outputs": [],
   "source": [
    "model, optimizer, train_dl, test_dl, lr_scheduler = accelerator.prepare(\n",
    "model, optimizer, train_dl, test_dl, lr_scheduler\n",
    ")"
   ]
  },
  {
   "cell_type": "code",
   "execution_count": 22,
   "id": "b4a3368c-e6ce-49cc-b970-ee3dba12dfcd",
   "metadata": {},
   "outputs": [
    {
     "name": "stdout",
     "output_type": "stream",
     "text": [
      "test starting with epoch 0 / 12\n"
     ]
    },
    {
     "name": "stderr",
     "output_type": "stream",
     "text": [
      "100%|█████████████████████████████████████████████████████████████████████████████████████████████████████████████████████████████████████████████████████████████████████████████████████████████████████████████████████████████████████████████████████████████████████████████████████████████████████████████████████████████████████████████████████████████████████████████████████████████████████████████████████████████████████████████████████████████████████████████████████████████████████████████████████████████████████████████████████████████████████████████████████████████████████████████████████████████████████████████████████████████████████████████████████████████████████████████████████████████████████████████████████████████████████████████████████████████████████████████████████████████████████████████████████████████████████████| 12/12 [40:21<00:00, 201.75s/it, test/loss=1.02, test/num_steps=12, test/test_bwd_pct_correct=tensor(0.8667, device='cuda:0'), test/test_fwd_pct_correct=tensor(0.9367, device='cuda:0'), train/bwd_pct_correct=tensor(0.9929, device='cuda:0'), train/fwd_pct_correct=tensor(0.9930, device='cuda:0'), train/loss=0.0269, train/lr=1.2e-8, train/num_steps=9372]"
     ]
    },
    {
     "name": "stdout",
     "output_type": "stream",
     "text": [
      "\n",
      "===Finished!===\n",
      "\n",
      "saving /fsx/proj-fmri/paulscotti/MindEyeV2/train_logs/test/last.pth\n"
     ]
    },
    {
     "name": "stderr",
     "output_type": "stream",
     "text": [
      "\n"
     ]
    }
   ],
   "source": [
    "print(f\"{model_name} starting with epoch {epoch} / {num_epochs}\")\n",
    "progress_bar = tqdm(range(epoch,num_epochs), ncols=1200, disable=(local_rank!=0))\n",
    "test_image, test_voxel = None, None\n",
    "mse = nn.MSELoss()\n",
    "for epoch in progress_bar:\n",
    "    model.train()\n",
    "    \n",
    "    fwd_percent_correct = 0.\n",
    "    bwd_percent_correct = 0.\n",
    "    test_fwd_percent_correct = 0.\n",
    "    test_bwd_percent_correct = 0.\n",
    "\n",
    "    for train_i, (behav, old_behav) in enumerate(train_dl):\n",
    "        with torch.cuda.amp.autocast():\n",
    "            optimizer.zero_grad()\n",
    "\n",
    "            voxel = voxels[behav[:,0,5].cpu().long()].to(device)\n",
    "            image = images[behav[:,0,0].cpu().long()].to(device)\n",
    "            \n",
    "            if use_image_aug: image = img_augment(image)\n",
    "            preproc_image = normalize(image)\n",
    "\n",
    "            clip_target = eva_extractor(preproc_image.float())\n",
    "            # clip_target = eva02_model(preproc_image.float())\n",
    "            # clip_target = eva02_model.embed_image(image.float())\n",
    "            assert not torch.any(torch.isnan(clip_target))\n",
    "\n",
    "            if epoch < int(mixup_pct * num_epochs):\n",
    "                voxel, perm, betas, select = utils.mixco(voxel)\n",
    "\n",
    "            voxel_ridge = model.module.ridge(voxel)\n",
    "            # voxel_dino = voxel_ridge.reshape(len(voxel_ridge), -1, 1024)\n",
    "\n",
    "            # for block in model.module.dinov2.blocks: voxel_dino = block(voxel_dino)\n",
    "            # voxel_dino = model.module.dinov2.norm(voxel_dino)\n",
    "            clip_voxels = model.module.dinov2(voxel_ridge)\n",
    "\n",
    "            # clip_voxels = model.module.eva02clip_proj(voxel_dino.flatten(1))\n",
    "\n",
    "            clip_voxels_norm = nn.functional.normalize(clip_voxels.flatten(1), dim=-1)\n",
    "            clip_target_norm = nn.functional.normalize(clip_target.flatten(1), dim=-1)\n",
    "\n",
    "            if epoch < int(mixup_pct * num_epochs):                \n",
    "                loss_clip = utils.mixco_nce(\n",
    "                    clip_voxels_norm,\n",
    "                    clip_target_norm,\n",
    "                    temp=.006, \n",
    "                    perm=perm, betas=betas, select=select)\n",
    "            else:\n",
    "                epoch_temp = soft_loss_temps[epoch-int(mixup_pct*num_epochs)]\n",
    "                loss_clip = utils.soft_clip_loss(\n",
    "                    clip_voxels_norm,\n",
    "                    clip_target_norm,\n",
    "                    temp=epoch_temp)\n",
    "                \n",
    "            loss = loss_clip\n",
    "            \n",
    "            utils.check_loss(loss)\n",
    "\n",
    "            accelerator.backward(loss)\n",
    "            optimizer.step()\n",
    "    \n",
    "            losses.append(loss.item())\n",
    "            lrs.append(optimizer.param_groups[0]['lr'])\n",
    "    \n",
    "            # forward and backward top 1 accuracy        \n",
    "            labels = torch.arange(len(clip_target_norm)).to(clip_voxels_norm.device) \n",
    "            fwd_percent_correct += utils.topk(utils.batchwise_cosine_similarity(clip_voxels_norm, clip_target_norm), labels, k=1)\n",
    "            bwd_percent_correct += utils.topk(utils.batchwise_cosine_similarity(clip_target_norm, clip_voxels_norm), labels, k=1)\n",
    "\n",
    "            if lr_scheduler_type is not None:\n",
    "                lr_scheduler.step()\n",
    "\n",
    "    model.eval()\n",
    "    for test_i, (behav, old_behav) in enumerate(test_dl):\n",
    "        with torch.no_grad():\n",
    "            with torch.cuda.amp.autocast():    \n",
    "                # all test samples should be loaded per batch such that test_i should never exceed 0\n",
    "                assert len(behav) == num_test \n",
    "                \n",
    "                ## Average same-image repeats ##\n",
    "                if test_image is None:\n",
    "                    voxel = voxels[behav[:,0,5].cpu().long()]\n",
    "                    image = behav[:,0,0].cpu().long()\n",
    "                    \n",
    "                    unique_image, sort_indices = torch.unique(image, return_inverse=True)\n",
    "                    for im in unique_image:\n",
    "                        locs = torch.where(im == image)[0]\n",
    "                        if test_image is None:\n",
    "                            test_image = images[im][None]\n",
    "                            test_voxel = torch.mean(voxel[locs],axis=0)[None]\n",
    "                        else:\n",
    "                            test_image = torch.vstack((test_image, images[im][None]))\n",
    "                            test_voxel = torch.vstack((test_voxel, torch.mean(voxel[locs],axis=0)[None]))\n",
    "    \n",
    "                # random sample of 300\n",
    "                random_indices = torch.randperm(len(test_voxel))[:300]\n",
    "                voxel = test_voxel[random_indices].to(device)\n",
    "                image = test_image[random_indices].to(device)\n",
    "                assert len(image) == 300\n",
    "        \n",
    "                preproc_image = normalize(image)\n",
    "\n",
    "                clip_target = eva_extractor(preproc_image.float())\n",
    "                # clip_target = eva02_model(preproc_image.float())\n",
    "                # clip_target = eva02_model.embed_image(image.float())\n",
    "                \n",
    "                voxel_ridge = model.module.ridge(voxel)\n",
    "                # voxel_dino = voxel_ridge.reshape(len(voxel_ridge), -1, 1024)\n",
    "                \n",
    "                # for block in model.module.dinov2.blocks: voxel_dino = block(voxel_dino)\n",
    "                # voxel_dino = model.module.dinov2.norm(voxel_dino)\n",
    "                clip_voxels = model.module.dinov2(voxel_ridge)\n",
    "        \n",
    "                # clip_voxels = model.module.eva02clip_proj(voxel_dino.flatten(1))\n",
    "                \n",
    "                clip_voxels_norm = nn.functional.normalize(clip_voxels.flatten(1), dim=-1)\n",
    "                clip_target_norm = nn.functional.normalize(clip_target.flatten(1), dim=-1)\n",
    "        \n",
    "                epoch_temp = soft_loss_temps[epoch-int(mixup_pct*num_epochs)]\n",
    "                loss_clip = utils.soft_clip_loss(\n",
    "                    clip_voxels_norm,\n",
    "                    clip_target_norm,\n",
    "                    temp=epoch_temp)\n",
    "                    \n",
    "                loss = loss_clip\n",
    "                \n",
    "                utils.check_loss(loss)\n",
    "        \n",
    "                test_losses.append(loss.item())\n",
    "        \n",
    "                # forward and backward top 1 accuracy        \n",
    "                labels = torch.arange(len(clip_target_norm)).to(clip_voxels_norm.device) \n",
    "                test_fwd_percent_correct += utils.topk(utils.batchwise_cosine_similarity(clip_voxels_norm, clip_target_norm), labels, k=1)\n",
    "                test_bwd_percent_correct += utils.topk(utils.batchwise_cosine_similarity(clip_target_norm, clip_voxels_norm), labels, k=1)\n",
    "\n",
    "    if local_rank==0:      \n",
    "        # if utils.is_interactive():\n",
    "        #     clear_output(wait=True)\n",
    "\n",
    "        assert (test_i+1) == 1\n",
    "        logs = {\"train/loss\": np.mean(losses[-(train_i+1):]),\n",
    "            \"test/loss\": np.mean(test_losses[-(test_i+1):]),\n",
    "            \"train/lr\": lrs[-1],\n",
    "            \"train/num_steps\": len(losses),\n",
    "            \"test/num_steps\": len(test_losses),\n",
    "            \"train/fwd_pct_correct\": fwd_percent_correct / (train_i + 1),\n",
    "            \"train/bwd_pct_correct\": bwd_percent_correct / (train_i + 1),\n",
    "            \"test/test_fwd_pct_correct\": test_fwd_percent_correct / (test_i + 1),\n",
    "            \"test/test_bwd_pct_correct\": test_bwd_percent_correct / (test_i + 1),\n",
    "            }\n",
    "        progress_bar.set_postfix(**logs)\n",
    "\n",
    "        # Save model checkpoint and reconstruct\n",
    "        if epoch % ckpt_interval == 0:\n",
    "            if not utils.is_interactive():\n",
    "                save_ckpt(f'last')\n",
    "                \n",
    "        if wandb_log: wandb.log(logs)\n",
    "\n",
    "    # wait for other GPUs to catch up if needed\n",
    "    accelerator.wait_for_everyone()\n",
    "    torch.cuda.empty_cache()\n",
    "    gc.collect()\n",
    "\n",
    "print(\"\\n===Finished!===\\n\")\n",
    "if ckpt_saving:\n",
    "    save_ckpt(f'last')\n",
    "if not utils.is_interactive():\n",
    "    sys.exit(0)"
   ]
  },
  {
   "cell_type": "code",
   "execution_count": 23,
   "id": "f6c886ed-f772-4170-b787-8415924b01fe",
   "metadata": {},
   "outputs": [
    {
     "data": {
      "text/plain": [
       "1028.0"
      ]
     },
     "execution_count": 23,
     "metadata": {},
     "output_type": "execute_result"
    }
   ],
   "source": [
    "263168/256"
   ]
  },
  {
   "cell_type": "code",
   "execution_count": 24,
   "id": "ff1af933-6916-4978-aa02-deb48696b5c1",
   "metadata": {},
   "outputs": [],
   "source": [
    "def eva_extractor(image):\n",
    "    input = eva02_model.forward_features(image)\n",
    "    # input = eva02_model.patch_embed(image)\n",
    "    # input = eva02_model.pos_drop(input)\n",
    "    # for block in eva02_model.blocks: input = block(input)\n",
    "    # input = eva02_model.norm(input)\n",
    "    # input = eva02_model.head_drop(input)\n",
    "    # input = eva02_model.head(input)\n",
    "    return input"
   ]
  },
  {
   "cell_type": "markdown",
   "id": "59cf374a-92f4-4fb1-9072-3a10edc8808b",
   "metadata": {},
   "source": [
    "## "
   ]
  }
 ],
 "metadata": {
  "kernelspec": {
   "display_name": "Python 3 (ipykernel)",
   "language": "python",
   "name": "python3"
  },
  "language_info": {
   "codemirror_mode": {
    "name": "ipython",
    "version": 3
   },
   "file_extension": ".py",
   "mimetype": "text/x-python",
   "name": "python",
   "nbconvert_exporter": "python",
   "pygments_lexer": "ipython3",
   "version": "3.10.8"
  },
  "toc": {
   "base_numbering": 1,
   "nav_menu": {},
   "number_sections": true,
   "sideBar": true,
   "skip_h1_title": false,
   "title_cell": "Table of Contents",
   "title_sidebar": "Contents",
   "toc_cell": false,
   "toc_position": {
    "height": "calc(100% - 180px)",
    "left": "10px",
    "top": "150px",
    "width": "165px"
   },
   "toc_section_display": true,
   "toc_window_display": true
  },
  "toc-autonumbering": true,
  "vscode": {
   "interpreter": {
    "hash": "62aae01ef0cf7b6af841ab1c8ce59175c4332e693ab3d00bc32ceffb78a35376"
   }
  }
 },
 "nbformat": 4,
 "nbformat_minor": 5
}
