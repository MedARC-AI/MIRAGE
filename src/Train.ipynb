{
 "cells": [
  {
   "cell_type": "markdown",
   "id": "b0f0f4f3",
   "metadata": {},
   "source": [
    "# Import packages & functions"
   ]
  },
  {
   "cell_type": "code",
   "execution_count": 1,
   "id": "de3e35fc-9f53-4395-963c-f701c7abe42b",
   "metadata": {},
   "outputs": [],
   "source": [
    "!export CUDA_LAUNCH_BLOCKING=1"
   ]
  },
  {
   "cell_type": "code",
   "execution_count": 2,
   "id": "5bad764b-45c1-45ce-a716-8d055e09821a",
   "metadata": {
    "tags": []
   },
   "outputs": [
    {
     "name": "stderr",
     "output_type": "stream",
     "text": [
      "/admin/home-jonxu/mambaforge/envs/fmri/lib/python3.10/site-packages/tqdm/auto.py:21: TqdmWarning: IProgress not found. Please update jupyter and ipywidgets. See https://ipywidgets.readthedocs.io/en/stable/user_install.html\n",
      "  from .autonotebook import tqdm as notebook_tqdm\n"
     ]
    },
    {
     "name": "stdout",
     "output_type": "stream",
     "text": [
      "[2024-01-08 18:32:25,157] [INFO] [real_accelerator.py:158:get_accelerator] Setting ds_accelerator to cuda (auto detect)\n"
     ]
    }
   ],
   "source": [
    "import os\n",
    "import sys\n",
    "import json\n",
    "import argparse\n",
    "import numpy as np\n",
    "import math\n",
    "from einops import rearrange\n",
    "import time\n",
    "import random\n",
    "import string\n",
    "import h5py\n",
    "from tqdm import tqdm\n",
    "\n",
    "import webdataset as wds\n",
    "import gc\n",
    "\n",
    "import matplotlib.pyplot as plt\n",
    "import torch\n",
    "import torch.nn as nn\n",
    "from torchvision import transforms\n",
    "\n",
    "from accelerate import Accelerator\n",
    "\n",
    "# tf32 data type is faster than standard float32s\n",
    "torch.backends.cuda.matmul.allow_tf32 = True\n",
    "\n",
    "# custom functions #\n",
    "import utils"
   ]
  },
  {
   "cell_type": "code",
   "execution_count": 4,
   "id": "cc5d2e32-6027-4a19-bef4-5ca068db35bb",
   "metadata": {},
   "outputs": [
    {
     "name": "stdout",
     "output_type": "stream",
     "text": [
      "LOCAL RANK  0\n"
     ]
    }
   ],
   "source": [
    "### Multi-GPU config ###\n",
    "local_rank = os.getenv('RANK')\n",
    "if local_rank is None: \n",
    "    local_rank = 0\n",
    "else:\n",
    "    local_rank = int(local_rank)\n",
    "print(\"LOCAL RANK \", local_rank)  \n",
    "\n",
    "num_devices = torch.cuda.device_count()\n",
    "if num_devices==0: num_devices = 1\n",
    "\n",
    "accelerator = Accelerator(split_batches=False, mixed_precision=\"fp16\")\n",
    "global_batch_size = batch_size = 128"
   ]
  },
  {
   "cell_type": "code",
   "execution_count": 5,
   "id": "b767ab6f-d4a9-47a5-b3bf-f56bf6760c0c",
   "metadata": {},
   "outputs": [
    {
     "name": "stdout",
     "output_type": "stream",
     "text": [
      "PID of this process = 1268644\n",
      "device: cuda\n",
      "Distributed environment: NO\n",
      "Num processes: 1\n",
      "Process index: 0\n",
      "Local process index: 0\n",
      "Device: cuda\n",
      "\n",
      "Mixed precision type: fp16\n",
      "\n",
      "distributed = False num_devices = 1 local rank = 0 world size = 1 data_type = torch.float16\n"
     ]
    }
   ],
   "source": [
    "print(\"PID of this process =\",os.getpid())\n",
    "device = accelerator.device\n",
    "print(\"device:\",device)\n",
    "num_workers = num_devices\n",
    "print(accelerator.state)\n",
    "world_size = accelerator.state.num_processes\n",
    "distributed = not accelerator.state.distributed_type == 'NO'\n",
    "\n",
    "# set data_type to match your mixed precision\n",
    "if accelerator.mixed_precision == \"bf16\":\n",
    "    data_type = torch.bfloat16\n",
    "elif accelerator.mixed_precision == \"fp16\":\n",
    "    data_type = torch.float16\n",
    "else:\n",
    "    data_type = torch.float32\n",
    "\n",
    "print(\"distributed =\",distributed, \"num_devices =\", num_devices, \"local rank =\", local_rank, \"world size =\", world_size, \"data_type =\", data_type)\n",
    "print = accelerator.print # only print if local_rank=0"
   ]
  },
  {
   "cell_type": "markdown",
   "id": "9018b82b-c054-4463-9527-4b0c2a75bda6",
   "metadata": {
    "tags": []
   },
   "source": [
    "# Configurations"
   ]
  },
  {
   "cell_type": "code",
   "execution_count": 7,
   "id": "2b61fec7-72a0-4b67-86da-1375f1d9fbd3",
   "metadata": {},
   "outputs": [
    {
     "name": "stdout",
     "output_type": "stream",
     "text": [
      "model_name: behav_opt2_512dim_30epoch\n",
      "['--data_path=/weka/proj-fmri/shared/mindeyev2_dataset', '--model_name=behav_opt2_512dim_30epoch', '--subj=1', '--batch_size=128', '--no-blurry_recon', '--hidden_dim=1024', '--num_sessions=3', '--seq_len=1', '--max_lr=3e-4', '--mixup_pct=.66', '--num_epochs=30', '--no-use_image_aug', '--ckpt_interval=999', '--no-ckpt_saving', '--wandb_log']\n",
      "The autoreload extension is already loaded. To reload it, use:\n",
      "  %reload_ext autoreload\n"
     ]
    }
   ],
   "source": [
    "# if running this interactively, can specify jupyter_args here for argparser to use\n",
    "if utils.is_interactive():\n",
    "    model_name = \"behav_opt2_512dim_30epoch\"\n",
    "    print(\"model_name:\", model_name)\n",
    "    \n",
    "    # global_batch_size and batch_size should already be defined in the above cells\n",
    "    # other variables can be specified in the following string:\n",
    "    jupyter_args = f\"--data_path=/weka/proj-fmri/shared/mindeyev2_dataset \\\n",
    "                    --model_name={model_name} \\\n",
    "                    --subj=1 --batch_size={batch_size} --no-blurry_recon --hidden_dim=1024 --num_sessions=3 --seq_len=1 \\\n",
    "                    --max_lr=3e-4 --mixup_pct=.66 --num_epochs=30 --no-use_image_aug --ckpt_interval=999 --no-ckpt_saving \\\n",
    "                    --wandb_log\"\n",
    "    \n",
    "    jupyter_args = jupyter_args.split()\n",
    "    print(jupyter_args)\n",
    "    \n",
    "    from IPython.display import clear_output # function to clear print outputs in cell\n",
    "    %load_ext autoreload \n",
    "    # this allows you to change functions in models.py or utils.py and have this notebook automatically update with your revisions\n",
    "    %autoreload 2 "
   ]
  },
  {
   "cell_type": "code",
   "execution_count": 8,
   "id": "2028bdf0-2f41-46d9-b6e7-86b870dbf16c",
   "metadata": {},
   "outputs": [],
   "source": [
    "parser = argparse.ArgumentParser(description=\"Model Training Configuration\")\n",
    "parser.add_argument(\n",
    "    \"--model_name\", type=str, default=\"testing\",\n",
    "    help=\"name of model, used for ckpt saving and wandb logging (if enabled)\",\n",
    ")\n",
    "parser.add_argument(\n",
    "    \"--data_path\", type=str, default=\"/fsx/proj-fmri/shared/natural-scenes-dataset\",\n",
    "    help=\"Path to where NSD data is stored / where to download it to\",\n",
    ")\n",
    "parser.add_argument(\n",
    "    \"--subj\",type=int, default=1, choices=[1,2,5,7],\n",
    ")\n",
    "parser.add_argument(\n",
    "    \"--num_sessions\", type=int, default=0,\n",
    "    help=\"Number of training sessions to include (zero = all sessions)\",\n",
    ")\n",
    "parser.add_argument(\n",
    "    \"--batch_size\", type=int, default=32,\n",
    "    help=\"Batch size can be increased by 10x if only training v2c and not diffusion diffuser\",\n",
    ")\n",
    "parser.add_argument(\n",
    "    \"--wandb_log\",action=argparse.BooleanOptionalAction,default=False,\n",
    "    help=\"whether to log to wandb\",\n",
    ")\n",
    "parser.add_argument(\n",
    "    \"--resume_from_ckpt\",action=argparse.BooleanOptionalAction,default=False,\n",
    "    help=\"if not using wandb and want to resume from a ckpt\",\n",
    ")\n",
    "parser.add_argument(\n",
    "    \"--wandb_project\",type=str,default=\"stability\",\n",
    "    help=\"wandb project name\",\n",
    ")\n",
    "parser.add_argument(\n",
    "    \"--mixup_pct\",type=float,default=.33,\n",
    "    help=\"proportion of way through training when to switch from BiMixCo to SoftCLIP\",\n",
    ")\n",
    "parser.add_argument(\n",
    "    \"--blurry_recon\",action=argparse.BooleanOptionalAction,default=True,\n",
    "    help=\"whether to output blurry reconstructions\",\n",
    ")\n",
    "parser.add_argument(\n",
    "    \"--blur_scale\",type=float,default=100.,\n",
    "    help=\"multiply loss from blurry recons by this number\",\n",
    ")\n",
    "parser.add_argument(\n",
    "    \"--clip_scale\",type=float,default=1.,\n",
    "    help=\"multiply contrastive loss by this number\",\n",
    ")\n",
    "parser.add_argument(\n",
    "    \"--use_image_aug\",action=argparse.BooleanOptionalAction,default=False,\n",
    "    help=\"whether to use image augmentation\",\n",
    ")\n",
    "parser.add_argument(\n",
    "    \"--num_epochs\",type=int,default=120,\n",
    "    help=\"number of epochs of training\",\n",
    ")\n",
    "parser.add_argument(\n",
    "    \"--hidden_dim\",type=int,default=2048,\n",
    ")\n",
    "parser.add_argument(\n",
    "    \"--seq_len\",type=int,default=1,\n",
    ")\n",
    "parser.add_argument(\n",
    "    \"--lr_scheduler_type\",type=str,default='cycle',choices=['cycle','linear'],\n",
    ")\n",
    "parser.add_argument(\n",
    "    \"--ckpt_saving\",action=argparse.BooleanOptionalAction,default=True,\n",
    ")\n",
    "parser.add_argument(\n",
    "    \"--ckpt_interval\",type=int,default=5,\n",
    "    help=\"save backup ckpt and reconstruct every x epochs\",\n",
    ")\n",
    "parser.add_argument(\n",
    "    \"--seed\",type=int,default=42,\n",
    ")\n",
    "parser.add_argument(\n",
    "    \"--max_lr\",type=float,default=3e-4,\n",
    ")\n",
    "\n",
    "if utils.is_interactive():\n",
    "    args = parser.parse_args(jupyter_args)\n",
    "else:\n",
    "    args = parser.parse_args()\n",
    "\n",
    "# create global variables without the args prefix\n",
    "for attribute_name in vars(args).keys():\n",
    "    globals()[attribute_name] = getattr(args, attribute_name)\n",
    "\n",
    "# seed all random functions\n",
    "utils.seed_everything(seed)\n",
    "\n",
    "outdir = os.path.abspath(f'../train_logs/{model_name}')\n",
    "if not os.path.exists(outdir) and ckpt_saving:\n",
    "    os.makedirs(outdir,exist_ok=True)\n",
    "    \n",
    "if use_image_aug:\n",
    "    import kornia\n",
    "    from kornia.augmentation.container import AugmentationSequential\n",
    "    img_augment = AugmentationSequential(\n",
    "        kornia.augmentation.RandomResizedCrop((224,224), (0.6,1), p=0.3),\n",
    "        kornia.augmentation.Resize((224, 224)),\n",
    "        kornia.augmentation.RandomHorizontalFlip(p=0.3),\n",
    "        kornia.augmentation.ColorJitter(brightness=0.4, contrast=0.4, saturation=0.2, hue=0.1, p=0.3),\n",
    "        kornia.augmentation.RandomGrayscale(p=0.3),\n",
    "        same_on_batch=False,\n",
    "        data_keys=[\"input\"],\n",
    "    )"
   ]
  },
  {
   "cell_type": "markdown",
   "id": "42d13c25-1369-4c49-81d4-83d713586096",
   "metadata": {
    "tags": []
   },
   "source": [
    "# Prep data, models, and dataloaders"
   ]
  },
  {
   "cell_type": "markdown",
   "id": "1c023f24-5233-4a15-a2f5-78487b3a8546",
   "metadata": {},
   "source": [
    "## Dataloader"
   ]
  },
  {
   "cell_type": "code",
   "execution_count": 9,
   "id": "995d9983-463c-4d8b-b96d-742799e2c62e",
   "metadata": {},
   "outputs": [
    {
     "name": "stdout",
     "output_type": "stream",
     "text": [
      "num_sessions = 3 batch_size = 128 num_iterations_per_epoch = 100 num_samples_per_epoch = 12800\n"
     ]
    }
   ],
   "source": [
    "def my_split_by_node(urls): return urls\n",
    "\n",
    "nsessions_allsubj=np.array([40, 40, 32, 30, 40, 32, 40, 30])\n",
    "\n",
    "if num_sessions == 0: num_sessions = nsessions_allsubj[subj-1]\n",
    "\n",
    "num_samples_per_epoch = 12800 // num_devices \n",
    "# or if you want less samples per epoch if you're using less data, can do (750*num_sessions) // num_devices \n",
    "\n",
    "num_iterations_per_epoch = num_samples_per_epoch // batch_size\n",
    "\n",
    "print(\"num_sessions =\", num_sessions, \"batch_size =\", batch_size, \"num_iterations_per_epoch =\",num_iterations_per_epoch, \"num_samples_per_epoch =\",num_samples_per_epoch,)"
   ]
  },
  {
   "cell_type": "code",
   "execution_count": 10,
   "id": "81084834-035f-4465-ad59-59e6b806a2f5",
   "metadata": {},
   "outputs": [
    {
     "name": "stdout",
     "output_type": "stream",
     "text": [
      "/weka/proj-fmri/shared/mindeyev2_dataset/wds/subj01/train/{0..2}.tar\n",
      "/weka/proj-fmri/shared/mindeyev2_dataset/wds/subj01/test/0.tar\n"
     ]
    }
   ],
   "source": [
    "train_url = f\"{data_path}/wds/subj0{subj}/train/\" + \"{0..\" + f\"{num_sessions-1}\" + \"}.tar\"\n",
    "print(train_url)\n",
    "\n",
    "train_data = wds.WebDataset(train_url,resampled=True,nodesplitter=my_split_by_node)\\\n",
    "                    .shuffle(750, initial=1500, rng=random.Random(42))\\\n",
    "                    .decode(\"torch\")\\\n",
    "                    .rename(behav=\"behav.npy\", past_behav=\"past_behav.npy\", future_behav=\"future_behav.npy\", olds_behav=\"olds_behav.npy\")\\\n",
    "                    .to_tuple(*[\"behav\", \"past_behav\", \"future_behav\", \"olds_behav\"])\\\n",
    "                    .with_epoch(num_samples_per_epoch)\n",
    "train_dl = torch.utils.data.DataLoader(train_data, batch_size=batch_size, shuffle=False, drop_last=True, pin_memory=True)\n",
    "\n",
    "# if using same test dataset as MindEyeV1:\n",
    "test_url = f\"{data_path}/wds/subj0{subj}/test/\" + \"0.tar\"\n",
    "\n",
    "## if using all shared1000 test images now that they released the last 3 sessions per participant:\n",
    "# test_url = f\"{data_path}/wds/subj0{subj}/new_test/\" + \"0.tar\"\n",
    "\n",
    "print(test_url)\n",
    "\n",
    "num_test = 2770 # total number of test samples\n",
    "test_batch_size = 300 # number of test samples to use during validation\n",
    "test_data = wds.WebDataset(test_url,resampled=False,nodesplitter=my_split_by_node)\\\n",
    "                    .shuffle(750, initial=1500, rng=random.Random(42))\\\n",
    "                    .decode(\"torch\")\\\n",
    "                    .rename(behav=\"behav.npy\", past_behav=\"past_behav.npy\", future_behav=\"future_behav.npy\", olds_behav=\"olds_behav.npy\")\\\n",
    "                    .to_tuple(*[\"behav\", \"past_behav\", \"future_behav\", \"olds_behav\"])\n",
    "test_dl = torch.utils.data.DataLoader(test_data, batch_size=num_test, shuffle=False, drop_last=False, pin_memory=True)"
   ]
  },
  {
   "cell_type": "code",
   "execution_count": 74,
   "id": "159ec41c-8767-4efb-9fe2-a5cf736e6bc3",
   "metadata": {},
   "outputs": [],
   "source": [
    "# example = next(iter(train_dl))\n",
    "# behaviour = example[0][0]"
   ]
  },
  {
   "cell_type": "code",
   "execution_count": 75,
   "id": "20567d10-0f0f-4c90-80dd-1a1300768649",
   "metadata": {},
   "outputs": [],
   "source": [
    "# colNames = [\n",
    "# \"cocoidx\", #0\n",
    "# \"subject\", #1\n",
    "# \"session\", #2\n",
    "# \"run\", #3\n",
    "# \"trial\", #4\n",
    "# \"global_trial\", #5\n",
    "# \"time\", #6\n",
    "# \"isold\", #7\n",
    "# \"iscorrect\", #8\n",
    "# \"rt\", # 0 = no RT #9\n",
    "# \"changemind\", #10\n",
    "# \"isoldcurrent\", #11\n",
    "# \"iscorrectcurrent\", #12\n",
    "# \"total1\", #13\n",
    "# \"total2\", #14\n",
    "# \"button\", #15\n",
    "# \"shared1000\" #16\n",
    "# ]\n",
    "\n",
    "# batch = example[0]\n",
    "\n",
    "# # Iterate through each feature and plot its distribution\n",
    "# num_features = batch.shape[-1]\n",
    "# for i in range(num_features):\n",
    "#     feature_values = batch[:, :, i].flatten()  # Extract values for the current feature\n",
    "#     plt.figure(figsize=(6, 4))\n",
    "#     plt.hist(feature_values, bins=20)  # Adjust the number of bins as needed\n",
    "#     plt.title(f\"{colNames[i]}\")\n",
    "#     plt.xlabel(\"Value\")\n",
    "#     plt.ylabel(\"Frequency\")\n",
    "#     plt.show()"
   ]
  },
  {
   "cell_type": "markdown",
   "id": "203b060a-2dd2-4c35-929b-c576be82eb52",
   "metadata": {},
   "source": [
    "### check dataloaders are working"
   ]
  },
  {
   "cell_type": "code",
   "execution_count": 76,
   "id": "e7a9c68c-c3c9-4080-bd99-067c4486dc37",
   "metadata": {},
   "outputs": [],
   "source": [
    "# test_vox_indices = []\n",
    "# test_73k_images = []\n",
    "# for test_i, (behav, past_behav, future_behav, old_behav) in enumerate(test_dl):\n",
    "#     test_vox_indices = np.append(test_vox_indices, behav[:,0,5].cpu().numpy())\n",
    "#     test_73k_images = np.append(test_73k_images, behav[:,0,0].cpu().numpy())\n",
    "# test_vox_indices = test_vox_indices.astype(np.int16)\n",
    "# print(test_i, (test_i+1) * num_test, len(test_vox_indices))\n",
    "# print(\"---\\n\")\n",
    "\n",
    "# train_vox_indices = []\n",
    "# train_73k_images = []\n",
    "# for train_i, (behav, past_behav, future_behav, old_behav) in enumerate(train_dl):\n",
    "#     train_vox_indices = np.append(train_vox_indices, behav[:,0,5].long().cpu().numpy())\n",
    "#     train_73k_images = np.append(train_73k_images, behav[:,0,0].cpu().numpy())\n",
    "# train_vox_indices = train_vox_indices.astype(np.int16)\n",
    "# print(train_i, (train_i+1) * batch_size, len(train_vox_indices))\n",
    "\n",
    "# ## example output ##\n",
    "# # 0 2770 2770\n",
    "# # ---\n",
    "# # 99 12800 12800"
   ]
  },
  {
   "cell_type": "markdown",
   "id": "45fad12c-f9fb-4408-8fd4-9bca324ad634",
   "metadata": {},
   "source": [
    "## Load data and images"
   ]
  },
  {
   "cell_type": "code",
   "execution_count": 11,
   "id": "039dd330-7339-4f88-8f00-45f95e47baa0",
   "metadata": {},
   "outputs": [
    {
     "name": "stdout",
     "output_type": "stream",
     "text": [
      "subj01 betas loaded into memory\n",
      "voxels torch.Size([30000, 15724])\n",
      "images torch.Size([73000, 3, 224, 224])\n"
     ]
    }
   ],
   "source": [
    "# load betas (use fp32 hdf5 file to have more flexible precision and include all sessions inc. those released after algonauts)\n",
    "f = h5py.File(f'{data_path}/betas_all_subj0{subj}_fp32.hdf5', 'r')\n",
    "\n",
    "voxels = f['betas'][:]\n",
    "print(f\"subj0{subj} betas loaded into memory\")\n",
    "voxels = torch.Tensor(voxels).to(\"cpu\").to(data_type)\n",
    "print(\"voxels\", voxels.shape)\n",
    "num_voxels = voxels.shape[-1]\n",
    "\n",
    "# load orig images\n",
    "f = h5py.File(f'{data_path}/coco_images_224_float16.hdf5', 'r')\n",
    "images = f['images'][:]\n",
    "images = torch.Tensor(images).to(\"cpu\").to(data_type)\n",
    "print(\"images\", images.shape)"
   ]
  },
  {
   "cell_type": "markdown",
   "id": "10ec4517-dbdf-4ece-98f6-4714d5de4e15",
   "metadata": {},
   "source": [
    "## Load models"
   ]
  },
  {
   "cell_type": "markdown",
   "id": "48d6160e-1ee8-4da7-a755-9dbb452a6fa5",
   "metadata": {},
   "source": [
    "### CLIP image embeddings  model"
   ]
  },
  {
   "cell_type": "code",
   "execution_count": 12,
   "id": "b0420dc0-199e-4c1a-857d-b1747058b467",
   "metadata": {},
   "outputs": [
    {
     "name": "stdout",
     "output_type": "stream",
     "text": [
      "ViT-L/14 cuda:0\n"
     ]
    }
   ],
   "source": [
    "from models import Clipper\n",
    "clip_model = Clipper(\"ViT-L/14\", device=torch.device(f\"cuda:{local_rank}\"), hidden_state=True, norm_embs=True)\n",
    "clip_seq_dim = 257\n",
    "clip_emb_dim = 768 "
   ]
  },
  {
   "cell_type": "code",
   "execution_count": 13,
   "id": "d3bdfbf9-ceaf-407a-9fff-f8a2b7dad7b2",
   "metadata": {},
   "outputs": [],
   "source": [
    "# Behavior embeddings\n",
    "behav_embed_dim = 512\n",
    "target_behaviours = [7,8,10,11,12]\n",
    "# target_behaviours = list(range(1,16))"
   ]
  },
  {
   "cell_type": "markdown",
   "id": "5b79bd38-6990-4504-8d45-4a68d57d8885",
   "metadata": {},
   "source": [
    "### SD VAE"
   ]
  },
  {
   "cell_type": "code",
   "execution_count": 14,
   "id": "01baff79-8114-482b-b115-6f05aa8ad691",
   "metadata": {},
   "outputs": [],
   "source": [
    "if blurry_recon:\n",
    "    from diffusers import AutoencoderKL\n",
    "    autoenc = AutoencoderKL.from_pretrained(\"madebyollin/sdxl-vae-fp16-fix\", torch_dtype=data_type, cache_dir=\"/weka/proj-fmri/shared/cache\")\n",
    "    autoenc.eval()\n",
    "    autoenc.requires_grad_(False)\n",
    "    autoenc.to(device)\n",
    "    utils.count_params(autoenc)"
   ]
  },
  {
   "cell_type": "markdown",
   "id": "120c8eee-9834-437d-bb60-b38faef50138",
   "metadata": {},
   "source": [
    "#### downsampled images"
   ]
  },
  {
   "cell_type": "code",
   "execution_count": 15,
   "id": "6d1ba8dd-64c2-4ac9-947e-725b7f2e3e50",
   "metadata": {},
   "outputs": [],
   "source": [
    "if blurry_recon:\n",
    "    if utils.is_interactive(): display(utils.torch_to_Image(images[[30]]))\n",
    "\n",
    "    input_batch = images[[30]].to(device)\n",
    "    print(input_batch.shape)\n",
    "\n",
    "    downsampled_image = nn.functional.interpolate(input_batch, size=(8, 8), mode='bilinear', align_corners=False)\n",
    "    re_upsampled_image = nn.functional.interpolate(downsampled_image, size=(128, 128), mode='nearest')\n",
    "    re_upsampled_enc = autoenc.encode(2*re_upsampled_image-1).latent_dist.mode() * 0.18215\n",
    "    print(re_upsampled_enc.shape)\n",
    "    \n",
    "    if utils.is_interactive(): display(utils.torch_to_Image((autoenc.decode(re_upsampled_enc/0.18215).sample / 2 + 0.5).clamp(0,1)))"
   ]
  },
  {
   "cell_type": "markdown",
   "id": "260e5e4a-f697-4b2c-88fc-01f6a54886c0",
   "metadata": {},
   "source": [
    "### MindEye modules"
   ]
  },
  {
   "cell_type": "code",
   "execution_count": 16,
   "id": "c44c271b-173f-472e-b059-a2eda0f4c4c5",
   "metadata": {},
   "outputs": [
    {
     "data": {
      "text/plain": [
       "MindEyeModule()"
      ]
     },
     "execution_count": 16,
     "metadata": {},
     "output_type": "execute_result"
    }
   ],
   "source": [
    "class MindEyeModule(nn.Module):\n",
    "    def __init__(self):\n",
    "        super(MindEyeModule, self).__init__()\n",
    "    def forward(self, x):\n",
    "        return x\n",
    "        \n",
    "model = MindEyeModule()\n",
    "model"
   ]
  },
  {
   "cell_type": "code",
   "execution_count": 17,
   "id": "038a5d61-4769-40b9-a004-f4e7b5b38bb0",
   "metadata": {},
   "outputs": [
    {
     "name": "stdout",
     "output_type": "stream",
     "text": [
      "param counts:\n",
      "16,102,400 total\n",
      "16,102,400 trainable\n",
      "param counts:\n",
      "16,102,400 total\n",
      "16,102,400 trainable\n",
      "torch.Size([2, 15724])\n",
      "torch.Size([2, 1, 1024])\n"
     ]
    }
   ],
   "source": [
    "class RidgeRegression(torch.nn.Module):\n",
    "    # make sure to add weight_decay when initializing optimizer\n",
    "    def __init__(self, input_size, out_features): \n",
    "        super(RidgeRegression, self).__init__()\n",
    "        self.out_features = out_features\n",
    "        self.linear = torch.nn.Linear(input_size, out_features)\n",
    "    def forward(self, x):\n",
    "        if x.ndim == 3: # do ridge mapping the same way for each timepoint\n",
    "            ridge_out = torch.cat([self.linear(x[:,xi])[:,None] for xi in range(x.shape[1])], dim=1)\n",
    "            return ridge_out\n",
    "        else:\n",
    "            x = self.linear(x).unsqueeze(1)\n",
    "            return x\n",
    "        \n",
    "model.ridge = RidgeRegression(voxels.shape[1], out_features=hidden_dim)\n",
    "utils.count_params(model.ridge)\n",
    "utils.count_params(model)\n",
    "\n",
    "fake_input = torch.randn((2,voxels.shape[1]))\n",
    "print(fake_input.shape)\n",
    "print(model.ridge(fake_input).shape)"
   ]
  },
  {
   "cell_type": "code",
   "execution_count": 18,
   "id": "12f62990-3aa6-42f5-aa26-56bf24bf931f",
   "metadata": {},
   "outputs": [],
   "source": [
    "example = next(iter(train_dl))"
   ]
  },
  {
   "cell_type": "code",
   "execution_count": 19,
   "id": "734dc1ea-d193-4a00-b669-7c6580663481",
   "metadata": {},
   "outputs": [],
   "source": [
    "behavs = example[0][:,:,target_behaviours]"
   ]
  },
  {
   "cell_type": "code",
   "execution_count": 30,
   "id": "79ff7521-8b3c-4ed9-8fb2-a489bc45b50a",
   "metadata": {},
   "outputs": [
    {
     "ename": "ValueError",
     "evalue": "Must pass 2-d input. shape=(128, 1, 15)",
     "output_type": "error",
     "traceback": [
      "\u001b[0;31m---------------------------------------------------------------------------\u001b[0m",
      "\u001b[0;31mValueError\u001b[0m                                Traceback (most recent call last)",
      "Cell \u001b[0;32mIn[30], line 2\u001b[0m\n\u001b[1;32m      1\u001b[0m \u001b[38;5;28;01mimport\u001b[39;00m \u001b[38;5;21;01mpandas\u001b[39;00m \u001b[38;5;28;01mas\u001b[39;00m \u001b[38;5;21;01mpd\u001b[39;00m\n\u001b[0;32m----> 2\u001b[0m df \u001b[38;5;241m=\u001b[39m \u001b[43mpd\u001b[49m\u001b[38;5;241;43m.\u001b[39;49m\u001b[43mDataFrame\u001b[49m\u001b[43m(\u001b[49m\u001b[43mbehavs\u001b[49m\u001b[38;5;241;43m.\u001b[39;49m\u001b[43mnumpy\u001b[49m\u001b[43m(\u001b[49m\u001b[43m)\u001b[49m\u001b[43m)\u001b[49m\n",
      "File \u001b[0;32m~/mambaforge/envs/fmri/lib/python3.10/site-packages/pandas/core/frame.py:785\u001b[0m, in \u001b[0;36mDataFrame.__init__\u001b[0;34m(self, data, index, columns, dtype, copy)\u001b[0m\n\u001b[1;32m    774\u001b[0m         mgr \u001b[38;5;241m=\u001b[39m dict_to_mgr(\n\u001b[1;32m    775\u001b[0m             \u001b[38;5;66;03m# error: Item \"ndarray\" of \"Union[ndarray, Series, Index]\" has no\u001b[39;00m\n\u001b[1;32m    776\u001b[0m             \u001b[38;5;66;03m# attribute \"name\"\u001b[39;00m\n\u001b[0;32m   (...)\u001b[0m\n\u001b[1;32m    782\u001b[0m             copy\u001b[38;5;241m=\u001b[39m_copy,\n\u001b[1;32m    783\u001b[0m         )\n\u001b[1;32m    784\u001b[0m     \u001b[38;5;28;01melse\u001b[39;00m:\n\u001b[0;32m--> 785\u001b[0m         mgr \u001b[38;5;241m=\u001b[39m \u001b[43mndarray_to_mgr\u001b[49m\u001b[43m(\u001b[49m\n\u001b[1;32m    786\u001b[0m \u001b[43m            \u001b[49m\u001b[43mdata\u001b[49m\u001b[43m,\u001b[49m\n\u001b[1;32m    787\u001b[0m \u001b[43m            \u001b[49m\u001b[43mindex\u001b[49m\u001b[43m,\u001b[49m\n\u001b[1;32m    788\u001b[0m \u001b[43m            \u001b[49m\u001b[43mcolumns\u001b[49m\u001b[43m,\u001b[49m\n\u001b[1;32m    789\u001b[0m \u001b[43m            \u001b[49m\u001b[43mdtype\u001b[49m\u001b[38;5;241;43m=\u001b[39;49m\u001b[43mdtype\u001b[49m\u001b[43m,\u001b[49m\n\u001b[1;32m    790\u001b[0m \u001b[43m            \u001b[49m\u001b[43mcopy\u001b[49m\u001b[38;5;241;43m=\u001b[39;49m\u001b[43mcopy\u001b[49m\u001b[43m,\u001b[49m\n\u001b[1;32m    791\u001b[0m \u001b[43m            \u001b[49m\u001b[43mtyp\u001b[49m\u001b[38;5;241;43m=\u001b[39;49m\u001b[43mmanager\u001b[49m\u001b[43m,\u001b[49m\n\u001b[1;32m    792\u001b[0m \u001b[43m        \u001b[49m\u001b[43m)\u001b[49m\n\u001b[1;32m    794\u001b[0m \u001b[38;5;66;03m# For data is list-like, or Iterable (will consume into list)\u001b[39;00m\n\u001b[1;32m    795\u001b[0m \u001b[38;5;28;01melif\u001b[39;00m is_list_like(data):\n",
      "File \u001b[0;32m~/mambaforge/envs/fmri/lib/python3.10/site-packages/pandas/core/internals/construction.py:314\u001b[0m, in \u001b[0;36mndarray_to_mgr\u001b[0;34m(values, index, columns, dtype, copy, typ)\u001b[0m\n\u001b[1;32m    308\u001b[0m     _copy \u001b[38;5;241m=\u001b[39m (\n\u001b[1;32m    309\u001b[0m         copy_on_sanitize\n\u001b[1;32m    310\u001b[0m         \u001b[38;5;28;01mif\u001b[39;00m (dtype \u001b[38;5;129;01mis\u001b[39;00m \u001b[38;5;28;01mNone\u001b[39;00m \u001b[38;5;129;01mor\u001b[39;00m astype_is_view(values\u001b[38;5;241m.\u001b[39mdtype, dtype))\n\u001b[1;32m    311\u001b[0m         \u001b[38;5;28;01melse\u001b[39;00m \u001b[38;5;28;01mFalse\u001b[39;00m\n\u001b[1;32m    312\u001b[0m     )\n\u001b[1;32m    313\u001b[0m     values \u001b[38;5;241m=\u001b[39m np\u001b[38;5;241m.\u001b[39marray(values, copy\u001b[38;5;241m=\u001b[39m_copy)\n\u001b[0;32m--> 314\u001b[0m     values \u001b[38;5;241m=\u001b[39m \u001b[43m_ensure_2d\u001b[49m\u001b[43m(\u001b[49m\u001b[43mvalues\u001b[49m\u001b[43m)\u001b[49m\n\u001b[1;32m    316\u001b[0m \u001b[38;5;28;01melse\u001b[39;00m:\n\u001b[1;32m    317\u001b[0m     \u001b[38;5;66;03m# by definition an array here\u001b[39;00m\n\u001b[1;32m    318\u001b[0m     \u001b[38;5;66;03m# the dtypes will be coerced to a single dtype\u001b[39;00m\n\u001b[1;32m    319\u001b[0m     values \u001b[38;5;241m=\u001b[39m _prep_ndarraylike(values, copy\u001b[38;5;241m=\u001b[39mcopy_on_sanitize)\n",
      "File \u001b[0;32m~/mambaforge/envs/fmri/lib/python3.10/site-packages/pandas/core/internals/construction.py:592\u001b[0m, in \u001b[0;36m_ensure_2d\u001b[0;34m(values)\u001b[0m\n\u001b[1;32m    590\u001b[0m     values \u001b[38;5;241m=\u001b[39m values\u001b[38;5;241m.\u001b[39mreshape((values\u001b[38;5;241m.\u001b[39mshape[\u001b[38;5;241m0\u001b[39m], \u001b[38;5;241m1\u001b[39m))\n\u001b[1;32m    591\u001b[0m \u001b[38;5;28;01melif\u001b[39;00m values\u001b[38;5;241m.\u001b[39mndim \u001b[38;5;241m!=\u001b[39m \u001b[38;5;241m2\u001b[39m:\n\u001b[0;32m--> 592\u001b[0m     \u001b[38;5;28;01mraise\u001b[39;00m \u001b[38;5;167;01mValueError\u001b[39;00m(\u001b[38;5;124mf\u001b[39m\u001b[38;5;124m\"\u001b[39m\u001b[38;5;124mMust pass 2-d input. shape=\u001b[39m\u001b[38;5;132;01m{\u001b[39;00mvalues\u001b[38;5;241m.\u001b[39mshape\u001b[38;5;132;01m}\u001b[39;00m\u001b[38;5;124m\"\u001b[39m)\n\u001b[1;32m    593\u001b[0m \u001b[38;5;28;01mreturn\u001b[39;00m values\n",
      "\u001b[0;31mValueError\u001b[0m: Must pass 2-d input. shape=(128, 1, 15)"
     ]
    }
   ],
   "source": [
    "import pandas as pd\n",
    "df = pd.DataFrame(behavs.numpy())"
   ]
  },
  {
   "cell_type": "code",
   "execution_count": 20,
   "id": "3602c333-d029-465c-8fb4-c3ccffdba6fd",
   "metadata": {},
   "outputs": [
    {
     "name": "stdout",
     "output_type": "stream",
     "text": [
      "param counts:\n",
      "723,354,136 total\n",
      "723,354,136 trainable\n",
      "param counts:\n",
      "739,456,536 total\n",
      "739,456,536 trainable\n",
      "fake_input.shape torch.Size([2, 1, 1024])\n",
      "fake_behaviour.shape torch.Size([2, 5])\n",
      "torch.Size([2, 257, 768]) torch.Size([1])\n"
     ]
    }
   ],
   "source": [
    "from functools import partial\n",
    "from diffusers.models.vae import Decoder\n",
    "class BrainNetwork(nn.Module):\n",
    "    def __init__(self, out_dim=768, in_dim=15724, seq_len=2, h=4096, n_blocks=4, drop=.15, clip_size=768, behav_size=0, behav_embed=2):\n",
    "        super().__init__()\n",
    "        self.seq_len = seq_len\n",
    "        self.h = h\n",
    "        self.clip_size = clip_size\n",
    "        self.behav_embd = behav_embed\n",
    "        \n",
    "        # Mixer Blocks\n",
    "        self.mixer_blocks1 = nn.ModuleList([\n",
    "            self.mixer_block1(h, drop) for _ in range(n_blocks)\n",
    "        ])\n",
    "        self.mixer_blocks2 = nn.ModuleList([\n",
    "            self.mixer_block2(seq_len, drop) for _ in range(n_blocks)\n",
    "        ])\n",
    "        \n",
    "        # Output linear layer\n",
    "        behav_tensor_size = behav_size * behav_embed\n",
    "        self.clin1 = nn.Linear(h * seq_len + behav_tensor_size, out_dim, bias=True) # 1024 + behav_tensor_size, 197376\n",
    "        # self.clin1 = nn.Linear(h * seq_len, out_dim, bias=True) # 1024 + behav_size, 197376\n",
    "        \n",
    "        # Behaviour embedding layer\n",
    "        self.behav_embedder = nn.Embedding(3, behav_embed)\n",
    "        # self.behav_project = nn.Linear(behav_tensor_size, clip_size)\n",
    "\n",
    "        self.clip_proj = nn.Sequential(\n",
    "            nn.LayerNorm(clip_size),\n",
    "            nn.GELU(),\n",
    "            nn.Linear(clip_size, 2048),\n",
    "            nn.LayerNorm(2048),\n",
    "            nn.GELU(),\n",
    "            nn.Linear(2048, 2048),\n",
    "            nn.LayerNorm(2048),\n",
    "            nn.GELU(),\n",
    "            nn.Linear(2048, clip_size)\n",
    "        )\n",
    "\n",
    "        if blurry_recon:\n",
    "            self.blin1 = nn.Sequential(\n",
    "                nn.Linear(h*seq_len, 4096, bias=True),\n",
    "                nn.LayerNorm(4096),\n",
    "                nn.GELU(),\n",
    "                nn.Linear(4096, 4096))\n",
    "            self.bgroupnorm = nn.GroupNorm(1, 256)\n",
    "            self.bupsampler = Decoder(\n",
    "                in_channels=256,\n",
    "                out_channels=4,\n",
    "                up_block_types=[\"UpDecoderBlock2D\",\"UpDecoderBlock2D\",\"UpDecoderBlock2D\"],\n",
    "                block_out_channels=[32, 64, 128],\n",
    "                layers_per_block=1,\n",
    "            )\n",
    "        \n",
    "    def mixer_block1(self, h, drop):\n",
    "        return nn.Sequential(\n",
    "            nn.LayerNorm(h),\n",
    "            self.mlp(h, h, drop),  # Token mixing\n",
    "        )\n",
    "\n",
    "    def mixer_block2(self, seq_len, drop):\n",
    "        return nn.Sequential(\n",
    "            nn.LayerNorm(seq_len),\n",
    "            self.mlp(seq_len, seq_len, drop)  # Channel mixing\n",
    "        )\n",
    "    \n",
    "    def mlp(self, in_dim, out_dim, drop):\n",
    "        return nn.Sequential(\n",
    "            nn.Linear(in_dim, out_dim),\n",
    "            nn.GELU(),\n",
    "            nn.Dropout(drop),\n",
    "            nn.Linear(out_dim, out_dim),\n",
    "        )\n",
    "        \n",
    "    def forward(self, x, behaviour=None, b=torch.Tensor([0.])):        \n",
    "        # Option 1: Append behaviour here (resulting in [batch, 1, 1024 + behaviours])\n",
    "        # will need to change all the mixer blocks, messy. also would get drowned out by rest of fmri data\n",
    "        if behaviour is not None:\n",
    "            behaviour = behaviour.to(torch.int) + 1 # Adding 1 to accomodate -1 values\n",
    "        \n",
    "        # Mixer blocks\n",
    "        residual1 = x # batch, 1, 1024\n",
    "        residual2 = x.permute(0,2,1)\n",
    "        for block1, block2 in zip(self.mixer_blocks1,self.mixer_blocks2):\n",
    "            x = block1(x) + residual1\n",
    "            residual1 = x\n",
    "            x = x.permute(0,2,1)\n",
    "            \n",
    "            x = block2(x) + residual2\n",
    "            residual2 = x\n",
    "            x = x.permute(0,2,1)\n",
    "            \n",
    "        # batch, 1, 1024\n",
    "        x = x.reshape(x.size(0), -1) # batch, 1024\n",
    "        # Option 2: Append behaviour here (resulting in [batch, 1024 + behaviours])\n",
    "        if behaviour is not None:\n",
    "            behaviour = self.behav_embedder(behaviour)\n",
    "            behaviour = behaviour.view(behaviour.size(0), -1)\n",
    "            x = torch.cat((x, behaviour), dim=1)\n",
    "        c = self.clin1(x) # batch, 197376\n",
    "        c = c.reshape(len(c), -1, self.clip_size) # batch, 257, 768\n",
    "        \n",
    "        # Option 3: Append behaviour here (resulting in [batch, 258, 768])\n",
    "        # Not a good idea. c will be a different seq length than our target\n",
    "        # if behaviour is not None:\n",
    "        #     embedding = self.behav_embedder(behaviour)\n",
    "        #     embedding = embedding.view(embedding.size(0), -1)\n",
    "        #     proj = self.behav_project(embedding)\n",
    "        #     proj = proj.unsqueeze(1)\n",
    "        #     c = torch.cat((c, proj), dim = 1)\n",
    "\n",
    "        c = self.clip_proj(c) # batch, 257, 768\n",
    "\n",
    "        if blurry_recon:\n",
    "            b = self.blin1(x)\n",
    "            b = b.reshape(len(b), 256, 4, 4)\n",
    "            b = self.bgroupnorm(b)\n",
    "            b = self.bupsampler(b)\n",
    "        \n",
    "        return c, b\n",
    "\n",
    "model.backbone = BrainNetwork(h=hidden_dim, in_dim=hidden_dim, seq_len=seq_len, clip_size=clip_emb_dim, out_dim=clip_emb_dim*clip_seq_dim, behav_size=len(target_behaviours), behav_embed = behav_embed_dim) \n",
    "utils.count_params(model.backbone)\n",
    "utils.count_params(model)\n",
    "\n",
    "# test that the model works on some fake data\n",
    "fake_input = torch.randn((2,seq_len,hidden_dim))\n",
    "fake_behaviour = torch.randint(-1, 2, (2, len(target_behaviours)))\n",
    "print(\"fake_input.shape\", fake_input.shape)\n",
    "print(\"fake_behaviour.shape\", fake_behaviour.shape)\n",
    "clip_, blur_ = model.backbone(fake_input, fake_behaviour)\n",
    "# clip_, blur_ = model.backbone(fake_input)\n",
    "\n",
    "print(clip_.shape, blur_.shape)"
   ]
  },
  {
   "cell_type": "code",
   "execution_count": 21,
   "id": "e14d0482-dc42-43b9-9ce1-953c32f2c9c1",
   "metadata": {},
   "outputs": [
    {
     "name": "stdout",
     "output_type": "stream",
     "text": [
      "total_steps 3000\n",
      "param counts:\n",
      "739,456,536 total\n",
      "739,456,536 trainable\n",
      "\n",
      "Done with model preparations!\n"
     ]
    }
   ],
   "source": [
    "no_decay = ['bias', 'LayerNorm.bias', 'LayerNorm.weight']\n",
    "opt_grouped_parameters = [\n",
    "    {'params': [p for n, p in model.ridge.named_parameters()], 'weight_decay': 1e-2},\n",
    "    {'params': [p for n, p in model.backbone.named_parameters() if not any(nd in n for nd in no_decay)], 'weight_decay': 1e-2},\n",
    "    {'params': [p for n, p in model.backbone.named_parameters() if any(nd in n for nd in no_decay)], 'weight_decay': 0.0},\n",
    "]\n",
    "\n",
    "optimizer = torch.optim.AdamW(opt_grouped_parameters, lr=max_lr)\n",
    "\n",
    "if lr_scheduler_type == 'linear':\n",
    "    lr_scheduler = torch.optim.lr_scheduler.LinearLR(\n",
    "        optimizer,\n",
    "        total_iters=int(np.floor(num_epochs*num_iterations_per_epoch)),\n",
    "        last_epoch=-1\n",
    "    )\n",
    "elif lr_scheduler_type == 'cycle':\n",
    "    total_steps=int(np.floor(num_epochs*num_iterations_per_epoch))\n",
    "    print(\"total_steps\", total_steps)\n",
    "    lr_scheduler = torch.optim.lr_scheduler.OneCycleLR(\n",
    "        optimizer, \n",
    "        max_lr=max_lr,\n",
    "        total_steps=total_steps,\n",
    "        final_div_factor=1000,\n",
    "        last_epoch=-1, pct_start=2/num_epochs\n",
    "    )\n",
    "    \n",
    "def save_ckpt(tag):    \n",
    "    ckpt_path = outdir+f'/{tag}.pth'\n",
    "    print(f'saving {ckpt_path}',flush=True)\n",
    "    unwrapped_model = accelerator.unwrap_model(model)\n",
    "    try:\n",
    "        torch.save({\n",
    "            'epoch': epoch,\n",
    "            'model_state_dict': unwrapped_model.state_dict(),\n",
    "            'optimizer_state_dict': optimizer.state_dict(),\n",
    "            'lr_scheduler': lr_scheduler.state_dict(),\n",
    "            'train_losses': losses,\n",
    "            'test_losses': test_losses,\n",
    "            'lrs': lrs,\n",
    "            }, ckpt_path)\n",
    "    except:\n",
    "        print(\"Couldn't save... moving on to prevent crashing.\")\n",
    "    del unwrapped_model\n",
    "\n",
    "utils.count_params(model)\n",
    "print(\"\\nDone with model preparations!\")"
   ]
  },
  {
   "cell_type": "markdown",
   "id": "983f458b-35b8-49f2-b6db-80296cece730",
   "metadata": {},
   "source": [
    "## Weights and Biases"
   ]
  },
  {
   "cell_type": "code",
   "execution_count": 22,
   "id": "0a25a662-daa8-4de9-9233-8364800fcb6b",
   "metadata": {},
   "outputs": [
    {
     "name": "stdout",
     "output_type": "stream",
     "text": [
      "wandb mindeyev2 run behav_opt2_512dim_30epoch\n"
     ]
    },
    {
     "name": "stderr",
     "output_type": "stream",
     "text": [
      "Failed to detect the name of this notebook, you can set it manually with the WANDB_NOTEBOOK_NAME environment variable to enable code saving.\n",
      "\u001b[34m\u001b[1mwandb\u001b[0m: Currently logged in as: \u001b[33mjonxuxu\u001b[0m. Use \u001b[1m`wandb login --relogin`\u001b[0m to force relogin\n"
     ]
    },
    {
     "name": "stdout",
     "output_type": "stream",
     "text": [
      "wandb_config:\n",
      " {'model_name': 'behav_opt2_512dim_30epoch', 'global_batch_size': 128, 'batch_size': 128, 'num_epochs': 30, 'clip_scale': 1.0, 'blur_scale': 100.0, 'use_image_aug': False, 'max_lr': 0.0003, 'mixup_pct': 0.66, 'ckpt_interval': 999, 'ckpt_saving': False, 'seed': 42, 'distributed': False, 'num_devices': 1, 'world_size': 1, 'train_url': '/weka/proj-fmri/shared/mindeyev2_dataset/wds/subj01/train/{0..2}.tar', 'test_url': '/weka/proj-fmri/shared/mindeyev2_dataset/wds/subj01/test/0.tar', 'behav_embed': 512}\n"
     ]
    },
    {
     "data": {
      "text/html": [
       "wandb version 0.16.1 is available!  To upgrade, please run:\n",
       " $ pip install wandb --upgrade"
      ],
      "text/plain": [
       "<IPython.core.display.HTML object>"
      ]
     },
     "metadata": {},
     "output_type": "display_data"
    },
    {
     "data": {
      "text/html": [
       "Tracking run with wandb version 0.15.10"
      ],
      "text/plain": [
       "<IPython.core.display.HTML object>"
      ]
     },
     "metadata": {},
     "output_type": "display_data"
    },
    {
     "data": {
      "text/html": [
       "Run data is saved locally in <code>/weka/proj-fmri/jonxu/MindEyeV2/src/wandb/run-20240108_183448-msu8b68o</code>"
      ],
      "text/plain": [
       "<IPython.core.display.HTML object>"
      ]
     },
     "metadata": {},
     "output_type": "display_data"
    },
    {
     "data": {
      "text/html": [
       "Syncing run <strong><a href='https://wandb.ai/jonxuxu/mindeyev2/runs/msu8b68o' target=\"_blank\">behav_opt2_512dim_30epoch</a></strong> to <a href='https://wandb.ai/jonxuxu/mindeyev2' target=\"_blank\">Weights & Biases</a> (<a href='https://wandb.me/run' target=\"_blank\">docs</a>)<br/>"
      ],
      "text/plain": [
       "<IPython.core.display.HTML object>"
      ]
     },
     "metadata": {},
     "output_type": "display_data"
    },
    {
     "data": {
      "text/html": [
       " View project at <a href='https://wandb.ai/jonxuxu/mindeyev2' target=\"_blank\">https://wandb.ai/jonxuxu/mindeyev2</a>"
      ],
      "text/plain": [
       "<IPython.core.display.HTML object>"
      ]
     },
     "metadata": {},
     "output_type": "display_data"
    },
    {
     "data": {
      "text/html": [
       " View run at <a href='https://wandb.ai/jonxuxu/mindeyev2/runs/msu8b68o' target=\"_blank\">https://wandb.ai/jonxuxu/mindeyev2/runs/msu8b68o</a>"
      ],
      "text/plain": [
       "<IPython.core.display.HTML object>"
      ]
     },
     "metadata": {},
     "output_type": "display_data"
    }
   ],
   "source": [
    "if local_rank==0 and wandb_log: # only use main process for wandb logging\n",
    "    import wandb\n",
    "    wandb_project = 'mindeyev2'\n",
    "    wandb_run = model_name\n",
    "    wandb_notes = ''\n",
    "    \n",
    "    print(f\"wandb {wandb_project} run {wandb_run}\")\n",
    "    wandb.login()\n",
    "    wandb_config = {\n",
    "      \"model_name\": model_name,\n",
    "      \"global_batch_size\": global_batch_size,\n",
    "      \"batch_size\": batch_size,\n",
    "      \"num_epochs\": num_epochs,\n",
    "      \"clip_scale\": clip_scale,\n",
    "      \"blur_scale\": blur_scale,\n",
    "      \"use_image_aug\": use_image_aug,\n",
    "      \"max_lr\": max_lr,\n",
    "      \"mixup_pct\": mixup_pct,\n",
    "      \"ckpt_interval\": ckpt_interval,\n",
    "      \"ckpt_saving\": ckpt_saving,\n",
    "      \"seed\": seed,\n",
    "      \"distributed\": distributed,\n",
    "      \"num_devices\": num_devices,\n",
    "      \"world_size\": world_size,\n",
    "      \"train_url\": train_url,\n",
    "      \"test_url\": test_url,\n",
    "        \"behav_embed\": behav_embed_dim\n",
    "    }\n",
    "    print(\"wandb_config:\\n\",wandb_config)\n",
    "    if False: # wandb_auto_resume\n",
    "        print(\"wandb_id:\",model_name)\n",
    "        wandb.init(\n",
    "            id = model_name,\n",
    "            project=wandb_project,\n",
    "            name=wandb_run,\n",
    "            config=wandb_config,\n",
    "            notes=wandb_notes,\n",
    "            resume=\"allow\",\n",
    "        )\n",
    "    else:\n",
    "        wandb.init(\n",
    "            project=wandb_project,\n",
    "            name=wandb_run,\n",
    "            config=wandb_config,\n",
    "            notes=wandb_notes,\n",
    "            settings=wandb.Settings(start_method=\"fork\")\n",
    "        )\n",
    "else:\n",
    "    wandb_log = False"
   ]
  },
  {
   "cell_type": "markdown",
   "id": "d5690151-2131-4918-b750-e869cbd1a8a8",
   "metadata": {},
   "source": [
    "# Main"
   ]
  },
  {
   "cell_type": "code",
   "execution_count": 23,
   "id": "12de6387-6e18-4e4b-b5ce-a847d625330a",
   "metadata": {},
   "outputs": [],
   "source": [
    "epoch = 0\n",
    "losses, test_losses, lrs = [], [], []\n",
    "best_test_loss = 1e9\n",
    "soft_loss_temps = utils.cosine_anneal(0.004, 0.0075, num_epochs - int(mixup_pct * num_epochs))\n",
    "\n",
    "# Optionally resume from checkpoint #\n",
    "if resume_from_ckpt:\n",
    "    print(\"\\n---resuming from last.pth ckpt---\\n\")\n",
    "    checkpoint = torch.load(outdir+'/last.pth', map_location='cpu')\n",
    "    epoch = checkpoint['epoch']\n",
    "    print(\"Epoch\",epoch)\n",
    "    optimizer.load_state_dict(checkpoint['optimizer_state_dict'])\n",
    "    lr_scheduler.load_state_dict(checkpoint['lr_scheduler'])\n",
    "    model.load_state_dict(checkpoint['model_state_dict'])\n",
    "    del checkpoint\n",
    "elif wandb_log:\n",
    "    if wandb.run.resumed:\n",
    "        print(\"\\n---resuming from last.pth ckpt---\\n\")\n",
    "        checkpoint = torch.load(outdir+'/last.pth', map_location='cpu')\n",
    "        epoch = checkpoint['epoch']\n",
    "        print(\"Epoch\",epoch)\n",
    "        optimizer.load_state_dict(checkpoint['optimizer_state_dict'])\n",
    "        lr_scheduler.load_state_dict(checkpoint['lr_scheduler'])\n",
    "        model.load_state_dict(checkpoint['model_state_dict'])\n",
    "        del checkpoint\n",
    "torch.cuda.empty_cache()"
   ]
  },
  {
   "cell_type": "code",
   "execution_count": 24,
   "id": "99f09f76-4481-4133-b09a-a22b10dbc0c4",
   "metadata": {},
   "outputs": [],
   "source": [
    "model, optimizer, train_dl, lr_scheduler = accelerator.prepare(\n",
    "model, optimizer, train_dl, lr_scheduler\n",
    ")\n",
    "# leaving out test_dl since we will only have local_rank 0 device do evals"
   ]
  },
  {
   "cell_type": "code",
   "execution_count": 25,
   "id": "60be0d5f-3e94-4612-9373-61b53d836393",
   "metadata": {},
   "outputs": [
    {
     "name": "stdout",
     "output_type": "stream",
     "text": [
      "behav_opt2_512dim_30epoch starting with epoch 0 / 30\n"
     ]
    },
    {
     "name": "stderr",
     "output_type": "stream",
     "text": [
      "  0%|                                                                                                                                                                                                                                                                                                                                                                                                                                                                                                                                                                                                                                                                                                                                                                                                                                                                                                                                                                                                                                                                                                                                                                                                                    | 0/30 [00:00<?, ?it/s]/admin/home-jonxu/mambaforge/envs/fmri/lib/python3.10/site-packages/torchvision/transforms/functional.py:1603: UserWarning: The default value of the antialias parameter of all the resizing transforms (Resize(), RandomResizedCrop(), etc.) will change from None to True in v0.17, in order to be consistent across the PIL and Tensor backends. To suppress this warning, directly pass antialias=True (recommended, future default), antialias=None (current default, which means False for Tensors and True for PIL), or antialias=False (only works on Tensors - PIL will still use antialiasing). This also applies if you are using the inference transforms from the models weights: update the call to weights.transforms(antialias=True).\n",
      "  warnings.warn(\n",
      "  0%|                                                                                                                                                                                                                                                                                                                                                                                                                                                                                                                                                                                                                                                                                                                                                                                                                                 | 0/30 [01:18<?, ?it/s, test/blurry_pixcorr=0, test/loss=4.16, test/loss_blurry_total=0, test/loss_clip_total=4.16, test/num_steps=1, test/test_bwd_pct_correct=0.0667, test/test_fwd_pct_correct=0.193, train/blurry_pixcorr=0, train/bwd_pct_correct=0.168, train/fwd_pct_correct=0.366, train/loss=3.57, train/loss_blurry_total=0, train/loss_clip_total=3.57, train/lr=0.000153, train/num_steps=100]"
     ]
    },
    {
     "name": "stdout",
     "output_type": "stream",
     "text": [
      "---\n"
     ]
    },
    {
     "name": "stderr",
     "output_type": "stream",
     "text": [
      "  3%|██████████████████████████▋                                                                                                                                                                                                                                                                                                                                                                                                                                                                                                                                                                                                                                                                                                                                                                                                    | 1/30 [02:13<38:10, 78.99s/it, test/blurry_pixcorr=0, test/loss=3.1, test/loss_blurry_total=0, test/loss_clip_total=3.1, test/num_steps=2, test/test_bwd_pct_correct=0.167, test/test_fwd_pct_correct=0.41, train/blurry_pixcorr=0, train/bwd_pct_correct=0.558, train/fwd_pct_correct=0.619, train/loss=1.02, train/loss_blurry_total=0, train/loss_clip_total=1.02, train/lr=0.0003, train/num_steps=200]"
     ]
    },
    {
     "name": "stdout",
     "output_type": "stream",
     "text": [
      "---\n"
     ]
    },
    {
     "name": "stderr",
     "output_type": "stream",
     "text": [
      "  7%|████████████████████████████████████████████████████▉                                                                                                                                                                                                                                                                                                                                                                                                                                                                                                                                                                                                                                                                                                                                                                     | 2/30 [03:07<30:09, 64.64s/it, test/blurry_pixcorr=0, test/loss=2.75, test/loss_blurry_total=0, test/loss_clip_total=2.75, test/num_steps=3, test/test_bwd_pct_correct=0.333, test/test_fwd_pct_correct=0.363, train/blurry_pixcorr=0, train/bwd_pct_correct=0.7, train/fwd_pct_correct=0.673, train/loss=0.563, train/loss_blurry_total=0, train/loss_clip_total=0.563, train/lr=0.000299, train/num_steps=300]"
     ]
    },
    {
     "name": "stdout",
     "output_type": "stream",
     "text": [
      "---\n"
     ]
    },
    {
     "name": "stderr",
     "output_type": "stream",
     "text": [
      " 10%|███████████████████████████████████████████████████████████████████████████████▏                                                                                                                                                                                                                                                                                                                                                                                                                                                                                                                                                                                                                                                                                                                                        | 3/30 [04:02<26:59, 59.99s/it, test/blurry_pixcorr=0, test/loss=2.86, test/loss_blurry_total=0, test/loss_clip_total=2.86, test/num_steps=4, test/test_bwd_pct_correct=0.343, test/test_fwd_pct_correct=0.367, train/blurry_pixcorr=0, train/bwd_pct_correct=0.716, train/fwd_pct_correct=0.673, train/loss=0.479, train/loss_blurry_total=0, train/loss_clip_total=0.479, train/lr=0.000296, train/num_steps=400]"
     ]
    },
    {
     "name": "stdout",
     "output_type": "stream",
     "text": [
      "---\n"
     ]
    },
    {
     "name": "stderr",
     "output_type": "stream",
     "text": [
      " 13%|█████████████████████████████████████████████████████████████████████████████████████████████████████████▌                                                                                                                                                                                                                                                                                                                                                                                                                                                                                                                                                                                                                                                                                                              | 4/30 [04:56<25:04, 57.86s/it, test/blurry_pixcorr=0, test/loss=2.97, test/loss_blurry_total=0, test/loss_clip_total=2.97, test/num_steps=5, test/test_bwd_pct_correct=0.317, test/test_fwd_pct_correct=0.383, train/blurry_pixcorr=0, train/bwd_pct_correct=0.708, train/fwd_pct_correct=0.663, train/loss=0.465, train/loss_blurry_total=0, train/loss_clip_total=0.465, train/lr=0.000292, train/num_steps=500]"
     ]
    },
    {
     "name": "stdout",
     "output_type": "stream",
     "text": [
      "---\n"
     ]
    },
    {
     "name": "stderr",
     "output_type": "stream",
     "text": [
      " 17%|████████████████████████████████████████████████████████████████████████████████████████████████████████████████████████████████████                                                                                                                                                                                                                                                                                                                                                                                                                                                                                                                                                                                                                                                                                    | 5/30 [05:51<23:33, 56.53s/it, test/blurry_pixcorr=0, test/loss=3.07, test/loss_blurry_total=0, test/loss_clip_total=3.07, test/num_steps=6, test/test_bwd_pct_correct=0.313, test/test_fwd_pct_correct=0.343, train/blurry_pixcorr=0, train/bwd_pct_correct=0.704, train/fwd_pct_correct=0.659, train/loss=0.467, train/loss_blurry_total=0, train/loss_clip_total=0.467, train/lr=0.000285, train/num_steps=600]"
     ]
    },
    {
     "name": "stdout",
     "output_type": "stream",
     "text": [
      "---\n"
     ]
    },
    {
     "name": "stderr",
     "output_type": "stream",
     "text": [
      " 20%|██████████████████████████████████████████████████████████████████████████████████████████████████████████████████████████████████████████████████████████████▍                                                                                                                                                                                                                                                                                                                                                                                                                                                                                                                                                                                                                                                         | 6/30 [06:45<22:20, 55.84s/it, test/blurry_pixcorr=0, test/loss=3.03, test/loss_blurry_total=0, test/loss_clip_total=3.03, test/num_steps=7, test/test_bwd_pct_correct=0.347, test/test_fwd_pct_correct=0.317, train/blurry_pixcorr=0, train/bwd_pct_correct=0.705, train/fwd_pct_correct=0.662, train/loss=0.461, train/loss_blurry_total=0, train/loss_clip_total=0.461, train/lr=0.000277, train/num_steps=700]"
     ]
    },
    {
     "name": "stdout",
     "output_type": "stream",
     "text": [
      "---\n"
     ]
    },
    {
     "name": "stderr",
     "output_type": "stream",
     "text": [
      " 23%|█████████████████████████████████████████████████████████████████████████████████████████████████████████████████████████████████████████████████████████████████████████████████████████                                                                                                                                                                                                                                                                                                                                                                                                                                                                                                                                                                                                                                | 7/30 [07:40<21:13, 55.38s/it, test/blurry_pixcorr=0, test/loss=3.15, test/loss_blurry_total=0, test/loss_clip_total=3.15, test/num_steps=8, test/test_bwd_pct_correct=0.36, test/test_fwd_pct_correct=0.337, train/blurry_pixcorr=0, train/bwd_pct_correct=0.712, train/fwd_pct_correct=0.662, train/loss=0.456, train/loss_blurry_total=0, train/loss_clip_total=0.456, train/lr=0.000267, train/num_steps=800]"
     ]
    },
    {
     "name": "stdout",
     "output_type": "stream",
     "text": [
      "---\n"
     ]
    },
    {
     "name": "stderr",
     "output_type": "stream",
     "text": [
      " 27%|███████████████████████████████████████████████████████████████████████████████████████████████████████████████████████████████████████████████████████████████████████████████████████████████████████████████████▍                                                                                                                                                                                                                                                                                                                                                                                                                                                                                                                                                                                                     | 8/30 [08:34<20:13, 55.15s/it, test/blurry_pixcorr=0, test/loss=3.01, test/loss_blurry_total=0, test/loss_clip_total=3.01, test/num_steps=9, test/test_bwd_pct_correct=0.39, test/test_fwd_pct_correct=0.327, train/blurry_pixcorr=0, train/bwd_pct_correct=0.712, train/fwd_pct_correct=0.664, train/loss=0.441, train/loss_blurry_total=0, train/loss_clip_total=0.441, train/lr=0.000256, train/num_steps=900]"
     ]
    },
    {
     "name": "stdout",
     "output_type": "stream",
     "text": [
      "---\n"
     ]
    },
    {
     "name": "stderr",
     "output_type": "stream",
     "text": [
      " 30%|█████████████████████████████████████████████████████████████████████████████████████████████████████████████████████████████████████████████████████████████████████████████████████████████████████████████████████████████████████████████                                                                                                                                                                                                                                                                                                                                                                                                                                                                                                                                                                         | 9/30 [09:28<19:12, 54.88s/it, test/blurry_pixcorr=0, test/loss=3.19, test/loss_blurry_total=0, test/loss_clip_total=3.19, test/num_steps=10, test/test_bwd_pct_correct=0.347, test/test_fwd_pct_correct=0.347, train/blurry_pixcorr=0, train/bwd_pct_correct=0.711, train/fwd_pct_correct=0.661, train/loss=0.436, train/loss_blurry_total=0, train/loss_clip_total=0.436, train/lr=0.000244, train/num_steps=1000]"
     ]
    },
    {
     "name": "stdout",
     "output_type": "stream",
     "text": [
      "---\n"
     ]
    },
    {
     "name": "stderr",
     "output_type": "stream",
     "text": [
      " 33%|███████████████████████████████████████████████████████████████████████████████████████████████████████████████████████████████████████████████████████████████████████████████████████████████████████████████████████████████████████████████████████████████████████▎                                                                                                                                                                                                                                                                                                                                                                                                                                                                                                                                              | 10/30 [10:23<18:14, 54.70s/it, test/blurry_pixcorr=0, test/loss=3.08, test/loss_blurry_total=0, test/loss_clip_total=3.08, test/num_steps=11, test/test_bwd_pct_correct=0.377, test/test_fwd_pct_correct=0.333, train/blurry_pixcorr=0, train/bwd_pct_correct=0.715, train/fwd_pct_correct=0.664, train/loss=0.429, train/loss_blurry_total=0, train/loss_clip_total=0.429, train/lr=0.00023, train/num_steps=1100]"
     ]
    },
    {
     "name": "stdout",
     "output_type": "stream",
     "text": [
      "---\n"
     ]
    },
    {
     "name": "stderr",
     "output_type": "stream",
     "text": [
      " 37%|█████████████████████████████████████████████████████████████████████████████████████████████████████████████████████████████████████████████████████████████████████████████████████████████████████████████████████████████████████████████████████████████████████████████████████████████████▋                                                                                                                                                                                                                                                                                                                                                                                                                                                                                                                    | 11/30 [11:19<17:21, 54.82s/it, test/blurry_pixcorr=0, test/loss=3.14, test/loss_blurry_total=0, test/loss_clip_total=3.14, test/num_steps=12, test/test_bwd_pct_correct=0.417, test/test_fwd_pct_correct=0.36, train/blurry_pixcorr=0, train/bwd_pct_correct=0.707, train/fwd_pct_correct=0.659, train/loss=0.438, train/loss_blurry_total=0, train/loss_clip_total=0.438, train/lr=0.000215, train/num_steps=1200]"
     ]
    },
    {
     "name": "stdout",
     "output_type": "stream",
     "text": [
      "---\n"
     ]
    },
    {
     "name": "stderr",
     "output_type": "stream",
     "text": [
      " 40%|█████████████████████████████████████████████████████████████████████████████████████████████████████████████████████████████████████████████████████████████████████████████████████████████████████████████████████████████████████████████████████████████████████████████████████████████████████████████████████████████▏                                                                                                                                                                                                                                                                                                                                                                                                                                                                                           | 12/30 [12:13<16:28, 54.94s/it, test/blurry_pixcorr=0, test/loss=3.26, test/loss_blurry_total=0, test/loss_clip_total=3.26, test/num_steps=13, test/test_bwd_pct_correct=0.38, test/test_fwd_pct_correct=0.313, train/blurry_pixcorr=0, train/bwd_pct_correct=0.714, train/fwd_pct_correct=0.67, train/loss=0.426, train/loss_blurry_total=0, train/loss_clip_total=0.426, train/lr=0.0002, train/num_steps=1300]"
     ]
    },
    {
     "name": "stdout",
     "output_type": "stream",
     "text": [
      "---\n"
     ]
    },
    {
     "name": "stderr",
     "output_type": "stream",
     "text": [
      " 43%|██████████████████████████████████████████████████████████████████████████████████████████████████████████████████████████████████████████████████████████████████████████████████████████████████████████████████████████████████████████████████████████████████████████████████████████████████████████████████████████████████████████████████████▊                                                                                                                                                                                                                                                                                                                                                                                                                                                                | 13/30 [13:07<15:31, 54.77s/it, test/blurry_pixcorr=0, test/loss=3.25, test/loss_blurry_total=0, test/loss_clip_total=3.25, test/num_steps=14, test/test_bwd_pct_correct=0.39, test/test_fwd_pct_correct=0.343, train/blurry_pixcorr=0, train/bwd_pct_correct=0.707, train/fwd_pct_correct=0.66, train/loss=0.424, train/loss_blurry_total=0, train/loss_clip_total=0.424, train/lr=0.000184, train/num_steps=1400]"
     ]
    },
    {
     "name": "stdout",
     "output_type": "stream",
     "text": [
      "---\n"
     ]
    },
    {
     "name": "stderr",
     "output_type": "stream",
     "text": [
      " 47%|█████████████████████████████████████████████████████████████████████████████████████████████████████████████████████████████████████████████████████████████████████████████████████████████████████████████████████████████████████████████████████████████████████████████████████████████████████████████████████████████████████████████████████████████████████████████████▏                                                                                                                                                                                                                                                                                                                                                                                                                                     | 14/30 [14:01<14:32, 54.54s/it, test/blurry_pixcorr=0, test/loss=3.32, test/loss_blurry_total=0, test/loss_clip_total=3.32, test/num_steps=15, test/test_bwd_pct_correct=0.4, test/test_fwd_pct_correct=0.287, train/blurry_pixcorr=0, train/bwd_pct_correct=0.723, train/fwd_pct_correct=0.668, train/loss=0.403, train/loss_blurry_total=0, train/loss_clip_total=0.403, train/lr=0.000167, train/num_steps=1500]"
     ]
    },
    {
     "name": "stdout",
     "output_type": "stream",
     "text": [
      "---\n"
     ]
    },
    {
     "name": "stderr",
     "output_type": "stream",
     "text": [
      " 50%|███████████████████████████████████████████████████████████████████████████████████████████████████████████████████████████████████████████████████████████████████████████████████████████████████████████████████████████████████████████████████████████████████████████████████████████████████████████████████████████████████████████████████████████████████████████████████████████████████████████                                                                                                                                                                                                                                                                                                                                                                                                           | 15/30 [14:55<13:36, 54.40s/it, test/blurry_pixcorr=0, test/loss=3.37, test/loss_blurry_total=0, test/loss_clip_total=3.37, test/num_steps=16, test/test_bwd_pct_correct=0.393, test/test_fwd_pct_correct=0.303, train/blurry_pixcorr=0, train/bwd_pct_correct=0.713, train/fwd_pct_correct=0.659, train/loss=0.409, train/loss_blurry_total=0, train/loss_clip_total=0.409, train/lr=0.00015, train/num_steps=1600]"
     ]
    },
    {
     "name": "stdout",
     "output_type": "stream",
     "text": [
      "---\n"
     ]
    },
    {
     "name": "stderr",
     "output_type": "stream",
     "text": [
      " 53%|█████████████████████████████████████████████████████████████████████████████████████████████████████████████████████████████████████████████████████████████████████████████████████████████████████████████████████████████████████████████████████████████████████████████████████████████████████████████████████████████████████████████████████████████████████████████████████████████████████████████████████████████████████▎                                                                                                                                                                                                                                                                                                                                                                                | 16/30 [15:49<12:40, 54.30s/it, test/blurry_pixcorr=0, test/loss=3.39, test/loss_blurry_total=0, test/loss_clip_total=3.39, test/num_steps=17, test/test_bwd_pct_correct=0.36, test/test_fwd_pct_correct=0.357, train/blurry_pixcorr=0, train/bwd_pct_correct=0.713, train/fwd_pct_correct=0.659, train/loss=0.414, train/loss_blurry_total=0, train/loss_clip_total=0.414, train/lr=0.000133, train/num_steps=1700]"
     ]
    },
    {
     "name": "stdout",
     "output_type": "stream",
     "text": [
      "---\n"
     ]
    },
    {
     "name": "stderr",
     "output_type": "stream",
     "text": [
      " 57%|███████████████████████████████████████████████████████████████████████████████████████████████████████████████████████████████████████████████████████████████████████████████████████████████████████████████████████████████████████████████████████████████████████████████████████████████████████████████████████████████████████████████████████████████████████████████████████████████████████████████████████████████████████████████████████████████▋                                                                                                                                                                                                                                                                                                                                                      | 17/30 [16:44<11:45, 54.30s/it, test/blurry_pixcorr=0, test/loss=3.46, test/loss_blurry_total=0, test/loss_clip_total=3.46, test/num_steps=18, test/test_bwd_pct_correct=0.38, test/test_fwd_pct_correct=0.263, train/blurry_pixcorr=0, train/bwd_pct_correct=0.714, train/fwd_pct_correct=0.664, train/loss=0.403, train/loss_blurry_total=0, train/loss_clip_total=0.403, train/lr=0.000117, train/num_steps=1800]"
     ]
    },
    {
     "name": "stdout",
     "output_type": "stream",
     "text": [
      "---\n"
     ]
    },
    {
     "name": "stderr",
     "output_type": "stream",
     "text": [
      " 60%|██████████████████████████████████████████████████████████████████████████████████████████████████████████████████████████████████████████████████████████████████████████████████████████████████████████████████████████████████████████████████████████████████████████████████████████████████████████████████████████████████████████████████████████████████████████████████████████████████████████████████████████████████████████████████████████████████████████████████████████                                                                                                                                                                                                                                                                                                                            | 18/30 [17:38<10:52, 54.38s/it, test/blurry_pixcorr=0, test/loss=3.49, test/loss_blurry_total=0, test/loss_clip_total=3.49, test/num_steps=19, test/test_bwd_pct_correct=0.433, test/test_fwd_pct_correct=0.31, train/blurry_pixcorr=0, train/bwd_pct_correct=0.703, train/fwd_pct_correct=0.659, train/loss=0.424, train/loss_blurry_total=0, train/loss_clip_total=0.424, train/lr=0.000101, train/num_steps=1900]"
     ]
    },
    {
     "name": "stdout",
     "output_type": "stream",
     "text": [
      "---\n"
     ]
    },
    {
     "name": "stderr",
     "output_type": "stream",
     "text": [
      " 63%|███████████████████████████████████████████████████████████████████████████████████████████████████████████████████████████████████████████████████████████████████████████████████████████████████████████████████████████████████████████████████████████████████████████████████████████████████████████████████████████████████████████████████████████████████████████████████████████████████████████████████████████████████████████████████████████████████████████████████████████████████████████████████▋                                                                                                                                                                                                                                                                                                 | 19/30 [18:33<09:58, 54.43s/it, test/blurry_pixcorr=0, test/loss=3.55, test/loss_blurry_total=0, test/loss_clip_total=3.55, test/num_steps=20, test/test_bwd_pct_correct=0.407, test/test_fwd_pct_correct=0.53, train/blurry_pixcorr=0, train/bwd_pct_correct=0.947, train/fwd_pct_correct=0.948, train/loss=0.0869, train/loss_blurry_total=0, train/loss_clip_total=0.0869, train/lr=8.51e-5, train/num_steps=2000]"
     ]
    },
    {
     "name": "stdout",
     "output_type": "stream",
     "text": [
      "---\n"
     ]
    },
    {
     "name": "stderr",
     "output_type": "stream",
     "text": [
      " 67%|██████████████████████████████████████████████████████████████████████████████████████████████████████████████████████████████████████████████████████████████████████████████████████████████████████████████████████████████████████████████████████████████████████████████████████████████████████████████████████████████████████████████████████████████████████████████████████████████████████████████████████████████████████████████████████████████████████████████████████████████████████████████████████████████████████████████                                                                                                                                                                                                                                                                       | 20/30 [19:28<09:04, 54.49s/it, test/blurry_pixcorr=0, test/loss=3.39, test/loss_blurry_total=0, test/loss_clip_total=3.39, test/num_steps=21, test/test_bwd_pct_correct=0.43, test/test_fwd_pct_correct=0.593, train/blurry_pixcorr=0, train/bwd_pct_correct=0.952, train/fwd_pct_correct=0.952, train/loss=0.0788, train/loss_blurry_total=0, train/loss_clip_total=0.0788, train/lr=7.05e-5, train/num_steps=2100]"
     ]
    },
    {
     "name": "stdout",
     "output_type": "stream",
     "text": [
      "---\n"
     ]
    },
    {
     "name": "stderr",
     "output_type": "stream",
     "text": [
      " 70%|███████████████████████████████████████████████████████████████████████████████████████████████████████████████████████████████████████████████████████████████████████████████████████████████████████████████████████████████████████████████████████████████████████████████████████████████████████████████████████████████████████████████████████████████████████████████████████████████████████████████████████████████████████████████████████████████████████████████████████████████████████████████████████████████████████████████████████████████████████▌                                                                                                                                                                                                                                            | 21/30 [20:22<08:10, 54.50s/it, test/blurry_pixcorr=0, test/loss=3.17, test/loss_blurry_total=0, test/loss_clip_total=3.17, test/num_steps=22, test/test_bwd_pct_correct=0.457, test/test_fwd_pct_correct=0.627, train/blurry_pixcorr=0, train/bwd_pct_correct=0.946, train/fwd_pct_correct=0.946, train/loss=0.0852, train/loss_blurry_total=0, train/loss_clip_total=0.0852, train/lr=5.67e-5, train/num_steps=2200]"
     ]
    },
    {
     "name": "stdout",
     "output_type": "stream",
     "text": [
      "---\n"
     ]
    },
    {
     "name": "stderr",
     "output_type": "stream",
     "text": [
      " 73%|█████████████████████████████████████████████████████████████████████████████████████████████████████████████████████████████████████████████████████████████████████████████████████████████████████████████████████████████████████████████████████████████████████████████████████████████████████████████████████████████████████████████████████████████████████████████████████████████████████████████████████████████████████████████████████████████████████████████████████████████████████████████████████████████████████████████████████████████████████████████████████████████████▊                                                                                                                                                                                                                  | 22/30 [21:17<07:16, 54.58s/it, test/blurry_pixcorr=0, test/loss=2.97, test/loss_blurry_total=0, test/loss_clip_total=2.97, test/num_steps=23, test/test_bwd_pct_correct=0.473, test/test_fwd_pct_correct=0.617, train/blurry_pixcorr=0, train/bwd_pct_correct=0.952, train/fwd_pct_correct=0.952, train/loss=0.0753, train/loss_blurry_total=0, train/loss_clip_total=0.0753, train/lr=4.42e-5, train/num_steps=2300]"
     ]
    },
    {
     "name": "stdout",
     "output_type": "stream",
     "text": [
      "---\n"
     ]
    },
    {
     "name": "stderr",
     "output_type": "stream",
     "text": [
      " 77%|████████████████████████████████████████████████████████████████████████████████████████████████████████████████████████████████████████████████████████████████████████████████████████████████████████████████████████████████████████████████████████████████████████████████████████████████████████████████████████████████████████████████████████████████████████████████████████████████████████████████████████████████████████████████████████████████████████████████████████████████████████████████████████████████████████████████████████████████████████████████████████████████████████████████████████████▏                                                                                                                                                                                       | 23/30 [22:12<06:22, 54.63s/it, test/blurry_pixcorr=0, test/loss=2.76, test/loss_blurry_total=0, test/loss_clip_total=2.76, test/num_steps=24, test/test_bwd_pct_correct=0.503, test/test_fwd_pct_correct=0.597, train/blurry_pixcorr=0, train/bwd_pct_correct=0.947, train/fwd_pct_correct=0.947, train/loss=0.0792, train/loss_blurry_total=0, train/loss_clip_total=0.0792, train/lr=3.29e-5, train/num_steps=2400]"
     ]
    },
    {
     "name": "stdout",
     "output_type": "stream",
     "text": [
      "---\n"
     ]
    },
    {
     "name": "stderr",
     "output_type": "stream",
     "text": [
      " 80%|█████████████████████████████████████████████████████████████████████████████████████████████████████████████████████████████████████████████████████████████████████████████████████████████████████████████████████████████████████████████████████████████████████████████████████████████████████████████████████████████████████████████████████████████████████████████████████████████████████████████████████████████████████████████████████████████████████████████████████████████████████████████████████████████████████████████████████████████████████████████████████████████████████████████████████████████████████████████████████████▌                                                                                                                                                              | 24/30 [23:06<05:28, 54.74s/it, test/blurry_pixcorr=0, test/loss=2.6, test/loss_blurry_total=0, test/loss_clip_total=2.6, test/num_steps=25, test/test_bwd_pct_correct=0.523, test/test_fwd_pct_correct=0.597, train/blurry_pixcorr=0, train/bwd_pct_correct=0.95, train/fwd_pct_correct=0.95, train/loss=0.0741, train/loss_blurry_total=0, train/loss_clip_total=0.0741, train/lr=2.32e-5, train/num_steps=2500]"
     ]
    },
    {
     "name": "stdout",
     "output_type": "stream",
     "text": [
      "---\n"
     ]
    },
    {
     "name": "stderr",
     "output_type": "stream",
     "text": [
      " 83%|██████████████████████████████████████████████████████████████████████████████████████████████████████████████████████████████████████████████████████████████████████████████████████████████████████████████████████████████████████████████████████████████████████████████████████████████████████████████████████████████████████████████████████████████████████████████████████████████████████████████████████████████████████████████████████████████████████████████████████████████████████████████████████████████████████████████████████████████████████████████████████████████████████████████████████████████████████████████████████████████████████████████████▎                                                                                                                                   | 25/30 [24:01<04:33, 54.61s/it, test/blurry_pixcorr=0, test/loss=2.48, test/loss_blurry_total=0, test/loss_clip_total=2.48, test/num_steps=26, test/test_bwd_pct_correct=0.533, test/test_fwd_pct_correct=0.58, train/blurry_pixcorr=0, train/bwd_pct_correct=0.942, train/fwd_pct_correct=0.943, train/loss=0.0851, train/loss_blurry_total=0, train/loss_clip_total=0.0851, train/lr=1.5e-5, train/num_steps=2600]"
     ]
    },
    {
     "name": "stdout",
     "output_type": "stream",
     "text": [
      "---\n"
     ]
    },
    {
     "name": "stderr",
     "output_type": "stream",
     "text": [
      " 87%|████████████████████████████████████████████████████████████████████████████████████████████████████████████████████████████████████████████████████████████████████████████████████████████████████████████████████████████████████████████████████████████████████████████████████████████████████████████████████████████████████████████████████████████████████████████████████████████████████████████████████████████████████████████████████████████████████████████████████████████████████████████████████████████████████████████████████████████████████████████████████████████████████████████████████████████████████████████████████████████████████████████████████████████████████████████▋                                                                                                         | 26/30 [24:54<03:37, 54.44s/it, test/blurry_pixcorr=0, test/loss=2.4, test/loss_blurry_total=0, test/loss_clip_total=2.4, test/num_steps=27, test/test_bwd_pct_correct=0.523, test/test_fwd_pct_correct=0.587, train/blurry_pixcorr=0, train/bwd_pct_correct=0.947, train/fwd_pct_correct=0.947, train/loss=0.0796, train/loss_blurry_total=0, train/loss_clip_total=0.0796, train/lr=8.54e-6, train/num_steps=2700]"
     ]
    },
    {
     "name": "stdout",
     "output_type": "stream",
     "text": [
      "---\n"
     ]
    },
    {
     "name": "stderr",
     "output_type": "stream",
     "text": [
      " 90%|██████████████████████████████████████████████████████████████████████████████████████████████████████████████████████████████████████████████████████████████████████████████████████████████████████████████████████████████████████████████████████████████████████████████████████████████████████████████████████████████████████████████████████████████████████████████████████████████████████████████████████████████████████████████████████████████████████████████████████████████████████████████████████████████████████████████████████████████████████████████████████████████████████████████████████████████████████████████████████████████████████████████████████████████████████████████████████████████████████                                                                               | 27/30 [25:49<02:42, 54.30s/it, test/blurry_pixcorr=0, test/loss=2.36, test/loss_blurry_total=0, test/loss_clip_total=2.36, test/num_steps=28, test/test_bwd_pct_correct=0.52, test/test_fwd_pct_correct=0.583, train/blurry_pixcorr=0, train/bwd_pct_correct=0.944, train/fwd_pct_correct=0.944, train/loss=0.0841, train/loss_blurry_total=0, train/loss_clip_total=0.0841, train/lr=3.85e-6, train/num_steps=2800]"
     ]
    },
    {
     "name": "stdout",
     "output_type": "stream",
     "text": [
      "---\n"
     ]
    },
    {
     "name": "stderr",
     "output_type": "stream",
     "text": [
      " 93%|█████████████████████████████████████████████████████████████████████████████████████████████████████████████████████████████████████████████████████████████████████████████████████████████████████████████████████████████████████████████████████████████████████████████████████████████████████████████████████████████████████████████████████████████████████████████████████████████████████████████████████████████████████████████████████████████████████████████████████████████████████████████████████████████████████████████████████████████████████████████████████████████████████████████████████████████████████████████████████████████████████████████████████████████████████████████████████████████████████████████████████████████████▎                                                    | 28/30 [26:43<01:48, 54.22s/it, test/blurry_pixcorr=0, test/loss=2.34, test/loss_blurry_total=0, test/loss_clip_total=2.34, test/num_steps=29, test/test_bwd_pct_correct=0.52, test/test_fwd_pct_correct=0.58, train/blurry_pixcorr=0, train/bwd_pct_correct=0.942, train/fwd_pct_correct=0.943, train/loss=0.0866, train/loss_blurry_total=0, train/loss_clip_total=0.0866, train/lr=9.93e-7, train/num_steps=2900]"
     ]
    },
    {
     "name": "stdout",
     "output_type": "stream",
     "text": [
      "---\n"
     ]
    },
    {
     "name": "stderr",
     "output_type": "stream",
     "text": [
      " 97%|██████████████████████████████████████████████████████████████████████████████████████████████████████████████████████████████████████████████████████████████████████████████████████████████████████████████████████████████████████████████████████████████████████████████████████████████████████████████████████████████████████████████████████████████████████████████████████████████████████████████████████████████████████████████████████████████████████████████████████████████████████████████████████████████████████████████████████████████████████████████████████████████████████████████████████████████████████████████████████████████████████████████████████████████████████████████████████████████████████████████████████████████████████████████████████████▋                          | 29/30 [27:37<00:54, 54.18s/it, test/blurry_pixcorr=0, test/loss=2.34, test/loss_blurry_total=0, test/loss_clip_total=2.34, test/num_steps=30, test/test_bwd_pct_correct=0.52, test/test_fwd_pct_correct=0.583, train/blurry_pixcorr=0, train/bwd_pct_correct=0.949, train/fwd_pct_correct=0.949, train/loss=0.0775, train/loss_blurry_total=0, train/loss_clip_total=0.0775, train/lr=1.24e-8, train/num_steps=3000]"
     ]
    },
    {
     "name": "stdout",
     "output_type": "stream",
     "text": [
      "---\n"
     ]
    },
    {
     "name": "stderr",
     "output_type": "stream",
     "text": [
      "100%|█████████████████████████████████████████████████████████████████████████████████████████████████████████████████████████████████████████████████████████████████████████████████████████████████████████████████████████████████████████████████████████████████████████████████████████████████████████████████████████████████████████████████████████████████████████████████████████████████████████████████████████████████████████████████████████████████████████████████████████████████████████████████████████████████████████████████████████████████████████████████████████████████████████████████████████████████████████████████████████████████████████████████████████████████████████████████████████████████████████████████████████████████████████████████████████████████████████████████████| 30/30 [27:37<00:00, 55.25s/it, test/blurry_pixcorr=0, test/loss=2.34, test/loss_blurry_total=0, test/loss_clip_total=2.34, test/num_steps=30, test/test_bwd_pct_correct=0.52, test/test_fwd_pct_correct=0.583, train/blurry_pixcorr=0, train/bwd_pct_correct=0.949, train/fwd_pct_correct=0.949, train/loss=0.0775, train/loss_blurry_total=0, train/loss_clip_total=0.0775, train/lr=1.24e-8, train/num_steps=3000]"
     ]
    },
    {
     "name": "stdout",
     "output_type": "stream",
     "text": [
      "\n",
      "===Finished!===\n",
      "\n"
     ]
    },
    {
     "name": "stderr",
     "output_type": "stream",
     "text": [
      "\n"
     ]
    }
   ],
   "source": [
    "print(f\"{model_name} starting with epoch {epoch} / {num_epochs}\")\n",
    "progress_bar = tqdm(range(epoch,num_epochs), ncols=1200, disable=(local_rank!=0))\n",
    "test_image, test_voxel = None, None\n",
    "mse = nn.MSELoss()\n",
    "l1 = nn.L1Loss()\n",
    "\n",
    "for epoch in progress_bar:\n",
    "    model.train()\n",
    "    \n",
    "    fwd_percent_correct = 0.\n",
    "    bwd_percent_correct = 0.\n",
    "    test_fwd_percent_correct = 0.\n",
    "    test_bwd_percent_correct = 0.\n",
    "\n",
    "    loss_clip_total = 0.\n",
    "    loss_blurry_total = 0.\n",
    "    test_loss_clip_total = 0.\n",
    "    test_loss_blurry_total = 0.\n",
    "\n",
    "    blurry_pixcorr = 0.\n",
    "    test_blurry_pixcorr = 0. # needs >.456 to beat low-level subj01 results in mindeye v1\n",
    "    \n",
    "    for train_i, (behav, past_behav, future_behav, old_behav) in enumerate(train_dl):\n",
    "        with torch.cuda.amp.autocast(dtype=data_type):\n",
    "            optimizer.zero_grad()\n",
    "    \n",
    "            voxel = voxels[behav[:,0,5].cpu().long()].to(device)\n",
    "            image = images[behav[:,0,0].cpu().long()].to(device).float()\n",
    "            action = behav[:, 0, target_behaviours].to(device).half() # batch, len(target_behaviours)\n",
    "\n",
    "            if seq_len > 1:\n",
    "                past_behavior = past_behav[:,:(seq_len-1),5].cpu().long()\n",
    "                past_voxel = voxels[past_behavior]\n",
    "                if torch.any(past_behavior==-1).item(): # remove invalid voxels (-1 if there is no timepoint available)\n",
    "                    past_voxel[torch.where(past_behavior==-1)[0]] = 0\n",
    "                past_voxel = torch.Tensor(past_voxel).to(data_type).to(device)\n",
    "    \n",
    "            if blurry_recon:\n",
    "                # using pixellated blurry ground truth references seems to do better than gaussian blur\n",
    "                rand = np.random.rand() \n",
    "                if rand > .66: # using different interpolation sizes for data augmentation\n",
    "                    blurry_image = utils.resize(nn.functional.interpolate(image, size=(8, 8), mode='bilinear', align_corners=False),128)\n",
    "                elif rand > .33:\n",
    "                    blurry_image = utils.resize(nn.functional.interpolate(image, size=(12, 12), mode='bilinear', align_corners=False),128)\n",
    "                else:\n",
    "                    blurry_image = utils.resize(nn.functional.interpolate(image, size=(24, 24), mode='bilinear', align_corners=False), 128)\n",
    "                # blurry_image = utils.add_saturation(blurry_image) # PS: I'm not sure that this helps\n",
    "                blurry_image_enc = autoenc.encode(2*blurry_image-1).latent_dist.mode() * 0.18215\n",
    "            \n",
    "            if use_image_aug: \n",
    "                image = img_augment(image)\n",
    "    \n",
    "            clip_target = clip_model.embed_image(image)\n",
    "            assert not torch.any(torch.isnan(clip_target))\n",
    "    \n",
    "            if epoch < int(mixup_pct * num_epochs):\n",
    "                voxel, perm, betas, select = utils.mixco(voxel)\n",
    "    \n",
    "            voxel_ridge = model.ridge(voxel)\n",
    "\n",
    "            if seq_len > 1:\n",
    "                past_voxel_ridge = model.ridge(past_voxel)\n",
    "                voxel_ridge = torch.cat((voxel_ridge, past_voxel_ridge), axis=1)\n",
    "            clip_voxels, blurry_image_enc_ = model.backbone(voxel_ridge, action)\n",
    "            # clip_voxels, blurry_image_enc_ = model.backbone(voxel_ridge)\n",
    "            \n",
    "            clip_voxels_norm = nn.functional.normalize(clip_voxels.flatten(1), dim=-1)\n",
    "            clip_target_norm = nn.functional.normalize(clip_target.flatten(1), dim=-1)\n",
    "    \n",
    "            if epoch < int(mixup_pct * num_epochs):\n",
    "                loss_clip = utils.mixco_nce(\n",
    "                    clip_voxels_norm,\n",
    "                    clip_target_norm,\n",
    "                    temp=.006, \n",
    "                    perm=perm, betas=betas, select=select)\n",
    "            else:\n",
    "                epoch_temp = soft_loss_temps[epoch-int(mixup_pct*num_epochs)]\n",
    "                loss_clip = utils.soft_clip_loss(\n",
    "                    clip_voxels_norm,\n",
    "                    clip_target_norm,\n",
    "                    temp=epoch_temp)\n",
    "\n",
    "            loss_clip_total += loss_clip.item()\n",
    "            loss_clip *= clip_scale\n",
    "            loss = loss_clip\n",
    "    \n",
    "            if blurry_recon:\n",
    "                loss_blurry = l1(blurry_image_enc_, blurry_image_enc)\n",
    "                loss_blurry_total += loss_blurry.item()\n",
    "                loss_blurry *= blur_scale\n",
    "                loss += loss_blurry\n",
    "    \n",
    "            # forward and backward top 1 accuracy        \n",
    "            labels = torch.arange(len(clip_target_norm)).to(clip_voxels_norm.device) \n",
    "            fwd_percent_correct += utils.topk(torch.abs(utils.batchwise_cosine_similarity(clip_voxels_norm, clip_target_norm)), labels, k=1).item()\n",
    "            bwd_percent_correct += utils.topk(torch.abs(utils.batchwise_cosine_similarity(clip_target_norm, clip_voxels_norm)), labels, k=1).item()\n",
    "    \n",
    "            if blurry_recon:\n",
    "                with torch.no_grad():\n",
    "                    # only doing pixcorr eval on a subset of the samples per batch because its costly & slow to compute autoenc.decode()\n",
    "                    random_samps = np.random.choice(np.arange(len(voxel)), size=batch_size//5, replace=False)\n",
    "                    blurry_recon_images = (autoenc.decode(blurry_image_enc_[random_samps]/0.18215).sample/ 2 + 0.5).clamp(0,1)\n",
    "                    pixcorr = utils.pixcorr(image[random_samps], blurry_recon_images)\n",
    "                    blurry_pixcorr += pixcorr.item()\n",
    "\n",
    "            utils.check_loss(loss)\n",
    "            accelerator.backward(loss)\n",
    "            optimizer.step()\n",
    "    \n",
    "            losses.append(loss.item())\n",
    "            lrs.append(optimizer.param_groups[0]['lr'])\n",
    "    \n",
    "            if lr_scheduler_type is not None:\n",
    "                lr_scheduler.step()\n",
    "\n",
    "    model.eval()\n",
    "    if local_rank==0:\n",
    "        with torch.no_grad(), torch.cuda.amp.autocast(dtype=data_type): \n",
    "            for test_i, (behav, past_behav, future_behav, old_behav) in enumerate(test_dl):  \n",
    "                # all test samples should be loaded per batch such that test_i should never exceed 0\n",
    "                assert len(behav) == num_test\n",
    "                \n",
    "                ## Average same-image repeats ##\n",
    "                if test_image is None:\n",
    "                    voxel = voxels[behav[:,0,5].cpu().long()]\n",
    "                    action = behav[:, 0, target_behaviours].half()\n",
    "\n",
    "                    if seq_len > 1:\n",
    "                        past_behavior = past_behav[:,:(seq_len-1),5].cpu().long()\n",
    "                        past_voxel = voxels[past_behavior]\n",
    "                        if torch.any(past_behavior==-1).item(): # remove invalid voxels (-1 if there is no timepoint available)\n",
    "                            past_voxel[torch.where(past_behavior==-1)[0]] = 0\n",
    "                        past_voxel = torch.Tensor(past_voxel).to(data_type)\n",
    "                \n",
    "                    image = behav[:,0,0].cpu().long()\n",
    "                \n",
    "                    unique_image = torch.unique(image)\n",
    "                    for im in unique_image:\n",
    "                        locs = torch.where(im == image)[0]\n",
    "                        if len(locs)==1:\n",
    "                            locs = locs.repeat(3)\n",
    "                        elif len(locs)==2:\n",
    "                            locs = locs.repeat(2)[:3]\n",
    "                        assert len(locs)==3\n",
    "                        if test_image is None:\n",
    "                            test_image = images[im][None]\n",
    "                            test_voxel = voxel[locs][None]\n",
    "                            test_action = action[locs][None]\n",
    "                            if seq_len > 1:\n",
    "                                test_past_voxel = past_voxel[locs][None]\n",
    "                        else:\n",
    "                            test_image = torch.vstack((test_image, images[im][None]))\n",
    "                            test_voxel = torch.vstack((test_voxel, voxel[locs][None]))\n",
    "                            test_action = torch.vstack((test_action, action[locs][None]))\n",
    "                            if seq_len > 1:\n",
    "                                test_past_voxel = torch.vstack((test_past_voxel, past_voxel[locs][None]))\n",
    "    \n",
    "                # validation sample of 300\n",
    "                val_indices = torch.arange(len(test_voxel))[:test_batch_size]\n",
    "                voxel = test_voxel[val_indices].to(device)\n",
    "                action = test_action[val_indices].to(device)\n",
    "                if seq_len > 1: past_voxel = test_past_voxel[val_indices].to(device)\n",
    "                image = test_image[val_indices].to(device)\n",
    "                assert len(image) == 300\n",
    "                \n",
    "                for rep in range(3):\n",
    "                    voxel_ridge = model.ridge(voxel[:,rep])\n",
    "                    if seq_len > 1:\n",
    "                        past_voxel_ridge = model.ridge(past_voxel[:,rep])\n",
    "                        voxel_ridge = torch.cat((voxel_ridge, past_voxel_ridge), axis=1)\n",
    "                    # clip_voxels0, blurry_image_enc_0 = model.backbone(voxel_ridge)\n",
    "                    clip_voxels0, blurry_image_enc_0 = model.backbone(voxel_ridge, action[:,rep])\n",
    "                    if rep==0:\n",
    "                        clip_voxels = clip_voxels0\n",
    "                        if blurry_recon: blurry_image_enc_ = blurry_image_enc_0\n",
    "                    else:\n",
    "                        clip_voxels += clip_voxels0\n",
    "                        if blurry_recon: blurry_image_enc_ += blurry_image_enc_0\n",
    "                clip_voxels /= 3\n",
    "                if blurry_recon: \n",
    "                    blurry_image_enc_ /= 3\n",
    "                    blurry_image_enc = autoenc.encode(2*utils.resize(image,128)-1).latent_dist.mode() * 0.18215\n",
    "            \n",
    "                clip_target = clip_model.embed_image(image.float())\n",
    "    \n",
    "                clip_voxels_norm = nn.functional.normalize(clip_voxels.flatten(1), dim=-1)\n",
    "                clip_target_norm = nn.functional.normalize(clip_target.flatten(1), dim=-1)\n",
    "        \n",
    "                loss_clip = utils.soft_clip_loss(\n",
    "                    clip_voxels_norm,\n",
    "                    clip_target_norm,\n",
    "                    temp=.006)\n",
    "                test_loss_clip_total += loss_clip.item()\n",
    "                loss_clip = loss_clip * clip_scale\n",
    "                loss = loss_clip\n",
    "\n",
    "                if blurry_recon:\n",
    "                    loss_blurry = l1(blurry_image_enc_, blurry_image_enc)\n",
    "                    test_loss_blurry_total += loss_blurry.item()\n",
    "                    loss_blurry *= blur_scale\n",
    "                    loss += loss_blurry\n",
    "    \n",
    "                    # halving the batch size because the decoder is computationally heavy\n",
    "                    blurry_recon_images = (autoenc.decode(blurry_image_enc_[:len(voxel)//2]/0.18215).sample / 2 + 0.5).clamp(0,1)\n",
    "                    blurry_recon_images = torch.vstack((blurry_recon_images, (autoenc.decode(blurry_image_enc_[len(voxel)//2:]/0.18215).sample / 2 + 0.5).clamp(0,1)))\n",
    "                    pixcorr = utils.pixcorr(image, blurry_recon_images)\n",
    "                    test_blurry_pixcorr += pixcorr.item()\n",
    "        \n",
    "                # forward and backward top 1 accuracy        \n",
    "                labels = torch.arange(len(clip_target_norm)).to(clip_voxels_norm.device) \n",
    "                test_fwd_percent_correct += utils.topk(utils.batchwise_cosine_similarity(clip_voxels_norm, clip_target_norm), labels, k=1).item()\n",
    "                test_bwd_percent_correct += utils.topk(utils.batchwise_cosine_similarity(clip_target_norm, clip_voxels_norm), labels, k=1).item()\n",
    "\n",
    "                utils.check_loss(loss)                \n",
    "                test_losses.append(loss.item())\n",
    "\n",
    "            print(\"---\")\n",
    "            \n",
    "            assert (test_i+1) == 1\n",
    "            logs = {\"train/loss\": np.mean(losses[-(train_i+1):]),\n",
    "                \"test/loss\": np.mean(test_losses[-(test_i+1):]),\n",
    "                \"train/lr\": lrs[-1],\n",
    "                \"train/num_steps\": len(losses),\n",
    "                \"test/num_steps\": len(test_losses),\n",
    "                \"train/fwd_pct_correct\": fwd_percent_correct / (train_i + 1),\n",
    "                \"train/bwd_pct_correct\": bwd_percent_correct / (train_i + 1),\n",
    "                \"test/test_fwd_pct_correct\": test_fwd_percent_correct / (test_i + 1),\n",
    "                \"test/test_bwd_pct_correct\": test_bwd_percent_correct / (test_i + 1),\n",
    "                \"train/loss_clip_total\": loss_clip_total / (train_i + 1),\n",
    "                \"train/loss_blurry_total\": loss_blurry_total / (train_i + 1),\n",
    "                \"test/loss_clip_total\": test_loss_clip_total / (test_i + 1),\n",
    "                \"test/loss_blurry_total\": test_loss_blurry_total / (test_i + 1),\n",
    "                \"train/blurry_pixcorr\": blurry_pixcorr / (train_i + 1),\n",
    "                \"test/blurry_pixcorr\": test_blurry_pixcorr / (test_i + 1),\n",
    "                }\n",
    "    \n",
    "            if blurry_recon:    \n",
    "                # transform blurry recon latents to images and plot it\n",
    "                fig, axes = plt.subplots(1, 8, figsize=(10, 4))\n",
    "                jj=-1\n",
    "                for j in [0,1,2,3]:\n",
    "                    jj+=1\n",
    "                    axes[jj].imshow(utils.torch_to_Image((autoenc.decode(blurry_image_enc[[j]]/0.18215).sample / 2 + 0.5).clamp(0,1)))\n",
    "                    axes[jj].axis('off')\n",
    "                    jj+=1\n",
    "                    axes[jj].imshow(utils.torch_to_Image((autoenc.decode(blurry_image_enc_[[j]]/0.18215).sample / 2 + 0.5).clamp(0,1)))\n",
    "                    axes[jj].axis('off')\n",
    "                \n",
    "                if wandb_log:\n",
    "                    logs[f\"test/recons\"] = wandb.Image(fig, caption=f\"epoch{epoch:03d}\")\n",
    "                    plt.close()\n",
    "                else:\n",
    "                    plt.show()\n",
    "            \n",
    "            progress_bar.set_postfix(**logs)\n",
    "    \n",
    "            # Save model checkpoint and reconstruct\n",
    "            if epoch % ckpt_interval == 0 and ckpt_saving:\n",
    "                if not utils.is_interactive():\n",
    "                    save_ckpt(f'last')\n",
    "                    \n",
    "            if wandb_log: wandb.log(logs)\n",
    "\n",
    "    # wait for other GPUs to catch up if needed\n",
    "    accelerator.wait_for_everyone()\n",
    "    torch.cuda.empty_cache()\n",
    "    gc.collect()\n",
    "\n",
    "print(\"\\n===Finished!===\\n\")\n",
    "if ckpt_saving:\n",
    "    save_ckpt(f'last')\n",
    "if not utils.is_interactive():\n",
    "    sys.exit(0)"
   ]
  },
  {
   "cell_type": "code",
   "execution_count": 25,
   "id": "93e87fde-815d-4452-9915-f5f5dacf7c2a",
   "metadata": {},
   "outputs": [
    {
     "data": {
      "image/png": "[encoded data removed]",
      "text/plain": [
       "<Figure size 640x480 with 1 Axes>"
      ]
     },
     "metadata": {},
     "output_type": "display_data"
    },
    {
     "data": {
      "image/png": "[encoded data removed]",
      "text/plain": [
       "<Figure size 640x480 with 1 Axes>"
      ]
     },
     "metadata": {},
     "output_type": "display_data"
    }
   ],
   "source": [
    "plt.plot(losses)\n",
    "plt.show()\n",
    "plt.plot(test_losses)\n",
    "plt.show()"
   ]
  },
  {
   "cell_type": "code",
   "execution_count": null,
   "id": "c668cddf-ec92-4f35-a6a3-46708abda233",
   "metadata": {},
   "outputs": [],
   "source": []
  },
  {
   "cell_type": "code",
   "execution_count": null,
   "id": "41a80d5c-5713-405e-94ee-d0119fa05ae4",
   "metadata": {},
   "outputs": [],
   "source": []
  }
 ],
 "metadata": {
  "kernelspec": {
   "display_name": "Python 3 (ipykernel)",
   "language": "python",
   "name": "python3"
  },
  "language_info": {
   "codemirror_mode": {
    "name": "ipython",
    "version": 3
   },
   "file_extension": ".py",
   "mimetype": "text/x-python",
   "name": "python",
   "nbconvert_exporter": "python",
   "pygments_lexer": "ipython3",
   "version": "3.10.8"
  },
  "toc": {
   "base_numbering": 1,
   "nav_menu": {},
   "number_sections": true,
   "sideBar": true,
   "skip_h1_title": false,
   "title_cell": "Table of Contents",
   "title_sidebar": "Contents",
   "toc_cell": false,
   "toc_position": {
    "height": "calc(100% - 180px)",
    "left": "10px",
    "top": "150px",
    "width": "165px"
   },
   "toc_section_display": true,
   "toc_window_display": true
  },
  "toc-autonumbering": true,
  "vscode": {
   "interpreter": {
    "hash": "62aae01ef0cf7b6af841ab1c8ce59175c4332e693ab3d00bc32ceffb78a35376"
   }
  }
 },
 "nbformat": 4,
 "nbformat_minor": 5
}
