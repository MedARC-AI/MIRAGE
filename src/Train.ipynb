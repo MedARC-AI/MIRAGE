{
 "cells": [
  {
   "cell_type": "markdown",
   "id": "b0f0f4f3",
   "metadata": {},
   "source": [
    "# Import packages & functions"
   ]
  },
  {
   "cell_type": "code",
   "execution_count": 1,
   "id": "5bad764b-45c1-45ce-a716-8d055e09821a",
   "metadata": {
    "tags": []
   },
   "outputs": [],
   "source": [
    "import os\n",
    "import sys\n",
    "import json\n",
    "import argparse\n",
    "import numpy as np\n",
    "import math\n",
    "from einops import rearrange\n",
    "import time\n",
    "import random\n",
    "import string\n",
    "import h5py\n",
    "from tqdm import tqdm\n",
    "import webdataset as wds\n",
    "import gc\n",
    "\n",
    "import matplotlib.pyplot as plt\n",
    "import torch\n",
    "import torch.nn as nn\n",
    "from torchvision import transforms\n",
    "from accelerate import Accelerator\n",
    "\n",
    "# SDXL unCLIP requires code from https://github.com/Stability-AI/generative-models/tree/main\n",
    "sys.path.append('generative_models/')\n",
    "import sgm\n",
    "from generative_models.sgm.modules.encoders.modules import FrozenOpenCLIPImageEmbedder # bigG embedder\n",
    "\n",
    "# tf32 data type is faster than standard float32\n",
    "torch.backends.cuda.matmul.allow_tf32 = True\n",
    "\n",
    "# custom functions #\n",
    "import utils"
   ]
  },
  {
   "cell_type": "code",
   "execution_count": 2,
   "id": "cc5d2e32-6027-4a19-bef4-5ca068db35bb",
   "metadata": {
    "tags": []
   },
   "outputs": [
    {
     "name": "stdout",
     "output_type": "stream",
     "text": [
      "LOCAL RANK  0\n"
     ]
    }
   ],
   "source": [
    "### Multi-GPU config ###\n",
    "local_rank = os.getenv('RANK')\n",
    "if local_rank is None: \n",
    "    local_rank = 0\n",
    "else:\n",
    "    local_rank = int(local_rank)\n",
    "print(\"LOCAL RANK \", local_rank)  \n",
    "\n",
    "data_type = torch.float16 # change depending on your mixed_precision\n",
    "num_devices = torch.cuda.device_count()\n",
    "if num_devices==0: num_devices = 1\n",
    "\n",
    "# First use \"accelerate config\" in terminal and setup using deepspeed stage 2 with CPU offloading!\n",
    "accelerator = Accelerator(split_batches=False, mixed_precision=\"fp16\")\n",
    "if utils.is_interactive(): # set batch size here if using interactive notebook instead of submitting job\n",
    "    global_batch_size = batch_size = 8\n",
    "else:\n",
    "    global_batch_size = os.environ[\"GLOBAL_BATCH_SIZE\"]\n",
    "    batch_size = int(os.environ[\"GLOBAL_BATCH_SIZE\"]) // num_devices"
   ]
  },
  {
   "cell_type": "code",
   "execution_count": 3,
   "id": "b767ab6f-d4a9-47a5-b3bf-f56bf6760c0c",
   "metadata": {
    "tags": []
   },
   "outputs": [
    {
     "name": "stdout",
     "output_type": "stream",
     "text": [
      "PID of this process = 2728105\n",
      "device: cuda\n",
      "Distributed environment: DistributedType.NO\n",
      "Num processes: 1\n",
      "Process index: 0\n",
      "Local process index: 0\n",
      "Device: cuda\n",
      "\n",
      "Mixed precision type: fp16\n",
      "\n",
      "distributed = False num_devices = 1 local rank = 0 world size = 1 data_type = torch.float16\n"
     ]
    }
   ],
   "source": [
    "print(\"PID of this process =\",os.getpid())\n",
    "device = accelerator.device\n",
    "print(\"device:\",device)\n",
    "world_size = accelerator.state.num_processes\n",
    "distributed = not accelerator.state.distributed_type == 'NO'\n",
    "num_devices = torch.cuda.device_count()\n",
    "if num_devices==0 or not distributed: num_devices = 1\n",
    "num_workers = num_devices\n",
    "print(accelerator.state)\n",
    "\n",
    "print(\"distributed =\",distributed, \"num_devices =\", num_devices, \"local rank =\", local_rank, \"world size =\", world_size, \"data_type =\", data_type)\n",
    "print = accelerator.print # only print if local_rank=0"
   ]
  },
  {
   "cell_type": "markdown",
   "id": "9018b82b-c054-4463-9527-4b0c2a75bda6",
   "metadata": {
    "tags": []
   },
   "source": [
    "# Configurations"
   ]
  },
  {
   "cell_type": "code",
   "execution_count": 4,
   "id": "2b61fec7-72a0-4b67-86da-1375f1d9fbd3",
   "metadata": {
    "tags": []
   },
   "outputs": [
    {
     "name": "stdout",
     "output_type": "stream",
     "text": [
      "model_name: base\n",
      "--data_path=/weka/proj-fmri/shared/mindeyev2_dataset                     --cache_dir=/weka/proj-fmri/shared/cache                     --model_name=base                     --no-multi_subject --subj=1 --batch_size=8 --num_sessions=3                     --hidden_dim=1024 --clip_scale=1.                     --no-blurry_recon --blur_scale=.5                      --seq_past=0 --seq_future=0                     --use_prior --prior_scale=30                     --n_blocks=4 --max_lr=3e-4 --mixup_pct=.33 --num_epochs=150 --no-use_image_aug                     --ckpt_interval=1 --ckpt_saving --wandb_log --multisubject_ckpt=../train_logs/multisubject_subj01_1024_24bs_nolow\n"
     ]
    }
   ],
   "source": [
    "# if running this interactively, can specify jupyter_args here for argparser to use\n",
    "if utils.is_interactive():\n",
    "    model_name = \"base\"\n",
    "    print(\"model_name:\", model_name)\n",
    "    \n",
    "    # global_batch_size and batch_size should already be defined in the 2nd cell block\n",
    "    jupyter_args = f\"--data_path=/weka/proj-fmri/shared/mindeyev2_dataset \\\n",
    "                    --cache_dir=/weka/proj-fmri/shared/cache \\\n",
    "                    --model_name={model_name} \\\n",
    "                    --no-multi_subject --subj=1 --batch_size={batch_size} --num_sessions=3 \\\n",
    "                    --hidden_dim=1024 --clip_scale=1. \\\n",
    "                    --no-blurry_recon --blur_scale=.5  \\\n",
    "                    --seq_past=0 --seq_future=0 \\\n",
    "                    --use_prior --prior_scale=30 \\\n",
    "                    --n_blocks=4 --max_lr=3e-4 --mixup_pct=.33 --num_epochs=150 --no-use_image_aug \\\n",
    "                    --ckpt_interval=1 --ckpt_saving --wandb_log\"\n",
    "\n",
    "    print(jupyter_args)\n",
    "    jupyter_args = jupyter_args.split()\n",
    "    \n",
    "    from IPython.display import clear_output # function to clear print outputs in cell\n",
    "    %load_ext autoreload \n",
    "    # this allows you to change functions in models.py or utils.py and have this notebook automatically update with your revisions\n",
    "    %autoreload 2 "
   ]
  },
  {
   "cell_type": "code",
   "execution_count": 5,
   "id": "2028bdf0-2f41-46d9-b6e7-86b870dbf16c",
   "metadata": {
    "tags": []
   },
   "outputs": [
    {
     "name": "stdout",
     "output_type": "stream",
     "text": [
      "subj_list [1] num_sessions 3\n"
     ]
    }
   ],
   "source": [
    "parser = argparse.ArgumentParser(description=\"Model Training Configuration\")\n",
    "parser.add_argument(\n",
    "    \"--model_name\", type=str, default=\"testing\",\n",
    "    help=\"name of model, used for ckpt saving and wandb logging (if enabled)\",\n",
    ")\n",
    "parser.add_argument(\n",
    "    \"--data_path\", type=str, default=os.getcwd(),\n",
    "    help=\"Path to where NSD data is stored / where to download it to\",\n",
    ")\n",
    "parser.add_argument(\n",
    "    \"--cache_dir\", type=str, default=os.getcwd(),\n",
    "    help=\"Path to where misc. files downloaded from huggingface are stored. Defaults to current src directory.\",\n",
    ")\n",
    "parser.add_argument(\n",
    "    \"--subj\",type=int, default=1, choices=[1,2,3,4,5,6,7,8],\n",
    "    help=\"Validate on which subject?\",\n",
    ")\n",
    "parser.add_argument(\n",
    "    \"--multisubject_ckpt\", type=str, default=None,\n",
    "    help=\"Path to pre-trained multisubject model to finetune a single subject from. multisubject must be False.\",\n",
    ")\n",
    "parser.add_argument(\n",
    "    \"--num_sessions\", type=int, default=1,\n",
    "    help=\"Number of training sessions to include\",\n",
    ")\n",
    "parser.add_argument(\n",
    "    \"--use_prior\",action=argparse.BooleanOptionalAction,default=True,\n",
    "    help=\"whether to train diffusion prior (True) or just rely on retrieval part of the pipeline (False)\",\n",
    ")\n",
    "parser.add_argument(\n",
    "    \"--visualize_prior\",action=argparse.BooleanOptionalAction,default=False,\n",
    "    help=\"output visualizations from unCLIP every ckpt_interval (requires much more memory!)\",\n",
    ")\n",
    "parser.add_argument(\n",
    "    \"--batch_size\", type=int, default=16,\n",
    "    help=\"Batch size can be increased by 10x if only training retreival submodule and not diffusion prior\",\n",
    ")\n",
    "parser.add_argument(\n",
    "    \"--wandb_log\",action=argparse.BooleanOptionalAction,default=False,\n",
    "    help=\"whether to log to wandb\",\n",
    ")\n",
    "parser.add_argument(\n",
    "    \"--resume_from_ckpt\",action=argparse.BooleanOptionalAction,default=False,\n",
    "    help=\"if not using wandb and want to resume from a ckpt\",\n",
    ")\n",
    "parser.add_argument(\n",
    "    \"--wandb_project\",type=str,default=\"stability\",\n",
    "    help=\"wandb project name\",\n",
    ")\n",
    "parser.add_argument(\n",
    "    \"--mixup_pct\",type=float,default=.33,\n",
    "    help=\"proportion of way through training when to switch from BiMixCo to SoftCLIP\",\n",
    ")\n",
    "parser.add_argument(\n",
    "    \"--blurry_recon\",action=argparse.BooleanOptionalAction,default=True,\n",
    "    help=\"whether to output blurry reconstructions\",\n",
    ")\n",
    "parser.add_argument(\n",
    "    \"--blur_scale\",type=float,default=.5,\n",
    "    help=\"multiply loss from blurry recons by this number\",\n",
    ")\n",
    "parser.add_argument(\n",
    "    \"--clip_scale\",type=float,default=1.,\n",
    "    help=\"multiply contrastive loss by this number\",\n",
    ")\n",
    "parser.add_argument(\n",
    "    \"--prior_scale\",type=float,default=30,\n",
    "    help=\"multiply diffusion prior loss by this\",\n",
    ")\n",
    "parser.add_argument(\n",
    "    \"--use_image_aug\",action=argparse.BooleanOptionalAction,default=False,\n",
    "    help=\"whether to use image augmentation\",\n",
    ")\n",
    "parser.add_argument(\n",
    "    \"--num_epochs\",type=int,default=150,\n",
    "    help=\"number of epochs of training\",\n",
    ")\n",
    "parser.add_argument(\n",
    "    \"--multi_subject\",action=argparse.BooleanOptionalAction,default=False,\n",
    ")\n",
    "parser.add_argument(\n",
    "    \"--new_test\",action=argparse.BooleanOptionalAction,default=True,\n",
    ")\n",
    "parser.add_argument(\n",
    "    \"--n_blocks\",type=int,default=4,\n",
    ")\n",
    "parser.add_argument(\n",
    "    \"--hidden_dim\",type=int,default=1024,\n",
    ")\n",
    "parser.add_argument(\n",
    "    \"--seq_past\",type=int,default=0,\n",
    ")\n",
    "parser.add_argument(\n",
    "    \"--seq_future\",type=int,default=0,\n",
    ")\n",
    "parser.add_argument(\n",
    "    \"--lr_scheduler_type\",type=str,default='cycle',choices=['cycle','linear'],\n",
    ")\n",
    "parser.add_argument(\n",
    "    \"--ckpt_saving\",action=argparse.BooleanOptionalAction,default=True,\n",
    ")\n",
    "parser.add_argument(\n",
    "    \"--ckpt_interval\",type=int,default=5,\n",
    "    help=\"save backup ckpt and reconstruct every x epochs\",\n",
    ")\n",
    "parser.add_argument(\n",
    "    \"--seed\",type=int,default=42,\n",
    ")\n",
    "parser.add_argument(\n",
    "    \"--max_lr\",type=float,default=3e-4,\n",
    ")\n",
    "\n",
    "if utils.is_interactive():\n",
    "    args = parser.parse_args(jupyter_args)\n",
    "else:\n",
    "    args = parser.parse_args()\n",
    "\n",
    "# create global variables without the args prefix\n",
    "for attribute_name in vars(args).keys():\n",
    "    globals()[attribute_name] = getattr(args, attribute_name)\n",
    "    \n",
    "# seed all random functions\n",
    "utils.seed_everything(seed)\n",
    "\n",
    "outdir = os.path.abspath(f'../train_logs/{model_name}')\n",
    "if not os.path.exists(outdir) and ckpt_saving:\n",
    "    os.makedirs(outdir,exist_ok=True)\n",
    "    \n",
    "if use_image_aug or blurry_recon:\n",
    "    import kornia\n",
    "    from kornia.augmentation.container import AugmentationSequential\n",
    "if use_image_aug:\n",
    "    img_augment = AugmentationSequential(\n",
    "        kornia.augmentation.ColorJitter(brightness=0.4, contrast=0.4, saturation=0.4, hue=0.1, p=0.3),\n",
    "        same_on_batch=False,\n",
    "        data_keys=[\"input\"],\n",
    "    )\n",
    "    \n",
    "if multi_subject:\n",
    "    subj_list = np.arange(1,9)\n",
    "    subj_list = subj_list[subj_list != subj]\n",
    "else:\n",
    "    subj_list = [subj]\n",
    "\n",
    "print(\"subj_list\", subj_list, \"num_sessions\", num_sessions)"
   ]
  },
  {
   "cell_type": "markdown",
   "id": "42d13c25-1369-4c49-81d4-83d713586096",
   "metadata": {
    "tags": []
   },
   "source": [
    "# Prep data, models, and dataloaders"
   ]
  },
  {
   "cell_type": "markdown",
   "id": "1c023f24-5233-4a15-a2f5-78487b3a8546",
   "metadata": {},
   "source": [
    "### Creating wds dataloader, preload betas and all 73k possible images"
   ]
  },
  {
   "cell_type": "code",
   "execution_count": 6,
   "id": "aefe7c27-ab39-4b2c-90f4-480f4087b7ab",
   "metadata": {
    "tags": []
   },
   "outputs": [
    {
     "name": "stdout",
     "output_type": "stream",
     "text": [
      "dividing batch size by subj_list, which will then be concatenated across subj during training...\n",
      "batch_size = 8 num_iterations_per_epoch = 281 num_samples_per_epoch = 2250\n"
     ]
    }
   ],
   "source": [
    "def my_split_by_node(urls): return urls\n",
    "num_voxels_list = []\n",
    "\n",
    "if multi_subject:\n",
    "    nsessions_allsubj=np.array([40, 40, 32, 30, 40, 32, 40, 30])\n",
    "    num_samples_per_epoch = (750*40) // num_devices \n",
    "else:\n",
    "    num_samples_per_epoch = (750*num_sessions) // num_devices \n",
    "\n",
    "print(\"dividing batch size by subj_list, which will then be concatenated across subj during training...\") \n",
    "batch_size = batch_size // len(subj_list)\n",
    "\n",
    "num_iterations_per_epoch = num_samples_per_epoch // (batch_size*len(subj_list))\n",
    "\n",
    "print(\"batch_size =\", batch_size, \"num_iterations_per_epoch =\",num_iterations_per_epoch, \"num_samples_per_epoch =\",num_samples_per_epoch)"
   ]
  },
  {
   "cell_type": "code",
   "execution_count": 7,
   "id": "81084834-035f-4465-ad59-59e6b806a2f5",
   "metadata": {
    "tags": []
   },
   "outputs": [
    {
     "name": "stdout",
     "output_type": "stream",
     "text": [
      "Training with 3 sessions\n",
      "/weka/proj-fmri/shared/mindeyev2_dataset/wds/subj01/train/{0..2}.tar\n",
      "num_voxels for subj01: 15724\n",
      "Loaded all subj train dls and betas!\n",
      "\n",
      "/weka/proj-fmri/shared/mindeyev2_dataset/wds/subj01/new_test/0.tar\n",
      "Loaded test dl for subj1!\n",
      "\n",
      "currently using 1 seq_len (chose 0 past behav and 0 future behav)\n"
     ]
    }
   ],
   "source": [
    "train_data = {}\n",
    "train_dl = {}\n",
    "num_voxels = {}\n",
    "voxels = {}\n",
    "for s in subj_list:\n",
    "    print(f\"Training with {num_sessions} sessions\")\n",
    "    if multi_subject:\n",
    "        train_url = f\"{data_path}/wds/subj0{s}/train/\" + \"{0..\" + f\"{nsessions_allsubj[s-1]-1}\" + \"}.tar\"\n",
    "    else:\n",
    "        train_url = f\"{data_path}/wds/subj0{s}/train/\" + \"{0..\" + f\"{num_sessions-1}\" + \"}.tar\"\n",
    "    print(train_url)\n",
    "    \n",
    "    train_data[f'subj0{s}'] = wds.WebDataset(train_url,resampled=True,nodesplitter=my_split_by_node)\\\n",
    "                        .shuffle(750, initial=1500, rng=random.Random(42))\\\n",
    "                        .decode(\"torch\")\\\n",
    "                        .rename(behav=\"behav.npy\", past_behav=\"past_behav.npy\", future_behav=\"future_behav.npy\", olds_behav=\"olds_behav.npy\")\\\n",
    "                        .to_tuple(*[\"behav\", \"past_behav\", \"future_behav\", \"olds_behav\"])\n",
    "    train_dl[f'subj0{s}'] = torch.utils.data.DataLoader(train_data[f'subj0{s}'], batch_size=batch_size, shuffle=False, drop_last=True, pin_memory=True)\n",
    "\n",
    "    f = h5py.File(f'{data_path}/betas_all_subj0{s}_fp32_renorm.hdf5', 'r')\n",
    "    betas = f['betas'][:]\n",
    "    betas = torch.Tensor(betas).to(\"cpu\").to(data_type)\n",
    "    num_voxels_list.append(betas[0].shape[-1])\n",
    "    num_voxels[f'subj0{s}'] = betas[0].shape[-1]\n",
    "    voxels[f'subj0{s}'] = betas\n",
    "    print(f\"num_voxels for subj0{s}: {num_voxels[f'subj0{s}']}\")\n",
    "\n",
    "print(\"Loaded all subj train dls and betas!\\n\")\n",
    "\n",
    "# Validate only on one subject\n",
    "if multi_subject: \n",
    "    subj = subj_list[0] # cant validate on the actual held out person so picking first in subj_list\n",
    "if not new_test: # using old test set from before full dataset released (used in original MindEye paper)\n",
    "    if subj==3:\n",
    "        num_test=2113\n",
    "    elif subj==4:\n",
    "        num_test=1985\n",
    "    elif subj==6:\n",
    "        num_test=2113\n",
    "    elif subj==8:\n",
    "        num_test=1985\n",
    "    else:\n",
    "        num_test=2770\n",
    "    test_url = f\"{data_path}/wds/subj0{subj}/test/\" + \"0.tar\"\n",
    "elif new_test: # using larger test set from after full dataset released\n",
    "    if subj==3:\n",
    "        num_test=2371\n",
    "    elif subj==4:\n",
    "        num_test=2188\n",
    "    elif subj==6:\n",
    "        num_test=2371\n",
    "    elif subj==8:\n",
    "        num_test=2188\n",
    "    else:\n",
    "        num_test=3000\n",
    "    test_url = f\"{data_path}/wds/subj0{subj}/new_test/\" + \"0.tar\"\n",
    "print(test_url)\n",
    "test_data = wds.WebDataset(test_url,resampled=False,nodesplitter=my_split_by_node)\\\n",
    "                    .shuffle(750, initial=1500, rng=random.Random(42))\\\n",
    "                    .decode(\"torch\")\\\n",
    "                    .rename(behav=\"behav.npy\", past_behav=\"past_behav.npy\", future_behav=\"future_behav.npy\", olds_behav=\"olds_behav.npy\")\\\n",
    "                    .to_tuple(*[\"behav\", \"past_behav\", \"future_behav\", \"olds_behav\"])\n",
    "test_dl = torch.utils.data.DataLoader(test_data, batch_size=num_test, shuffle=False, drop_last=True, pin_memory=True)\n",
    "print(f\"Loaded test dl for subj{subj}!\\n\")\n",
    "\n",
    "seq_len = seq_past + 1 + seq_future\n",
    "print(f\"currently using {seq_len} seq_len (chose {seq_past} past behav and {seq_future} future behav)\")"
   ]
  },
  {
   "cell_type": "code",
   "execution_count": 8,
   "id": "c13b4b84-094c-4b5b-bace-26c155aa6181",
   "metadata": {
    "tags": []
   },
   "outputs": [
    {
     "name": "stdout",
     "output_type": "stream",
     "text": [
      "Loaded all 73k possible NSD images to cpu! torch.Size([73000, 3, 224, 224])\n"
     ]
    }
   ],
   "source": [
    "# Load 73k NSD images\n",
    "f = h5py.File(f'{data_path}/coco_images_224_float16.hdf5', 'r')\n",
    "images = f['images'][:] # if you go OOM you can remove the [:] so it isnt preloaded to cpu! (will require a few edits elsewhere tho)\n",
    "images = torch.Tensor(images).to(\"cpu\").to(data_type)\n",
    "print(\"Loaded all 73k possible NSD images to cpu!\", images.shape)"
   ]
  },
  {
   "cell_type": "markdown",
   "id": "10ec4517-dbdf-4ece-98f6-4714d5de4e15",
   "metadata": {},
   "source": [
    "## Load models"
   ]
  },
  {
   "cell_type": "markdown",
   "id": "48d6160e-1ee8-4da7-a755-9dbb452a6fa5",
   "metadata": {},
   "source": [
    "### CLIP image embeddings  model"
   ]
  },
  {
   "cell_type": "code",
   "execution_count": 9,
   "id": "b0420dc0-199e-4c1a-857d-b1747058b467",
   "metadata": {
    "tags": []
   },
   "outputs": [
    {
     "data": {
      "application/vnd.jupyter.widget-view+json": {
       "model_id": "a214ce55a5c84d13b00c53cb96b3d111",
       "version_major": 2,
       "version_minor": 0
      },
      "text/plain": [
       "open_clip_pytorch_model.bin:   0%|          | 0.00/10.2G [00:00<?, ?B/s]"
      ]
     },
     "metadata": {},
     "output_type": "display_data"
    }
   ],
   "source": [
    "clip_img_embedder = FrozenOpenCLIPImageEmbedder(\n",
    "    arch=\"ViT-bigG-14\",\n",
    "    version=\"laion2b_s39b_b160k\",\n",
    "    output_tokens=True,\n",
    "    only_tokens=True,\n",
    ")\n",
    "clip_img_embedder.to(device)\n",
    "\n",
    "clip_seq_dim = 256\n",
    "clip_emb_dim = 1664"
   ]
  },
  {
   "cell_type": "markdown",
   "id": "5b79bd38-6990-4504-8d45-4a68d57d8885",
   "metadata": {},
   "source": [
    "### SD VAE"
   ]
  },
  {
   "cell_type": "code",
   "execution_count": 10,
   "id": "01baff79-8114-482b-b115-6f05aa8ad691",
   "metadata": {
    "tags": []
   },
   "outputs": [],
   "source": [
    "if blurry_recon:\n",
    "    from diffusers import AutoencoderKL    \n",
    "    autoenc = AutoencoderKL(\n",
    "        down_block_types=['DownEncoderBlock2D', 'DownEncoderBlock2D', 'DownEncoderBlock2D', 'DownEncoderBlock2D'],\n",
    "        up_block_types=['UpDecoderBlock2D', 'UpDecoderBlock2D', 'UpDecoderBlock2D', 'UpDecoderBlock2D'],\n",
    "        block_out_channels=[128, 256, 512, 512],\n",
    "        layers_per_block=2,\n",
    "        sample_size=256,\n",
    "    )\n",
    "    ckpt = torch.load(f'{cache_dir}/sd_image_var_autoenc.pth')\n",
    "    autoenc.load_state_dict(ckpt)\n",
    "    \n",
    "    autoenc.eval()\n",
    "    autoenc.requires_grad_(False)\n",
    "    autoenc.to(device)\n",
    "    utils.count_params(autoenc)\n",
    "    \n",
    "    from autoencoder.convnext import ConvnextXL\n",
    "    cnx = ConvnextXL(f'{cache_dir}/convnext_xlarge_alpha0.75_fullckpt.pth')\n",
    "    cnx.requires_grad_(False)\n",
    "    cnx.eval()\n",
    "    cnx.to(device)\n",
    "    \n",
    "    mean = torch.tensor([0.485, 0.456, 0.406]).to(device).reshape(1,3,1,1)\n",
    "    std = torch.tensor([0.228, 0.224, 0.225]).to(device).reshape(1,3,1,1)\n",
    "    \n",
    "    blur_augs = AugmentationSequential(\n",
    "        kornia.augmentation.ColorJitter(brightness=0.4, contrast=0.4, saturation=0.2, hue=0.1, p=0.8),\n",
    "        kornia.augmentation.RandomGrayscale(p=0.1),\n",
    "        kornia.augmentation.RandomSolarize(p=0.1),\n",
    "        kornia.augmentation.RandomResizedCrop((224,224), scale=(.9,.9), ratio=(1,1), p=1.0),\n",
    "        data_keys=[\"input\"],\n",
    "    )"
   ]
  },
  {
   "cell_type": "markdown",
   "id": "260e5e4a-f697-4b2c-88fc-01f6a54886c0",
   "metadata": {},
   "source": [
    "### MindEye modules"
   ]
  },
  {
   "cell_type": "code",
   "execution_count": 11,
   "id": "c44c271b-173f-472e-b059-a2eda0f4c4c5",
   "metadata": {
    "tags": []
   },
   "outputs": [
    {
     "data": {
      "text/plain": [
       "MindEyeModule()"
      ]
     },
     "execution_count": 11,
     "metadata": {},
     "output_type": "execute_result"
    }
   ],
   "source": [
    "class MindEyeModule(nn.Module):\n",
    "    def __init__(self):\n",
    "        super(MindEyeModule, self).__init__()\n",
    "    def forward(self, x):\n",
    "        return x\n",
    "        \n",
    "model = MindEyeModule()\n",
    "model"
   ]
  },
  {
   "cell_type": "code",
   "execution_count": 12,
   "id": "038a5d61-4769-40b9-a004-f4e7b5b38bb0",
   "metadata": {
    "tags": []
   },
   "outputs": [
    {
     "name": "stdout",
     "output_type": "stream",
     "text": [
      "param counts:\n",
      "16,102,400 total\n",
      "16,102,400 trainable\n",
      "param counts:\n",
      "16,102,400 total\n",
      "16,102,400 trainable\n",
      "torch.Size([2, 1, 15724]) torch.Size([2, 1, 1024])\n"
     ]
    }
   ],
   "source": [
    "class RidgeRegression(torch.nn.Module):\n",
    "    # make sure to add weight_decay when initializing optimizer\n",
    "    def __init__(self, input_sizes, out_features, seq_len): \n",
    "        super(RidgeRegression, self).__init__()\n",
    "        self.out_features = out_features\n",
    "        self.linears = torch.nn.ModuleList([\n",
    "                torch.nn.Linear(input_size, out_features) for input_size in input_sizes\n",
    "            ])\n",
    "    def forward(self, x, subj_idx):\n",
    "        out = torch.cat([self.linears[subj_idx](x[:,seq]).unsqueeze(1) for seq in range(seq_len)], dim=1)\n",
    "        return out\n",
    "        \n",
    "model.ridge = RidgeRegression(num_voxels_list, out_features=hidden_dim, seq_len=seq_len)\n",
    "utils.count_params(model.ridge)\n",
    "utils.count_params(model)\n",
    "\n",
    "# test on subject 1 with fake data\n",
    "b = torch.randn((2,seq_len,num_voxels_list[0]))\n",
    "print(b.shape, model.ridge(b,0).shape)"
   ]
  },
  {
   "cell_type": "code",
   "execution_count": 14,
   "id": "7b8de65a-6d3b-4248-bea9-9b6f4d562321",
   "metadata": {
    "tags": []
   },
   "outputs": [
    {
     "name": "stdout",
     "output_type": "stream",
     "text": [
      "param counts:\n",
      "453,360,280 total\n",
      "453,360,280 trainable\n",
      "param counts:\n",
      "469,462,680 total\n",
      "469,462,680 trainable\n",
      "b.shape torch.Size([2, 1, 1024])\n",
      "torch.Size([2, 256, 1664]) torch.Size([2, 256, 1664]) torch.Size([1]) torch.Size([1])\n"
     ]
    }
   ],
   "source": [
    "from models import BrainNetwork\n",
    "model.backbone = BrainNetwork(h=hidden_dim, in_dim=hidden_dim, seq_len=seq_len, n_blocks=n_blocks,\n",
    "                          clip_size=clip_emb_dim, out_dim=clip_emb_dim*clip_seq_dim, \n",
    "                          blurry_recon=blurry_recon, clip_scale=clip_scale)\n",
    "utils.count_params(model.backbone)\n",
    "utils.count_params(model)\n",
    "\n",
    "# test that the model works on some fake data\n",
    "b = torch.randn((2,seq_len,hidden_dim))\n",
    "print(\"b.shape\",b.shape)\n",
    "\n",
    "backbone_, clip_, blur_ = model.backbone(b)\n",
    "print(backbone_.shape, clip_.shape, blur_[0].shape, blur_[1].shape)"
   ]
  },
  {
   "cell_type": "markdown",
   "id": "b397c0d7-52a3-4153-823b-c27d2eb3eeba",
   "metadata": {},
   "source": [
    "### Adding diffusion prior + unCLIP if use_prior=True"
   ]
  },
  {
   "cell_type": "code",
   "execution_count": 15,
   "id": "69965344-9346-4592-9cc5-e537e31d5fce",
   "metadata": {
    "tags": []
   },
   "outputs": [
    {
     "name": "stdout",
     "output_type": "stream",
     "text": [
      "param counts:\n",
      "259,865,216 total\n",
      "259,865,200 trainable\n",
      "param counts:\n",
      "729,327,896 total\n",
      "729,327,880 trainable\n"
     ]
    }
   ],
   "source": [
    "if use_prior:\n",
    "    from models import *\n",
    "\n",
    "    # setup diffusion prior network\n",
    "    out_dim = clip_emb_dim\n",
    "    depth = 6\n",
    "    dim_head = 52\n",
    "    heads = clip_emb_dim//52 # heads * dim_head = clip_emb_dim\n",
    "    timesteps = 100\n",
    "\n",
    "    prior_network = PriorNetwork(\n",
    "            dim=out_dim,\n",
    "            depth=depth,\n",
    "            dim_head=dim_head,\n",
    "            heads=heads,\n",
    "            causal=False,\n",
    "            num_tokens = clip_seq_dim,\n",
    "            learned_query_mode=\"pos_emb\"\n",
    "        )\n",
    "\n",
    "    model.diffusion_prior = BrainDiffusionPrior(\n",
    "        net=prior_network,\n",
    "        image_embed_dim=out_dim,\n",
    "        condition_on_text_encodings=False,\n",
    "        timesteps=timesteps,\n",
    "        cond_drop_prob=0.2,\n",
    "        image_embed_scale=None,\n",
    "    )\n",
    "    \n",
    "    utils.count_params(model.diffusion_prior)\n",
    "    utils.count_params(model)\n",
    "    \n",
    "    # prep unCLIP\n",
    "    if visualize_prior:\n",
    "        from generative_models.sgm.models.diffusion import DiffusionEngine\n",
    "        from omegaconf import OmegaConf\n",
    "        \n",
    "        config = OmegaConf.load(\"generative_models/configs/unclip6.yaml\")\n",
    "        config = OmegaConf.to_container(config, resolve=True)\n",
    "        unclip_params = config[\"model\"][\"params\"]\n",
    "        network_config = unclip_params[\"network_config\"]\n",
    "        denoiser_config = unclip_params[\"denoiser_config\"]\n",
    "        first_stage_config = unclip_params[\"first_stage_config\"]\n",
    "        conditioner_config = unclip_params[\"conditioner_config\"]\n",
    "        sampler_config = unclip_params[\"sampler_config\"]\n",
    "        scale_factor = unclip_params[\"scale_factor\"]\n",
    "        disable_first_stage_autocast = unclip_params[\"disable_first_stage_autocast\"]\n",
    "        offset_noise_level = unclip_params[\"loss_fn_config\"][\"params\"][\"offset_noise_level\"]\n",
    "\n",
    "        first_stage_config['target'] = 'sgm.models.autoencoder.AutoencoderKL'\n",
    "        sampler_config['params']['num_steps'] = 38\n",
    "\n",
    "        diffusion_engine = DiffusionEngine(network_config=network_config,\n",
    "                               denoiser_config=denoiser_config,\n",
    "                               first_stage_config=first_stage_config,\n",
    "                               conditioner_config=conditioner_config,\n",
    "                               sampler_config=sampler_config,\n",
    "                               scale_factor=scale_factor,\n",
    "                               disable_first_stage_autocast=disable_first_stage_autocast)\n",
    "        # set to inference\n",
    "        diffusion_engine.eval().requires_grad_(False)\n",
    "        diffusion_engine.to(device)\n",
    "\n",
    "        ckpt_path = f'{cache_dir}/unclip6_epoch0_step110000.ckpt'\n",
    "        ckpt = torch.load(ckpt_path, map_location='cpu')\n",
    "        diffusion_engine.load_state_dict(ckpt['state_dict'])\n",
    "\n",
    "        image = images[:1].to(device)\n",
    "        batch={\"jpg\": image,\n",
    "              \"original_size_as_tuple\": torch.ones(image.shape[0], 2).to(device) * 768,\n",
    "              \"crop_coords_top_left\": torch.zeros(image.shape[0], 2).to(device)}\n",
    "        out = diffusion_engine.conditioner(batch)\n",
    "        vector_suffix = out[\"vector\"].to(device)\n",
    "        print(\"vector_suffix\", vector_suffix.shape)"
   ]
  },
  {
   "cell_type": "markdown",
   "id": "ec25271a-2209-400c-8026-df3b8ddc1eef",
   "metadata": {},
   "source": [
    "### Setup optimizer / lr / ckpt saving"
   ]
  },
  {
   "cell_type": "code",
   "execution_count": 16,
   "id": "e14d0482-dc42-43b9-9ce1-953c32f2c9c1",
   "metadata": {
    "tags": []
   },
   "outputs": [
    {
     "name": "stdout",
     "output_type": "stream",
     "text": [
      "total_steps 42150\n",
      "\n",
      "Done with model preparations!\n",
      "param counts:\n",
      "729,327,896 total\n",
      "729,327,880 trainable\n"
     ]
    }
   ],
   "source": [
    "no_decay = ['bias', 'LayerNorm.bias', 'LayerNorm.weight']\n",
    "\n",
    "opt_grouped_parameters = [\n",
    "    {'params': [p for n, p in model.ridge.named_parameters()], 'weight_decay': 1e-2},\n",
    "    {'params': [p for n, p in model.backbone.named_parameters() if not any(nd in n for nd in no_decay)], 'weight_decay': 1e-2},\n",
    "    {'params': [p for n, p in model.backbone.named_parameters() if any(nd in n for nd in no_decay)], 'weight_decay': 0.0},\n",
    "]\n",
    "if use_prior:\n",
    "    opt_grouped_parameters.extend([\n",
    "        {'params': [p for n, p in model.diffusion_prior.named_parameters() if not any(nd in n for nd in no_decay)], 'weight_decay': 1e-2},\n",
    "        {'params': [p for n, p in model.diffusion_prior.named_parameters() if any(nd in n for nd in no_decay)], 'weight_decay': 0.0}\n",
    "    ])\n",
    "\n",
    "optimizer = torch.optim.AdamW(opt_grouped_parameters, lr=max_lr)\n",
    "\n",
    "if lr_scheduler_type == 'linear':\n",
    "    lr_scheduler = torch.optim.lr_scheduler.LinearLR(\n",
    "        optimizer,\n",
    "        total_iters=int(np.floor(num_epochs*num_iterations_per_epoch)),\n",
    "        last_epoch=-1\n",
    "    )\n",
    "elif lr_scheduler_type == 'cycle':\n",
    "    total_steps=int(np.floor(num_epochs*num_iterations_per_epoch))\n",
    "    print(\"total_steps\", total_steps)\n",
    "    lr_scheduler = torch.optim.lr_scheduler.OneCycleLR(\n",
    "        optimizer, \n",
    "        max_lr=max_lr,\n",
    "        total_steps=total_steps,\n",
    "        final_div_factor=1000,\n",
    "        last_epoch=-1, pct_start=2/num_epochs\n",
    "    )\n",
    "    \n",
    "def save_ckpt(tag):\n",
    "    ckpt_path = outdir+f'/{tag}.pth'\n",
    "    if accelerator.is_main_process:\n",
    "        unwrapped_model = accelerator.unwrap_model(model)\n",
    "        torch.save({\n",
    "            'epoch': epoch,\n",
    "            'model_state_dict': unwrapped_model.state_dict(),\n",
    "            'optimizer_state_dict': optimizer.state_dict(),\n",
    "            'lr_scheduler': lr_scheduler.state_dict(),\n",
    "            'train_losses': losses,\n",
    "            'test_losses': test_losses,\n",
    "            'lrs': lrs,\n",
    "            }, ckpt_path)\n",
    "    print(f\"\\n---saved {outdir}/{tag} ckpt!---\\n\")\n",
    "\n",
    "def load_ckpt(tag,load_lr=True,load_optimizer=True,load_epoch=True,strict=True,outdir=outdir,multisubj_loading=False): \n",
    "    print(f\"\\n---loading {outdir}/{tag}.pth ckpt---\\n\")\n",
    "    checkpoint = torch.load(outdir+'/last.pth', map_location='cpu')\n",
    "    state_dict = checkpoint['model_state_dict']\n",
    "    if multisubj_loading: # remove incompatible ridge layer that will otherwise error\n",
    "        state_dict.pop('ridge.linears.0.weight',None)\n",
    "    model.load_state_dict(state_dict, strict=strict)\n",
    "    if load_epoch:\n",
    "        globals()[\"epoch\"] = checkpoint['epoch']\n",
    "        print(\"Epoch\",epoch)\n",
    "    if load_optimizer:\n",
    "        optimizer.load_state_dict(checkpoint['optimizer_state_dict'])\n",
    "    if load_lr:\n",
    "        lr_scheduler.load_state_dict(checkpoint['lr_scheduler'])\n",
    "    del checkpoint\n",
    "\n",
    "print(\"\\nDone with model preparations!\")\n",
    "num_params = utils.count_params(model)"
   ]
  },
  {
   "cell_type": "markdown",
   "id": "983f458b-35b8-49f2-b6db-80296cece730",
   "metadata": {},
   "source": [
    "# Weights and Biases"
   ]
  },
  {
   "cell_type": "code",
   "execution_count": 17,
   "id": "0a25a662-daa8-4de9-9233-8364800fcb6b",
   "metadata": {
    "tags": []
   },
   "outputs": [
    {
     "name": "stdout",
     "output_type": "stream",
     "text": [
      "wandb mental-imagery run base\n",
      "wandb_config:\n",
      " {'model_name': 'base', 'global_batch_size': 8, 'batch_size': 8, 'num_epochs': 150, 'num_sessions': 3, 'num_params': 729327880, 'clip_scale': 1.0, 'prior_scale': 30.0, 'blur_scale': 0.5, 'use_image_aug': False, 'max_lr': 0.0003, 'mixup_pct': 0.33, 'num_samples_per_epoch': 2250, 'num_test': 3000, 'ckpt_interval': 1, 'ckpt_saving': True, 'seed': 42, 'distributed': False, 'num_devices': 1, 'world_size': 1, 'train_url': '/weka/proj-fmri/shared/mindeyev2_dataset/wds/subj01/train/{0..2}.tar', 'test_url': '/weka/proj-fmri/shared/mindeyev2_dataset/wds/subj01/new_test/0.tar'}\n",
      "wandb_id: base\n"
     ]
    },
    {
     "name": "stderr",
     "output_type": "stream",
     "text": [
      "\u001b[34m\u001b[1mwandb\u001b[0m: Currently logged in as: \u001b[33mjonxuxu\u001b[0m. Use \u001b[1m`wandb login --relogin`\u001b[0m to force relogin\n"
     ]
    },
    {
     "data": {
      "text/html": [
       "wandb version 0.17.0 is available!  To upgrade, please run:\n",
       " $ pip install wandb --upgrade"
      ],
      "text/plain": [
       "<IPython.core.display.HTML object>"
      ]
     },
     "metadata": {},
     "output_type": "display_data"
    },
    {
     "data": {
      "text/html": [
       "Tracking run with wandb version 0.16.2"
      ],
      "text/plain": [
       "<IPython.core.display.HTML object>"
      ]
     },
     "metadata": {},
     "output_type": "display_data"
    },
    {
     "data": {
      "text/html": [
       "Run data is saved locally in <code>/weka/proj-fmri/jonxu/MindEye_Imagery/src/wandb/run-20240513_231852-base</code>"
      ],
      "text/plain": [
       "<IPython.core.display.HTML object>"
      ]
     },
     "metadata": {},
     "output_type": "display_data"
    },
    {
     "data": {
      "text/html": [
       "Syncing run <strong><a href='https://wandb.ai/jonxuxu/mental-imagery/runs/base' target=\"_blank\">base</a></strong> to <a href='https://wandb.ai/jonxuxu/mental-imagery' target=\"_blank\">Weights & Biases</a> (<a href='https://wandb.me/run' target=\"_blank\">docs</a>)<br/>"
      ],
      "text/plain": [
       "<IPython.core.display.HTML object>"
      ]
     },
     "metadata": {},
     "output_type": "display_data"
    },
    {
     "data": {
      "text/html": [
       " View project at <a href='https://wandb.ai/jonxuxu/mental-imagery' target=\"_blank\">https://wandb.ai/jonxuxu/mental-imagery</a>"
      ],
      "text/plain": [
       "<IPython.core.display.HTML object>"
      ]
     },
     "metadata": {},
     "output_type": "display_data"
    },
    {
     "data": {
      "text/html": [
       " View run at <a href='https://wandb.ai/jonxuxu/mental-imagery/runs/base' target=\"_blank\">https://wandb.ai/jonxuxu/mental-imagery/runs/base</a>"
      ],
      "text/plain": [
       "<IPython.core.display.HTML object>"
      ]
     },
     "metadata": {},
     "output_type": "display_data"
    }
   ],
   "source": [
    "if local_rank==0 and wandb_log: # only use main process for wandb logging\n",
    "    import wandb\n",
    "    wandb_project = 'mental-imagery'\n",
    "    print(f\"wandb {wandb_project} run {model_name}\")\n",
    "    # need to configure wandb beforehand in terminal with \"wandb init\"!\n",
    "    wandb_config = {\n",
    "      \"model_name\": model_name,\n",
    "      \"global_batch_size\": global_batch_size,\n",
    "      \"batch_size\": batch_size,\n",
    "      \"num_epochs\": num_epochs,\n",
    "      \"num_sessions\": num_sessions,\n",
    "      \"num_params\": num_params,\n",
    "      \"clip_scale\": clip_scale,\n",
    "      \"prior_scale\": prior_scale,\n",
    "      \"blur_scale\": blur_scale,\n",
    "      \"use_image_aug\": use_image_aug,\n",
    "      \"max_lr\": max_lr,\n",
    "      \"mixup_pct\": mixup_pct,\n",
    "      \"num_samples_per_epoch\": num_samples_per_epoch,\n",
    "      \"num_test\": num_test,\n",
    "      \"ckpt_interval\": ckpt_interval,\n",
    "      \"ckpt_saving\": ckpt_saving,\n",
    "      \"seed\": seed,\n",
    "      \"distributed\": distributed,\n",
    "      \"num_devices\": num_devices,\n",
    "      \"world_size\": world_size,\n",
    "      \"train_url\": train_url,\n",
    "      \"test_url\": test_url,\n",
    "    }\n",
    "    print(\"wandb_config:\\n\",wandb_config)\n",
    "    print(\"wandb_id:\",model_name)\n",
    "    wandb.init(\n",
    "        id=model_name,\n",
    "        project=wandb_project,\n",
    "        name=model_name,\n",
    "        config=wandb_config,\n",
    "        resume=\"allow\",\n",
    "    )\n",
    "else:\n",
    "    wandb_log = False"
   ]
  },
  {
   "cell_type": "markdown",
   "id": "d5690151-2131-4918-b750-e869cbd1a8a8",
   "metadata": {},
   "source": [
    "# Main"
   ]
  },
  {
   "cell_type": "code",
   "execution_count": 18,
   "id": "12de6387-6e18-4e4b-b5ce-a847d625330a",
   "metadata": {
    "tags": []
   },
   "outputs": [],
   "source": [
    "epoch = 0\n",
    "losses, test_losses, lrs = [], [], []\n",
    "best_test_loss = 1e9\n",
    "torch.cuda.empty_cache()"
   ]
  },
  {
   "cell_type": "code",
   "execution_count": 19,
   "id": "607a7c7b-fe5e-41a4-80bf-d2814b3a57cc",
   "metadata": {
    "tags": []
   },
   "outputs": [
    {
     "name": "stdout",
     "output_type": "stream",
     "text": [
      "\n",
      "---loading ../train_logs/multisubject_subj01_1024_24bs_nolow/last.pth ckpt---\n",
      "\n"
     ]
    },
    {
     "ename": "FileNotFoundError",
     "evalue": "[Errno 2] No such file or directory: '../train_logs/multisubject_subj01_1024_24bs_nolow/last.pth'",
     "output_type": "error",
     "traceback": [
      "\u001b[0;31m---------------------------------------------------------------------------\u001b[0m",
      "\u001b[0;31mFileNotFoundError\u001b[0m                         Traceback (most recent call last)",
      "Cell \u001b[0;32mIn[19], line 3\u001b[0m\n\u001b[1;32m      1\u001b[0m \u001b[38;5;66;03m# load multisubject stage1 ckpt if set\u001b[39;00m\n\u001b[1;32m      2\u001b[0m \u001b[38;5;28;01mif\u001b[39;00m multisubject_ckpt \u001b[38;5;129;01mis\u001b[39;00m \u001b[38;5;129;01mnot\u001b[39;00m \u001b[38;5;28;01mNone\u001b[39;00m \u001b[38;5;129;01mand\u001b[39;00m \u001b[38;5;129;01mnot\u001b[39;00m resume_from_ckpt:\n\u001b[0;32m----> 3\u001b[0m     \u001b[43mload_ckpt\u001b[49m\u001b[43m(\u001b[49m\u001b[38;5;124;43m\"\u001b[39;49m\u001b[38;5;124;43mlast\u001b[39;49m\u001b[38;5;124;43m\"\u001b[39;49m\u001b[43m,\u001b[49m\u001b[43moutdir\u001b[49m\u001b[38;5;241;43m=\u001b[39;49m\u001b[43mmultisubject_ckpt\u001b[49m\u001b[43m,\u001b[49m\u001b[43mload_lr\u001b[49m\u001b[38;5;241;43m=\u001b[39;49m\u001b[38;5;28;43;01mFalse\u001b[39;49;00m\u001b[43m,\u001b[49m\u001b[43mload_optimizer\u001b[49m\u001b[38;5;241;43m=\u001b[39;49m\u001b[38;5;28;43;01mFalse\u001b[39;49;00m\u001b[43m,\u001b[49m\u001b[43mload_epoch\u001b[49m\u001b[38;5;241;43m=\u001b[39;49m\u001b[38;5;28;43;01mFalse\u001b[39;49;00m\u001b[43m,\u001b[49m\u001b[43mstrict\u001b[49m\u001b[38;5;241;43m=\u001b[39;49m\u001b[38;5;28;43;01mFalse\u001b[39;49;00m\u001b[43m,\u001b[49m\u001b[43mmultisubj_loading\u001b[49m\u001b[38;5;241;43m=\u001b[39;49m\u001b[38;5;28;43;01mTrue\u001b[39;49;00m\u001b[43m)\u001b[49m\n",
      "Cell \u001b[0;32mIn[16], line 50\u001b[0m, in \u001b[0;36mload_ckpt\u001b[0;34m(tag, load_lr, load_optimizer, load_epoch, strict, outdir, multisubj_loading)\u001b[0m\n\u001b[1;32m     48\u001b[0m \u001b[38;5;28;01mdef\u001b[39;00m \u001b[38;5;21mload_ckpt\u001b[39m(tag,load_lr\u001b[38;5;241m=\u001b[39m\u001b[38;5;28;01mTrue\u001b[39;00m,load_optimizer\u001b[38;5;241m=\u001b[39m\u001b[38;5;28;01mTrue\u001b[39;00m,load_epoch\u001b[38;5;241m=\u001b[39m\u001b[38;5;28;01mTrue\u001b[39;00m,strict\u001b[38;5;241m=\u001b[39m\u001b[38;5;28;01mTrue\u001b[39;00m,outdir\u001b[38;5;241m=\u001b[39moutdir,multisubj_loading\u001b[38;5;241m=\u001b[39m\u001b[38;5;28;01mFalse\u001b[39;00m): \n\u001b[1;32m     49\u001b[0m     \u001b[38;5;28mprint\u001b[39m(\u001b[38;5;124mf\u001b[39m\u001b[38;5;124m\"\u001b[39m\u001b[38;5;130;01m\\n\u001b[39;00m\u001b[38;5;124m---loading \u001b[39m\u001b[38;5;132;01m{\u001b[39;00moutdir\u001b[38;5;132;01m}\u001b[39;00m\u001b[38;5;124m/\u001b[39m\u001b[38;5;132;01m{\u001b[39;00mtag\u001b[38;5;132;01m}\u001b[39;00m\u001b[38;5;124m.pth ckpt---\u001b[39m\u001b[38;5;130;01m\\n\u001b[39;00m\u001b[38;5;124m\"\u001b[39m)\n\u001b[0;32m---> 50\u001b[0m     checkpoint \u001b[38;5;241m=\u001b[39m \u001b[43mtorch\u001b[49m\u001b[38;5;241;43m.\u001b[39;49m\u001b[43mload\u001b[49m\u001b[43m(\u001b[49m\u001b[43moutdir\u001b[49m\u001b[38;5;241;43m+\u001b[39;49m\u001b[38;5;124;43m'\u001b[39;49m\u001b[38;5;124;43m/last.pth\u001b[39;49m\u001b[38;5;124;43m'\u001b[39;49m\u001b[43m,\u001b[49m\u001b[43m \u001b[49m\u001b[43mmap_location\u001b[49m\u001b[38;5;241;43m=\u001b[39;49m\u001b[38;5;124;43m'\u001b[39;49m\u001b[38;5;124;43mcpu\u001b[39;49m\u001b[38;5;124;43m'\u001b[39;49m\u001b[43m)\u001b[49m\n\u001b[1;32m     51\u001b[0m     state_dict \u001b[38;5;241m=\u001b[39m checkpoint[\u001b[38;5;124m'\u001b[39m\u001b[38;5;124mmodel_state_dict\u001b[39m\u001b[38;5;124m'\u001b[39m]\n\u001b[1;32m     52\u001b[0m     \u001b[38;5;28;01mif\u001b[39;00m multisubj_loading: \u001b[38;5;66;03m# remove incompatible ridge layer that will otherwise error\u001b[39;00m\n",
      "File \u001b[0;32m~/mambaforge/envs/imagery/lib/python3.11/site-packages/torch/serialization.py:986\u001b[0m, in \u001b[0;36mload\u001b[0;34m(f, map_location, pickle_module, weights_only, mmap, **pickle_load_args)\u001b[0m\n\u001b[1;32m    983\u001b[0m \u001b[38;5;28;01mif\u001b[39;00m \u001b[38;5;124m'\u001b[39m\u001b[38;5;124mencoding\u001b[39m\u001b[38;5;124m'\u001b[39m \u001b[38;5;129;01mnot\u001b[39;00m \u001b[38;5;129;01min\u001b[39;00m pickle_load_args\u001b[38;5;241m.\u001b[39mkeys():\n\u001b[1;32m    984\u001b[0m     pickle_load_args[\u001b[38;5;124m'\u001b[39m\u001b[38;5;124mencoding\u001b[39m\u001b[38;5;124m'\u001b[39m] \u001b[38;5;241m=\u001b[39m \u001b[38;5;124m'\u001b[39m\u001b[38;5;124mutf-8\u001b[39m\u001b[38;5;124m'\u001b[39m\n\u001b[0;32m--> 986\u001b[0m \u001b[38;5;28;01mwith\u001b[39;00m \u001b[43m_open_file_like\u001b[49m\u001b[43m(\u001b[49m\u001b[43mf\u001b[49m\u001b[43m,\u001b[49m\u001b[43m \u001b[49m\u001b[38;5;124;43m'\u001b[39;49m\u001b[38;5;124;43mrb\u001b[39;49m\u001b[38;5;124;43m'\u001b[39;49m\u001b[43m)\u001b[49m \u001b[38;5;28;01mas\u001b[39;00m opened_file:\n\u001b[1;32m    987\u001b[0m     \u001b[38;5;28;01mif\u001b[39;00m _is_zipfile(opened_file):\n\u001b[1;32m    988\u001b[0m         \u001b[38;5;66;03m# The zipfile reader is going to advance the current file position.\u001b[39;00m\n\u001b[1;32m    989\u001b[0m         \u001b[38;5;66;03m# If we want to actually tail call to torch.jit.load, we need to\u001b[39;00m\n\u001b[1;32m    990\u001b[0m         \u001b[38;5;66;03m# reset back to the original position.\u001b[39;00m\n\u001b[1;32m    991\u001b[0m         orig_position \u001b[38;5;241m=\u001b[39m opened_file\u001b[38;5;241m.\u001b[39mtell()\n",
      "File \u001b[0;32m~/mambaforge/envs/imagery/lib/python3.11/site-packages/torch/serialization.py:435\u001b[0m, in \u001b[0;36m_open_file_like\u001b[0;34m(name_or_buffer, mode)\u001b[0m\n\u001b[1;32m    433\u001b[0m \u001b[38;5;28;01mdef\u001b[39;00m \u001b[38;5;21m_open_file_like\u001b[39m(name_or_buffer, mode):\n\u001b[1;32m    434\u001b[0m     \u001b[38;5;28;01mif\u001b[39;00m _is_path(name_or_buffer):\n\u001b[0;32m--> 435\u001b[0m         \u001b[38;5;28;01mreturn\u001b[39;00m \u001b[43m_open_file\u001b[49m\u001b[43m(\u001b[49m\u001b[43mname_or_buffer\u001b[49m\u001b[43m,\u001b[49m\u001b[43m \u001b[49m\u001b[43mmode\u001b[49m\u001b[43m)\u001b[49m\n\u001b[1;32m    436\u001b[0m     \u001b[38;5;28;01melse\u001b[39;00m:\n\u001b[1;32m    437\u001b[0m         \u001b[38;5;28;01mif\u001b[39;00m \u001b[38;5;124m'\u001b[39m\u001b[38;5;124mw\u001b[39m\u001b[38;5;124m'\u001b[39m \u001b[38;5;129;01min\u001b[39;00m mode:\n",
      "File \u001b[0;32m~/mambaforge/envs/imagery/lib/python3.11/site-packages/torch/serialization.py:416\u001b[0m, in \u001b[0;36m_open_file.__init__\u001b[0;34m(self, name, mode)\u001b[0m\n\u001b[1;32m    415\u001b[0m \u001b[38;5;28;01mdef\u001b[39;00m \u001b[38;5;21m__init__\u001b[39m(\u001b[38;5;28mself\u001b[39m, name, mode):\n\u001b[0;32m--> 416\u001b[0m     \u001b[38;5;28msuper\u001b[39m()\u001b[38;5;241m.\u001b[39m\u001b[38;5;21m__init__\u001b[39m(\u001b[38;5;28;43mopen\u001b[39;49m\u001b[43m(\u001b[49m\u001b[43mname\u001b[49m\u001b[43m,\u001b[49m\u001b[43m \u001b[49m\u001b[43mmode\u001b[49m\u001b[43m)\u001b[49m)\n",
      "\u001b[0;31mFileNotFoundError\u001b[0m: [Errno 2] No such file or directory: '../train_logs/multisubject_subj01_1024_24bs_nolow/last.pth'"
     ]
    }
   ],
   "source": [
    "# load multisubject stage1 ckpt if set\n",
    "if multisubject_ckpt is not None and not resume_from_ckpt:\n",
    "    load_ckpt(\"last\",outdir=multisubject_ckpt,load_lr=False,load_optimizer=False,load_epoch=False,strict=False,multisubj_loading=True)"
   ]
  },
  {
   "cell_type": "code",
   "execution_count": 20,
   "id": "5453c316-0cb0-4bee-8585-f44dff746e1f",
   "metadata": {
    "tags": []
   },
   "outputs": [],
   "source": [
    "# load saved ckpt model weights into current model\n",
    "if resume_from_ckpt:\n",
    "    load_ckpt(\"last\",load_lr=True,load_optimizer=True,load_epoch=True)\n",
    "elif wandb_log:\n",
    "    if wandb.run.resumed:\n",
    "        load_ckpt(\"last\",load_lr=True,load_optimizer=True,load_epoch=True)"
   ]
  },
  {
   "cell_type": "code",
   "execution_count": 21,
   "id": "99f09f76-4481-4133-b09a-a22b10dbc0c4",
   "metadata": {
    "tags": []
   },
   "outputs": [],
   "source": [
    "train_dls = [train_dl[f'subj0{s}'] for s in subj_list]\n",
    "\n",
    "model, optimizer, *train_dls, lr_scheduler = accelerator.prepare(model, optimizer, *train_dls, lr_scheduler)\n",
    "# leaving out test_dl since we will only have local_rank 0 device do evals"
   ]
  },
  {
   "cell_type": "code",
   "execution_count": 22,
   "id": "60be0d5f-3e94-4612-9373-61b53d836393",
   "metadata": {
    "tags": []
   },
   "outputs": [
    {
     "name": "stdout",
     "output_type": "stream",
     "text": [
      "base starting with epoch 0 / 150\n"
     ]
    },
    {
     "name": "stderr",
     "output_type": "stream",
     "text": [
      "  0%|                                                                                                                                                                                                                                                                                                                                                                                                                                                                                                                                                                                                                                                                                       | 0/150 [01:07<?, ?it/s, test/blurry_pixcorr=0, test/loss=28.1, test/loss_clip_total=4.98, test/loss_prior=0.77, test/num_steps=1, test/recon_cossim=0, test/recon_mse=0, test/test_bwd_pct_correct=0.0367, test/test_fwd_pct_correct=0.19, train/blurry_pixcorr=0, train/bwd_pct_correct=0.233, train/fwd_pct_correct=0.396, train/loss=29.6, train/loss_blurry_cont_total=0, train/loss_blurry_total=0, train/loss_clip_total=1.73, train/loss_prior=0.93, train/lr=0.000152, train/num_steps=281, train/recon_cossim=0.259, train/recon_mse=0.93]"
     ]
    },
    {
     "name": "stdout",
     "output_type": "stream",
     "text": [
      "---\n",
      "[2024-05-13 23:22:14,977] [INFO] [real_accelerator.py:191:get_accelerator] Setting ds_accelerator to cuda (auto detect)\n",
      "\n",
      "---saved /weka/proj-fmri/jonxu/MindEye_Imagery/train_logs/base/last ckpt!---\n",
      "\n"
     ]
    },
    {
     "name": "stderr",
     "output_type": "stream",
     "text": [
      "  1%|████▎                                                                                                                                                                                                                                                                                                                                                                                                                                                                                                                                                                                                                                                                          | 1/150 [01:59<3:15:44, 78.82s/it, test/blurry_pixcorr=0, test/loss=23.1, test/loss_clip_total=3.54, test/loss_prior=0.651, test/num_steps=2, test/recon_cossim=0, test/recon_mse=0, test/test_bwd_pct_correct=0.12, test/test_fwd_pct_correct=0.277, train/blurry_pixcorr=0, train/bwd_pct_correct=0.461, train/fwd_pct_correct=0.591, train/loss=22, train/loss_blurry_cont_total=0, train/loss_blurry_total=0, train/loss_clip_total=1.07, train/loss_prior=0.698, train/lr=0.0003, train/num_steps=562, train/recon_cossim=0.426, train/recon_mse=0.698]"
     ]
    },
    {
     "name": "stdout",
     "output_type": "stream",
     "text": [
      "---\n",
      "\n",
      "---saved /weka/proj-fmri/jonxu/MindEye_Imagery/train_logs/base/last ckpt!---\n",
      "\n"
     ]
    },
    {
     "name": "stderr",
     "output_type": "stream",
     "text": [
      "  1%|████████▋                                                                                                                                                                                                                                                                                                                                                                                                                                                                                                                                                                                                                                                                     | 2/150 [02:50<2:31:40, 61.49s/it, test/blurry_pixcorr=0, test/loss=18.1, test/loss_clip_total=2.89, test/loss_prior=0.508, test/num_steps=3, test/recon_cossim=0, test/recon_mse=0, test/test_bwd_pct_correct=0.24, test/test_fwd_pct_correct=0.377, train/blurry_pixcorr=0, train/bwd_pct_correct=0.628, train/fwd_pct_correct=0.669, train/loss=17.7, train/loss_blurry_cont_total=0, train/loss_blurry_total=0, train/loss_clip_total=0.606, train/loss_prior=0.57, train/lr=0.0003, train/num_steps=843, train/recon_cossim=0.535, train/recon_mse=0.57]"
     ]
    },
    {
     "name": "stdout",
     "output_type": "stream",
     "text": [
      "---\n",
      "\n",
      "---saved /weka/proj-fmri/jonxu/MindEye_Imagery/train_logs/base/last ckpt!---\n",
      "\n"
     ]
    },
    {
     "name": "stderr",
     "output_type": "stream",
     "text": [
      "  2%|█████████████                                                                                                                                                                                                                                                                                                                                                                                                                                                                                                                                                                                                                                                              | 3/150 [03:40<2:19:34, 56.97s/it, test/blurry_pixcorr=0, test/loss=16.9, test/loss_clip_total=2.45, test/loss_prior=0.481, test/num_steps=4, test/recon_cossim=0, test/recon_mse=0, test/test_bwd_pct_correct=0.303, test/test_fwd_pct_correct=0.547, train/blurry_pixcorr=0, train/bwd_pct_correct=0.706, train/fwd_pct_correct=0.71, train/loss=16.3, train/loss_blurry_cont_total=0, train/loss_blurry_total=0, train/loss_clip_total=0.481, train/loss_prior=0.527, train/lr=0.0003, train/num_steps=1124, train/recon_cossim=0.575, train/recon_mse=0.527]"
     ]
    },
    {
     "name": "stdout",
     "output_type": "stream",
     "text": [
      "---\n",
      "\n",
      "---saved /weka/proj-fmri/jonxu/MindEye_Imagery/train_logs/base/last ckpt!---\n",
      "\n"
     ]
    },
    {
     "name": "stderr",
     "output_type": "stream",
     "text": [
      "  3%|█████████████████▎                                                                                                                                                                                                                                                                                                                                                                                                                                                                                                                                                                                                                                                         | 4/150 [04:30<2:11:34, 54.07s/it, test/blurry_pixcorr=0, test/loss=17.1, test/loss_clip_total=2.36, test/loss_prior=0.492, test/num_steps=5, test/recon_cossim=0, test/recon_mse=0, test/test_bwd_pct_correct=0.333, test/test_fwd_pct_correct=0.553, train/blurry_pixcorr=0, train/bwd_pct_correct=0.73, train/fwd_pct_correct=0.718, train/loss=15.7, train/loss_blurry_cont_total=0, train/loss_blurry_total=0, train/loss_clip_total=0.381, train/loss_prior=0.511, train/lr=0.0003, train/num_steps=1405, train/recon_cossim=0.592, train/recon_mse=0.511]"
     ]
    },
    {
     "name": "stdout",
     "output_type": "stream",
     "text": [
      "---\n",
      "\n",
      "---saved /weka/proj-fmri/jonxu/MindEye_Imagery/train_logs/base/last ckpt!---\n",
      "\n"
     ]
    },
    {
     "name": "stderr",
     "output_type": "stream",
     "text": [
      "  3%|█████████████████████▋                                                                                                                                                                                                                                                                                                                                                                                                                                                                                                                                                                                                                                                   | 5/150 [05:20<2:07:11, 52.63s/it, test/blurry_pixcorr=0, test/loss=15.8, test/loss_clip_total=2.28, test/loss_prior=0.451, test/num_steps=6, test/recon_cossim=0, test/recon_mse=0, test/test_bwd_pct_correct=0.37, test/test_fwd_pct_correct=0.577, train/blurry_pixcorr=0, train/bwd_pct_correct=0.754, train/fwd_pct_correct=0.737, train/loss=15.2, train/loss_blurry_cont_total=0, train/loss_blurry_total=0, train/loss_clip_total=0.366, train/loss_prior=0.494, train/lr=0.000299, train/num_steps=1686, train/recon_cossim=0.608, train/recon_mse=0.494]"
     ]
    },
    {
     "name": "stdout",
     "output_type": "stream",
     "text": [
      "---\n",
      "\n",
      "---saved /weka/proj-fmri/jonxu/MindEye_Imagery/train_logs/base/last ckpt!---\n",
      "\n"
     ]
    },
    {
     "name": "stderr",
     "output_type": "stream",
     "text": [
      "  4%|██████████████████████████                                                                                                                                                                                                                                                                                                                                                                                                                                                                                                                                                                                                                                                 | 6/150 [06:10<2:04:14, 51.77s/it, test/blurry_pixcorr=0, test/loss=15.4, test/loss_clip_total=2.13, test/loss_prior=0.441, test/num_steps=7, test/recon_cossim=0, test/recon_mse=0, test/test_bwd_pct_correct=0.433, test/test_fwd_pct_correct=0.59, train/blurry_pixcorr=0, train/bwd_pct_correct=0.765, train/fwd_pct_correct=0.736, train/loss=15.1, train/loss_blurry_cont_total=0, train/loss_blurry_total=0, train/loss_clip_total=0.359, train/loss_prior=0.49, train/lr=0.000299, train/num_steps=1967, train/recon_cossim=0.613, train/recon_mse=0.49]"
     ]
    },
    {
     "name": "stdout",
     "output_type": "stream",
     "text": [
      "---\n",
      "\n",
      "---saved /weka/proj-fmri/jonxu/MindEye_Imagery/train_logs/base/last ckpt!---\n",
      "\n"
     ]
    },
    {
     "name": "stderr",
     "output_type": "stream",
     "text": [
      "  5%|██████████████████████████████▎                                                                                                                                                                                                                                                                                                                                                                                                                                                                                                                                                                                                                                          | 7/150 [06:59<2:01:37, 51.03s/it, test/blurry_pixcorr=0, test/loss=16.6, test/loss_clip_total=2.22, test/loss_prior=0.48, test/num_steps=8, test/recon_cossim=0, test/recon_mse=0, test/test_bwd_pct_correct=0.397, test/test_fwd_pct_correct=0.613, train/blurry_pixcorr=0, train/bwd_pct_correct=0.766, train/fwd_pct_correct=0.753, train/loss=14.3, train/loss_blurry_cont_total=0, train/loss_blurry_total=0, train/loss_clip_total=0.341, train/loss_prior=0.464, train/lr=0.000299, train/num_steps=2248, train/recon_cossim=0.635, train/recon_mse=0.464]"
     ]
    },
    {
     "name": "stdout",
     "output_type": "stream",
     "text": [
      "---\n",
      "\n",
      "---saved /weka/proj-fmri/jonxu/MindEye_Imagery/train_logs/base/last ckpt!---\n",
      "\n"
     ]
    },
    {
     "name": "stderr",
     "output_type": "stream",
     "text": [
      "  5%|██████████████████████████████████▋                                                                                                                                                                                                                                                                                                                                                                                                                                                                                                                                                                                                                                       | 8/150 [07:48<1:59:26, 50.47s/it, test/blurry_pixcorr=0, test/loss=18.6, test/loss_clip_total=2.05, test/loss_prior=0.552, test/num_steps=9, test/recon_cossim=0, test/recon_mse=0, test/test_bwd_pct_correct=0.42, test/test_fwd_pct_correct=0.64, train/blurry_pixcorr=0, train/bwd_pct_correct=0.756, train/fwd_pct_correct=0.722, train/loss=14.5, train/loss_blurry_cont_total=0, train/loss_blurry_total=0, train/loss_clip_total=0.319, train/loss_prior=0.474, train/lr=0.000298, train/num_steps=2529, train/recon_cossim=0.629, train/recon_mse=0.474]"
     ]
    },
    {
     "name": "stdout",
     "output_type": "stream",
     "text": [
      "---\n",
      "\n",
      "---saved /weka/proj-fmri/jonxu/MindEye_Imagery/train_logs/base/last ckpt!---\n",
      "\n"
     ]
    },
    {
     "name": "stderr",
     "output_type": "stream",
     "text": [
      "  6%|███████████████████████████████████████                                                                                                                                                                                                                                                                                                                                                                                                                                                                                                                                                                                                                                   | 9/150 [08:40<1:57:35, 50.04s/it, test/blurry_pixcorr=0, test/loss=15.9, test/loss_clip_total=2.03, test/loss_prior=0.462, test/num_steps=10, test/recon_cossim=0, test/recon_mse=0, test/test_bwd_pct_correct=0.46, test/test_fwd_pct_correct=0.623, train/blurry_pixcorr=0, train/bwd_pct_correct=0.763, train/fwd_pct_correct=0.728, train/loss=14, train/loss_blurry_cont_total=0, train/loss_blurry_total=0, train/loss_clip_total=0.331, train/loss_prior=0.457, train/lr=0.000298, train/num_steps=2810, train/recon_cossim=0.642, train/recon_mse=0.457]"
     ]
    },
    {
     "name": "stdout",
     "output_type": "stream",
     "text": [
      "---\n",
      "\n",
      "---saved /weka/proj-fmri/jonxu/MindEye_Imagery/train_logs/base/last ckpt!---\n",
      "\n"
     ]
    },
    {
     "name": "stderr",
     "output_type": "stream",
     "text": [
      "  7%|███████████████████████████████████████████▏                                                                                                                                                                                                                                                                                                                                                                                                                                                                                                                                                                                                                           | 10/150 [09:30<1:58:08, 50.63s/it, test/blurry_pixcorr=0, test/loss=16.5, test/loss_clip_total=2.04, test/loss_prior=0.48, test/num_steps=11, test/recon_cossim=0, test/recon_mse=0, test/test_bwd_pct_correct=0.453, test/test_fwd_pct_correct=0.587, train/blurry_pixcorr=0, train/bwd_pct_correct=0.764, train/fwd_pct_correct=0.726, train/loss=13.6, train/loss_blurry_cont_total=0, train/loss_blurry_total=0, train/loss_clip_total=0.321, train/loss_prior=0.444, train/lr=0.000297, train/num_steps=3091, train/recon_cossim=0.653, train/recon_mse=0.444]"
     ]
    },
    {
     "name": "stdout",
     "output_type": "stream",
     "text": [
      "---\n",
      "\n",
      "---saved /weka/proj-fmri/jonxu/MindEye_Imagery/train_logs/base/last ckpt!---\n",
      "\n"
     ]
    },
    {
     "name": "stderr",
     "output_type": "stream",
     "text": [
      "  7%|███████████████████████████████████████████████▎                                                                                                                                                                                                                                                                                                                                                                                                                                                                                                                                                                                                                      | 11/150 [10:19<1:56:40, 50.36s/it, test/blurry_pixcorr=0, test/loss=16.1, test/loss_clip_total=1.93, test/loss_prior=0.472, test/num_steps=12, test/recon_cossim=0, test/recon_mse=0, test/test_bwd_pct_correct=0.553, test/test_fwd_pct_correct=0.627, train/blurry_pixcorr=0, train/bwd_pct_correct=0.763, train/fwd_pct_correct=0.727, train/loss=13.3, train/loss_blurry_cont_total=0, train/loss_blurry_total=0, train/loss_clip_total=0.306, train/loss_prior=0.434, train/lr=0.000297, train/num_steps=3372, train/recon_cossim=0.661, train/recon_mse=0.434]"
     ]
    },
    {
     "name": "stdout",
     "output_type": "stream",
     "text": [
      "---\n",
      "\n",
      "---saved /weka/proj-fmri/jonxu/MindEye_Imagery/train_logs/base/last ckpt!---\n",
      "\n"
     ]
    },
    {
     "name": "stderr",
     "output_type": "stream",
     "text": [
      "  8%|███████████████████████████████████████████████████▊                                                                                                                                                                                                                                                                                                                                                                                                                                                                                                                                                                                                                    | 12/150 [11:09<1:55:20, 50.15s/it, test/blurry_pixcorr=0, test/loss=15.9, test/loss_clip_total=1.88, test/loss_prior=0.468, test/num_steps=13, test/recon_cossim=0, test/recon_mse=0, test/test_bwd_pct_correct=0.55, test/test_fwd_pct_correct=0.623, train/blurry_pixcorr=0, train/bwd_pct_correct=0.758, train/fwd_pct_correct=0.725, train/loss=13.7, train/loss_blurry_cont_total=0, train/loss_blurry_total=0, train/loss_clip_total=0.32, train/loss_prior=0.447, train/lr=0.000296, train/num_steps=3653, train/recon_cossim=0.652, train/recon_mse=0.447]"
     ]
    },
    {
     "name": "stdout",
     "output_type": "stream",
     "text": [
      "---\n",
      "\n",
      "---saved /weka/proj-fmri/jonxu/MindEye_Imagery/train_logs/base/last ckpt!---\n",
      "\n"
     ]
    },
    {
     "name": "stderr",
     "output_type": "stream",
     "text": [
      "  9%|████████████████████████████████████████████████████████▏                                                                                                                                                                                                                                                                                                                                                                                                                                                                                                                                                                                                               | 13/150 [11:59<1:54:17, 50.06s/it, test/blurry_pixcorr=0, test/loss=15, test/loss_clip_total=1.98, test/loss_prior=0.435, test/num_steps=14, test/recon_cossim=0, test/recon_mse=0, test/test_bwd_pct_correct=0.477, test/test_fwd_pct_correct=0.617, train/blurry_pixcorr=0, train/bwd_pct_correct=0.775, train/fwd_pct_correct=0.751, train/loss=13.5, train/loss_blurry_cont_total=0, train/loss_blurry_total=0, train/loss_clip_total=0.309, train/loss_prior=0.439, train/lr=0.000295, train/num_steps=3934, train/recon_cossim=0.658, train/recon_mse=0.439]"
     ]
    },
    {
     "name": "stdout",
     "output_type": "stream",
     "text": [
      "---\n",
      "\n",
      "---saved /weka/proj-fmri/jonxu/MindEye_Imagery/train_logs/base/last ckpt!---\n",
      "\n"
     ]
    },
    {
     "name": "stderr",
     "output_type": "stream",
     "text": [
      "  9%|████████████████████████████████████████████████████████████▍                                                                                                                                                                                                                                                                                                                                                                                                                                                                                                                                                                                                          | 14/150 [12:49<1:53:31, 50.08s/it, test/blurry_pixcorr=0, test/loss=15.8, test/loss_clip_total=1.87, test/loss_prior=0.464, test/num_steps=15, test/recon_cossim=0, test/recon_mse=0, test/test_bwd_pct_correct=0.507, test/test_fwd_pct_correct=0.673, train/blurry_pixcorr=0, train/bwd_pct_correct=0.78, train/fwd_pct_correct=0.745, train/loss=13.2, train/loss_blurry_cont_total=0, train/loss_blurry_total=0, train/loss_clip_total=0.293, train/loss_prior=0.432, train/lr=0.000294, train/num_steps=4215, train/recon_cossim=0.664, train/recon_mse=0.432]"
     ]
    },
    {
     "name": "stdout",
     "output_type": "stream",
     "text": [
      "---\n",
      "\n",
      "---saved /weka/proj-fmri/jonxu/MindEye_Imagery/train_logs/base/last ckpt!---\n",
      "\n"
     ]
    },
    {
     "name": "stderr",
     "output_type": "stream",
     "text": [
      " 10%|█████████████████████████████████████████████████████████████████                                                                                                                                                                                                                                                                                                                                                                                                                                                                                                                                                                                                         | 15/150 [13:39<1:52:23, 49.95s/it, test/blurry_pixcorr=0, test/loss=15.9, test/loss_clip_total=2.04, test/loss_prior=0.462, test/num_steps=16, test/recon_cossim=0, test/recon_mse=0, test/test_bwd_pct_correct=0.487, test/test_fwd_pct_correct=0.583, train/blurry_pixcorr=0, train/bwd_pct_correct=0.77, train/fwd_pct_correct=0.734, train/loss=13.1, train/loss_blurry_cont_total=0, train/loss_blurry_total=0, train/loss_clip_total=0.3, train/loss_prior=0.425, train/lr=0.000293, train/num_steps=4496, train/recon_cossim=0.67, train/recon_mse=0.425]"
     ]
    },
    {
     "name": "stdout",
     "output_type": "stream",
     "text": [
      "---\n",
      "\n",
      "---saved /weka/proj-fmri/jonxu/MindEye_Imagery/train_logs/base/last ckpt!---\n",
      "\n"
     ]
    },
    {
     "name": "stderr",
     "output_type": "stream",
     "text": [
      " 11%|█████████████████████████████████████████████████████████████████████▏                                                                                                                                                                                                                                                                                                                                                                                                                                                                                                                                                                                                   | 16/150 [14:30<1:51:26, 49.90s/it, test/blurry_pixcorr=0, test/loss=15.3, test/loss_clip_total=1.74, test/loss_prior=0.454, test/num_steps=17, test/recon_cossim=0, test/recon_mse=0, test/test_bwd_pct_correct=0.58, test/test_fwd_pct_correct=0.693, train/blurry_pixcorr=0, train/bwd_pct_correct=0.764, train/fwd_pct_correct=0.731, train/loss=13.4, train/loss_blurry_cont_total=0, train/loss_blurry_total=0, train/loss_clip_total=0.3, train/loss_prior=0.436, train/lr=0.000292, train/num_steps=4777, train/recon_cossim=0.663, train/recon_mse=0.436]"
     ]
    },
    {
     "name": "stdout",
     "output_type": "stream",
     "text": [
      "---\n",
      "\n",
      "---saved /weka/proj-fmri/jonxu/MindEye_Imagery/train_logs/base/last ckpt!---\n",
      "\n"
     ]
    },
    {
     "name": "stderr",
     "output_type": "stream",
     "text": [
      " 11%|█████████████████████████████████████████████████████████████████████████▏                                                                                                                                                                                                                                                                                                                                                                                                                                                                                                                                                                                            | 17/150 [15:20<1:51:42, 50.39s/it, test/blurry_pixcorr=0, test/loss=16.1, test/loss_clip_total=1.84, test/loss_prior=0.475, test/num_steps=18, test/recon_cossim=0, test/recon_mse=0, test/test_bwd_pct_correct=0.543, test/test_fwd_pct_correct=0.587, train/blurry_pixcorr=0, train/bwd_pct_correct=0.765, train/fwd_pct_correct=0.735, train/loss=13.2, train/loss_blurry_cont_total=0, train/loss_blurry_total=0, train/loss_clip_total=0.299, train/loss_prior=0.429, train/lr=0.000291, train/num_steps=5058, train/recon_cossim=0.667, train/recon_mse=0.429]"
     ]
    },
    {
     "name": "stdout",
     "output_type": "stream",
     "text": [
      "---\n",
      "\n",
      "---saved /weka/proj-fmri/jonxu/MindEye_Imagery/train_logs/base/last ckpt!---\n",
      "\n"
     ]
    },
    {
     "name": "stderr",
     "output_type": "stream",
     "text": [
      " 12%|█████████████████████████████████████████████████████████████████████████████▉                                                                                                                                                                                                                                                                                                                                                                                                                                                                                                                                                                                           | 18/150 [16:10<1:50:33, 50.25s/it, test/blurry_pixcorr=0, test/loss=17.1, test/loss_clip_total=1.94, test/loss_prior=0.506, test/num_steps=19, test/recon_cossim=0, test/recon_mse=0, test/test_bwd_pct_correct=0.557, test/test_fwd_pct_correct=0.557, train/blurry_pixcorr=0, train/bwd_pct_correct=0.766, train/fwd_pct_correct=0.736, train/loss=12.6, train/loss_blurry_cont_total=0, train/loss_blurry_total=0, train/loss_clip_total=0.312, train/loss_prior=0.41, train/lr=0.00029, train/num_steps=5339, train/recon_cossim=0.683, train/recon_mse=0.41]"
     ]
    },
    {
     "name": "stdout",
     "output_type": "stream",
     "text": [
      "---\n",
      "\n",
      "---saved /weka/proj-fmri/jonxu/MindEye_Imagery/train_logs/base/last ckpt!---\n",
      "\n"
     ]
    },
    {
     "name": "stderr",
     "output_type": "stream",
     "text": [
      " 13%|█████████████████████████████████████████████████████████████████████████████████▊                                                                                                                                                                                                                                                                                                                                                                                                                                                                                                                                                                                    | 19/150 [17:01<1:49:30, 50.15s/it, test/blurry_pixcorr=0, test/loss=16.4, test/loss_clip_total=1.88, test/loss_prior=0.485, test/num_steps=20, test/recon_cossim=0, test/recon_mse=0, test/test_bwd_pct_correct=0.573, test/test_fwd_pct_correct=0.587, train/blurry_pixcorr=0, train/bwd_pct_correct=0.771, train/fwd_pct_correct=0.732, train/loss=12.8, train/loss_blurry_cont_total=0, train/loss_blurry_total=0, train/loss_clip_total=0.313, train/loss_prior=0.415, train/lr=0.000289, train/num_steps=5620, train/recon_cossim=0.679, train/recon_mse=0.415]"
     ]
    },
    {
     "name": "stdout",
     "output_type": "stream",
     "text": [
      "---\n",
      "\n",
      "---saved /weka/proj-fmri/jonxu/MindEye_Imagery/train_logs/base/last ckpt!---\n",
      "\n"
     ]
    },
    {
     "name": "stderr",
     "output_type": "stream",
     "text": [
      " 13%|██████████████████████████████████████████████████████████████████████████████████████▎                                                                                                                                                                                                                                                                                                                                                                                                                                                                                                                                                                                | 20/150 [17:50<1:48:55, 50.27s/it, test/blurry_pixcorr=0, test/loss=16.2, test/loss_clip_total=2.03, test/loss_prior=0.472, test/num_steps=21, test/recon_cossim=0, test/recon_mse=0, test/test_bwd_pct_correct=0.513, test/test_fwd_pct_correct=0.57, train/blurry_pixcorr=0, train/bwd_pct_correct=0.774, train/fwd_pct_correct=0.742, train/loss=12.7, train/loss_blurry_cont_total=0, train/loss_blurry_total=0, train/loss_clip_total=0.281, train/loss_prior=0.413, train/lr=0.000288, train/num_steps=5901, train/recon_cossim=0.683, train/recon_mse=0.413]"
     ]
    },
    {
     "name": "stdout",
     "output_type": "stream",
     "text": [
      "---\n",
      "\n",
      "---saved /weka/proj-fmri/jonxu/MindEye_Imagery/train_logs/base/last ckpt!---\n",
      "\n"
     ]
    },
    {
     "name": "stderr",
     "output_type": "stream",
     "text": [
      " 14%|██████████████████████████████████████████████████████████████████████████████████████████▊                                                                                                                                                                                                                                                                                                                                                                                                                                                                                                                                                                              | 21/150 [18:39<1:47:21, 49.93s/it, test/blurry_pixcorr=0, test/loss=14.8, test/loss_clip_total=1.91, test/loss_prior=0.429, test/num_steps=22, test/recon_cossim=0, test/recon_mse=0, test/test_bwd_pct_correct=0.597, test/test_fwd_pct_correct=0.53, train/blurry_pixcorr=0, train/bwd_pct_correct=0.773, train/fwd_pct_correct=0.737, train/loss=12.4, train/loss_blurry_cont_total=0, train/loss_blurry_total=0, train/loss_clip_total=0.28, train/loss_prior=0.403, train/lr=0.000287, train/num_steps=6182, train/recon_cossim=0.69, train/recon_mse=0.403]"
     ]
    },
    {
     "name": "stdout",
     "output_type": "stream",
     "text": [
      "---\n",
      "\n",
      "---saved /weka/proj-fmri/jonxu/MindEye_Imagery/train_logs/base/last ckpt!---\n",
      "\n"
     ]
    },
    {
     "name": "stderr",
     "output_type": "stream",
     "text": [
      " 15%|██████████████████████████████████████████████████████████████████████████████████████████████▉                                                                                                                                                                                                                                                                                                                                                                                                                                                                                                                                                                        | 22/150 [19:29<1:45:53, 49.64s/it, test/blurry_pixcorr=0, test/loss=15.7, test/loss_clip_total=2.09, test/loss_prior=0.453, test/num_steps=23, test/recon_cossim=0, test/recon_mse=0, test/test_bwd_pct_correct=0.53, test/test_fwd_pct_correct=0.493, train/blurry_pixcorr=0, train/bwd_pct_correct=0.774, train/fwd_pct_correct=0.743, train/loss=12.9, train/loss_blurry_cont_total=0, train/loss_blurry_total=0, train/loss_clip_total=0.289, train/loss_prior=0.419, train/lr=0.000285, train/num_steps=6463, train/recon_cossim=0.676, train/recon_mse=0.419]"
     ]
    },
    {
     "name": "stdout",
     "output_type": "stream",
     "text": [
      "---\n",
      "\n",
      "---saved /weka/proj-fmri/jonxu/MindEye_Imagery/train_logs/base/last ckpt!---\n",
      "\n"
     ]
    },
    {
     "name": "stderr",
     "output_type": "stream",
     "text": [
      " 15%|███████████████████████████████████████████████████████████████████████████████████████████████████▌                                                                                                                                                                                                                                                                                                                                                                                                                                                                                                                                                                     | 23/150 [20:21<1:45:26, 49.82s/it, test/blurry_pixcorr=0, test/loss=16.1, test/loss_clip_total=1.99, test/loss_prior=0.471, test/num_steps=24, test/recon_cossim=0, test/recon_mse=0, test/test_bwd_pct_correct=0.54, test/test_fwd_pct_correct=0.5, train/blurry_pixcorr=0, train/bwd_pct_correct=0.775, train/fwd_pct_correct=0.747, train/loss=12.5, train/loss_blurry_cont_total=0, train/loss_blurry_total=0, train/loss_clip_total=0.284, train/loss_prior=0.406, train/lr=0.000284, train/num_steps=6744, train/recon_cossim=0.686, train/recon_mse=0.406]"
     ]
    },
    {
     "name": "stdout",
     "output_type": "stream",
     "text": [
      "---\n",
      "\n",
      "---saved /weka/proj-fmri/jonxu/MindEye_Imagery/train_logs/base/last ckpt!---\n",
      "\n"
     ]
    },
    {
     "name": "stderr",
     "output_type": "stream",
     "text": [
      " 16%|███████████████████████████████████████████████████████████████████████████████████████████████████████▋                                                                                                                                                                                                                                                                                                                                                                                                                                                                                                                                                                | 24/150 [21:11<1:46:25, 50.68s/it, test/blurry_pixcorr=0, test/loss=15.2, test/loss_clip_total=1.89, test/loss_prior=0.443, test/num_steps=25, test/recon_cossim=0, test/recon_mse=0, test/test_bwd_pct_correct=0.597, test/test_fwd_pct_correct=0.61, train/blurry_pixcorr=0, train/bwd_pct_correct=0.773, train/fwd_pct_correct=0.73, train/loss=12.5, train/loss_blurry_cont_total=0, train/loss_blurry_total=0, train/loss_clip_total=0.287, train/loss_prior=0.407, train/lr=0.000283, train/num_steps=7025, train/recon_cossim=0.687, train/recon_mse=0.407]"
     ]
    },
    {
     "name": "stdout",
     "output_type": "stream",
     "text": [
      "---\n",
      "\n",
      "---saved /weka/proj-fmri/jonxu/MindEye_Imagery/train_logs/base/last ckpt!---\n",
      "\n"
     ]
    },
    {
     "name": "stderr",
     "output_type": "stream",
     "text": [
      " 17%|████████████████████████████████████████████████████████████████████████████████████████████████████████████▎                                                                                                                                                                                                                                                                                                                                                                                                                                                                                                                                                             | 25/150 [22:01<1:45:11, 50.49s/it, test/blurry_pixcorr=0, test/loss=15.1, test/loss_clip_total=1.83, test/loss_prior=0.443, test/num_steps=26, test/recon_cossim=0, test/recon_mse=0, test/test_bwd_pct_correct=0.62, test/test_fwd_pct_correct=0.61, train/blurry_pixcorr=0, train/bwd_pct_correct=0.77, train/fwd_pct_correct=0.737, train/loss=12.3, train/loss_blurry_cont_total=0, train/loss_blurry_total=0, train/loss_clip_total=0.28, train/loss_prior=0.402, train/lr=0.000281, train/num_steps=7306, train/recon_cossim=0.691, train/recon_mse=0.402]"
     ]
    },
    {
     "name": "stdout",
     "output_type": "stream",
     "text": [
      "---\n",
      "\n",
      "---saved /weka/proj-fmri/jonxu/MindEye_Imagery/train_logs/base/last ckpt!---\n",
      "\n"
     ]
    },
    {
     "name": "stderr",
     "output_type": "stream",
     "text": [
      " 17%|███████████████████████████████████████████████████████████████████████████████████████████████████████████████▉                                                                                                                                                                                                                                                                                                                                                                                                                                                                                                                                                      | 26/150 [22:51<1:43:46, 50.21s/it, test/blurry_pixcorr=0, test/loss=13.9, test/loss_clip_total=1.91, test/loss_prior=0.399, test/num_steps=27, test/recon_cossim=0, test/recon_mse=0, test/test_bwd_pct_correct=0.553, test/test_fwd_pct_correct=0.573, train/blurry_pixcorr=0, train/bwd_pct_correct=0.767, train/fwd_pct_correct=0.733, train/loss=12.2, train/loss_blurry_cont_total=0, train/loss_blurry_total=0, train/loss_clip_total=0.296, train/loss_prior=0.398, train/lr=0.000279, train/num_steps=7587, train/recon_cossim=0.694, train/recon_mse=0.398]"
     ]
    },
    {
     "name": "stdout",
     "output_type": "stream",
     "text": [
      "---\n",
      "\n",
      "---saved /weka/proj-fmri/jonxu/MindEye_Imagery/train_logs/base/last ckpt!---\n",
      "\n"
     ]
    },
    {
     "name": "stderr",
     "output_type": "stream",
     "text": [
      " 18%|████████████████████████████████████████████████████████████████████████████████████████████████████████████████████▍                                                                                                                                                                                                                                                                                                                                                                                                                                                                                                                                                  | 27/150 [23:41<1:42:46, 50.14s/it, test/blurry_pixcorr=0, test/loss=16.3, test/loss_clip_total=1.91, test/loss_prior=0.48, test/num_steps=28, test/recon_cossim=0, test/recon_mse=0, test/test_bwd_pct_correct=0.587, test/test_fwd_pct_correct=0.567, train/blurry_pixcorr=0, train/bwd_pct_correct=0.777, train/fwd_pct_correct=0.733, train/loss=12.2, train/loss_blurry_cont_total=0, train/loss_blurry_total=0, train/loss_clip_total=0.258, train/loss_prior=0.397, train/lr=0.000278, train/num_steps=7868, train/recon_cossim=0.695, train/recon_mse=0.397]"
     ]
    },
    {
     "name": "stdout",
     "output_type": "stream",
     "text": [
      "---\n",
      "\n",
      "---saved /weka/proj-fmri/jonxu/MindEye_Imagery/train_logs/base/last ckpt!---\n",
      "\n"
     ]
    },
    {
     "name": "stderr",
     "output_type": "stream",
     "text": [
      " 19%|████████████████████████████████████████████████████████████████████████████████████████████████████████████████████████▌                                                                                                                                                                                                                                                                                                                                                                                                                                                                                                                                             | 28/150 [24:31<1:42:01, 50.18s/it, test/blurry_pixcorr=0, test/loss=15.5, test/loss_clip_total=1.73, test/loss_prior=0.461, test/num_steps=29, test/recon_cossim=0, test/recon_mse=0, test/test_bwd_pct_correct=0.633, test/test_fwd_pct_correct=0.677, train/blurry_pixcorr=0, train/bwd_pct_correct=0.777, train/fwd_pct_correct=0.729, train/loss=12.2, train/loss_blurry_cont_total=0, train/loss_blurry_total=0, train/loss_clip_total=0.293, train/loss_prior=0.396, train/lr=0.000276, train/num_steps=8149, train/recon_cossim=0.696, train/recon_mse=0.396]"
     ]
    },
    {
     "name": "stdout",
     "output_type": "stream",
     "text": [
      "---\n",
      "\n",
      "---saved /weka/proj-fmri/jonxu/MindEye_Imagery/train_logs/base/last ckpt!---\n",
      "\n"
     ]
    },
    {
     "name": "stderr",
     "output_type": "stream",
     "text": [
      " 19%|█████████████████████████████████████████████████████████████████████████████████████████████████████████████████████████████▋                                                                                                                                                                                                                                                                                                                                                                                                                                                                                                                                            | 29/150 [25:20<1:40:38, 49.91s/it, test/blurry_pixcorr=0, test/loss=15, test/loss_clip_total=1.75, test/loss_prior=0.441, test/num_steps=30, test/recon_cossim=0, test/recon_mse=0, test/test_bwd_pct_correct=0.66, test/test_fwd_pct_correct=0.61, train/blurry_pixcorr=0, train/bwd_pct_correct=0.777, train/fwd_pct_correct=0.738, train/loss=11.9, train/loss_blurry_cont_total=0, train/loss_blurry_total=0, train/loss_clip_total=0.274, train/loss_prior=0.386, train/lr=0.000274, train/num_steps=8430, train/recon_cossim=0.704, train/recon_mse=0.386]"
     ]
    },
    {
     "name": "stdout",
     "output_type": "stream",
     "text": [
      "---\n",
      "\n",
      "---saved /weka/proj-fmri/jonxu/MindEye_Imagery/train_logs/base/last ckpt!---\n",
      "\n"
     ]
    },
    {
     "name": "stderr",
     "output_type": "stream",
     "text": [
      " 20%|██████████████████████████████████████████████████████████████████████████████████████████████████████████████████████████████████                                                                                                                                                                                                                                                                                                                                                                                                                                                                                                                                        | 30/150 [26:10<1:39:37, 49.81s/it, test/blurry_pixcorr=0, test/loss=14.8, test/loss_clip_total=2.04, test/loss_prior=0.426, test/num_steps=31, test/recon_cossim=0, test/recon_mse=0, test/test_bwd_pct_correct=0.597, test/test_fwd_pct_correct=0.477, train/blurry_pixcorr=0, train/bwd_pct_correct=0.786, train/fwd_pct_correct=0.753, train/loss=12, train/loss_blurry_cont_total=0, train/loss_blurry_total=0, train/loss_clip_total=0.276, train/loss_prior=0.392, train/lr=0.000273, train/num_steps=8711, train/recon_cossim=0.7, train/recon_mse=0.392]"
     ]
    },
    {
     "name": "stdout",
     "output_type": "stream",
     "text": [
      "---\n",
      "\n",
      "---saved /weka/proj-fmri/jonxu/MindEye_Imagery/train_logs/base/last ckpt!---\n",
      "\n"
     ]
    },
    {
     "name": "stderr",
     "output_type": "stream",
     "text": [
      " 21%|█████████████████████████████████████████████████████████████████████████████████████████████████████████████████████████████████████▋                                                                                                                                                                                                                                                                                                                                                                                                                                                                                                                                 | 31/150 [27:00<1:38:46, 49.81s/it, test/blurry_pixcorr=0, test/loss=14.2, test/loss_clip_total=1.86, test/loss_prior=0.411, test/num_steps=32, test/recon_cossim=0, test/recon_mse=0, test/test_bwd_pct_correct=0.67, test/test_fwd_pct_correct=0.567, train/blurry_pixcorr=0, train/bwd_pct_correct=0.771, train/fwd_pct_correct=0.736, train/loss=12.6, train/loss_blurry_cont_total=0, train/loss_blurry_total=0, train/loss_clip_total=0.274, train/loss_prior=0.411, train/lr=0.000271, train/num_steps=8992, train/recon_cossim=0.686, train/recon_mse=0.411]"
     ]
    },
    {
     "name": "stdout",
     "output_type": "stream",
     "text": [
      "---\n",
      "\n",
      "---saved /weka/proj-fmri/jonxu/MindEye_Imagery/train_logs/base/last ckpt!---\n",
      "\n"
     ]
    },
    {
     "name": "stderr",
     "output_type": "stream",
     "text": [
      " 21%|██████████████████████████████████████████████████████████████████████████████████████████████████████████████████████████████████████████▍                                                                                                                                                                                                                                                                                                                                                                                                                                                                                                                              | 32/150 [27:52<1:38:06, 49.89s/it, test/blurry_pixcorr=0, test/loss=15.6, test/loss_clip_total=1.87, test/loss_prior=0.459, test/num_steps=33, test/recon_cossim=0, test/recon_mse=0, test/test_bwd_pct_correct=0.59, test/test_fwd_pct_correct=0.597, train/blurry_pixcorr=0, train/bwd_pct_correct=0.784, train/fwd_pct_correct=0.746, train/loss=12, train/loss_blurry_cont_total=0, train/loss_blurry_total=0, train/loss_clip_total=0.267, train/loss_prior=0.391, train/lr=0.000269, train/num_steps=9273, train/recon_cossim=0.702, train/recon_mse=0.391]"
     ]
    },
    {
     "name": "stdout",
     "output_type": "stream",
     "text": [
      "---\n",
      "\n",
      "---saved /weka/proj-fmri/jonxu/MindEye_Imagery/train_logs/base/last ckpt!---\n",
      "\n"
     ]
    },
    {
     "name": "stderr",
     "output_type": "stream",
     "text": [
      " 22%|███████████████████████████████████████████████████████████████████████████████████████████████████████████████████████████████████████████████                                                                                                                                                                                                                                                                                                                                                                                                                                                                                                                           | 33/150 [28:41<1:38:12, 50.36s/it, test/blurry_pixcorr=0, test/loss=13.8, test/loss_clip_total=2.1, test/loss_prior=0.39, test/num_steps=34, test/recon_cossim=0, test/recon_mse=0, test/test_bwd_pct_correct=0.63, test/test_fwd_pct_correct=0.43, train/blurry_pixcorr=0, train/bwd_pct_correct=0.786, train/fwd_pct_correct=0.749, train/loss=11.8, train/loss_blurry_cont_total=0, train/loss_blurry_total=0, train/loss_clip_total=0.269, train/loss_prior=0.385, train/lr=0.000267, train/num_steps=9554, train/recon_cossim=0.706, train/recon_mse=0.385]"
     ]
    },
    {
     "name": "stdout",
     "output_type": "stream",
     "text": [
      "---\n",
      "\n",
      "---saved /weka/proj-fmri/jonxu/MindEye_Imagery/train_logs/base/last ckpt!---\n",
      "\n"
     ]
    },
    {
     "name": "stderr",
     "output_type": "stream",
     "text": [
      " 23%|██████████████████████████████████████████████████████████████████████████████████████████████████████████████████████████████████████████████████▉                                                                                                                                                                                                                                                                                                                                                                                                                                                                                                                     | 34/150 [29:32<1:37:08, 50.25s/it, test/blurry_pixcorr=0, test/loss=14.6, test/loss_clip_total=1.8, test/loss_prior=0.426, test/num_steps=35, test/recon_cossim=0, test/recon_mse=0, test/test_bwd_pct_correct=0.643, test/test_fwd_pct_correct=0.703, train/blurry_pixcorr=0, train/bwd_pct_correct=0.783, train/fwd_pct_correct=0.752, train/loss=11.3, train/loss_blurry_cont_total=0, train/loss_blurry_total=0, train/loss_clip_total=0.28, train/loss_prior=0.368, train/lr=0.000265, train/num_steps=9835, train/recon_cossim=0.719, train/recon_mse=0.368]"
     ]
    },
    {
     "name": "stdout",
     "output_type": "stream",
     "text": [
      "---\n",
      "\n",
      "---saved /weka/proj-fmri/jonxu/MindEye_Imagery/train_logs/base/last ckpt!---\n",
      "\n"
     ]
    },
    {
     "name": "stderr",
     "output_type": "stream",
     "text": [
      " 23%|███████████████████████████████████████████████████████████████████████████████████████████████████████████████████████████████████████████████████████▏                                                                                                                                                                                                                                                                                                                                                                                                                                                                                                                | 35/150 [30:22<1:36:33, 50.38s/it, test/blurry_pixcorr=0, test/loss=12.4, test/loss_clip_total=1.99, test/loss_prior=0.345, test/num_steps=36, test/recon_cossim=0, test/recon_mse=0, test/test_bwd_pct_correct=0.59, test/test_fwd_pct_correct=0.56, train/blurry_pixcorr=0, train/bwd_pct_correct=0.791, train/fwd_pct_correct=0.759, train/loss=11.7, train/loss_blurry_cont_total=0, train/loss_blurry_total=0, train/loss_clip_total=0.248, train/loss_prior=0.381, train/lr=0.000263, train/num_steps=10116, train/recon_cossim=0.71, train/recon_mse=0.381]"
     ]
    },
    {
     "name": "stdout",
     "output_type": "stream",
     "text": [
      "---\n",
      "\n",
      "---saved /weka/proj-fmri/jonxu/MindEye_Imagery/train_logs/base/last ckpt!---\n",
      "\n"
     ]
    },
    {
     "name": "stderr",
     "output_type": "stream",
     "text": [
      " 24%|███████████████████████████████████████████████████████████████████████████████████████████████████████████████████████████████████████████████████████████▌                                                                                                                                                                                                                                                                                                                                                                                                                                                                                                            | 36/150 [31:13<1:35:24, 50.22s/it, test/blurry_pixcorr=0, test/loss=15.9, test/loss_clip_total=2, test/loss_prior=0.464, test/num_steps=37, test/recon_cossim=0, test/recon_mse=0, test/test_bwd_pct_correct=0.613, test/test_fwd_pct_correct=0.557, train/blurry_pixcorr=0, train/bwd_pct_correct=0.779, train/fwd_pct_correct=0.733, train/loss=11.5, train/loss_blurry_cont_total=0, train/loss_blurry_total=0, train/loss_clip_total=0.265, train/loss_prior=0.375, train/lr=0.000261, train/num_steps=10397, train/recon_cossim=0.715, train/recon_mse=0.375]"
     ]
    },
    {
     "name": "stdout",
     "output_type": "stream",
     "text": [
      "---\n",
      "\n",
      "---saved /weka/proj-fmri/jonxu/MindEye_Imagery/train_logs/base/last ckpt!---\n",
      "\n"
     ]
    },
    {
     "name": "stderr",
     "output_type": "stream",
     "text": [
      " 25%|███████████████████████████████████████████████████████████████████████████████████████████████████████████████████████████████████████████████████████████████▎                                                                                                                                                                                                                                                                                                                                                                                                                                                                                                      | 37/150 [32:03<1:34:47, 50.33s/it, test/blurry_pixcorr=0, test/loss=16.8, test/loss_clip_total=1.93, test/loss_prior=0.496, test/num_steps=38, test/recon_cossim=0, test/recon_mse=0, test/test_bwd_pct_correct=0.643, test/test_fwd_pct_correct=0.563, train/blurry_pixcorr=0, train/bwd_pct_correct=0.776, train/fwd_pct_correct=0.737, train/loss=11.5, train/loss_blurry_cont_total=0, train/loss_blurry_total=0, train/loss_clip_total=0.26, train/loss_prior=0.374, train/lr=0.000258, train/num_steps=10678, train/recon_cossim=0.716, train/recon_mse=0.374]"
     ]
    },
    {
     "name": "stdout",
     "output_type": "stream",
     "text": [
      "---\n",
      "\n",
      "---saved /weka/proj-fmri/jonxu/MindEye_Imagery/train_logs/base/last ckpt!---\n",
      "\n"
     ]
    },
    {
     "name": "stderr",
     "output_type": "stream",
     "text": [
      " 25%|███████████████████████████████████████████████████████████████████████████████████████████████████████████████████████████████████████████████████████████████████▍                                                                                                                                                                                                                                                                                                                                                                                                                                                                                                 | 38/150 [32:53<1:33:52, 50.29s/it, test/blurry_pixcorr=0, test/loss=14.8, test/loss_clip_total=2.19, test/loss_prior=0.422, test/num_steps=39, test/recon_cossim=0, test/recon_mse=0, test/test_bwd_pct_correct=0.543, test/test_fwd_pct_correct=0.447, train/blurry_pixcorr=0, train/bwd_pct_correct=0.778, train/fwd_pct_correct=0.744, train/loss=11.4, train/loss_blurry_cont_total=0, train/loss_blurry_total=0, train/loss_clip_total=0.266, train/loss_prior=0.371, train/lr=0.000256, train/num_steps=10959, train/recon_cossim=0.717, train/recon_mse=0.371]"
     ]
    },
    {
     "name": "stdout",
     "output_type": "stream",
     "text": [
      "---\n",
      "\n",
      "---saved /weka/proj-fmri/jonxu/MindEye_Imagery/train_logs/base/last ckpt!---\n",
      "\n"
     ]
    },
    {
     "name": "stderr",
     "output_type": "stream",
     "text": [
      " 26%|████████████████████████████████████████████████████████████████████████████████████████████████████████████████████████████████████████████████████████████████████████▍                                                                                                                                                                                                                                                                                                                                                                                                                                                                                               | 39/150 [33:44<1:32:32, 50.02s/it, test/blurry_pixcorr=0, test/loss=15, test/loss_clip_total=1.96, test/loss_prior=0.436, test/num_steps=40, test/recon_cossim=0, test/recon_mse=0, test/test_bwd_pct_correct=0.633, test/test_fwd_pct_correct=0.557, train/blurry_pixcorr=0, train/bwd_pct_correct=0.782, train/fwd_pct_correct=0.74, train/loss=11.5, train/loss_blurry_cont_total=0, train/loss_blurry_total=0, train/loss_clip_total=0.256, train/loss_prior=0.375, train/lr=0.000254, train/num_steps=11240, train/recon_cossim=0.713, train/recon_mse=0.375]"
     ]
    },
    {
     "name": "stdout",
     "output_type": "stream",
     "text": [
      "---\n",
      "\n",
      "---saved /weka/proj-fmri/jonxu/MindEye_Imagery/train_logs/base/last ckpt!---\n",
      "\n"
     ]
    },
    {
     "name": "stderr",
     "output_type": "stream",
     "text": [
      " 27%|████████████████████████████████████████████████████████████████████████████████████████████████████████████████████████████████████████████████████████████████████████████▊                                                                                                                                                                                                                                                                                                                                                                                                                                                                                           | 40/150 [34:34<1:32:30, 50.46s/it, test/blurry_pixcorr=0, test/loss=15.6, test/loss_clip_total=2.01, test/loss_prior=0.453, test/num_steps=41, test/recon_cossim=0, test/recon_mse=0, test/test_bwd_pct_correct=0.63, test/test_fwd_pct_correct=0.44, train/blurry_pixcorr=0, train/bwd_pct_correct=0.782, train/fwd_pct_correct=0.736, train/loss=11.7, train/loss_blurry_cont_total=0, train/loss_blurry_total=0, train/loss_clip_total=0.253, train/loss_prior=0.381, train/lr=0.000252, train/num_steps=11521, train/recon_cossim=0.71, train/recon_mse=0.381]"
     ]
    },
    {
     "name": "stdout",
     "output_type": "stream",
     "text": [
      "---\n",
      "\n",
      "---saved /weka/proj-fmri/jonxu/MindEye_Imagery/train_logs/base/last ckpt!---\n",
      "\n"
     ]
    },
    {
     "name": "stderr",
     "output_type": "stream",
     "text": [
      " 27%|████████████████████████████████████████████████████████████████████████████████████████████████████████████████████████████████████████████████████████████████████████████████▊                                                                                                                                                                                                                                                                                                                                                                                                                                                                                      | 41/150 [35:24<1:31:27, 50.35s/it, test/blurry_pixcorr=0, test/loss=14.2, test/loss_clip_total=2.09, test/loss_prior=0.403, test/num_steps=42, test/recon_cossim=0, test/recon_mse=0, test/test_bwd_pct_correct=0.57, test/test_fwd_pct_correct=0.54, train/blurry_pixcorr=0, train/bwd_pct_correct=0.782, train/fwd_pct_correct=0.736, train/loss=11.2, train/loss_blurry_cont_total=0, train/loss_blurry_total=0, train/loss_clip_total=0.263, train/loss_prior=0.365, train/lr=0.000249, train/num_steps=11802, train/recon_cossim=0.723, train/recon_mse=0.365]"
     ]
    },
    {
     "name": "stdout",
     "output_type": "stream",
     "text": [
      "---\n",
      "\n",
      "---saved /weka/proj-fmri/jonxu/MindEye_Imagery/train_logs/base/last ckpt!---\n",
      "\n"
     ]
    },
    {
     "name": "stderr",
     "output_type": "stream",
     "text": [
      " 28%|████████████████████████████████████████████████████████████████████████████████████████████████████████████████████████████████████████████████████████████████████████████████████▉                                                                                                                                                                                                                                                                                                                                                                                                                                                                                 | 42/150 [36:14<1:30:20, 50.19s/it, test/blurry_pixcorr=0, test/loss=16.6, test/loss_clip_total=2.12, test/loss_prior=0.484, test/num_steps=43, test/recon_cossim=0, test/recon_mse=0, test/test_bwd_pct_correct=0.58, test/test_fwd_pct_correct=0.517, train/blurry_pixcorr=0, train/bwd_pct_correct=0.778, train/fwd_pct_correct=0.725, train/loss=11.3, train/loss_blurry_cont_total=0, train/loss_blurry_total=0, train/loss_clip_total=0.258, train/loss_prior=0.369, train/lr=0.000247, train/num_steps=12083, train/recon_cossim=0.719, train/recon_mse=0.369]"
     ]
    },
    {
     "name": "stdout",
     "output_type": "stream",
     "text": [
      "---\n",
      "\n",
      "---saved /weka/proj-fmri/jonxu/MindEye_Imagery/train_logs/base/last ckpt!---\n",
      "\n"
     ]
    },
    {
     "name": "stderr",
     "output_type": "stream",
     "text": [
      " 29%|█████████████████████████████████████████████████████████████████████████████████████████████████████████████████████████████████████████████████████████████████████████████████████████▊                                                                                                                                                                                                                                                                                                                                                                                                                                                                              | 43/150 [37:04<1:29:22, 50.11s/it, test/blurry_pixcorr=0, test/loss=15.7, test/loss_clip_total=2.15, test/loss_prior=0.453, test/num_steps=44, test/recon_cossim=0, test/recon_mse=0, test/test_bwd_pct_correct=0.61, test/test_fwd_pct_correct=0.47, train/blurry_pixcorr=0, train/bwd_pct_correct=0.777, train/fwd_pct_correct=0.723, train/loss=11.3, train/loss_blurry_cont_total=0, train/loss_blurry_total=0, train/loss_clip_total=0.256, train/loss_prior=0.367, train/lr=0.000244, train/num_steps=12364, train/recon_cossim=0.72, train/recon_mse=0.367]"
     ]
    },
    {
     "name": "stdout",
     "output_type": "stream",
     "text": [
      "---\n",
      "\n",
      "---saved /weka/proj-fmri/jonxu/MindEye_Imagery/train_logs/base/last ckpt!---\n",
      "\n"
     ]
    },
    {
     "name": "stderr",
     "output_type": "stream",
     "text": [
      " 29%|█████████████████████████████████████████████████████████████████████████████████████████████████████████████████████████████████████████████████████████████████████████████████████████████▍                                                                                                                                                                                                                                                                                                                                                                                                                                                                        | 44/150 [37:54<1:28:27, 50.07s/it, test/blurry_pixcorr=0, test/loss=14.9, test/loss_clip_total=2.07, test/loss_prior=0.426, test/num_steps=45, test/recon_cossim=0, test/recon_mse=0, test/test_bwd_pct_correct=0.597, test/test_fwd_pct_correct=0.52, train/blurry_pixcorr=0, train/bwd_pct_correct=0.769, train/fwd_pct_correct=0.726, train/loss=11.5, train/loss_blurry_cont_total=0, train/loss_blurry_total=0, train/loss_clip_total=0.261, train/loss_prior=0.374, train/lr=0.000242, train/num_steps=12645, train/recon_cossim=0.718, train/recon_mse=0.374]"
     ]
    },
    {
     "name": "stdout",
     "output_type": "stream",
     "text": [
      "---\n",
      "\n",
      "---saved /weka/proj-fmri/jonxu/MindEye_Imagery/train_logs/base/last ckpt!---\n",
      "\n"
     ]
    },
    {
     "name": "stderr",
     "output_type": "stream",
     "text": [
      " 30%|█████████████████████████████████████████████████████████████████████████████████████████████████████████████████████████████████████████████████████████████████████████████████████████████████▌                                                                                                                                                                                                                                                                                                                                                                                                                                                                   | 45/150 [38:43<1:27:40, 50.10s/it, test/blurry_pixcorr=0, test/loss=12.9, test/loss_clip_total=2.16, test/loss_prior=0.357, test/num_steps=46, test/recon_cossim=0, test/recon_mse=0, test/test_bwd_pct_correct=0.573, test/test_fwd_pct_correct=0.443, train/blurry_pixcorr=0, train/bwd_pct_correct=0.764, train/fwd_pct_correct=0.723, train/loss=11.4, train/loss_blurry_cont_total=0, train/loss_blurry_total=0, train/loss_clip_total=0.271, train/loss_prior=0.373, train/lr=0.000239, train/num_steps=12926, train/recon_cossim=0.717, train/recon_mse=0.373]"
     ]
    },
    {
     "name": "stdout",
     "output_type": "stream",
     "text": [
      "---\n",
      "\n",
      "---saved /weka/proj-fmri/jonxu/MindEye_Imagery/train_logs/base/last ckpt!---\n",
      "\n"
     ]
    },
    {
     "name": "stderr",
     "output_type": "stream",
     "text": [
      " 31%|██████████████████████████████████████████████████████████████████████████████████████████████████████████████████████████████████████████████████████████████████████████████████████████████████████▍                                                                                                                                                                                                                                                                                                                                                                                                                                                                | 46/150 [39:34<1:26:14, 49.76s/it, test/blurry_pixcorr=0, test/loss=13.9, test/loss_clip_total=2.12, test/loss_prior=0.393, test/num_steps=47, test/recon_cossim=0, test/recon_mse=0, test/test_bwd_pct_correct=0.62, test/test_fwd_pct_correct=0.537, train/blurry_pixcorr=0, train/bwd_pct_correct=0.771, train/fwd_pct_correct=0.731, train/loss=11.2, train/loss_blurry_cont_total=0, train/loss_blurry_total=0, train/loss_clip_total=0.27, train/loss_prior=0.364, train/lr=0.000237, train/num_steps=13207, train/recon_cossim=0.725, train/recon_mse=0.364]"
     ]
    },
    {
     "name": "stdout",
     "output_type": "stream",
     "text": [
      "---\n",
      "\n",
      "---saved /weka/proj-fmri/jonxu/MindEye_Imagery/train_logs/base/last ckpt!---\n",
      "\n"
     ]
    },
    {
     "name": "stderr",
     "output_type": "stream",
     "text": [
      " 31%|███████████████████████████████████████████████████████████████████████████████████████████████████████████████████████████████████████████████████████████████████████████████████████████████████████████▎                                                                                                                                                                                                                                                                                                                                                                                                                                                             | 47/150 [40:28<1:26:33, 50.42s/it, test/blurry_pixcorr=0, test/loss=16.4, test/loss_clip_total=1.96, test/loss_prior=0.48, test/num_steps=48, test/recon_cossim=0, test/recon_mse=0, test/test_bwd_pct_correct=0.657, test/test_fwd_pct_correct=0.55, train/blurry_pixcorr=0, train/bwd_pct_correct=0.771, train/fwd_pct_correct=0.726, train/loss=11, train/loss_blurry_cont_total=0, train/loss_blurry_total=0, train/loss_clip_total=0.261, train/loss_prior=0.356, train/lr=0.000234, train/num_steps=13488, train/recon_cossim=0.731, train/recon_mse=0.356]"
     ]
    },
    {
     "name": "stdout",
     "output_type": "stream",
     "text": [
      "---\n",
      "\n",
      "---saved /weka/proj-fmri/jonxu/MindEye_Imagery/train_logs/base/last ckpt!---\n",
      "\n"
     ]
    },
    {
     "name": "stderr",
     "output_type": "stream",
     "text": [
      " 32%|██████████████████████████████████████████████████████████████████████████████████████████████████████████████████████████████████████████████████████████████████████████████████████████████████████████████▋                                                                                                                                                                                                                                                                                                                                                                                                                                                       | 48/150 [41:19<1:27:07, 51.25s/it, test/blurry_pixcorr=0, test/loss=15.1, test/loss_clip_total=1.95, test/loss_prior=0.44, test/num_steps=49, test/recon_cossim=0, test/recon_mse=0, test/test_bwd_pct_correct=0.723, test/test_fwd_pct_correct=0.577, train/blurry_pixcorr=0, train/bwd_pct_correct=0.776, train/fwd_pct_correct=0.736, train/loss=10.9, train/loss_blurry_cont_total=0, train/loss_blurry_total=0, train/loss_clip_total=0.247, train/loss_prior=0.356, train/lr=0.000231, train/num_steps=13769, train/recon_cossim=0.731, train/recon_mse=0.356]"
     ]
    },
    {
     "name": "stdout",
     "output_type": "stream",
     "text": [
      "---\n",
      "\n",
      "---saved /weka/proj-fmri/jonxu/MindEye_Imagery/train_logs/base/last ckpt!---\n",
      "\n"
     ]
    },
    {
     "name": "stderr",
     "output_type": "stream",
     "text": [
      " 33%|██████████████████████████████████████████████████████████████████████████████████████████████████████████████████████████████████████████████████████████████████████████████████████████████████████████████████▋                                                                                                                                                                                                                                                                                                                                                                                                                                                  | 49/150 [42:09<1:26:03, 51.13s/it, test/blurry_pixcorr=0, test/loss=13.3, test/loss_clip_total=1.72, test/loss_prior=0.385, test/num_steps=50, test/recon_cossim=0, test/recon_mse=0, test/test_bwd_pct_correct=0.67, test/test_fwd_pct_correct=0.65, train/blurry_pixcorr=0, train/bwd_pct_correct=0.996, train/fwd_pct_correct=0.996, train/loss=10.5, train/loss_blurry_cont_total=0, train/loss_blurry_total=0, train/loss_clip_total=0.00796, train/loss_prior=0.349, train/lr=0.000229, train/num_steps=14050, train/recon_cossim=0.737, train/recon_mse=0.349]"
     ]
    },
    {
     "name": "stdout",
     "output_type": "stream",
     "text": [
      "---\n",
      "\n",
      "---saved /weka/proj-fmri/jonxu/MindEye_Imagery/train_logs/base/last ckpt!---\n",
      "\n"
     ]
    },
    {
     "name": "stderr",
     "output_type": "stream",
     "text": [
      " 33%|██████████████████████████████████████████████████████████████████████████████████████████████████████████████████████████████████████████████████████████████████████████████████████████████████████████████████████▎                                                                                                                                                                                                                                                                                                                                                                                                                                            | 50/150 [42:59<1:25:05, 51.05s/it, test/blurry_pixcorr=0, test/loss=14.6, test/loss_clip_total=1.58, test/loss_prior=0.435, test/num_steps=51, test/recon_cossim=0, test/recon_mse=0, test/test_bwd_pct_correct=0.683, test/test_fwd_pct_correct=0.667, train/blurry_pixcorr=0, train/bwd_pct_correct=0.996, train/fwd_pct_correct=0.996, train/loss=10.5, train/loss_blurry_cont_total=0, train/loss_blurry_total=0, train/loss_clip_total=0.00688, train/loss_prior=0.351, train/lr=0.000226, train/num_steps=14331, train/recon_cossim=0.738, train/recon_mse=0.351]"
     ]
    },
    {
     "name": "stdout",
     "output_type": "stream",
     "text": [
      "---\n",
      "\n",
      "---saved /weka/proj-fmri/jonxu/MindEye_Imagery/train_logs/base/last ckpt!---\n",
      "\n"
     ]
    },
    {
     "name": "stderr",
     "output_type": "stream",
     "text": [
      " 34%|██████████████████████████████████████████████████████████████████████████████████████████████████████████████████████████████████████████████████████████████████████████████████████████████████████████████████████████▌                                                                                                                                                                                                                                                                                                                                                                                                                                        | 51/150 [43:49<1:23:17, 50.48s/it, test/blurry_pixcorr=0, test/loss=15.1, test/loss_clip_total=1.57, test/loss_prior=0.449, test/num_steps=52, test/recon_cossim=0, test/recon_mse=0, test/test_bwd_pct_correct=0.677, test/test_fwd_pct_correct=0.653, train/blurry_pixcorr=0, train/bwd_pct_correct=0.996, train/fwd_pct_correct=0.996, train/loss=10.4, train/loss_blurry_cont_total=0, train/loss_blurry_total=0, train/loss_clip_total=0.00646, train/loss_prior=0.346, train/lr=0.000223, train/num_steps=14612, train/recon_cossim=0.742, train/recon_mse=0.346]"
     ]
    },
    {
     "name": "stdout",
     "output_type": "stream",
     "text": [
      "---\n",
      "\n",
      "---saved /weka/proj-fmri/jonxu/MindEye_Imagery/train_logs/base/last ckpt!---\n",
      "\n"
     ]
    },
    {
     "name": "stderr",
     "output_type": "stream",
     "text": [
      " 35%|███████████████████████████████████████████████████████████████████████████████████████████████████████████████████████████████████████████████████████████████████████████████████████████████████████████████████████████████▎                                                                                                                                                                                                                                                                                                                                                                                                                                    | 52/150 [44:38<1:22:10, 50.31s/it, test/blurry_pixcorr=0, test/loss=16.5, test/loss_clip_total=1.46, test/loss_prior=0.503, test/num_steps=53, test/recon_cossim=0, test/recon_mse=0, test/test_bwd_pct_correct=0.653, test/test_fwd_pct_correct=0.687, train/blurry_pixcorr=0, train/bwd_pct_correct=0.999, train/fwd_pct_correct=0.999, train/loss=10.1, train/loss_blurry_cont_total=0, train/loss_blurry_total=0, train/loss_clip_total=0.00332, train/loss_prior=0.336, train/lr=0.00022, train/num_steps=14893, train/recon_cossim=0.748, train/recon_mse=0.336]"
     ]
    },
    {
     "name": "stdout",
     "output_type": "stream",
     "text": [
      "---\n",
      "\n",
      "---saved /weka/proj-fmri/jonxu/MindEye_Imagery/train_logs/base/last ckpt!---\n",
      "\n"
     ]
    },
    {
     "name": "stderr",
     "output_type": "stream",
     "text": [
      " 35%|████████████████████████████████████████████████████████████████████████████████████████████████████████████████████████████████████████████████████████████████████████████████████████████████████████████████████████████████████▎                                                                                                                                                                                                                                                                                                                                                                                                                                 | 53/150 [45:29<1:21:10, 50.21s/it, test/blurry_pixcorr=0, test/loss=13.5, test/loss_clip_total=1.5, test/loss_prior=0.401, test/num_steps=54, test/recon_cossim=0, test/recon_mse=0, test/test_bwd_pct_correct=0.66, test/test_fwd_pct_correct=0.71, train/blurry_pixcorr=0, train/bwd_pct_correct=0.995, train/fwd_pct_correct=0.995, train/loss=9.93, train/loss_blurry_cont_total=0, train/loss_blurry_total=0, train/loss_clip_total=0.00942, train/loss_prior=0.331, train/lr=0.000218, train/num_steps=15174, train/recon_cossim=0.754, train/recon_mse=0.331]"
     ]
    },
    {
     "name": "stdout",
     "output_type": "stream",
     "text": [
      "---\n",
      "\n",
      "---saved /weka/proj-fmri/jonxu/MindEye_Imagery/train_logs/base/last ckpt!---\n",
      "\n"
     ]
    },
    {
     "name": "stderr",
     "output_type": "stream",
     "text": [
      " 36%|███████████████████████████████████████████████████████████████████████████████████████████████████████████████████████████████████████████████████████████████████████████████████████████████████████████████████████████████████████▊                                                                                                                                                                                                                                                                                                                                                                                                                            | 54/150 [46:19<1:20:37, 50.40s/it, test/blurry_pixcorr=0, test/loss=13.4, test/loss_clip_total=1.53, test/loss_prior=0.396, test/num_steps=55, test/recon_cossim=0, test/recon_mse=0, test/test_bwd_pct_correct=0.617, test/test_fwd_pct_correct=0.73, train/blurry_pixcorr=0, train/bwd_pct_correct=0.996, train/fwd_pct_correct=0.997, train/loss=10.5, train/loss_blurry_cont_total=0, train/loss_blurry_total=0, train/loss_clip_total=0.00618, train/loss_prior=0.349, train/lr=0.000215, train/num_steps=15455, train/recon_cossim=0.741, train/recon_mse=0.349]"
     ]
    },
    {
     "name": "stdout",
     "output_type": "stream",
     "text": [
      "---\n",
      "\n",
      "---saved /weka/proj-fmri/jonxu/MindEye_Imagery/train_logs/base/last ckpt!---\n",
      "\n"
     ]
    },
    {
     "name": "stderr",
     "output_type": "stream",
     "text": [
      " 37%|█████████████████████████████████████████████████████████████████████████████████████████████████████████████████████████████████████████████████████████████████████████████████████████████████████████████████████████████████████████████▌                                                                                                                                                                                                                                                                                                                                                                                                                          | 55/150 [47:09<1:19:11, 50.02s/it, test/blurry_pixcorr=0, test/loss=15, test/loss_clip_total=1.39, test/loss_prior=0.454, test/num_steps=56, test/recon_cossim=0, test/recon_mse=0, test/test_bwd_pct_correct=0.693, test/test_fwd_pct_correct=0.73, train/blurry_pixcorr=0, train/bwd_pct_correct=0.997, train/fwd_pct_correct=0.997, train/loss=9.91, train/loss_blurry_cont_total=0, train/loss_blurry_total=0, train/loss_clip_total=0.00668, train/loss_prior=0.33, train/lr=0.000212, train/num_steps=15736, train/recon_cossim=0.753, train/recon_mse=0.33]"
     ]
    },
    {
     "name": "stdout",
     "output_type": "stream",
     "text": [
      "---\n",
      "\n",
      "---saved /weka/proj-fmri/jonxu/MindEye_Imagery/train_logs/base/last ckpt!---\n",
      "\n"
     ]
    },
    {
     "name": "stderr",
     "output_type": "stream",
     "text": [
      " 37%|████████████████████████████████████████████████████████████████████████████████████████████████████████████████████████████████████████████████████████████████████████████████████████████████████████████████████████████████████████████████▍                                                                                                                                                                                                                                                                                                                                                                                                                   | 56/150 [47:58<1:18:06, 49.85s/it, test/blurry_pixcorr=0, test/loss=14.3, test/loss_clip_total=1.47, test/loss_prior=0.427, test/num_steps=57, test/recon_cossim=0, test/recon_mse=0, test/test_bwd_pct_correct=0.667, test/test_fwd_pct_correct=0.72, train/blurry_pixcorr=0, train/bwd_pct_correct=0.997, train/fwd_pct_correct=0.998, train/loss=9.87, train/loss_blurry_cont_total=0, train/loss_blurry_total=0, train/loss_clip_total=0.00714, train/loss_prior=0.329, train/lr=0.000209, train/num_steps=16017, train/recon_cossim=0.757, train/recon_mse=0.329]"
     ]
    },
    {
     "name": "stdout",
     "output_type": "stream",
     "text": [
      "---\n",
      "\n",
      "---saved /weka/proj-fmri/jonxu/MindEye_Imagery/train_logs/base/last ckpt!---\n",
      "\n"
     ]
    },
    {
     "name": "stderr",
     "output_type": "stream",
     "text": [
      " 38%|█████████████████████████████████████████████████████████████████████████████████████████████████████████████████████████████████████████████████████████████████████████████████████████████████████████████████████████████████████████████████████                                                                                                                                                                                                                                                                                                                                                                                                                | 57/150 [48:58<1:17:16, 49.86s/it, test/blurry_pixcorr=0, test/loss=15.5, test/loss_clip_total=1.45, test/loss_prior=0.467, test/num_steps=58, test/recon_cossim=0, test/recon_mse=0, test/test_bwd_pct_correct=0.703, test/test_fwd_pct_correct=0.753, train/blurry_pixcorr=0, train/bwd_pct_correct=0.995, train/fwd_pct_correct=0.996, train/loss=9.82, train/loss_blurry_cont_total=0, train/loss_blurry_total=0, train/loss_clip_total=0.0129, train/loss_prior=0.327, train/lr=0.000206, train/num_steps=16298, train/recon_cossim=0.76, train/recon_mse=0.327]"
     ]
    },
    {
     "name": "stdout",
     "output_type": "stream",
     "text": [
      "---\n",
      "\n",
      "---saved /weka/proj-fmri/jonxu/MindEye_Imagery/train_logs/base/last ckpt!---\n",
      "\n"
     ]
    },
    {
     "name": "stderr",
     "output_type": "stream",
     "text": [
      " 39%|█████████████████████████████████████████████████████████████████████████████████████████████████████████████████████████████████████████████████████████████████████████████████████████████████████████████████████████████████████████████████████████                                                                                                                                                                                                                                                                                                                                                                                                           | 58/150 [49:47<1:20:46, 52.67s/it, test/blurry_pixcorr=0, test/loss=14.6, test/loss_clip_total=1.34, test/loss_prior=0.443, test/num_steps=59, test/recon_cossim=0, test/recon_mse=0, test/test_bwd_pct_correct=0.733, test/test_fwd_pct_correct=0.74, train/blurry_pixcorr=0, train/bwd_pct_correct=0.997, train/fwd_pct_correct=0.997, train/loss=9.71, train/loss_blurry_cont_total=0, train/loss_blurry_total=0, train/loss_clip_total=0.00442, train/loss_prior=0.324, train/lr=0.000203, train/num_steps=16579, train/recon_cossim=0.761, train/recon_mse=0.324]"
     ]
    },
    {
     "name": "stdout",
     "output_type": "stream",
     "text": [
      "---\n",
      "\n",
      "---saved /weka/proj-fmri/jonxu/MindEye_Imagery/train_logs/base/last ckpt!---\n",
      "\n"
     ]
    },
    {
     "name": "stderr",
     "output_type": "stream",
     "text": [
      " 39%|█████████████████████████████████████████████████████████████████████████████████████████████████████████████████████████████████████████████████████████████████████████████████████████████████████████████████████████████████████████████████████████████▋                                                                                                                                                                                                                                                                                                                                                                                                       | 59/150 [50:37<1:18:38, 51.86s/it, test/blurry_pixcorr=0, test/loss=13.7, test/loss_clip_total=1.29, test/loss_prior=0.415, test/num_steps=60, test/recon_cossim=0, test/recon_mse=0, test/test_bwd_pct_correct=0.723, test/test_fwd_pct_correct=0.747, train/blurry_pixcorr=0, train/bwd_pct_correct=0.996, train/fwd_pct_correct=0.996, train/loss=9.67, train/loss_blurry_cont_total=0, train/loss_blurry_total=0, train/loss_clip_total=0.00653, train/loss_prior=0.322, train/lr=0.0002, train/num_steps=16860, train/recon_cossim=0.761, train/recon_mse=0.322]"
     ]
    },
    {
     "name": "stdout",
     "output_type": "stream",
     "text": [
      "---\n",
      "\n",
      "---saved /weka/proj-fmri/jonxu/MindEye_Imagery/train_logs/base/last ckpt!---\n",
      "\n"
     ]
    },
    {
     "name": "stderr",
     "output_type": "stream",
     "text": [
      " 40%|██████████████████████████████████████████████████████████████████████████████████████████████████████████████████████████████████████████████████████████████████████████████████████████████████████████████████████████████████████████████████████████████████                                                                                                                                                                                                                                                                                                                                                                                                   | 60/150 [51:27<1:16:55, 51.29s/it, test/blurry_pixcorr=0, test/loss=15.9, test/loss_clip_total=1.27, test/loss_prior=0.487, test/num_steps=61, test/recon_cossim=0, test/recon_mse=0, test/test_bwd_pct_correct=0.71, test/test_fwd_pct_correct=0.78, train/blurry_pixcorr=0, train/bwd_pct_correct=0.996, train/fwd_pct_correct=0.996, train/loss=9.85, train/loss_blurry_cont_total=0, train/loss_blurry_total=0, train/loss_clip_total=0.00683, train/loss_prior=0.328, train/lr=0.000197, train/num_steps=17141, train/recon_cossim=0.757, train/recon_mse=0.328]"
     ]
    },
    {
     "name": "stdout",
     "output_type": "stream",
     "text": [
      "---\n",
      "\n",
      "---saved /weka/proj-fmri/jonxu/MindEye_Imagery/train_logs/base/last ckpt!---\n",
      "\n"
     ]
    },
    {
     "name": "stderr",
     "output_type": "stream",
     "text": [
      " 41%|█████████████████████████████████████████████████████████████████████████████████████████████████████████████████████████████████████████████████████████████████████████████████████████████████████████████████████████████████████████████████████████████████████▍                                                                                                                                                                                                                                                                                                                                                                                             | 61/150 [52:17<1:15:28, 50.88s/it, test/blurry_pixcorr=0, test/loss=14.6, test/loss_clip_total=1.29, test/loss_prior=0.444, test/num_steps=62, test/recon_cossim=0, test/recon_mse=0, test/test_bwd_pct_correct=0.733, test/test_fwd_pct_correct=0.703, train/blurry_pixcorr=0, train/bwd_pct_correct=0.999, train/fwd_pct_correct=0.999, train/loss=9.67, train/loss_blurry_cont_total=0, train/loss_blurry_total=0, train/loss_clip_total=0.00229, train/loss_prior=0.322, train/lr=0.000194, train/num_steps=17422, train/recon_cossim=0.763, train/recon_mse=0.322]"
     ]
    },
    {
     "name": "stdout",
     "output_type": "stream",
     "text": [
      "---\n",
      "\n",
      "---saved /weka/proj-fmri/jonxu/MindEye_Imagery/train_logs/base/last ckpt!---\n",
      "\n"
     ]
    },
    {
     "name": "stderr",
     "output_type": "stream",
     "text": [
      " 41%|██████████████████████████████████████████████████████████████████████████████████████████████████████████████████████████████████████████████████████████████████████████████████████████████████████████████████████████████████████████████████████████████████████████▏                                                                                                                                                                                                                                                                                                                                                                                         | 62/150 [53:07<1:14:03, 50.49s/it, test/blurry_pixcorr=0, test/loss=15.4, test/loss_clip_total=1.22, test/loss_prior=0.474, test/num_steps=63, test/recon_cossim=0, test/recon_mse=0, test/test_bwd_pct_correct=0.77, test/test_fwd_pct_correct=0.753, train/blurry_pixcorr=0, train/bwd_pct_correct=0.999, train/fwd_pct_correct=0.999, train/loss=9.54, train/loss_blurry_cont_total=0, train/loss_blurry_total=0, train/loss_clip_total=0.00253, train/loss_prior=0.318, train/lr=0.000191, train/num_steps=17703, train/recon_cossim=0.766, train/recon_mse=0.318]"
     ]
    },
    {
     "name": "stdout",
     "output_type": "stream",
     "text": [
      "---\n",
      "\n",
      "---saved /weka/proj-fmri/jonxu/MindEye_Imagery/train_logs/base/last ckpt!---\n",
      "\n"
     ]
    },
    {
     "name": "stderr",
     "output_type": "stream",
     "text": [
      " 42%|███████████████████████████████████████████████████████████████████████████████████████████████████████████████████████████████████████████████████████████████████████████████████████████████████████████████████████████████████████████████████████████████████████████████▎                                                                                                                                                                                                                                                                                                                                                                                      | 63/150 [53:56<1:12:56, 50.30s/it, test/blurry_pixcorr=0, test/loss=13.2, test/loss_clip_total=1.17, test/loss_prior=0.401, test/num_steps=64, test/recon_cossim=0, test/recon_mse=0, test/test_bwd_pct_correct=0.76, test/test_fwd_pct_correct=0.787, train/blurry_pixcorr=0, train/bwd_pct_correct=0.998, train/fwd_pct_correct=0.998, train/loss=9.4, train/loss_blurry_cont_total=0, train/loss_blurry_total=0, train/loss_clip_total=0.00331, train/loss_prior=0.313, train/lr=0.000188, train/num_steps=17984, train/recon_cossim=0.77, train/recon_mse=0.313]"
     ]
    },
    {
     "name": "stdout",
     "output_type": "stream",
     "text": [
      "---\n",
      "\n",
      "---saved /weka/proj-fmri/jonxu/MindEye_Imagery/train_logs/base/last ckpt!---\n",
      "\n"
     ]
    },
    {
     "name": "stderr",
     "output_type": "stream",
     "text": [
      " 43%|████████████████████████████████████████████████████████████████████████████████████████████████████████████████████████████████████████████████████████████████████████████████████████████████████████████████████████████████████████████████████████████████████████████████████                                                                                                                                                                                                                                                                                                                                                                                   | 64/150 [54:47<1:11:50, 50.12s/it, test/blurry_pixcorr=0, test/loss=13.9, test/loss_clip_total=1.18, test/loss_prior=0.424, test/num_steps=65, test/recon_cossim=0, test/recon_mse=0, test/test_bwd_pct_correct=0.773, test/test_fwd_pct_correct=0.72, train/blurry_pixcorr=0, train/bwd_pct_correct=0.996, train/fwd_pct_correct=0.996, train/loss=9.3, train/loss_blurry_cont_total=0, train/loss_blurry_total=0, train/loss_clip_total=0.00525, train/loss_prior=0.31, train/lr=0.000185, train/num_steps=18265, train/recon_cossim=0.773, train/recon_mse=0.31]"
     ]
    },
    {
     "name": "stdout",
     "output_type": "stream",
     "text": [
      "---\n",
      "\n",
      "---saved /weka/proj-fmri/jonxu/MindEye_Imagery/train_logs/base/last ckpt!---\n",
      "\n"
     ]
    },
    {
     "name": "stderr",
     "output_type": "stream",
     "text": [
      " 43%|███████████████████████████████████████████████████████████████████████████████████████████████████████████████████████████████████████████████████████████████████████████████████████████████████████████████████████████████████████████████████████████████████████████████████████▉                                                                                                                                                                                                                                                                                                                                                                              | 65/150 [55:37<1:11:18, 50.34s/it, test/blurry_pixcorr=0, test/loss=15, test/loss_clip_total=2.01, test/loss_prior=0.433, test/num_steps=66, test/recon_cossim=0, test/recon_mse=0, test/test_bwd_pct_correct=0.55, test/test_fwd_pct_correct=0.487, train/blurry_pixcorr=0, train/bwd_pct_correct=0.995, train/fwd_pct_correct=0.996, train/loss=8.93, train/loss_blurry_cont_total=0, train/loss_blurry_total=0, train/loss_clip_total=0.00871, train/loss_prior=0.297, train/lr=0.000182, train/num_steps=18546, train/recon_cossim=0.783, train/recon_mse=0.297]"
     ]
    },
    {
     "name": "stdout",
     "output_type": "stream",
     "text": [
      "---\n",
      "\n",
      "---saved /weka/proj-fmri/jonxu/MindEye_Imagery/train_logs/base/last ckpt!---\n",
      "\n"
     ]
    },
    {
     "name": "stderr",
     "output_type": "stream",
     "text": [
      " 44%|███████████████████████████████████████████████████████████████████████████████████████████████████████████████████████████████████████████████████████████████████████████████████████████████████████████████████████████████████████████████████████████████████████████████████████████▊                                                                                                                                                                                                                                                                                                                                                                         | 66/150 [56:25<1:09:59, 50.00s/it, test/blurry_pixcorr=0, test/loss=14.4, test/loss_clip_total=1.44, test/loss_prior=0.43, test/num_steps=67, test/recon_cossim=0, test/recon_mse=0, test/test_bwd_pct_correct=0.67, test/test_fwd_pct_correct=0.667, train/blurry_pixcorr=0, train/bwd_pct_correct=0.994, train/fwd_pct_correct=0.994, train/loss=8.98, train/loss_blurry_cont_total=0, train/loss_blurry_total=0, train/loss_clip_total=0.00947, train/loss_prior=0.299, train/lr=0.000179, train/num_steps=18827, train/recon_cossim=0.781, train/recon_mse=0.299]"
     ]
    },
    {
     "name": "stdout",
     "output_type": "stream",
     "text": [
      "---\n",
      "\n",
      "---saved /weka/proj-fmri/jonxu/MindEye_Imagery/train_logs/base/last ckpt!---\n",
      "\n"
     ]
    },
    {
     "name": "stderr",
     "output_type": "stream",
     "text": [
      " 45%|███████████████████████████████████████████████████████████████████████████████████████████████████████████████████████████████████████████████████████████████████████████████████████████████████████████████████████████████████████████████████████████████████████████████████████████████▏                                                                                                                                                                                                                                                                                                                                                                   | 67/150 [57:17<1:08:44, 49.70s/it, test/blurry_pixcorr=0, test/loss=14.2, test/loss_clip_total=1.35, test/loss_prior=0.428, test/num_steps=68, test/recon_cossim=0, test/recon_mse=0, test/test_bwd_pct_correct=0.707, test/test_fwd_pct_correct=0.677, train/blurry_pixcorr=0, train/bwd_pct_correct=0.999, train/fwd_pct_correct=0.999, train/loss=9.49, train/loss_blurry_cont_total=0, train/loss_blurry_total=0, train/loss_clip_total=0.00201, train/loss_prior=0.316, train/lr=0.000175, train/num_steps=19108, train/recon_cossim=0.768, train/recon_mse=0.316]"
     ]
    },
    {
     "name": "stdout",
     "output_type": "stream",
     "text": [
      "---\n",
      "\n",
      "---saved /weka/proj-fmri/jonxu/MindEye_Imagery/train_logs/base/last ckpt!---\n",
      "\n"
     ]
    },
    {
     "name": "stderr",
     "output_type": "stream",
     "text": [
      " 45%|███████████████████████████████████████████████████████████████████████████████████████████████████████████████████████████████████████████████████████████████████████████████████████████████████████████████████████████████████████████████████████████████████████████████████████████████████▉                                                                                                                                                                                                                                                                                                                                                                | 68/150 [58:07<1:08:54, 50.42s/it, test/blurry_pixcorr=0, test/loss=14.6, test/loss_clip_total=1.43, test/loss_prior=0.439, test/num_steps=69, test/recon_cossim=0, test/recon_mse=0, test/test_bwd_pct_correct=0.63, test/test_fwd_pct_correct=0.713, train/blurry_pixcorr=0, train/bwd_pct_correct=0.996, train/fwd_pct_correct=0.998, train/loss=9.37, train/loss_blurry_cont_total=0, train/loss_blurry_total=0, train/loss_clip_total=0.00596, train/loss_prior=0.312, train/lr=0.000172, train/num_steps=19389, train/recon_cossim=0.771, train/recon_mse=0.312]"
     ]
    },
    {
     "name": "stdout",
     "output_type": "stream",
     "text": [
      "---\n",
      "\n",
      "---saved /weka/proj-fmri/jonxu/MindEye_Imagery/train_logs/base/last ckpt!---\n",
      "\n"
     ]
    },
    {
     "name": "stderr",
     "output_type": "stream",
     "text": [
      " 46%|████████████████████████████████████████████████████████████████████████████████████████████████████████████████████████████████████████████████████████████████████████████████████████████████████████████████████████████████████████████████████████████████████████████████████████████████████████▏                                                                                                                                                                                                                                                                                                                                                           | 69/150 [58:58<1:07:59, 50.37s/it, test/blurry_pixcorr=0, test/loss=11.8, test/loss_clip_total=1.48, test/loss_prior=0.343, test/num_steps=70, test/recon_cossim=0, test/recon_mse=0, test/test_bwd_pct_correct=0.62, test/test_fwd_pct_correct=0.693, train/blurry_pixcorr=0, train/bwd_pct_correct=0.996, train/fwd_pct_correct=0.997, train/loss=8.88, train/loss_blurry_cont_total=0, train/loss_blurry_total=0, train/loss_clip_total=0.00739, train/loss_prior=0.296, train/lr=0.000169, train/num_steps=19670, train/recon_cossim=0.785, train/recon_mse=0.296]"
     ]
    },
    {
     "name": "stdout",
     "output_type": "stream",
     "text": [
      "---\n",
      "\n",
      "---saved /weka/proj-fmri/jonxu/MindEye_Imagery/train_logs/base/last ckpt!---\n",
      "\n"
     ]
    },
    {
     "name": "stderr",
     "output_type": "stream",
     "text": [
      " 47%|█████████████████████████████████████████████████████████████████████████████████████████████████████████████████████████████████████████████████████████████████████████████████████████████████████████████████████████████████████████████████████████████████████████████████████████████████████████████▍                                                                                                                                                                                                                                                                                                                                                        | 70/150 [59:47<1:06:58, 50.23s/it, test/blurry_pixcorr=0, test/loss=14.4, test/loss_clip_total=1.26, test/loss_prior=0.439, test/num_steps=71, test/recon_cossim=0, test/recon_mse=0, test/test_bwd_pct_correct=0.71, test/test_fwd_pct_correct=0.723, train/blurry_pixcorr=0, train/bwd_pct_correct=0.998, train/fwd_pct_correct=0.998, train/loss=8.45, train/loss_blurry_cont_total=0, train/loss_blurry_total=0, train/loss_clip_total=0.0034, train/loss_prior=0.282, train/lr=0.000166, train/num_steps=2e+4, train/recon_cossim=0.793, train/recon_mse=0.282]"
     ]
    },
    {
     "name": "stdout",
     "output_type": "stream",
     "text": [
      "---\n",
      "\n",
      "---saved /weka/proj-fmri/jonxu/MindEye_Imagery/train_logs/base/last ckpt!---\n",
      "\n"
     ]
    },
    {
     "name": "stderr",
     "output_type": "stream",
     "text": [
      " 47%|███████████████████████████████████████████████████████████████████████████████████████████████████████████████████████████████████████████████████████████████████████████████████████████████████████████████████████████████████████████████████████████████████████████████████████████████████████████████▍                                                                                                                                                                                                                                                                                                                                                 | 71/150 [1:00:37<1:05:52, 50.03s/it, test/blurry_pixcorr=0, test/loss=13.9, test/loss_clip_total=1.29, test/loss_prior=0.422, test/num_steps=72, test/recon_cossim=0, test/recon_mse=0, test/test_bwd_pct_correct=0.707, test/test_fwd_pct_correct=0.717, train/blurry_pixcorr=0, train/bwd_pct_correct=0.995, train/fwd_pct_correct=0.995, train/loss=8.59, train/loss_blurry_cont_total=0, train/loss_blurry_total=0, train/loss_clip_total=0.00951, train/loss_prior=0.286, train/lr=0.000163, train/num_steps=20232, train/recon_cossim=0.792, train/recon_mse=0.286]"
     ]
    },
    {
     "name": "stdout",
     "output_type": "stream",
     "text": [
      "---\n",
      "\n",
      "---saved /weka/proj-fmri/jonxu/MindEye_Imagery/train_logs/base/last ckpt!---\n",
      "\n"
     ]
    },
    {
     "name": "stderr",
     "output_type": "stream",
     "text": [
      " 48%|████████████████████████████████████████████████████████████████████████████████████████████████████████████████████████████████████████████████████████████████████████████████████████████████████████████████████████████████████████████████████████████████████████████████████████████████████████████████████▏                                                                                                                                                                                                                                                                                                                                             | 72/150 [1:01:27<1:04:54, 49.93s/it, test/blurry_pixcorr=0, test/loss=13.7, test/loss_clip_total=1.49, test/loss_prior=0.406, test/num_steps=73, test/recon_cossim=0, test/recon_mse=0, test/test_bwd_pct_correct=0.663, test/test_fwd_pct_correct=0.677, train/blurry_pixcorr=0, train/bwd_pct_correct=0.997, train/fwd_pct_correct=0.997, train/loss=8.66, train/loss_blurry_cont_total=0, train/loss_blurry_total=0, train/loss_clip_total=0.00638, train/loss_prior=0.289, train/lr=0.00016, train/num_steps=20513, train/recon_cossim=0.789, train/recon_mse=0.289]"
     ]
    },
    {
     "name": "stdout",
     "output_type": "stream",
     "text": [
      "---\n",
      "\n",
      "---saved /weka/proj-fmri/jonxu/MindEye_Imagery/train_logs/base/last ckpt!---\n",
      "\n"
     ]
    },
    {
     "name": "stderr",
     "output_type": "stream",
     "text": [
      " 49%|███████████████████████████████████████████████████████████████████████████████████████████████████████████████████████████████████████████████████████████████████████████████████████████████████████████████████████████████████████████████████████████████████████████████████████████████████████████████████████▉                                                                                                                                                                                                                                                                                                                                         | 73/150 [1:02:17<1:04:03, 49.92s/it, test/blurry_pixcorr=0, test/loss=15.8, test/loss_clip_total=1.41, test/loss_prior=0.479, test/num_steps=74, test/recon_cossim=0, test/recon_mse=0, test/test_bwd_pct_correct=0.687, test/test_fwd_pct_correct=0.697, train/blurry_pixcorr=0, train/bwd_pct_correct=0.997, train/fwd_pct_correct=0.997, train/loss=8.52, train/loss_blurry_cont_total=0, train/loss_blurry_total=0, train/loss_clip_total=0.00565, train/loss_prior=0.284, train/lr=0.000157, train/num_steps=20794, train/recon_cossim=0.793, train/recon_mse=0.284]"
     ]
    },
    {
     "name": "stdout",
     "output_type": "stream",
     "text": [
      "---\n",
      "\n",
      "---saved /weka/proj-fmri/jonxu/MindEye_Imagery/train_logs/base/last ckpt!---\n",
      "\n"
     ]
    },
    {
     "name": "stderr",
     "output_type": "stream",
     "text": [
      " 49%|████████████████████████████████████████████████████████████████████████████████████████████████████████████████████████████████████████████████████████████████████████████████████████████████████████████████████████████████████████████████████████████████████████████████████████████████████████████████████████████▏                                                                                                                                                                                                                                                                                                                                    | 74/150 [1:03:08<1:03:36, 50.22s/it, test/blurry_pixcorr=0, test/loss=15.8, test/loss_clip_total=1.24, test/loss_prior=0.485, test/num_steps=75, test/recon_cossim=0, test/recon_mse=0, test/test_bwd_pct_correct=0.737, test/test_fwd_pct_correct=0.733, train/blurry_pixcorr=0, train/bwd_pct_correct=0.999, train/fwd_pct_correct=0.999, train/loss=8.44, train/loss_blurry_cont_total=0, train/loss_blurry_total=0, train/loss_clip_total=0.00152, train/loss_prior=0.281, train/lr=0.000153, train/num_steps=21075, train/recon_cossim=0.794, train/recon_mse=0.281]"
     ]
    },
    {
     "name": "stdout",
     "output_type": "stream",
     "text": [
      "---\n",
      "\n",
      "---saved /weka/proj-fmri/jonxu/MindEye_Imagery/train_logs/base/last ckpt!---\n",
      "\n"
     ]
    },
    {
     "name": "stderr",
     "output_type": "stream",
     "text": [
      " 50%|██████████████████████████████████████████████████████████████████████████████████████████████████████████████████████████████████████████████████████████████████████████████████████████████████████████████████████████████████████████████████████████████████████████████████████████████████████████████████████████████████▌                                                                                                                                                                                                                                                                                                                                  | 75/150 [1:03:56<1:02:34, 50.06s/it, test/blurry_pixcorr=0, test/loss=13.3, test/loss_clip_total=1.18, test/loss_prior=0.405, test/num_steps=76, test/recon_cossim=0, test/recon_mse=0, test/test_bwd_pct_correct=0.747, test/test_fwd_pct_correct=0.76, train/blurry_pixcorr=0, train/bwd_pct_correct=0.996, train/fwd_pct_correct=0.997, train/loss=8.71, train/loss_blurry_cont_total=0, train/loss_blurry_total=0, train/loss_clip_total=0.00574, train/loss_prior=0.29, train/lr=0.00015, train/num_steps=21356, train/recon_cossim=0.788, train/recon_mse=0.29]"
     ]
    },
    {
     "name": "stdout",
     "output_type": "stream",
     "text": [
      "---\n",
      "\n",
      "---saved /weka/proj-fmri/jonxu/MindEye_Imagery/train_logs/base/last ckpt!---\n",
      "\n"
     ]
    },
    {
     "name": "stderr",
     "output_type": "stream",
     "text": [
      " 51%|█████████████████████████████████████████████████████████████████████████████████████████████████████████████████████████████████████████████████████████████████████████████████████████████████████████████████████████████████████████████████████████████████████████████████████████████████████████████████████████████████████▎                                                                                                                                                                                                                                                                                                                            | 76/150 [1:04:45<1:01:21, 49.75s/it, test/blurry_pixcorr=0, test/loss=15.5, test/loss_clip_total=1.14, test/loss_prior=0.48, test/num_steps=77, test/recon_cossim=0, test/recon_mse=0, test/test_bwd_pct_correct=0.767, test/test_fwd_pct_correct=0.747, train/blurry_pixcorr=0, train/bwd_pct_correct=0.997, train/fwd_pct_correct=0.997, train/loss=8.31, train/loss_blurry_cont_total=0, train/loss_blurry_total=0, train/loss_clip_total=0.00471, train/loss_prior=0.277, train/lr=0.000147, train/num_steps=21637, train/recon_cossim=0.798, train/recon_mse=0.277]"
     ]
    },
    {
     "name": "stdout",
     "output_type": "stream",
     "text": [
      "---\n",
      "\n",
      "---saved /weka/proj-fmri/jonxu/MindEye_Imagery/train_logs/base/last ckpt!---\n",
      "\n"
     ]
    },
    {
     "name": "stderr",
     "output_type": "stream",
     "text": [
      " 51%|█████████████████████████████████████████████████████████████████████████████████████████████████████████████████████████████████████████████████████████████████████████████████████████████████████████████████████████████████████████████████████████████████████████████████████████████████████████████████████████████████████████                                                                                                                                                                                                                                                                                                                        | 77/150 [1:05:34<1:00:13, 49.50s/it, test/blurry_pixcorr=0, test/loss=14.5, test/loss_clip_total=1.18, test/loss_prior=0.444, test/num_steps=78, test/recon_cossim=0, test/recon_mse=0, test/test_bwd_pct_correct=0.763, test/test_fwd_pct_correct=0.737, train/blurry_pixcorr=0, train/bwd_pct_correct=0.998, train/fwd_pct_correct=0.998, train/loss=8.23, train/loss_blurry_cont_total=0, train/loss_blurry_total=0, train/loss_clip_total=0.00367, train/loss_prior=0.274, train/lr=0.000144, train/num_steps=21918, train/recon_cossim=0.799, train/recon_mse=0.274]"
     ]
    },
    {
     "name": "stdout",
     "output_type": "stream",
     "text": [
      "---\n",
      "\n",
      "---saved /weka/proj-fmri/jonxu/MindEye_Imagery/train_logs/base/last ckpt!---\n",
      "\n"
     ]
    },
    {
     "name": "stderr",
     "output_type": "stream",
     "text": [
      " 52%|███████████████████████████████████████████████████████████████████████████████████████████████████████████████████████████████████████████████████████████████████████████████████████████████████████████████████████████████████████████████████████████████████████████████████████████████████████████████████████████████████████████████▍                                                                                                                                                                                                                                                                                                                     | 78/150 [1:06:23<59:11, 49.32s/it, test/blurry_pixcorr=0, test/loss=13.9, test/loss_clip_total=1.25, test/loss_prior=0.42, test/num_steps=79, test/recon_cossim=0, test/recon_mse=0, test/test_bwd_pct_correct=0.753, test/test_fwd_pct_correct=0.72, train/blurry_pixcorr=0, train/bwd_pct_correct=0.996, train/fwd_pct_correct=0.996, train/loss=8.01, train/loss_blurry_cont_total=0, train/loss_blurry_total=0, train/loss_clip_total=0.00924, train/loss_prior=0.267, train/lr=0.000141, train/num_steps=22199, train/recon_cossim=0.806, train/recon_mse=0.267]"
     ]
    },
    {
     "name": "stdout",
     "output_type": "stream",
     "text": [
      "---\n",
      "\n",
      "---saved /weka/proj-fmri/jonxu/MindEye_Imagery/train_logs/base/last ckpt!---\n",
      "\n"
     ]
    },
    {
     "name": "stderr",
     "output_type": "stream",
     "text": [
      " 53%|█████████████████████████████████████████████████████████████████████████████████████████████████████████████████████████████████████████████████████████████████████████████████████████████████████████████████████████████████████████████████████████████████████████████████████████████████████████████████████████████████████████████████████▎                                                                                                                                                                                                                                                                                                                  | 79/150 [1:07:12<58:13, 49.21s/it, test/blurry_pixcorr=0, test/loss=14.2, test/loss_clip_total=1.27, test/loss_prior=0.43, test/num_steps=80, test/recon_cossim=0, test/recon_mse=0, test/test_bwd_pct_correct=0.767, test/test_fwd_pct_correct=0.69, train/blurry_pixcorr=0, train/bwd_pct_correct=0.999, train/fwd_pct_correct=0.998, train/loss=8.2, train/loss_blurry_cont_total=0, train/loss_blurry_total=0, train/loss_clip_total=0.00261, train/loss_prior=0.273, train/lr=0.000137, train/num_steps=22480, train/recon_cossim=0.8, train/recon_mse=0.273]"
     ]
    },
    {
     "name": "stdout",
     "output_type": "stream",
     "text": [
      "---\n",
      "\n",
      "---saved /weka/proj-fmri/jonxu/MindEye_Imagery/train_logs/base/last ckpt!---\n",
      "\n"
     ]
    },
    {
     "name": "stderr",
     "output_type": "stream",
     "text": [
      " 53%|████████████████████████████████████████████████████████████████████████████████████████████████████████████████████████████████████████████████████████████████████████████████████████████████████████████████████████████████████████████████████████████████████████████████████████████████████████████████████████████████████████████████████████▌                                                                                                                                                                                                                                                                                                             | 80/150 [1:08:02<57:29, 49.28s/it, test/blurry_pixcorr=0, test/loss=12.5, test/loss_clip_total=1.17, test/loss_prior=0.379, test/num_steps=81, test/recon_cossim=0, test/recon_mse=0, test/test_bwd_pct_correct=0.78, test/test_fwd_pct_correct=0.717, train/blurry_pixcorr=0, train/bwd_pct_correct=0.996, train/fwd_pct_correct=0.996, train/loss=8.09, train/loss_blurry_cont_total=0, train/loss_blurry_total=0, train/loss_clip_total=0.00515, train/loss_prior=0.27, train/lr=0.000134, train/num_steps=22761, train/recon_cossim=0.803, train/recon_mse=0.27]"
     ]
    },
    {
     "name": "stdout",
     "output_type": "stream",
     "text": [
      "---\n",
      "\n",
      "---saved /weka/proj-fmri/jonxu/MindEye_Imagery/train_logs/base/last ckpt!---\n",
      "\n"
     ]
    },
    {
     "name": "stderr",
     "output_type": "stream",
     "text": [
      " 54%|███████████████████████████████████████████████████████████████████████████████████████████████████████████████████████████████████████████████████████████████████████████████████████████████████████████████████████████████████████████████████████████████████████████████████████████████████████████████████████████████████████████████████████████▏                                                                                                                                                                                                                                                                                                       | 81/150 [1:08:51<56:38, 49.25s/it, test/blurry_pixcorr=0, test/loss=13.8, test/loss_clip_total=1.12, test/loss_prior=0.422, test/num_steps=82, test/recon_cossim=0, test/recon_mse=0, test/test_bwd_pct_correct=0.773, test/test_fwd_pct_correct=0.727, train/blurry_pixcorr=0, train/bwd_pct_correct=0.994, train/fwd_pct_correct=0.994, train/loss=8.15, train/loss_blurry_cont_total=0, train/loss_blurry_total=0, train/loss_clip_total=0.00902, train/loss_prior=0.271, train/lr=0.000131, train/num_steps=23042, train/recon_cossim=0.802, train/recon_mse=0.271]"
     ]
    },
    {
     "name": "stdout",
     "output_type": "stream",
     "text": [
      "---\n",
      "\n",
      "---saved /weka/proj-fmri/jonxu/MindEye_Imagery/train_logs/base/last ckpt!---\n",
      "\n"
     ]
    },
    {
     "name": "stderr",
     "output_type": "stream",
     "text": [
      " 55%|████████████████████████████████████████████████████████████████████████████████████████████████████████████████████████████████████████████████████████████████████████████████████████████████████████████████████████████████████████████████████████████████████████████████████████████████████████████████████████████████████████████████████████████████                                                                                                                                                                                                                                                                                                    | 82/150 [1:09:40<55:49, 49.26s/it, test/blurry_pixcorr=0, test/loss=12.6, test/loss_clip_total=1.14, test/loss_prior=0.384, test/num_steps=83, test/recon_cossim=0, test/recon_mse=0, test/test_bwd_pct_correct=0.747, test/test_fwd_pct_correct=0.76, train/blurry_pixcorr=0, train/bwd_pct_correct=0.997, train/fwd_pct_correct=0.997, train/loss=7.75, train/loss_blurry_cont_total=0, train/loss_blurry_total=0, train/loss_clip_total=0.00478, train/loss_prior=0.258, train/lr=0.000128, train/num_steps=23323, train/recon_cossim=0.811, train/recon_mse=0.258]"
     ]
    },
    {
     "name": "stdout",
     "output_type": "stream",
     "text": [
      "---\n",
      "\n",
      "---saved /weka/proj-fmri/jonxu/MindEye_Imagery/train_logs/base/last ckpt!---\n",
      "\n"
     ]
    },
    {
     "name": "stderr",
     "output_type": "stream",
     "text": [
      " 55%|███████████████████████████████████████████████████████████████████████████████████████████████████████████████████████████████████████████████████████████████████████████████████████████████████████████████████████████████████████████████████████████████████████████████████████████████████████████████████████████████████████████████████████████████████▊                                                                                                                                                                                                                                                                                               | 83/150 [1:10:29<54:56, 49.21s/it, test/blurry_pixcorr=0, test/loss=15.4, test/loss_clip_total=1.12, test/loss_prior=0.477, test/num_steps=84, test/recon_cossim=0, test/recon_mse=0, test/test_bwd_pct_correct=0.767, test/test_fwd_pct_correct=0.733, train/blurry_pixcorr=0, train/bwd_pct_correct=0.998, train/fwd_pct_correct=0.998, train/loss=7.74, train/loss_blurry_cont_total=0, train/loss_blurry_total=0, train/loss_clip_total=0.00269, train/loss_prior=0.258, train/lr=0.000125, train/num_steps=23604, train/recon_cossim=0.811, train/recon_mse=0.258]"
     ]
    },
    {
     "name": "stdout",
     "output_type": "stream",
     "text": [
      "---\n",
      "\n",
      "---saved /weka/proj-fmri/jonxu/MindEye_Imagery/train_logs/base/last ckpt!---\n",
      "\n"
     ]
    },
    {
     "name": "stderr",
     "output_type": "stream",
     "text": [
      " 56%|█████████████████████████████████████████████████████████████████████████████████████████████████████████████████████████████████████████████████████████████████████████████████████████████████████████████████████████████████████████████████████████████████████████████████████████████████████████████████████████████████████████████████████████████████████████▏                                                                                                                                                                                                                                                                                           | 84/150 [1:11:18<54:09, 49.23s/it, test/blurry_pixcorr=0, test/loss=14.7, test/loss_clip_total=1.11, test/loss_prior=0.454, test/num_steps=85, test/recon_cossim=0, test/recon_mse=0, test/test_bwd_pct_correct=0.75, test/test_fwd_pct_correct=0.76, train/blurry_pixcorr=0, train/bwd_pct_correct=0.996, train/fwd_pct_correct=0.996, train/loss=7.65, train/loss_blurry_cont_total=0, train/loss_blurry_total=0, train/loss_clip_total=0.00641, train/loss_prior=0.255, train/lr=0.000122, train/num_steps=23885, train/recon_cossim=0.813, train/recon_mse=0.255]"
     ]
    },
    {
     "name": "stdout",
     "output_type": "stream",
     "text": [
      "---\n",
      "\n",
      "---saved /weka/proj-fmri/jonxu/MindEye_Imagery/train_logs/base/last ckpt!---\n",
      "\n"
     ]
    },
    {
     "name": "stderr",
     "output_type": "stream",
     "text": [
      " 57%|████████████████████████████████████████████████████████████████████████████████████████████████████████████████████████████████████████████████████████████████████████████████████████████████████████████████████████████████████████████████████████████████████████████████████████████████████████████████████████████████████████████████████████████████████████████▎                                                                                                                                                                                                                                                                                      | 85/150 [1:12:07<53:18, 49.20s/it, test/blurry_pixcorr=0, test/loss=14.7, test/loss_clip_total=1.14, test/loss_prior=0.451, test/num_steps=86, test/recon_cossim=0, test/recon_mse=0, test/test_bwd_pct_correct=0.747, test/test_fwd_pct_correct=0.723, train/blurry_pixcorr=0, train/bwd_pct_correct=0.997, train/fwd_pct_correct=0.997, train/loss=7.69, train/loss_blurry_cont_total=0, train/loss_blurry_total=0, train/loss_clip_total=0.00416, train/loss_prior=0.256, train/lr=0.000119, train/num_steps=24166, train/recon_cossim=0.812, train/recon_mse=0.256]"
     ]
    },
    {
     "name": "stdout",
     "output_type": "stream",
     "text": [
      "---\n",
      "\n",
      "---saved /weka/proj-fmri/jonxu/MindEye_Imagery/train_logs/base/last ckpt!---\n",
      "\n"
     ]
    },
    {
     "name": "stderr",
     "output_type": "stream",
     "text": [
      " 57%|██████████████████████████████████████████████████████████████████████████████████████████████████████████████████████████████████████████████████████████████████████████████████████████████████████████████████████████████████████████████████████████████████████████████████████████████████████████████████████████████████████████████████████████████████████████████████▎                                                                                                                                                                                                                                                                                   | 86/150 [1:12:57<52:29, 49.21s/it, test/blurry_pixcorr=0, test/loss=13.8, test/loss_clip_total=1.08, test/loss_prior=0.422, test/num_steps=87, test/recon_cossim=0, test/recon_mse=0, test/test_bwd_pct_correct=0.777, test/test_fwd_pct_correct=0.757, train/blurry_pixcorr=0, train/bwd_pct_correct=0.996, train/fwd_pct_correct=0.996, train/loss=7.8, train/loss_blurry_cont_total=0, train/loss_blurry_total=0, train/loss_clip_total=0.00591, train/loss_prior=0.26, train/lr=0.000115, train/num_steps=24447, train/recon_cossim=0.808, train/recon_mse=0.26]"
     ]
    },
    {
     "name": "stdout",
     "output_type": "stream",
     "text": [
      "---\n",
      "\n",
      "---saved /weka/proj-fmri/jonxu/MindEye_Imagery/train_logs/base/last ckpt!---\n",
      "\n"
     ]
    },
    {
     "name": "stderr",
     "output_type": "stream",
     "text": [
      " 58%|█████████████████████████████████████████████████████████████████████████████████████████████████████████████████████████████████████████████████████████████████████████████████████████████████████████████████████████████████████████████████████████████████████████████████████████████████████████████████████████████████████████████████████████████████████████████████████▌                                                                                                                                                                                                                                                                              | 87/150 [1:13:47<51:49, 49.35s/it, test/blurry_pixcorr=0, test/loss=15.8, test/loss_clip_total=1.12, test/loss_prior=0.491, test/num_steps=88, test/recon_cossim=0, test/recon_mse=0, test/test_bwd_pct_correct=0.743, test/test_fwd_pct_correct=0.76, train/blurry_pixcorr=0, train/bwd_pct_correct=0.997, train/fwd_pct_correct=0.997, train/loss=7.69, train/loss_blurry_cont_total=0, train/loss_blurry_total=0, train/loss_clip_total=0.00464, train/loss_prior=0.256, train/lr=0.000112, train/num_steps=24728, train/recon_cossim=0.812, train/recon_mse=0.256]"
     ]
    },
    {
     "name": "stdout",
     "output_type": "stream",
     "text": [
      "---\n",
      "\n",
      "---saved /weka/proj-fmri/jonxu/MindEye_Imagery/train_logs/base/last ckpt!---\n",
      "\n"
     ]
    },
    {
     "name": "stderr",
     "output_type": "stream",
     "text": [
      " 59%|██████████████████████████████████████████████████████████████████████████████████████████████████████████████████████████████████████████████████████████████████████████████████████████████████████████████████████████████████████████████████████████████████████████████████████████████████████████████████████████████████████████████████████████████████████████████████████████▍                                                                                                                                                                                                                                                                          | 88/150 [1:14:36<50:43, 49.10s/it, test/blurry_pixcorr=0, test/loss=13.1, test/loss_clip_total=1.09, test/loss_prior=0.399, test/num_steps=89, test/recon_cossim=0, test/recon_mse=0, test/test_bwd_pct_correct=0.73, test/test_fwd_pct_correct=0.81, train/blurry_pixcorr=0, train/bwd_pct_correct=0.994, train/fwd_pct_correct=0.995, train/loss=7.62, train/loss_blurry_cont_total=0, train/loss_blurry_total=0, train/loss_clip_total=0.00915, train/loss_prior=0.254, train/lr=0.000109, train/num_steps=25009, train/recon_cossim=0.814, train/recon_mse=0.254]"
     ]
    },
    {
     "name": "stdout",
     "output_type": "stream",
     "text": [
      "---\n",
      "\n",
      "---saved /weka/proj-fmri/jonxu/MindEye_Imagery/train_logs/base/last ckpt!---\n",
      "\n"
     ]
    },
    {
     "name": "stderr",
     "output_type": "stream",
     "text": [
      " 59%|██████████████████████████████████████████████████████████████████████████████████████████████████████████████████████████████████████████████████████████████████████████████████████████████████████████████████████████████████████████████████████████████████████████████████████████████████████████████████████████████████████████████████████████████████████████████████████████████                                                                                                                                                                                                                                                                      | 89/150 [1:15:27<50:07, 49.31s/it, test/blurry_pixcorr=0, test/loss=15.2, test/loss_clip_total=1.1, test/loss_prior=0.468, test/num_steps=90, test/recon_cossim=0, test/recon_mse=0, test/test_bwd_pct_correct=0.747, test/test_fwd_pct_correct=0.817, train/blurry_pixcorr=0, train/bwd_pct_correct=0.996, train/fwd_pct_correct=0.995, train/loss=7.14, train/loss_blurry_cont_total=0, train/loss_blurry_total=0, train/loss_clip_total=0.00887, train/loss_prior=0.238, train/lr=0.000106, train/num_steps=25290, train/recon_cossim=0.825, train/recon_mse=0.238]"
     ]
    },
    {
     "name": "stdout",
     "output_type": "stream",
     "text": [
      "---\n",
      "\n",
      "---saved /weka/proj-fmri/jonxu/MindEye_Imagery/train_logs/base/last ckpt!---\n",
      "\n"
     ]
    },
    {
     "name": "stderr",
     "output_type": "stream",
     "text": [
      " 60%|███████████████████████████████████████████████████████████████████████████████████████████████████████████████████████████████████████████████████████████████████████████████████████████████████████████████████████████████████████████████████████████████████████████████████████████████████████████████████████████████████████████████████████████████████████████████████████████████████                                                                                                                                                                                                                                                                  | 90/150 [1:16:16<49:45, 49.76s/it, test/blurry_pixcorr=0, test/loss=15.1, test/loss_clip_total=1.1, test/loss_prior=0.468, test/num_steps=91, test/recon_cossim=0, test/recon_mse=0, test/test_bwd_pct_correct=0.713, test/test_fwd_pct_correct=0.81, train/blurry_pixcorr=0, train/bwd_pct_correct=0.999, train/fwd_pct_correct=0.999, train/loss=7.82, train/loss_blurry_cont_total=0, train/loss_blurry_total=0, train/loss_clip_total=0.00227, train/loss_prior=0.261, train/lr=0.000103, train/num_steps=25571, train/recon_cossim=0.808, train/recon_mse=0.261]"
     ]
    },
    {
     "name": "stdout",
     "output_type": "stream",
     "text": [
      "---\n",
      "\n",
      "---saved /weka/proj-fmri/jonxu/MindEye_Imagery/train_logs/base/last ckpt!---\n",
      "\n"
     ]
    },
    {
     "name": "stderr",
     "output_type": "stream",
     "text": [
      " 61%|███████████████████████████████████████████████████████████████████████████████████████████████████████████████████████████████████████████████████████████████████████████████████████████████████████████████████████████████████████████████████████████████████████████████████████████████████████████████████████████████████████████████████████████████████████████████████████████████████████▉                                                                                                                                                                                                                                                              | 91/150 [1:17:05<48:47, 49.63s/it, test/blurry_pixcorr=0, test/loss=14.5, test/loss_clip_total=1.19, test/loss_prior=0.445, test/num_steps=92, test/recon_cossim=0, test/recon_mse=0, test/test_bwd_pct_correct=0.707, test/test_fwd_pct_correct=0.78, train/blurry_pixcorr=0, train/bwd_pct_correct=0.996, train/fwd_pct_correct=0.997, train/loss=7.43, train/loss_blurry_cont_total=0, train/loss_blurry_total=0, train/loss_clip_total=0.00729, train/loss_prior=0.248, train/lr=0.0001, train/num_steps=25852, train/recon_cossim=0.818, train/recon_mse=0.248]"
     ]
    },
    {
     "name": "stdout",
     "output_type": "stream",
     "text": [
      "---\n",
      "\n",
      "---saved /weka/proj-fmri/jonxu/MindEye_Imagery/train_logs/base/last ckpt!---\n",
      "\n"
     ]
    },
    {
     "name": "stderr",
     "output_type": "stream",
     "text": [
      " 61%|███████████████████████████████████████████████████████████████████████████████████████████████████████████████████████████████████████████████████████████████████████████████████████████████████████████████████████████████████████████████████████████████████████████████████████████████████████████████████████████████████████████████████████████████████████████████████████████████████████████▌                                                                                                                                                                                                                                                         | 92/150 [1:17:54<47:47, 49.43s/it, test/blurry_pixcorr=0, test/loss=16.6, test/loss_clip_total=1.11, test/loss_prior=0.516, test/num_steps=93, test/recon_cossim=0, test/recon_mse=0, test/test_bwd_pct_correct=0.74, test/test_fwd_pct_correct=0.803, train/blurry_pixcorr=0, train/bwd_pct_correct=0.997, train/fwd_pct_correct=0.997, train/loss=6.82, train/loss_blurry_cont_total=0, train/loss_blurry_total=0, train/loss_clip_total=0.00571, train/loss_prior=0.227, train/lr=9.72e-5, train/num_steps=26133, train/recon_cossim=0.833, train/recon_mse=0.227]"
     ]
    },
    {
     "name": "stdout",
     "output_type": "stream",
     "text": [
      "---\n",
      "\n",
      "---saved /weka/proj-fmri/jonxu/MindEye_Imagery/train_logs/base/last ckpt!---\n",
      "\n"
     ]
    },
    {
     "name": "stderr",
     "output_type": "stream",
     "text": [
      " 62%|████████████████████████████████████████████████████████████████████████████████████████████████████████████████████████████████████████████████████████████████████████████████████████████████████████████████████████████████████████████████████████████████████████████████████████████████████████████████████████████████████████████████████████████████████████████████████████████████████████████████▌                                                                                                                                                                                                                                                     | 93/150 [1:18:44<47:04, 49.55s/it, test/blurry_pixcorr=0, test/loss=15, test/loss_clip_total=1.05, test/loss_prior=0.466, test/num_steps=94, test/recon_cossim=0, test/recon_mse=0, test/test_bwd_pct_correct=0.747, test/test_fwd_pct_correct=0.787, train/blurry_pixcorr=0, train/bwd_pct_correct=0.997, train/fwd_pct_correct=0.997, train/loss=7.62, train/loss_blurry_cont_total=0, train/loss_blurry_total=0, train/loss_clip_total=0.00458, train/loss_prior=0.254, train/lr=9.42e-5, train/num_steps=26414, train/recon_cossim=0.813, train/recon_mse=0.254]"
     ]
    },
    {
     "name": "stdout",
     "output_type": "stream",
     "text": [
      "---\n",
      "\n",
      "---saved /weka/proj-fmri/jonxu/MindEye_Imagery/train_logs/base/last ckpt!---\n",
      "\n"
     ]
    },
    {
     "name": "stderr",
     "output_type": "stream",
     "text": [
      " 63%|██████████████████████████████████████████████████████████████████████████████████████████████████████████████████████████████████████████████████████████████████████████████████████████████████████████████████████████████████████████████████████████████████████████████████████████████████████████████████████████████████████████████████████████████████████████████████████████████████████████████████▉                                                                                                                                                                                                                                                | 94/150 [1:19:33<46:10, 49.48s/it, test/blurry_pixcorr=0, test/loss=14.7, test/loss_clip_total=0.985, test/loss_prior=0.456, test/num_steps=95, test/recon_cossim=0, test/recon_mse=0, test/test_bwd_pct_correct=0.787, test/test_fwd_pct_correct=0.807, train/blurry_pixcorr=0, train/bwd_pct_correct=0.997, train/fwd_pct_correct=0.997, train/loss=6.99, train/loss_blurry_cont_total=0, train/loss_blurry_total=0, train/loss_clip_total=0.00398, train/loss_prior=0.233, train/lr=9.13e-5, train/num_steps=26695, train/recon_cossim=0.828, train/recon_mse=0.233]"
     ]
    },
    {
     "name": "stdout",
     "output_type": "stream",
     "text": [
      "---\n",
      "\n",
      "---saved /weka/proj-fmri/jonxu/MindEye_Imagery/train_logs/base/last ckpt!---\n",
      "\n"
     ]
    },
    {
     "name": "stderr",
     "output_type": "stream",
     "text": [
      " 63%|███████████████████████████████████████████████████████████████████████████████████████████████████████████████████████████████████████████████████████████████████████████████████████████████████████████████████████████████████████████████████████████████████████████████████████████████████████████████████████████████████████████████████████████████████████████████████████████████████████████████████████████                                                                                                                                                                                                                                              | 95/150 [1:20:22<45:07, 49.22s/it, test/blurry_pixcorr=0, test/loss=13, test/loss_clip_total=1.03, test/loss_prior=0.398, test/num_steps=96, test/recon_cossim=0, test/recon_mse=0, test/test_bwd_pct_correct=0.73, test/test_fwd_pct_correct=0.8, train/blurry_pixcorr=0, train/bwd_pct_correct=0.997, train/fwd_pct_correct=0.997, train/loss=7.41, train/loss_blurry_cont_total=0, train/loss_blurry_total=0, train/loss_clip_total=0.00433, train/loss_prior=0.247, train/lr=8.84e-5, train/num_steps=26976, train/recon_cossim=0.817, train/recon_mse=0.247]"
     ]
    },
    {
     "name": "stdout",
     "output_type": "stream",
     "text": [
      "---\n",
      "\n",
      "---saved /weka/proj-fmri/jonxu/MindEye_Imagery/train_logs/base/last ckpt!---\n",
      "\n"
     ]
    },
    {
     "name": "stderr",
     "output_type": "stream",
     "text": [
      " 64%|████████████████████████████████████████████████████████████████████████████████████████████████████████████████████████████████████████████████████████████████████████████████████████████████████████████████████████████████████████████████████████████████████████████████████████████████████████████████████████████████████████████████████████████████████████████████████████████████████████████████████████████▏                                                                                                                                                                                                                                       | 96/150 [1:21:11<44:22, 49.30s/it, test/blurry_pixcorr=0, test/loss=14.1, test/loss_clip_total=0.986, test/loss_prior=0.437, test/num_steps=97, test/recon_cossim=0, test/recon_mse=0, test/test_bwd_pct_correct=0.75, test/test_fwd_pct_correct=0.817, train/blurry_pixcorr=0, train/bwd_pct_correct=0.998, train/fwd_pct_correct=0.998, train/loss=6.93, train/loss_blurry_cont_total=0, train/loss_blurry_total=0, train/loss_clip_total=0.00348, train/loss_prior=0.231, train/lr=8.55e-5, train/num_steps=27257, train/recon_cossim=0.829, train/recon_mse=0.231]"
     ]
    },
    {
     "name": "stdout",
     "output_type": "stream",
     "text": [
      "---\n",
      "\n",
      "---saved /weka/proj-fmri/jonxu/MindEye_Imagery/train_logs/base/last ckpt!---\n",
      "\n"
     ]
    },
    {
     "name": "stderr",
     "output_type": "stream",
     "text": [
      " 65%|██████████████████████████████████████████████████████████████████████████████████████████████████████████████████████████████████████████████████████████████████████████████████████████████████████████████████████████████████████████████████████████████████████████████████████████████████████████████████████████████████████████████████████████████████████████████████████████████████████████████████████████████████████▎                                                                                                                                                                                                                                      | 97/150 [1:22:02<43:26, 49.18s/it, test/blurry_pixcorr=0, test/loss=9.84, test/loss_clip_total=0.96, test/loss_prior=0.296, test/num_steps=98, test/recon_cossim=0, test/recon_mse=0, test/test_bwd_pct_correct=0.78, test/test_fwd_pct_correct=0.813, train/blurry_pixcorr=0, train/bwd_pct_correct=1, train/fwd_pct_correct=1, train/loss=7.17, train/loss_blurry_cont_total=0, train/loss_blurry_total=0, train/loss_clip_total=0.00131, train/loss_prior=0.239, train/lr=8.26e-5, train/num_steps=27538, train/recon_cossim=0.823, train/recon_mse=0.239]"
     ]
    },
    {
     "name": "stdout",
     "output_type": "stream",
     "text": [
      "---\n",
      "\n",
      "---saved /weka/proj-fmri/jonxu/MindEye_Imagery/train_logs/base/last ckpt!---\n",
      "\n"
     ]
    },
    {
     "name": "stderr",
     "output_type": "stream",
     "text": [
      " 65%|██████████████████████████████████████████████████████████████████████████████████████████████████████████████████████████████████████████████████████████████████████████████████████████████████████████████████████████████████████████████████████████████████████████████████████████████████████████████████████████████████████████████████████████████████████████████████████████████████████████████████████████████████████▋                                                                                                                                                                                                                                | 98/150 [1:22:51<42:55, 49.54s/it, test/blurry_pixcorr=0, test/loss=14.9, test/loss_clip_total=0.953, test/loss_prior=0.464, test/num_steps=99, test/recon_cossim=0, test/recon_mse=0, test/test_bwd_pct_correct=0.783, test/test_fwd_pct_correct=0.82, train/blurry_pixcorr=0, train/bwd_pct_correct=0.998, train/fwd_pct_correct=0.998, train/loss=7.21, train/loss_blurry_cont_total=0, train/loss_blurry_total=0, train/loss_clip_total=0.0027, train/loss_prior=0.24, train/lr=7.98e-5, train/num_steps=27819, train/recon_cossim=0.822, train/recon_mse=0.24]"
     ]
    },
    {
     "name": "stdout",
     "output_type": "stream",
     "text": [
      "---\n",
      "\n",
      "---saved /weka/proj-fmri/jonxu/MindEye_Imagery/train_logs/base/last ckpt!---\n",
      "\n"
     ]
    },
    {
     "name": "stderr",
     "output_type": "stream",
     "text": [
      " 66%|███████████████████████████████████████████████████████████████████████████████████████████████████████████████████████████████████████████████████████████████████████████████████████████████████████████████████████████████████████████████████████████████████████████████████████████████████████████████████████████████████████████████████████████████████████████████████████████████████████████████████████████████████████████                                                                                                                                                                                                                            | 99/150 [1:23:42<42:16, 49.73s/it, test/blurry_pixcorr=0, test/loss=13.3, test/loss_clip_total=0.958, test/loss_prior=0.412, test/num_steps=100, test/recon_cossim=0, test/recon_mse=0, test/test_bwd_pct_correct=0.78, test/test_fwd_pct_correct=0.82, train/blurry_pixcorr=0, train/bwd_pct_correct=0.997, train/fwd_pct_correct=0.997, train/loss=6.7, train/loss_blurry_cont_total=0, train/loss_blurry_total=0, train/loss_clip_total=0.0058, train/loss_prior=0.223, train/lr=7.7e-5, train/num_steps=28100, train/recon_cossim=0.835, train/recon_mse=0.223]"
     ]
    },
    {
     "name": "stdout",
     "output_type": "stream",
     "text": [
      "---\n",
      "\n",
      "---saved /weka/proj-fmri/jonxu/MindEye_Imagery/train_logs/base/last ckpt!---\n",
      "\n"
     ]
    },
    {
     "name": "stderr",
     "output_type": "stream",
     "text": [
      " 67%|█████████████████████████████████████████████████████████████████████████████████████████████████████████████████████████████████████████████████████████████████████████████████████████████████████████████████████████████████████████████████████████████████████████████████████████████████████████████████████████████████████████████████████████████████████████████████████████████████████████████████████████████████████████████▎                                                                                                                                                                                                                      | 100/150 [1:24:33<41:30, 49.82s/it, test/blurry_pixcorr=0, test/loss=14, test/loss_clip_total=0.962, test/loss_prior=0.435, test/num_steps=101, test/recon_cossim=0, test/recon_mse=0, test/test_bwd_pct_correct=0.78, test/test_fwd_pct_correct=0.817, train/blurry_pixcorr=0, train/bwd_pct_correct=0.998, train/fwd_pct_correct=0.998, train/loss=6.82, train/loss_blurry_cont_total=0, train/loss_blurry_total=0, train/loss_clip_total=0.00341, train/loss_prior=0.227, train/lr=7.42e-5, train/num_steps=28381, train/recon_cossim=0.831, train/recon_mse=0.227]"
     ]
    },
    {
     "name": "stdout",
     "output_type": "stream",
     "text": [
      "---\n",
      "\n",
      "---saved /weka/proj-fmri/jonxu/MindEye_Imagery/train_logs/base/last ckpt!---\n",
      "\n"
     ]
    },
    {
     "name": "stderr",
     "output_type": "stream",
     "text": [
      " 67%|████████████████████████████████████████████████████████████████████████████████████████████████████████████████████████████████████████████████████████████████████████████████████████████████████████████████████████████████████████████████████████████████████████████████████████████████████████████████████████████████████████████████████████████████████████████████████████████████████████████████████████████████████████████████▎                                                                                                                                                                                                                 | 101/150 [1:25:23<41:03, 50.27s/it, test/blurry_pixcorr=0, test/loss=14.2, test/loss_clip_total=0.958, test/loss_prior=0.443, test/num_steps=102, test/recon_cossim=0, test/recon_mse=0, test/test_bwd_pct_correct=0.773, test/test_fwd_pct_correct=0.793, train/blurry_pixcorr=0, train/bwd_pct_correct=0.998, train/fwd_pct_correct=0.998, train/loss=6.57, train/loss_blurry_cont_total=0, train/loss_blurry_total=0, train/loss_clip_total=0.0033, train/loss_prior=0.219, train/lr=7.15e-5, train/num_steps=28662, train/recon_cossim=0.837, train/recon_mse=0.219]"
     ]
    },
    {
     "name": "stdout",
     "output_type": "stream",
     "text": [
      "---\n",
      "\n",
      "---saved /weka/proj-fmri/jonxu/MindEye_Imagery/train_logs/base/last ckpt!---\n",
      "\n"
     ]
    },
    {
     "name": "stderr",
     "output_type": "stream",
     "text": [
      " 68%|█████████████████████████████████████████████████████████████████████████████████████████████████████████████████████████████████████████████████████████████████████████████████████████████████████████████████████████████████████████████████████████████████████████████████████████████████████████████████████████████████████████████████████████████████████████████████████████████████████████████████████████████████████████████████████▏                                                                                                                                                                                                             | 102/150 [1:26:13<40:07, 50.16s/it, test/blurry_pixcorr=0, test/loss=15.1, test/loss_clip_total=0.95, test/loss_prior=0.471, test/num_steps=103, test/recon_cossim=0, test/recon_mse=0, test/test_bwd_pct_correct=0.787, test/test_fwd_pct_correct=0.79, train/blurry_pixcorr=0, train/bwd_pct_correct=0.998, train/fwd_pct_correct=0.998, train/loss=6.84, train/loss_blurry_cont_total=0, train/loss_blurry_total=0, train/loss_clip_total=0.00334, train/loss_prior=0.228, train/lr=6.88e-5, train/num_steps=28943, train/recon_cossim=0.831, train/recon_mse=0.228]"
     ]
    },
    {
     "name": "stdout",
     "output_type": "stream",
     "text": [
      "---\n",
      "\n",
      "---saved /weka/proj-fmri/jonxu/MindEye_Imagery/train_logs/base/last ckpt!---\n",
      "\n"
     ]
    },
    {
     "name": "stderr",
     "output_type": "stream",
     "text": [
      " 69%|█████████████████████████████████████████████████████████████████████████████████████████████████████████████████████████████████████████████████████████████████████████████████████████████████████████████████████████████████████████████████████████████████████████████████████████████████████████████████████████████████████████████████████████████████████████████████████████████████████████████████████████████████████████████████████████▌                                                                                                                                                                                                         | 103/150 [1:27:03<39:17, 50.17s/it, test/blurry_pixcorr=0, test/loss=14.6, test/loss_clip_total=1.04, test/loss_prior=0.452, test/num_steps=104, test/recon_cossim=0, test/recon_mse=0, test/test_bwd_pct_correct=0.753, test/test_fwd_pct_correct=0.78, train/blurry_pixcorr=0, train/bwd_pct_correct=0.998, train/fwd_pct_correct=0.999, train/loss=6.53, train/loss_blurry_cont_total=0, train/loss_blurry_total=0, train/loss_clip_total=0.00312, train/loss_prior=0.218, train/lr=6.62e-5, train/num_steps=29224, train/recon_cossim=0.838, train/recon_mse=0.218]"
     ]
    },
    {
     "name": "stdout",
     "output_type": "stream",
     "text": [
      "---\n",
      "\n",
      "---saved /weka/proj-fmri/jonxu/MindEye_Imagery/train_logs/base/last ckpt!---\n",
      "\n"
     ]
    },
    {
     "name": "stderr",
     "output_type": "stream",
     "text": [
      " 69%|██████████████████████████████████████████████████████████████████████████████████████████████████████████████████████████████████████████████████████████████████████████████████████████████████████████████████████████████████████████████████████████████████████████████████████████████████████████████████████████████████████████████████████████████████████████████████████████████████████████████████████████████████████████████████████████████▌                                                                                                                                                                                                     | 104/150 [1:27:53<38:27, 50.16s/it, test/blurry_pixcorr=0, test/loss=14.5, test/loss_clip_total=0.953, test/loss_prior=0.451, test/num_steps=105, test/recon_cossim=0, test/recon_mse=0, test/test_bwd_pct_correct=0.787, test/test_fwd_pct_correct=0.8, train/blurry_pixcorr=0, train/bwd_pct_correct=0.998, train/fwd_pct_correct=0.998, train/loss=6.85, train/loss_blurry_cont_total=0, train/loss_blurry_total=0, train/loss_clip_total=0.00324, train/loss_prior=0.228, train/lr=6.35e-5, train/num_steps=29505, train/recon_cossim=0.83, train/recon_mse=0.228]"
     ]
    },
    {
     "name": "stdout",
     "output_type": "stream",
     "text": [
      "---\n",
      "\n",
      "---saved /weka/proj-fmri/jonxu/MindEye_Imagery/train_logs/base/last ckpt!---\n",
      "\n"
     ]
    },
    {
     "name": "stderr",
     "output_type": "stream",
     "text": [
      " 70%|██████████████████████████████████████████████████████████████████████████████████████████████████████████████████████████████████████████████████████████████████████████████████████████████████████████████████████████████████████████████████████████████████████████████████████████████████████████████████████████████████████████████████████████████████████████████████████████████████████████████████████████████████████████████████████████████████                                                                                                                                                                                                 | 105/150 [1:28:43<37:37, 50.16s/it, test/blurry_pixcorr=0, test/loss=13.5, test/loss_clip_total=0.931, test/loss_prior=0.418, test/num_steps=106, test/recon_cossim=0, test/recon_mse=0, test/test_bwd_pct_correct=0.797, test/test_fwd_pct_correct=0.793, train/blurry_pixcorr=0, train/bwd_pct_correct=0.992, train/fwd_pct_correct=0.992, train/loss=6.68, train/loss_blurry_cont_total=0, train/loss_blurry_total=0, train/loss_clip_total=0.0119, train/loss_prior=0.222, train/lr=6.1e-5, train/num_steps=29786, train/recon_cossim=0.835, train/recon_mse=0.222]"
     ]
    },
    {
     "name": "stdout",
     "output_type": "stream",
     "text": [
      "---\n",
      "\n",
      "---saved /weka/proj-fmri/jonxu/MindEye_Imagery/train_logs/base/last ckpt!---\n",
      "\n"
     ]
    },
    {
     "name": "stderr",
     "output_type": "stream",
     "text": [
      " 71%|████████████████████████████████████████████████████████████████████████████████████████████████████████████████████████████████████████████████████████████████████████████████████████████████████████████████████████████████████████████████████████████████████████████████████████████████████████████████████████████████████████████████████████████████████████████████████████████████████████████████████████████████████████████████████████████████████▉                                                                                                                                                                                            | 106/150 [1:29:33<36:38, 49.97s/it, test/blurry_pixcorr=0, test/loss=12.4, test/loss_clip_total=0.914, test/loss_prior=0.382, test/num_steps=107, test/recon_cossim=0, test/recon_mse=0, test/test_bwd_pct_correct=0.803, test/test_fwd_pct_correct=0.783, train/blurry_pixcorr=0, train/bwd_pct_correct=0.995, train/fwd_pct_correct=0.995, train/loss=6.75, train/loss_blurry_cont_total=0, train/loss_blurry_total=0, train/loss_clip_total=0.00703, train/loss_prior=0.225, train/lr=5.84e-5, train/num_steps=30067, train/recon_cossim=0.832, train/recon_mse=0.225]"
     ]
    },
    {
     "name": "stdout",
     "output_type": "stream",
     "text": [
      "---\n",
      "\n",
      "---saved /weka/proj-fmri/jonxu/MindEye_Imagery/train_logs/base/last ckpt!---\n",
      "\n"
     ]
    },
    {
     "name": "stderr",
     "output_type": "stream",
     "text": [
      " 71%|█████████████████████████████████████████████████████████████████████████████████████████████████████████████████████████████████████████████████████████████████████████████████████████████████████████████████████████████████████████████████████████████████████████████████████████████████████████████████████████████████████████████████████████████████████████████████████████████████████████████████████████████████████████████████████████████████████████▉                                                                                                                                                                                        | 107/150 [1:30:24<35:56, 50.14s/it, test/blurry_pixcorr=0, test/loss=12.9, test/loss_clip_total=0.897, test/loss_prior=0.399, test/num_steps=108, test/recon_cossim=0, test/recon_mse=0, test/test_bwd_pct_correct=0.813, test/test_fwd_pct_correct=0.793, train/blurry_pixcorr=0, train/bwd_pct_correct=0.998, train/fwd_pct_correct=0.998, train/loss=6.77, train/loss_blurry_cont_total=0, train/loss_blurry_total=0, train/loss_clip_total=0.0033, train/loss_prior=0.226, train/lr=5.59e-5, train/num_steps=30348, train/recon_cossim=0.832, train/recon_mse=0.226]"
     ]
    },
    {
     "name": "stdout",
     "output_type": "stream",
     "text": [
      "---\n",
      "\n",
      "---saved /weka/proj-fmri/jonxu/MindEye_Imagery/train_logs/base/last ckpt!---\n",
      "\n"
     ]
    },
    {
     "name": "stderr",
     "output_type": "stream",
     "text": [
      " 72%|████████████████████████████████████████████████████████████████████████████████████████████████████████████████████████████████████████████████████████████████████████████████████████████████████████████████████████████████████████████████████████████████████████████████████████████████████████████████████████████████████████████████████████████████████████████████████████████████████████████████████████████████████████████████████████████████████████████████▍                                                                                                                                                                                    | 108/150 [1:31:14<35:16, 50.40s/it, test/blurry_pixcorr=0, test/loss=13.4, test/loss_clip_total=0.957, test/loss_prior=0.416, test/num_steps=109, test/recon_cossim=0, test/recon_mse=0, test/test_bwd_pct_correct=0.77, test/test_fwd_pct_correct=0.79, train/blurry_pixcorr=0, train/bwd_pct_correct=0.997, train/fwd_pct_correct=0.997, train/loss=6.61, train/loss_blurry_cont_total=0, train/loss_blurry_total=0, train/loss_clip_total=0.00468, train/loss_prior=0.22, train/lr=5.35e-5, train/num_steps=30629, train/recon_cossim=0.835, train/recon_mse=0.22]"
     ]
    },
    {
     "name": "stdout",
     "output_type": "stream",
     "text": [
      "---\n",
      "\n",
      "---saved /weka/proj-fmri/jonxu/MindEye_Imagery/train_logs/base/last ckpt!---\n",
      "\n"
     ]
    },
    {
     "name": "stderr",
     "output_type": "stream",
     "text": [
      " 73%|███████████████████████████████████████████████████████████████████████████████████████████████████████████████████████████████████████████████████████████████████████████████████████████████████████████████████████████████████████████████████████████████████████████████████████████████████████████████████████████████████████████████████████████████████████████████████████████████████████████████████████████████████████████████████████████████████████████████████▉                                                                                                                                                                                | 109/150 [1:32:03<34:14, 50.10s/it, test/blurry_pixcorr=0, test/loss=12.9, test/loss_clip_total=0.93, test/loss_prior=0.399, test/num_steps=110, test/recon_cossim=0, test/recon_mse=0, test/test_bwd_pct_correct=0.797, test/test_fwd_pct_correct=0.78, train/blurry_pixcorr=0, train/bwd_pct_correct=0.996, train/fwd_pct_correct=0.996, train/loss=6.87, train/loss_blurry_cont_total=0, train/loss_blurry_total=0, train/loss_clip_total=0.00583, train/loss_prior=0.229, train/lr=5.1e-5, train/num_steps=30910, train/recon_cossim=0.829, train/recon_mse=0.229]"
     ]
    },
    {
     "name": "stdout",
     "output_type": "stream",
     "text": [
      "---\n",
      "\n",
      "---saved /weka/proj-fmri/jonxu/MindEye_Imagery/train_logs/base/last ckpt!---\n",
      "\n"
     ]
    },
    {
     "name": "stderr",
     "output_type": "stream",
     "text": [
      " 73%|██████████████████████████████████████████████████████████████████████████████████████████████████████████████████████████████████████████████████████████████████████████████████████████████████████████████████████████████████████████████████████████████████████████████████████████████████████████████████████████████████████████████████████████████████████████████████████████████████████████████████████████████████████████████████████████████████████████████████████                                                                                                                                                                           | 110/150 [1:32:53<33:21, 50.04s/it, test/blurry_pixcorr=0, test/loss=14.4, test/loss_clip_total=0.993, test/loss_prior=0.447, test/num_steps=111, test/recon_cossim=0, test/recon_mse=0, test/test_bwd_pct_correct=0.757, test/test_fwd_pct_correct=0.753, train/blurry_pixcorr=0, train/bwd_pct_correct=0.998, train/fwd_pct_correct=0.998, train/loss=6.67, train/loss_blurry_cont_total=0, train/loss_blurry_total=0, train/loss_clip_total=0.00351, train/loss_prior=0.222, train/lr=4.87e-5, train/num_steps=31191, train/recon_cossim=0.833, train/recon_mse=0.222]"
     ]
    },
    {
     "name": "stdout",
     "output_type": "stream",
     "text": [
      "---\n",
      "\n",
      "---saved /weka/proj-fmri/jonxu/MindEye_Imagery/train_logs/base/last ckpt!---\n",
      "\n"
     ]
    },
    {
     "name": "stderr",
     "output_type": "stream",
     "text": [
      " 74%|███████████████████████████████████████████████████████████████████████████████████████████████████████████████████████████████████████████████████████████████████████████████████████████████████████████████████████████████████████████████████████████████████████████████████████████████████████████████████████████████████████████████████████████████████████████████████████████████████████████████████████████████████████████████████████████████████████████████████████████▊                                                                                                                                                                       | 111/150 [1:33:43<32:29, 49.98s/it, test/blurry_pixcorr=0, test/loss=15.5, test/loss_clip_total=0.952, test/loss_prior=0.484, test/num_steps=112, test/recon_cossim=0, test/recon_mse=0, test/test_bwd_pct_correct=0.777, test/test_fwd_pct_correct=0.76, train/blurry_pixcorr=0, train/bwd_pct_correct=0.998, train/fwd_pct_correct=0.998, train/loss=6.44, train/loss_blurry_cont_total=0, train/loss_blurry_total=0, train/loss_clip_total=0.00324, train/loss_prior=0.215, train/lr=4.64e-5, train/num_steps=31472, train/recon_cossim=0.84, train/recon_mse=0.215]"
     ]
    },
    {
     "name": "stdout",
     "output_type": "stream",
     "text": [
      "---\n",
      "\n",
      "---saved /weka/proj-fmri/jonxu/MindEye_Imagery/train_logs/base/last ckpt!---\n",
      "\n"
     ]
    },
    {
     "name": "stderr",
     "output_type": "stream",
     "text": [
      " 75%|████████████████████████████████████████████████████████████████████████████████████████████████████████████████████████████████████████████████████████████████████████████████████████████████████████████████████████████████████████████████████████████████████████████████████████████████████████████████████████████████████████████████████████████████████████████████████████████████████████████████████████████████████████████████████████████████████████████████████████████████▊                                                                                                                                                                   | 112/150 [1:34:33<31:39, 50.00s/it, test/blurry_pixcorr=0, test/loss=12, test/loss_clip_total=1.09, test/loss_prior=0.363, test/num_steps=113, test/recon_cossim=0, test/recon_mse=0, test/test_bwd_pct_correct=0.727, test/test_fwd_pct_correct=0.723, train/blurry_pixcorr=0, train/bwd_pct_correct=0.997, train/fwd_pct_correct=0.997, train/loss=6.52, train/loss_blurry_cont_total=0, train/loss_blurry_total=0, train/loss_clip_total=0.00503, train/loss_prior=0.217, train/lr=4.41e-5, train/num_steps=31753, train/recon_cossim=0.837, train/recon_mse=0.217]"
     ]
    },
    {
     "name": "stdout",
     "output_type": "stream",
     "text": [
      "---\n",
      "\n",
      "---saved /weka/proj-fmri/jonxu/MindEye_Imagery/train_logs/base/last ckpt!---\n",
      "\n"
     ]
    },
    {
     "name": "stderr",
     "output_type": "stream",
     "text": [
      " 75%|███████████████████████████████████████████████████████████████████████████████████████████████████████████████████████████████████████████████████████████████████████████████████████████████████████████████████████████████████████████████████████████████████████████████████████████████████████████████████████████████████████████████████████████████████████████████████████████████████████████████████████████████████████████████████████████████████████████████████████████████████▋                                                                                                                                                              | 113/150 [1:35:23<30:46, 49.91s/it, test/blurry_pixcorr=0, test/loss=13.6, test/loss_clip_total=0.958, test/loss_prior=0.42, test/num_steps=114, test/recon_cossim=0, test/recon_mse=0, test/test_bwd_pct_correct=0.787, test/test_fwd_pct_correct=0.747, train/blurry_pixcorr=0, train/bwd_pct_correct=0.997, train/fwd_pct_correct=0.997, train/loss=6.12, train/loss_blurry_cont_total=0, train/loss_blurry_total=0, train/loss_clip_total=0.00463, train/loss_prior=0.204, train/lr=4.18e-5, train/num_steps=32034, train/recon_cossim=0.847, train/recon_mse=0.204]"
     ]
    },
    {
     "name": "stdout",
     "output_type": "stream",
     "text": [
      "---\n",
      "\n",
      "---saved /weka/proj-fmri/jonxu/MindEye_Imagery/train_logs/base/last ckpt!---\n",
      "\n"
     ]
    },
    {
     "name": "stderr",
     "output_type": "stream",
     "text": [
      " 76%|███████████████████████████████████████████████████████████████████████████████████████████████████████████████████████████████████████████████████████████████████████████████████████████████████████████████████████████████████████████████████████████████████████████████████████████████████████████████████████████████████████████████████████████████████████████████████████████████████████████████████████████████████████████████████████████████████████████████████████████████████████▏                                                                                                                                                         | 114/150 [1:36:12<29:49, 49.71s/it, test/blurry_pixcorr=0, test/loss=14.8, test/loss_clip_total=0.922, test/loss_prior=0.464, test/num_steps=115, test/recon_cossim=0, test/recon_mse=0, test/test_bwd_pct_correct=0.793, test/test_fwd_pct_correct=0.763, train/blurry_pixcorr=0, train/bwd_pct_correct=0.997, train/fwd_pct_correct=0.997, train/loss=6.51, train/loss_blurry_cont_total=0, train/loss_blurry_total=0, train/loss_clip_total=0.00392, train/loss_prior=0.217, train/lr=3.97e-5, train/num_steps=32315, train/recon_cossim=0.838, train/recon_mse=0.217]"
     ]
    },
    {
     "name": "stdout",
     "output_type": "stream",
     "text": [
      "---\n",
      "\n",
      "---saved /weka/proj-fmri/jonxu/MindEye_Imagery/train_logs/base/last ckpt!---\n",
      "\n"
     ]
    },
    {
     "name": "stderr",
     "output_type": "stream",
     "text": [
      " 77%|███████████████████████████████████████████████████████████████████████████████████████████████████████████████████████████████████████████████████████████████████████████████████████████████████████████████████████████████████████████████████████████████████████████████████████████████████████████████████████████████████████████████████████████████████████████████████████████████████████████████████████████████████████████████████████████████████████████████████████████████████████████████▎                                                                                                                                                      | 115/150 [1:37:01<28:53, 49.52s/it, test/blurry_pixcorr=0, test/loss=15, test/loss_clip_total=0.911, test/loss_prior=0.471, test/num_steps=116, test/recon_cossim=0, test/recon_mse=0, test/test_bwd_pct_correct=0.8, test/test_fwd_pct_correct=0.76, train/blurry_pixcorr=0, train/bwd_pct_correct=0.996, train/fwd_pct_correct=0.997, train/loss=6.45, train/loss_blurry_cont_total=0, train/loss_blurry_total=0, train/loss_clip_total=0.00514, train/loss_prior=0.215, train/lr=3.75e-5, train/num_steps=32596, train/recon_cossim=0.839, train/recon_mse=0.215]"
     ]
    },
    {
     "name": "stdout",
     "output_type": "stream",
     "text": [
      "---\n",
      "\n",
      "---saved /weka/proj-fmri/jonxu/MindEye_Imagery/train_logs/base/last ckpt!---\n",
      "\n"
     ]
    },
    {
     "name": "stderr",
     "output_type": "stream",
     "text": [
      " 77%|██████████████████████████████████████████████████████████████████████████████████████████████████████████████████████████████████████████████████████████████████████████████████████████████████████████████████████████████████████████████████████████████████████████████████████████████████████████████████████████████████████████████████████████████████████████████████████████████████████████████████████████████████████████████████████████████████████████████████████████████████████████████████                                                                                                                                                  | 116/150 [1:37:51<28:03, 49.51s/it, test/blurry_pixcorr=0, test/loss=14, test/loss_clip_total=0.907, test/loss_prior=0.436, test/num_steps=117, test/recon_cossim=0, test/recon_mse=0, test/test_bwd_pct_correct=0.81, test/test_fwd_pct_correct=0.767, train/blurry_pixcorr=0, train/bwd_pct_correct=0.993, train/fwd_pct_correct=0.993, train/loss=6.46, train/loss_blurry_cont_total=0, train/loss_blurry_total=0, train/loss_clip_total=0.00953, train/loss_prior=0.215, train/lr=3.55e-5, train/num_steps=32877, train/recon_cossim=0.839, train/recon_mse=0.215]"
     ]
    },
    {
     "name": "stdout",
     "output_type": "stream",
     "text": [
      "---\n",
      "\n",
      "---saved /weka/proj-fmri/jonxu/MindEye_Imagery/train_logs/base/last ckpt!---\n",
      "\n"
     ]
    },
    {
     "name": "stderr",
     "output_type": "stream",
     "text": [
      " 78%|██████████████████████████████████████████████████████████████████████████████████████████████████████████████████████████████████████████████████████████████████████████████████████████████████████████████████████████████████████████████████████████████████████████████████████████████████████████████████████████████████████████████████████████████████████████████████████████████████████████████████████████████████████████████████████████████████████████████████████████████████████████████████████▎                                                                                                                                             | 117/150 [1:38:40<27:15, 49.57s/it, test/blurry_pixcorr=0, test/loss=16.5, test/loss_clip_total=0.889, test/loss_prior=0.521, test/num_steps=118, test/recon_cossim=0, test/recon_mse=0, test/test_bwd_pct_correct=0.81, test/test_fwd_pct_correct=0.777, train/blurry_pixcorr=0, train/bwd_pct_correct=0.998, train/fwd_pct_correct=0.998, train/loss=6.61, train/loss_blurry_cont_total=0, train/loss_blurry_total=0, train/loss_clip_total=0.00331, train/loss_prior=0.22, train/lr=3.34e-5, train/num_steps=33158, train/recon_cossim=0.835, train/recon_mse=0.22]"
     ]
    },
    {
     "name": "stdout",
     "output_type": "stream",
     "text": [
      "---\n",
      "\n",
      "---saved /weka/proj-fmri/jonxu/MindEye_Imagery/train_logs/base/last ckpt!---\n",
      "\n"
     ]
    },
    {
     "name": "stderr",
     "output_type": "stream",
     "text": [
      " 79%|████████████████████████████████████████████████████████████████████████████████████████████████████████████████████████████████████████████████████████████████████████████████████████████████████████████████████████████████████████████████████████████████████████████████████████████████████████████████████████████████████████████████████████████████████████████████████████████████████████████████████████████████████████████████████████████████████████████████████████████████████████████████████████████▉                                                                                                                                          | 118/150 [1:39:30<26:24, 49.51s/it, test/blurry_pixcorr=0, test/loss=16, test/loss_clip_total=0.955, test/loss_prior=0.501, test/num_steps=119, test/recon_cossim=0, test/recon_mse=0, test/test_bwd_pct_correct=0.78, test/test_fwd_pct_correct=0.75, train/blurry_pixcorr=0, train/bwd_pct_correct=0.998, train/fwd_pct_correct=0.998, train/loss=6.4, train/loss_blurry_cont_total=0, train/loss_blurry_total=0, train/loss_clip_total=0.00345, train/loss_prior=0.213, train/lr=3.14e-5, train/num_steps=33439, train/recon_cossim=0.84, train/recon_mse=0.213]"
     ]
    },
    {
     "name": "stdout",
     "output_type": "stream",
     "text": [
      "---\n",
      "\n",
      "---saved /weka/proj-fmri/jonxu/MindEye_Imagery/train_logs/base/last ckpt!---\n",
      "\n"
     ]
    },
    {
     "name": "stderr",
     "output_type": "stream",
     "text": [
      " 79%|██████████████████████████████████████████████████████████████████████████████████████████████████████████████████████████████████████████████████████████████████████████████████████████████████████████████████████████████████████████████████████████████████████████████████████████████████████████████████████████████████████████████████████████████████████████████████████████████████████████████████████████████████████████████████████████████████████████████████████████████████████████████████████████████                                                                                                                                     | 119/150 [1:40:20<25:38, 49.61s/it, test/blurry_pixcorr=0, test/loss=13.7, test/loss_clip_total=0.95, test/loss_prior=0.424, test/num_steps=120, test/recon_cossim=0, test/recon_mse=0, test/test_bwd_pct_correct=0.78, test/test_fwd_pct_correct=0.743, train/blurry_pixcorr=0, train/bwd_pct_correct=0.997, train/fwd_pct_correct=0.997, train/loss=6.42, train/loss_blurry_cont_total=0, train/loss_blurry_total=0, train/loss_clip_total=0.00457, train/loss_prior=0.214, train/lr=2.95e-5, train/num_steps=33720, train/recon_cossim=0.839, train/recon_mse=0.214]"
     ]
    },
    {
     "name": "stdout",
     "output_type": "stream",
     "text": [
      "---\n",
      "\n",
      "---saved /weka/proj-fmri/jonxu/MindEye_Imagery/train_logs/base/last ckpt!---\n",
      "\n"
     ]
    },
    {
     "name": "stderr",
     "output_type": "stream",
     "text": [
      " 80%|█████████████████████████████████████████████████████████████████████████████████████████████████████████████████████████████████████████████████████████████████████████████████████████████████████████████████████████████████████████████████████████████████████████████████████████████████████████████████████████████████████████████████████████████████████████████████████████████████████████████████████████████████████████████████████████████████████████████████████████████████████████████████████████████████▌                                                                                                                                | 120/150 [1:41:12<24:58, 49.94s/it, test/blurry_pixcorr=0, test/loss=14.6, test/loss_clip_total=0.88, test/loss_prior=0.459, test/num_steps=121, test/recon_cossim=0, test/recon_mse=0, test/test_bwd_pct_correct=0.797, test/test_fwd_pct_correct=0.763, train/blurry_pixcorr=0, train/bwd_pct_correct=0.997, train/fwd_pct_correct=0.997, train/loss=6.28, train/loss_blurry_cont_total=0, train/loss_blurry_total=0, train/loss_clip_total=0.00465, train/loss_prior=0.209, train/lr=2.77e-5, train/num_steps=34001, train/recon_cossim=0.843, train/recon_mse=0.209]"
     ]
    },
    {
     "name": "stdout",
     "output_type": "stream",
     "text": [
      "---\n",
      "\n",
      "---saved /weka/proj-fmri/jonxu/MindEye_Imagery/train_logs/base/last ckpt!---\n",
      "\n"
     ]
    },
    {
     "name": "stderr",
     "output_type": "stream",
     "text": [
      " 81%|█████████████████████████████████████████████████████████████████████████████████████████████████████████████████████████████████████████████████████████████████████████████████████████████████████████████████████████████████████████████████████████████████████████████████████████████████████████████████████████████████████████████████████████████████████████████████████████████████████████████████████████████████████████████████████████████████████████████████████████████████████████████████████████████████████▉                                                                                                                            | 121/150 [1:42:01<24:22, 50.42s/it, test/blurry_pixcorr=0, test/loss=13.9, test/loss_clip_total=0.885, test/loss_prior=0.433, test/num_steps=122, test/recon_cossim=0, test/recon_mse=0, test/test_bwd_pct_correct=0.79, test/test_fwd_pct_correct=0.773, train/blurry_pixcorr=0, train/bwd_pct_correct=0.998, train/fwd_pct_correct=0.998, train/loss=6.22, train/loss_blurry_cont_total=0, train/loss_blurry_total=0, train/loss_clip_total=0.00327, train/loss_prior=0.207, train/lr=2.58e-5, train/num_steps=34282, train/recon_cossim=0.844, train/recon_mse=0.207]"
     ]
    },
    {
     "name": "stdout",
     "output_type": "stream",
     "text": [
      "---\n",
      "\n",
      "---saved /weka/proj-fmri/jonxu/MindEye_Imagery/train_logs/base/last ckpt!---\n",
      "\n"
     ]
    },
    {
     "name": "stderr",
     "output_type": "stream",
     "text": [
      " 81%|██████████████████████████████████████████████████████████████████████████████████████████████████████████████████████████████████████████████████████████████████████████████████████████████████████████████████████████████████████████████████████████████████████████████████████████████████████████████████████████████████████████████████████████████████████████████████████████████████████████████████████████████████████████████████████████████████████████████████████████████████████████████████████████████████████████▏                                                                                                                       | 122/150 [1:42:51<23:21, 50.07s/it, test/blurry_pixcorr=0, test/loss=13.5, test/loss_clip_total=0.901, test/loss_prior=0.419, test/num_steps=123, test/recon_cossim=0, test/recon_mse=0, test/test_bwd_pct_correct=0.783, test/test_fwd_pct_correct=0.76, train/blurry_pixcorr=0, train/bwd_pct_correct=0.998, train/fwd_pct_correct=0.998, train/loss=5.88, train/loss_blurry_cont_total=0, train/loss_blurry_total=0, train/loss_clip_total=0.00325, train/loss_prior=0.196, train/lr=2.41e-5, train/num_steps=34563, train/recon_cossim=0.852, train/recon_mse=0.196]"
     ]
    },
    {
     "name": "stdout",
     "output_type": "stream",
     "text": [
      "---\n",
      "\n",
      "---saved /weka/proj-fmri/jonxu/MindEye_Imagery/train_logs/base/last ckpt!---\n",
      "\n"
     ]
    },
    {
     "name": "stderr",
     "output_type": "stream",
     "text": [
      " 82%|██████████████████████████████████████████████████████████████████████████████████████████████████████████████████████████████████████████████████████████████████████████████████████████████████████████████████████████████████████████████████████████████████████████████████████████████████████████████████████████████████████████████████████████████████████████████████████████████████████████████████████████████████████████████████████████████████████████████████████████████████████████████████████████████████████████████▍                                                                                                                   | 123/150 [1:43:41<22:31, 50.04s/it, test/blurry_pixcorr=0, test/loss=14.5, test/loss_clip_total=0.906, test/loss_prior=0.454, test/num_steps=124, test/recon_cossim=0, test/recon_mse=0, test/test_bwd_pct_correct=0.79, test/test_fwd_pct_correct=0.763, train/blurry_pixcorr=0, train/bwd_pct_correct=0.997, train/fwd_pct_correct=0.997, train/loss=6.11, train/loss_blurry_cont_total=0, train/loss_blurry_total=0, train/loss_clip_total=0.00388, train/loss_prior=0.203, train/lr=2.24e-5, train/num_steps=34844, train/recon_cossim=0.847, train/recon_mse=0.203]"
     ]
    },
    {
     "name": "stdout",
     "output_type": "stream",
     "text": [
      "---\n",
      "\n",
      "---saved /weka/proj-fmri/jonxu/MindEye_Imagery/train_logs/base/last ckpt!---\n",
      "\n"
     ]
    },
    {
     "name": "stderr",
     "output_type": "stream",
     "text": [
      " 83%|█████████████████████████████████████████████████████████████████████████████████████████████████████████████████████████████████████████████████████████████████████████████████████████████████████████████████████████████████████████████████████████████████████████████████████████████████████████████████████████████████████████████████████████████████████████████████████████████████████████████████████████████████████████████████████████████████████████████████████████████████████████████████████████████████████████████████████▏                                                                                                               | 124/150 [1:44:31<21:38, 49.96s/it, test/blurry_pixcorr=0, test/loss=15.6, test/loss_clip_total=0.879, test/loss_prior=0.49, test/num_steps=125, test/recon_cossim=0, test/recon_mse=0, test/test_bwd_pct_correct=0.807, test/test_fwd_pct_correct=0.773, train/blurry_pixcorr=0, train/bwd_pct_correct=0.997, train/fwd_pct_correct=0.997, train/loss=6.3, train/loss_blurry_cont_total=0, train/loss_blurry_total=0, train/loss_clip_total=0.00418, train/loss_prior=0.21, train/lr=2.07e-5, train/num_steps=35125, train/recon_cossim=0.842, train/recon_mse=0.21]"
     ]
    },
    {
     "name": "stdout",
     "output_type": "stream",
     "text": [
      "---\n",
      "\n",
      "---saved /weka/proj-fmri/jonxu/MindEye_Imagery/train_logs/base/last ckpt!---\n",
      "\n"
     ]
    },
    {
     "name": "stderr",
     "output_type": "stream",
     "text": [
      " 83%|███████████████████████████████████████████████████████████████████████████████████████████████████████████████████████████████████████████████████████████████████████████████████████████████████████████████████████████████████████████████████████████████████████████████████████████████████████████████████████████████████████████████████████████████████████████████████████████████████████████████████████████████████████████████████████████████████████████████████████████████████████████████████████████████████████████████████████▊                                                                                                           | 125/150 [1:45:20<20:47, 49.91s/it, test/blurry_pixcorr=0, test/loss=14.5, test/loss_clip_total=0.877, test/loss_prior=0.455, test/num_steps=126, test/recon_cossim=0, test/recon_mse=0, test/test_bwd_pct_correct=0.8, test/test_fwd_pct_correct=0.777, train/blurry_pixcorr=0, train/bwd_pct_correct=0.997, train/fwd_pct_correct=0.997, train/loss=6.17, train/loss_blurry_cont_total=0, train/loss_blurry_total=0, train/loss_clip_total=0.00462, train/loss_prior=0.206, train/lr=1.92e-5, train/num_steps=35406, train/recon_cossim=0.845, train/recon_mse=0.206]"
     ]
    },
    {
     "name": "stdout",
     "output_type": "stream",
     "text": [
      "---\n",
      "\n",
      "---saved /weka/proj-fmri/jonxu/MindEye_Imagery/train_logs/base/last ckpt!---\n",
      "\n"
     ]
    },
    {
     "name": "stderr",
     "output_type": "stream",
     "text": [
      " 84%|██████████████████████████████████████████████████████████████████████████████████████████████████████████████████████████████████████████████████████████████████████████████████████████████████████████████████████████████████████████████████████████████████████████████████████████████████████████████████████████████████████████████████████████████████████████████████████████████████████████████████████████████████████████████████████████████████████████████████████████████████████████████████████████████████████████████████████████▍                                                                                                      | 126/150 [1:46:10<19:53, 49.71s/it, test/blurry_pixcorr=0, test/loss=13.4, test/loss_clip_total=0.881, test/loss_prior=0.416, test/num_steps=127, test/recon_cossim=0, test/recon_mse=0, test/test_bwd_pct_correct=0.807, test/test_fwd_pct_correct=0.773, train/blurry_pixcorr=0, train/bwd_pct_correct=0.998, train/fwd_pct_correct=0.999, train/loss=6.19, train/loss_blurry_cont_total=0, train/loss_blurry_total=0, train/loss_clip_total=0.00263, train/loss_prior=0.206, train/lr=1.76e-5, train/num_steps=35687, train/recon_cossim=0.845, train/recon_mse=0.206]"
     ]
    },
    {
     "name": "stdout",
     "output_type": "stream",
     "text": [
      "---\n",
      "\n",
      "---saved /weka/proj-fmri/jonxu/MindEye_Imagery/train_logs/base/last ckpt!---\n",
      "\n"
     ]
    },
    {
     "name": "stderr",
     "output_type": "stream",
     "text": [
      " 85%|███████████████████████████████████████████████████████████████████████████████████████████████████████████████████████████████████████████████████████████████████████████████████████████████████████████████████████████████████████████████████████████████████████████████████████████████████████████████████████████████████████████████████████████████████████████████████████████████████████████████████████████████████████████████████████████████████████████████████████████████████████████████████████████████████████████████████████████████▌                                                                                                  | 127/150 [1:46:59<19:01, 49.65s/it, test/blurry_pixcorr=0, test/loss=15.2, test/loss_clip_total=0.894, test/loss_prior=0.476, test/num_steps=128, test/recon_cossim=0, test/recon_mse=0, test/test_bwd_pct_correct=0.803, test/test_fwd_pct_correct=0.77, train/blurry_pixcorr=0, train/bwd_pct_correct=0.998, train/fwd_pct_correct=0.998, train/loss=6.04, train/loss_blurry_cont_total=0, train/loss_blurry_total=0, train/loss_clip_total=0.00313, train/loss_prior=0.201, train/lr=1.62e-5, train/num_steps=35968, train/recon_cossim=0.849, train/recon_mse=0.201]"
     ]
    },
    {
     "name": "stdout",
     "output_type": "stream",
     "text": [
      "---\n",
      "\n",
      "---saved /weka/proj-fmri/jonxu/MindEye_Imagery/train_logs/base/last ckpt!---\n",
      "\n"
     ]
    },
    {
     "name": "stderr",
     "output_type": "stream",
     "text": [
      " 85%|███████████████████████████████████████████████████████████████████████████████████████████████████████████████████████████████████████████████████████████████████████████████████████████████████████████████████████████████████████████████████████████████████████████████████████████████████████████████████████████████████████████████████████████████████████████████████████████████████████████████████████████████████████████████████████████████████████████████████████████████████████████████████████████████████████████████████████████████████▊                                                                                              | 128/150 [1:47:48<18:04, 49.31s/it, test/blurry_pixcorr=0, test/loss=13.7, test/loss_clip_total=0.89, test/loss_prior=0.428, test/num_steps=129, test/recon_cossim=0, test/recon_mse=0, test/test_bwd_pct_correct=0.797, test/test_fwd_pct_correct=0.767, train/blurry_pixcorr=0, train/bwd_pct_correct=0.998, train/fwd_pct_correct=0.998, train/loss=6.33, train/loss_blurry_cont_total=0, train/loss_blurry_total=0, train/loss_clip_total=0.00325, train/loss_prior=0.211, train/lr=1.48e-5, train/num_steps=36249, train/recon_cossim=0.841, train/recon_mse=0.211]"
     ]
    },
    {
     "name": "stdout",
     "output_type": "stream",
     "text": [
      "---\n",
      "\n",
      "---saved /weka/proj-fmri/jonxu/MindEye_Imagery/train_logs/base/last ckpt!---\n",
      "\n"
     ]
    },
    {
     "name": "stderr",
     "output_type": "stream",
     "text": [
      " 86%|████████████████████████████████████████████████████████████████████████████████████████████████████████████████████████████████████████████████████████████████████████████████████████████████████████████████████████████████████████████████████████████████████████████████████████████████████████████████████████████████████████████████████████████████████████████████████████████████████████████████████████████████████████████████████████████████████████████████████████████████████████████████████████████████████████████████████████████████████████████████▋                                                                                           | 129/150 [1:48:41<17:17, 49.40s/it, test/blurry_pixcorr=0, test/loss=14.9, test/loss_clip_total=0.894, test/loss_prior=0.466, test/num_steps=130, test/recon_cossim=0, test/recon_mse=0, test/test_bwd_pct_correct=0.8, test/test_fwd_pct_correct=0.76, train/blurry_pixcorr=0, train/bwd_pct_correct=1, train/fwd_pct_correct=1, train/loss=6.32, train/loss_blurry_cont_total=0, train/loss_blurry_total=0, train/loss_clip_total=0.00017, train/loss_prior=0.211, train/lr=1.34e-5, train/num_steps=36530, train/recon_cossim=0.841, train/recon_mse=0.211]"
     ]
    },
    {
     "name": "stdout",
     "output_type": "stream",
     "text": [
      "---\n",
      "\n",
      "---saved /weka/proj-fmri/jonxu/MindEye_Imagery/train_logs/base/last ckpt!---\n",
      "\n"
     ]
    },
    {
     "name": "stderr",
     "output_type": "stream",
     "text": [
      " 87%|██████████████████████████████████████████████████████████████████████████████████████████████████████████████████████████████████████████████████████████████████████████████████████████████████████████████████████████████████████████████████████████████████████████████████████████████████████████████████████████████████████████████████████████████████████████████████████████████████████████████████████████████████████████████████████████████████████████████████████████████████████████████████████████████████████████████████████████████████████████████▏                                                                                     | 130/150 [1:49:31<16:52, 50.60s/it, test/blurry_pixcorr=0, test/loss=15.4, test/loss_clip_total=0.89, test/loss_prior=0.482, test/num_steps=131, test/recon_cossim=0, test/recon_mse=0, test/test_bwd_pct_correct=0.8, test/test_fwd_pct_correct=0.773, train/blurry_pixcorr=0, train/bwd_pct_correct=0.997, train/fwd_pct_correct=0.997, train/loss=5.95, train/loss_blurry_cont_total=0, train/loss_blurry_total=0, train/loss_clip_total=0.00393, train/loss_prior=0.198, train/lr=1.21e-5, train/num_steps=36811, train/recon_cossim=0.851, train/recon_mse=0.198]"
     ]
    },
    {
     "name": "stdout",
     "output_type": "stream",
     "text": [
      "---\n",
      "\n",
      "---saved /weka/proj-fmri/jonxu/MindEye_Imagery/train_logs/base/last ckpt!---\n",
      "\n"
     ]
    },
    {
     "name": "stderr",
     "output_type": "stream",
     "text": [
      " 87%|████████████████████████████████████████████████████████████████████████████████████████████████████████████████████████████████████████████████████████████████████████████████████████████████████████████████████████████████████████████████████████████████████████████████████████████████████████████████████████████████████████████████████████████████████████████████████████████████████████████████████████████████████████████████████████████████████████████████████████████████████████████████████████████████████████████████████████████████████████████████▋                                                                                 | 131/150 [1:50:20<15:54, 50.23s/it, test/blurry_pixcorr=0, test/loss=13.6, test/loss_clip_total=0.89, test/loss_prior=0.424, test/num_steps=132, test/recon_cossim=0, test/recon_mse=0, test/test_bwd_pct_correct=0.793, test/test_fwd_pct_correct=0.773, train/blurry_pixcorr=0, train/bwd_pct_correct=0.999, train/fwd_pct_correct=0.999, train/loss=6.34, train/loss_blurry_cont_total=0, train/loss_blurry_total=0, train/loss_clip_total=0.00142, train/loss_prior=0.211, train/lr=1.09e-5, train/num_steps=37092, train/recon_cossim=0.841, train/recon_mse=0.211]"
     ]
    },
    {
     "name": "stdout",
     "output_type": "stream",
     "text": [
      "---\n",
      "\n",
      "---saved /weka/proj-fmri/jonxu/MindEye_Imagery/train_logs/base/last ckpt!---\n",
      "\n"
     ]
    },
    {
     "name": "stderr",
     "output_type": "stream",
     "text": [
      " 88%|████████████████████████████████████████████████████████████████████████████████████████████████████████████████████████████████████████████████████████████████████████████████████████████████████████████████████████████████████████████████████████████████████████████████████████████████████████████████████████████████████████████████████████████████████████████████████████████████████████████████████████████████████████████████████████████████████████████████████████████████████████████████████████████████████████████████████████████████████████████████████▉                                                                             | 132/150 [1:51:10<14:59, 49.98s/it, test/blurry_pixcorr=0, test/loss=12.4, test/loss_clip_total=0.888, test/loss_prior=0.385, test/num_steps=133, test/recon_cossim=0, test/recon_mse=0, test/test_bwd_pct_correct=0.797, test/test_fwd_pct_correct=0.773, train/blurry_pixcorr=0, train/bwd_pct_correct=0.999, train/fwd_pct_correct=0.999, train/loss=6.36, train/loss_blurry_cont_total=0, train/loss_blurry_total=0, train/loss_clip_total=0.00143, train/loss_prior=0.212, train/lr=9.74e-6, train/num_steps=37373, train/recon_cossim=0.84, train/recon_mse=0.212]"
     ]
    },
    {
     "name": "stdout",
     "output_type": "stream",
     "text": [
      "---\n",
      "\n",
      "---saved /weka/proj-fmri/jonxu/MindEye_Imagery/train_logs/base/last ckpt!---\n",
      "\n"
     ]
    },
    {
     "name": "stderr",
     "output_type": "stream",
     "text": [
      " 89%|██████████████████████████████████████████████████████████████████████████████████████████████████████████████████████████████████████████████████████████████████████████████████████████████████████████████████████████████████████████████████████████████████████████████████████████████████████████████████████████████████████████████████████████████████████████████████████████████████████████████████████████████████████████████████████████████████████████████████████████████████████████████████████████████████████████████████████████████████████████████████████████▏                                                                        | 133/150 [1:51:59<14:11, 50.06s/it, test/blurry_pixcorr=0, test/loss=13.3, test/loss_clip_total=0.88, test/loss_prior=0.414, test/num_steps=134, test/recon_cossim=0, test/recon_mse=0, test/test_bwd_pct_correct=0.803, test/test_fwd_pct_correct=0.773, train/blurry_pixcorr=0, train/bwd_pct_correct=0.998, train/fwd_pct_correct=0.998, train/loss=6.2, train/loss_blurry_cont_total=0, train/loss_blurry_total=0, train/loss_clip_total=0.00268, train/loss_prior=0.206, train/lr=8.65e-6, train/num_steps=37654, train/recon_cossim=0.844, train/recon_mse=0.206]"
     ]
    },
    {
     "name": "stdout",
     "output_type": "stream",
     "text": [
      "---\n",
      "\n",
      "---saved /weka/proj-fmri/jonxu/MindEye_Imagery/train_logs/base/last ckpt!---\n",
      "\n"
     ]
    },
    {
     "name": "stderr",
     "output_type": "stream",
     "text": [
      " 89%|██████████████████████████████████████████████████████████████████████████████████████████████████████████████████████████████████████████████████████████████████████████████████████████████████████████████████████████████████████████████████████████████████████████████████████████████████████████████████████████████████████████████████████████████████████████████████████████████████████████████████████████████████████████████████████████████████████████████████████████████████████████████████████████████████████████████████████████████████████████████████████████████▍                                                                    | 134/150 [1:52:49<13:16, 49.77s/it, test/blurry_pixcorr=0, test/loss=13.8, test/loss_clip_total=0.882, test/loss_prior=0.432, test/num_steps=135, test/recon_cossim=0, test/recon_mse=0, test/test_bwd_pct_correct=0.81, test/test_fwd_pct_correct=0.773, train/blurry_pixcorr=0, train/bwd_pct_correct=0.997, train/fwd_pct_correct=0.997, train/loss=6.21, train/loss_blurry_cont_total=0, train/loss_blurry_total=0, train/loss_clip_total=0.0045, train/loss_prior=0.207, train/lr=7.62e-6, train/num_steps=37935, train/recon_cossim=0.844, train/recon_mse=0.207]"
     ]
    },
    {
     "name": "stdout",
     "output_type": "stream",
     "text": [
      "---\n",
      "\n",
      "---saved /weka/proj-fmri/jonxu/MindEye_Imagery/train_logs/base/last ckpt!---\n",
      "\n"
     ]
    },
    {
     "name": "stderr",
     "output_type": "stream",
     "text": [
      " 90%|█████████████████████████████████████████████████████████████████████████████████████████████████████████████████████████████████████████████████████████████████████████████████████████████████████████████████████████████████████████████████████████████████████████████████████████████████████████████████████████████████████████████████████████████████████████████████████████████████████████████████████████████████████████████████████████████████████████████████████████████████████████████████████████████████████████████████████████████████████████████████████████████████▊                                                                | 135/150 [1:53:38<12:23, 49.58s/it, test/blurry_pixcorr=0, test/loss=15.1, test/loss_clip_total=0.892, test/loss_prior=0.475, test/num_steps=136, test/recon_cossim=0, test/recon_mse=0, test/test_bwd_pct_correct=0.81, test/test_fwd_pct_correct=0.767, train/blurry_pixcorr=0, train/bwd_pct_correct=0.997, train/fwd_pct_correct=0.997, train/loss=6.03, train/loss_blurry_cont_total=0, train/loss_blurry_total=0, train/loss_clip_total=0.00438, train/loss_prior=0.201, train/lr=6.65e-6, train/num_steps=38216, train/recon_cossim=0.848, train/recon_mse=0.201]"
     ]
    },
    {
     "name": "stdout",
     "output_type": "stream",
     "text": [
      "---\n",
      "\n",
      "---saved /weka/proj-fmri/jonxu/MindEye_Imagery/train_logs/base/last ckpt!---\n",
      "\n"
     ]
    },
    {
     "name": "stderr",
     "output_type": "stream",
     "text": [
      " 91%|██████████████████████████████████████████████████████████████████████████████████████████████████████████████████████████████████████████████████████████████████████████████████████████████████████████████████████████████████████████████████████████████████████████████████████████████████████████████████████████████████████████████████████████████████████████████████████████████████████████████████████████████████████████████████████████████████████████████████████████████████████████████████████████████████████████████████████████████████████████████████████████████████████████▌                                                            | 136/150 [1:54:29<11:33, 49.54s/it, test/blurry_pixcorr=0, test/loss=15.4, test/loss_clip_total=0.902, test/loss_prior=0.482, test/num_steps=137, test/recon_cossim=0, test/recon_mse=0, test/test_bwd_pct_correct=0.78, test/test_fwd_pct_correct=0.767, train/blurry_pixcorr=0, train/bwd_pct_correct=0.998, train/fwd_pct_correct=0.999, train/loss=5.99, train/loss_blurry_cont_total=0, train/loss_blurry_total=0, train/loss_clip_total=0.00312, train/loss_prior=0.2, train/lr=5.75e-6, train/num_steps=38497, train/recon_cossim=0.85, train/recon_mse=0.2]"
     ]
    },
    {
     "name": "stdout",
     "output_type": "stream",
     "text": [
      "---\n",
      "\n",
      "---saved /weka/proj-fmri/jonxu/MindEye_Imagery/train_logs/base/last ckpt!---\n",
      "\n"
     ]
    },
    {
     "name": "stderr",
     "output_type": "stream",
     "text": [
      " 91%|██████████████████████████████████████████████████████████████████████████████████████████████████████████████████████████████████████████████████████████████████████████████████████████████████████████████████████████████████████████████████████████████████████████████████████████████████████████████████████████████████████████████████████████████████████████████████████████████████████████████████████████████████████████████████████████████████████████████████████████████████████████████████████████████████████████████████████████████████████████████████████████████████████████▎                                                       | 137/150 [1:55:18<10:48, 49.89s/it, test/blurry_pixcorr=0, test/loss=13.3, test/loss_clip_total=0.903, test/loss_prior=0.412, test/num_steps=138, test/recon_cossim=0, test/recon_mse=0, test/test_bwd_pct_correct=0.777, test/test_fwd_pct_correct=0.77, train/blurry_pixcorr=0, train/bwd_pct_correct=0.995, train/fwd_pct_correct=0.995, train/loss=5.92, train/loss_blurry_cont_total=0, train/loss_blurry_total=0, train/loss_clip_total=0.00789, train/loss_prior=0.197, train/lr=4.91e-6, train/num_steps=38778, train/recon_cossim=0.852, train/recon_mse=0.197]"
     ]
    },
    {
     "name": "stdout",
     "output_type": "stream",
     "text": [
      "---\n",
      "\n",
      "---saved /weka/proj-fmri/jonxu/MindEye_Imagery/train_logs/base/last ckpt!---\n",
      "\n"
     ]
    },
    {
     "name": "stderr",
     "output_type": "stream",
     "text": [
      " 92%|████████████████████████████████████████████████████████████████████████████████████████████████████████████████████████████████████████████████████████████████████████████████████████████████████████████████████████████████████████████████████████████████████████████████████████████████████████████████████████████████████████████████████████████████████████████████████████████████████████████████████████████████████████████████████████████████████████████████████████████████████████████████████████████████████████████████████████████████████████████████████████████████████████████████▍                                                   | 138/150 [1:56:09<09:56, 49.72s/it, test/blurry_pixcorr=0, test/loss=13.8, test/loss_clip_total=0.909, test/loss_prior=0.43, test/num_steps=139, test/recon_cossim=0, test/recon_mse=0, test/test_bwd_pct_correct=0.78, test/test_fwd_pct_correct=0.77, train/blurry_pixcorr=0, train/bwd_pct_correct=0.994, train/fwd_pct_correct=0.994, train/loss=6.07, train/loss_blurry_cont_total=0, train/loss_blurry_total=0, train/loss_clip_total=0.00963, train/loss_prior=0.202, train/lr=4.13e-6, train/num_steps=39059, train/recon_cossim=0.848, train/recon_mse=0.202]"
     ]
    },
    {
     "name": "stdout",
     "output_type": "stream",
     "text": [
      "---\n",
      "\n",
      "---saved /weka/proj-fmri/jonxu/MindEye_Imagery/train_logs/base/last ckpt!---\n",
      "\n"
     ]
    },
    {
     "name": "stderr",
     "output_type": "stream",
     "text": [
      " 93%|█████████████████████████████████████████████████████████████████████████████████████████████████████████████████████████████████████████████████████████████████████████████████████████████████████████████████████████████████████████████████████████████████████████████████████████████████████████████████████████████████████████████████████████████████████████████████████████████████████████████████████████████████████████████████████████████████████████████████████████████████████████████████████████████████████████████████████████████████████████████████████████████████████████████████████▋                                               | 139/150 [1:56:59<09:11, 50.12s/it, test/blurry_pixcorr=0, test/loss=14.1, test/loss_clip_total=0.907, test/loss_prior=0.44, test/num_steps=140, test/recon_cossim=0, test/recon_mse=0, test/test_bwd_pct_correct=0.78, test/test_fwd_pct_correct=0.77, train/blurry_pixcorr=0, train/bwd_pct_correct=0.998, train/fwd_pct_correct=0.998, train/loss=6.06, train/loss_blurry_cont_total=0, train/loss_blurry_total=0, train/loss_clip_total=0.0033, train/loss_prior=0.202, train/lr=3.42e-6, train/num_steps=39340, train/recon_cossim=0.848, train/recon_mse=0.202]"
     ]
    },
    {
     "name": "stdout",
     "output_type": "stream",
     "text": [
      "---\n",
      "\n",
      "---saved /weka/proj-fmri/jonxu/MindEye_Imagery/train_logs/base/last ckpt!---\n",
      "\n"
     ]
    },
    {
     "name": "stderr",
     "output_type": "stream",
     "text": [
      " 93%|███████████████████████████████████████████████████████████████████████████████████████████████████████████████████████████████████████████████████████████████████████████████████████████████████████████████████████████████████████████████████████████████████████████████████████████████████████████████████████████████████████████████████████████████████████████████████████████████████████████████████████████████████████████████████████████████████████████████████████████████████████████████████████████████████████████████████████████████████████████████████████████████████████████████████████▏                                          | 140/150 [1:57:48<08:20, 50.01s/it, test/blurry_pixcorr=0, test/loss=15.1, test/loss_clip_total=0.908, test/loss_prior=0.473, test/num_steps=141, test/recon_cossim=0, test/recon_mse=0, test/test_bwd_pct_correct=0.783, test/test_fwd_pct_correct=0.767, train/blurry_pixcorr=0, train/bwd_pct_correct=0.997, train/fwd_pct_correct=0.997, train/loss=6.2, train/loss_blurry_cont_total=0, train/loss_blurry_total=0, train/loss_clip_total=0.00392, train/loss_prior=0.206, train/lr=2.78e-6, train/num_steps=39621, train/recon_cossim=0.845, train/recon_mse=0.206]"
     ]
    },
    {
     "name": "stdout",
     "output_type": "stream",
     "text": [
      "---\n",
      "\n",
      "---saved /weka/proj-fmri/jonxu/MindEye_Imagery/train_logs/base/last ckpt!---\n",
      "\n"
     ]
    },
    {
     "name": "stderr",
     "output_type": "stream",
     "text": [
      " 94%|█████████████████████████████████████████████████████████████████████████████████████████████████████████████████████████████████████████████████████████████████████████████████████████████████████████████████████████████████████████████████████████████████████████████████████████████████████████████████████████████████████████████████████████████████████████████████████████████████████████████████████████████████████████████████████████████████████████████████████████████████████████████████████████████████████████████████████████████████████████████████████████████████████████████████████████████▎                                      | 141/150 [1:58:37<07:27, 49.72s/it, test/blurry_pixcorr=0, test/loss=14.7, test/loss_clip_total=0.916, test/loss_prior=0.46, test/num_steps=142, test/recon_cossim=0, test/recon_mse=0, test/test_bwd_pct_correct=0.787, test/test_fwd_pct_correct=0.77, train/blurry_pixcorr=0, train/bwd_pct_correct=0.996, train/fwd_pct_correct=0.996, train/loss=5.93, train/loss_blurry_cont_total=0, train/loss_blurry_total=0, train/loss_clip_total=0.0062, train/loss_prior=0.197, train/lr=2.21e-6, train/num_steps=39902, train/recon_cossim=0.851, train/recon_mse=0.197]"
     ]
    },
    {
     "name": "stdout",
     "output_type": "stream",
     "text": [
      "---\n",
      "\n",
      "---saved /weka/proj-fmri/jonxu/MindEye_Imagery/train_logs/base/last ckpt!---\n",
      "\n"
     ]
    },
    {
     "name": "stderr",
     "output_type": "stream",
     "text": [
      " 95%|█████████████████████████████████████████████████████████████████████████████████████████████████████████████████████████████████████████████████████████████████████████████████████████████████████████████████████████████████████████████████████████████████████████████████████████████████████████████████████████████████████████████████████████████████████████████████████████████████████████████████████████████████████████████████████████████████████████████████████████████████████████████████████████████████████████████████████████████████████████████████████████████████████████████████████████████████▋                                  | 142/150 [1:59:26<06:36, 49.52s/it, test/blurry_pixcorr=0, test/loss=15.6, test/loss_clip_total=0.915, test/loss_prior=0.489, test/num_steps=143, test/recon_cossim=0, test/recon_mse=0, test/test_bwd_pct_correct=0.79, test/test_fwd_pct_correct=0.77, train/blurry_pixcorr=0, train/bwd_pct_correct=0.995, train/fwd_pct_correct=0.995, train/loss=5.77, train/loss_blurry_cont_total=0, train/loss_blurry_total=0, train/loss_clip_total=0.00698, train/loss_prior=0.192, train/lr=1.7e-6, train/num_steps=40183, train/recon_cossim=0.855, train/recon_mse=0.192]"
     ]
    },
    {
     "name": "stdout",
     "output_type": "stream",
     "text": [
      "---\n",
      "\n",
      "---saved /weka/proj-fmri/jonxu/MindEye_Imagery/train_logs/base/last ckpt!---\n",
      "\n"
     ]
    },
    {
     "name": "stderr",
     "output_type": "stream",
     "text": [
      " 95%|████████████████████████████████████████████████████████████████████████████████████████████████████████████████████████████████████████████████████████████████████████████████████████████████████████████████████████████████████████████████████████████████████████████████████████████████████████████████████████████████████████████████████████████████████████████████████████████████████████████████████████████████████████████████████████████████████████████████████████████████████████████████████████████████████████████████████████████████████████████████████████████████████████████████████████████████████                              | 143/150 [2:00:15<05:45, 49.34s/it, test/blurry_pixcorr=0, test/loss=13.5, test/loss_clip_total=0.914, test/loss_prior=0.421, test/num_steps=144, test/recon_cossim=0, test/recon_mse=0, test/test_bwd_pct_correct=0.793, test/test_fwd_pct_correct=0.77, train/blurry_pixcorr=0, train/bwd_pct_correct=0.995, train/fwd_pct_correct=0.995, train/loss=6.26, train/loss_blurry_cont_total=0, train/loss_blurry_total=0, train/loss_clip_total=0.00709, train/loss_prior=0.208, train/lr=1.25e-6, train/num_steps=40464, train/recon_cossim=0.842, train/recon_mse=0.208]"
     ]
    },
    {
     "name": "stdout",
     "output_type": "stream",
     "text": [
      "---\n",
      "\n",
      "---saved /weka/proj-fmri/jonxu/MindEye_Imagery/train_logs/base/last ckpt!---\n",
      "\n"
     ]
    },
    {
     "name": "stderr",
     "output_type": "stream",
     "text": [
      " 96%|█████████████████████████████████████████████████████████████████████████████████████████████████████████████████████████████████████████████████████████████████████████████████████████████████████████████████████████████████████████████████████████████████████████████████████████████████████████████████████████████████████████████████████████████████████████████████████████████████████████████████████████████████████████████████████████████████████████████████████████████████████████████████████████████████████████████████████████████████████████████████████████████████████████████████████████████████████████▎                         | 144/150 [2:01:05<04:56, 49.46s/it, test/blurry_pixcorr=0, test/loss=14.1, test/loss_clip_total=0.913, test/loss_prior=0.441, test/num_steps=145, test/recon_cossim=0, test/recon_mse=0, test/test_bwd_pct_correct=0.79, test/test_fwd_pct_correct=0.77, train/blurry_pixcorr=0, train/bwd_pct_correct=0.997, train/fwd_pct_correct=0.997, train/loss=6.05, train/loss_blurry_cont_total=0, train/loss_blurry_total=0, train/loss_clip_total=0.00478, train/loss_prior=0.201, train/lr=8.79e-7, train/num_steps=40745, train/recon_cossim=0.848, train/recon_mse=0.201]"
     ]
    },
    {
     "name": "stdout",
     "output_type": "stream",
     "text": [
      "---\n",
      "\n",
      "---saved /weka/proj-fmri/jonxu/MindEye_Imagery/train_logs/base/last ckpt!---\n",
      "\n"
     ]
    },
    {
     "name": "stderr",
     "output_type": "stream",
     "text": [
      " 97%|████████████████████████████████████████████████████████████████████████████████████████████████████████████████████████████████████████████████████████████████████████████████████████████████████████████████████████████████████████████████████████████████████████████████████████████████████████████████████████████████████████████████████████████████████████████████████████████████████████████████████████████████████████████████████████████████████████████████████████████████████████████████████████████████████████████████████████████████████████████████████████████████████████████████████████████████████████████▌                     | 145/150 [2:01:54<04:06, 49.28s/it, test/blurry_pixcorr=0, test/loss=15.8, test/loss_clip_total=0.914, test/loss_prior=0.495, test/num_steps=146, test/recon_cossim=0, test/recon_mse=0, test/test_bwd_pct_correct=0.787, test/test_fwd_pct_correct=0.77, train/blurry_pixcorr=0, train/bwd_pct_correct=0.999, train/fwd_pct_correct=0.999, train/loss=6.24, train/loss_blurry_cont_total=0, train/loss_blurry_total=0, train/loss_clip_total=0.00202, train/loss_prior=0.208, train/lr=5.71e-7, train/num_steps=41026, train/recon_cossim=0.843, train/recon_mse=0.208]"
     ]
    },
    {
     "name": "stdout",
     "output_type": "stream",
     "text": [
      "---\n",
      "\n",
      "---saved /weka/proj-fmri/jonxu/MindEye_Imagery/train_logs/base/last ckpt!---\n",
      "\n"
     ]
    },
    {
     "name": "stderr",
     "output_type": "stream",
     "text": [
      " 97%|████████████████████████████████████████████████████████████████████████████████████████████████████████████████████████████████████████████████████████████████████████████████████████████████████████████████████████████████████████████████████████████████████████████████████████████████████████████████████████████████████████████████████████████████████████████████████████████████████████████████████████████████████████████████████████████████████████████████████████████████████████████████████████████████████████████████████████████████████████████████████████████████████████████████████████████████████████████████████▊                 | 146/150 [2:02:43<03:17, 49.32s/it, test/blurry_pixcorr=0, test/loss=13.7, test/loss_clip_total=0.913, test/loss_prior=0.425, test/num_steps=147, test/recon_cossim=0, test/recon_mse=0, test/test_bwd_pct_correct=0.79, test/test_fwd_pct_correct=0.77, train/blurry_pixcorr=0, train/bwd_pct_correct=0.995, train/fwd_pct_correct=0.995, train/loss=6.24, train/loss_blurry_cont_total=0, train/loss_blurry_total=0, train/loss_clip_total=0.007, train/loss_prior=0.208, train/lr=3.3e-7, train/num_steps=41307, train/recon_cossim=0.842, train/recon_mse=0.208]"
     ]
    },
    {
     "name": "stdout",
     "output_type": "stream",
     "text": [
      "---\n",
      "\n",
      "---saved /weka/proj-fmri/jonxu/MindEye_Imagery/train_logs/base/last ckpt!---\n",
      "\n"
     ]
    },
    {
     "name": "stderr",
     "output_type": "stream",
     "text": [
      " 98%|█████████████████████████████████████████████████████████████████████████████████████████████████████████████████████████████████████████████████████████████████████████████████████████████████████████████████████████████████████████████████████████████████████████████████████████████████████████████████████████████████████████████████████████████████████████████████████████████████████████████████████████████████████████████████████████████████████████████████████████████████████████████████████████████████████████████████████████████████████████████████████████████████████████████████████████████████████████████████████▏            | 147/150 [2:03:32<02:27, 49.23s/it, test/blurry_pixcorr=0, test/loss=12.8, test/loss_clip_total=0.914, test/loss_prior=0.396, test/num_steps=148, test/recon_cossim=0, test/recon_mse=0, test/test_bwd_pct_correct=0.787, test/test_fwd_pct_correct=0.77, train/blurry_pixcorr=0, train/bwd_pct_correct=0.995, train/fwd_pct_correct=0.995, train/loss=6.08, train/loss_blurry_cont_total=0, train/loss_blurry_total=0, train/loss_clip_total=0.00716, train/loss_prior=0.203, train/lr=1.57e-7, train/num_steps=41588, train/recon_cossim=0.847, train/recon_mse=0.203]"
     ]
    },
    {
     "name": "stdout",
     "output_type": "stream",
     "text": [
      "---\n",
      "\n",
      "---saved /weka/proj-fmri/jonxu/MindEye_Imagery/train_logs/base/last ckpt!---\n",
      "\n"
     ]
    },
    {
     "name": "stderr",
     "output_type": "stream",
     "text": [
      " 99%|███████████████████████████████████████████████████████████████████████████████████████████████████████████████████████████████████████████████████████████████████████████████████████████████████████████████████████████████████████████████████████████████████████████████████████████████████████████████████████████████████████████████████████████████████████████████████████████████████████████████████████████████████████████████████████████████████████████████████████████████████████████████████████████████████████████████████████████████████████████████████████████████████████████████████████████████████████████████████████████▍        | 148/150 [2:04:21<01:38, 49.27s/it, test/blurry_pixcorr=0, test/loss=14, test/loss_clip_total=0.914, test/loss_prior=0.437, test/num_steps=149, test/recon_cossim=0, test/recon_mse=0, test/test_bwd_pct_correct=0.787, test/test_fwd_pct_correct=0.77, train/blurry_pixcorr=0, train/bwd_pct_correct=0.996, train/fwd_pct_correct=0.996, train/loss=6.28, train/loss_blurry_cont_total=0, train/loss_blurry_total=0, train/loss_clip_total=0.00642, train/loss_prior=0.209, train/lr=5.08e-8, train/num_steps=41869, train/recon_cossim=0.842, train/recon_mse=0.209]"
     ]
    },
    {
     "name": "stdout",
     "output_type": "stream",
     "text": [
      "---\n",
      "\n",
      "---saved /weka/proj-fmri/jonxu/MindEye_Imagery/train_logs/base/last ckpt!---\n",
      "\n"
     ]
    },
    {
     "name": "stderr",
     "output_type": "stream",
     "text": [
      " 99%|██████████████████████████████████████████████████████████████████████████████████████████████████████████████████████████████████████████████████████████████████████████████████████████████████████████████████████████████████████████████████████████████████████████████████████████████████████████████████████████████████████████████████████████████████████████████████████████████████████████████████████████████████████████████████████████████████████████████████████████████████████████████████████████████████████████████████████████████████████████████████████████████████████████████████████████████████████████████████████████████▋    | 149/150 [2:05:11<00:49, 49.22s/it, test/blurry_pixcorr=0, test/loss=13.3, test/loss_clip_total=0.914, test/loss_prior=0.413, test/num_steps=150, test/recon_cossim=0, test/recon_mse=0, test/test_bwd_pct_correct=0.787, test/test_fwd_pct_correct=0.77, train/blurry_pixcorr=0, train/bwd_pct_correct=0.998, train/fwd_pct_correct=0.998, train/loss=6.04, train/loss_blurry_cont_total=0, train/loss_blurry_total=0, train/loss_clip_total=0.0026, train/loss_prior=0.201, train/lr=1.22e-8, train/num_steps=42150, train/recon_cossim=0.848, train/recon_mse=0.201]"
     ]
    },
    {
     "name": "stdout",
     "output_type": "stream",
     "text": [
      "---\n",
      "\n",
      "---saved /weka/proj-fmri/jonxu/MindEye_Imagery/train_logs/base/last ckpt!---\n",
      "\n"
     ]
    },
    {
     "name": "stderr",
     "output_type": "stream",
     "text": [
      "100%|███████████████████████████████████████████████████████████████████████████████████████████████████████████████████████████████████████████████████████████████████████████████████████████████████████████████████████████████████████████████████████████████████████████████████████████████████████████████████████████████████████████████████████████████████████████████████████████████████████████████████████████████████████████████████████████████████████████████████████████████████████████████████████████████████████████████████████████████████████████████████████████████████████████████████████████████████████████████████████████████████| 150/150 [2:05:20<00:00, 50.14s/it, test/blurry_pixcorr=0, test/loss=13.3, test/loss_clip_total=0.914, test/loss_prior=0.413, test/num_steps=150, test/recon_cossim=0, test/recon_mse=0, test/test_bwd_pct_correct=0.787, test/test_fwd_pct_correct=0.77, train/blurry_pixcorr=0, train/bwd_pct_correct=0.998, train/fwd_pct_correct=0.998, train/loss=6.04, train/loss_blurry_cont_total=0, train/loss_blurry_total=0, train/loss_clip_total=0.0026, train/loss_prior=0.201, train/lr=1.22e-8, train/num_steps=42150, train/recon_cossim=0.848, train/recon_mse=0.201]\n"
     ]
    },
    {
     "name": "stdout",
     "output_type": "stream",
     "text": [
      "\n",
      "===Finished!===\n",
      "\n",
      "\n",
      "---saved /weka/proj-fmri/jonxu/MindEye_Imagery/train_logs/base/last ckpt!---\n",
      "\n"
     ]
    }
   ],
   "source": [
    "print(f\"{model_name} starting with epoch {epoch} / {num_epochs}\")\n",
    "progress_bar = tqdm(range(epoch,num_epochs), ncols=1200, disable=(local_rank!=0))\n",
    "test_image, test_voxel = None, None\n",
    "mse = nn.MSELoss()\n",
    "l1 = nn.L1Loss()\n",
    "soft_loss_temps = utils.cosine_anneal(0.004, 0.0075, num_epochs - int(mixup_pct * num_epochs))\n",
    "\n",
    "for epoch in progress_bar:\n",
    "    model.train()\n",
    "\n",
    "    fwd_percent_correct = 0.\n",
    "    bwd_percent_correct = 0.\n",
    "    test_fwd_percent_correct = 0.\n",
    "    test_bwd_percent_correct = 0.\n",
    "    \n",
    "    recon_cossim = 0.\n",
    "    test_recon_cossim = 0.\n",
    "    recon_mse = 0.\n",
    "    test_recon_mse = 0.\n",
    "\n",
    "    loss_clip_total = 0.\n",
    "    loss_blurry_total = 0.\n",
    "    loss_blurry_cont_total = 0.\n",
    "    test_loss_clip_total = 0.\n",
    "    \n",
    "    loss_prior_total = 0.\n",
    "    test_loss_prior_total = 0.\n",
    "\n",
    "    blurry_pixcorr = 0.\n",
    "    test_blurry_pixcorr = 0. # needs >.456 to beat low-level subj01 results in mindeye v1\n",
    "\n",
    "    # pre-load all batches for this epoch (it's MUCH faster to pre-load in bulk than to separate loading per batch)\n",
    "    voxel_iters = {} # empty dict because diff subjects have differing # of voxels\n",
    "    image_iters = torch.zeros(num_iterations_per_epoch, batch_size*len(subj_list), 3, 224, 224).float()\n",
    "    annot_iters = {}\n",
    "    perm_iters, betas_iters, select_iters = {}, {}, {}\n",
    "    for s, train_dl in enumerate(train_dls):\n",
    "        with torch.cuda.amp.autocast(dtype=data_type):\n",
    "            for iter, (behav0, past_behav0, future_behav0, old_behav0) in enumerate(train_dl):    \n",
    "                image0 = images[behav0[:,0,0].cpu().long()].float()\n",
    "                image_iters[iter,s*batch_size:s*batch_size+batch_size] = image0\n",
    "                \n",
    "                voxel0 = voxels[f'subj0{subj_list[s]}'][behav0[:,0,5].cpu().long()]\n",
    "                voxel0 = torch.Tensor(voxel0)\n",
    "                \n",
    "                if seq_len==1:\n",
    "                    voxel0 = voxel0.unsqueeze(1)\n",
    "                else:\n",
    "                    if seq_past>0:\n",
    "                        past_behavior = past_behav0[:,:(seq_past),5].cpu().long()\n",
    "                        past_voxel0 = voxels[f'subj0{subj_list[s]}'][past_behavior]\n",
    "                        past_voxel0[past_behavior==-1] = voxel0[torch.where(past_behavior==-1)[0]] # replace invalid past voxels \n",
    "                        past_voxel0 = torch.Tensor(past_voxel0)\n",
    "\n",
    "                        # if shared1000, then you need to mask it out \n",
    "                        for p in range(seq_past):\n",
    "                            mask = (past_behav0[:,p,-1] == 1) # [16,] bool\n",
    "                            index = torch.nonzero(mask.cpu()).squeeze()\n",
    "                            past_voxel0[index,p,:] = torch.zeros_like(past_voxel0[index,p,:])\n",
    "\n",
    "                    if seq_future>0:\n",
    "                        future_behavior = future_behav0[:,:(seq_future),5].cpu().long()\n",
    "                        future_voxel0 = voxels[f'subj0{subj_list[s]}'][future_behavior]\n",
    "                        future_voxel0[future_behavior==-1] = voxel0[torch.where(future_behavior==-1)[0]] # replace invalid past voxels \n",
    "                        future_voxel0 = torch.Tensor(future_voxel0)\n",
    "\n",
    "                        # if shared1000, then you need to mask it out \n",
    "                        for p in range(seq_future):\n",
    "                            mask = (future_behav0[:,p,-1] == 1) # [16,] bool\n",
    "                            index = torch.nonzero(mask.cpu()).squeeze()\n",
    "                            future_voxel0[index,p,:] = torch.zeros_like(future_voxel0[index,p,:])\n",
    "\n",
    "                    # concatenate current timepoint with past/future\n",
    "                    if seq_past > 0 and seq_future > 0:\n",
    "                        voxel0 = torch.cat((voxel0.unsqueeze(1), past_voxel0), axis=1)\n",
    "                        voxel0 = torch.cat((voxel0, future_voxel0), axis=1)\n",
    "                    elif seq_past > 0:\n",
    "                        voxel0 = torch.cat((voxel0.unsqueeze(1), past_voxel0), axis=1)\n",
    "                    else:\n",
    "                        voxel0 = torch.cat((voxel0.unsqueeze(1), future_voxel0), axis=1)\n",
    "\n",
    "                if epoch < int(mixup_pct * num_epochs):\n",
    "                    voxel0, perm, betas, select = utils.mixco(voxel0)\n",
    "                    perm_iters[f\"subj0{subj_list[s]}_iter{iter}\"] = perm\n",
    "                    betas_iters[f\"subj0{subj_list[s]}_iter{iter}\"] = betas\n",
    "                    select_iters[f\"subj0{subj_list[s]}_iter{iter}\"] = select\n",
    "\n",
    "                voxel_iters[f\"subj0{subj_list[s]}_iter{iter}\"] = voxel0\n",
    "\n",
    "                if iter >= num_iterations_per_epoch-1:\n",
    "                    break\n",
    "\n",
    "    # you now have voxel_iters and image_iters with num_iterations_per_epoch batches each\n",
    "    for train_i in range(num_iterations_per_epoch):\n",
    "        with torch.cuda.amp.autocast(dtype=data_type):\n",
    "            optimizer.zero_grad()\n",
    "            loss=0.\n",
    "\n",
    "            voxel_list = [voxel_iters[f\"subj0{s}_iter{train_i}\"].detach().to(device) for s in subj_list]\n",
    "            image = image_iters[train_i].detach()\n",
    "            image = image.to(device)\n",
    "\n",
    "            if use_image_aug: \n",
    "                image = img_augment(image)\n",
    "\n",
    "            clip_target = clip_img_embedder(image)\n",
    "            assert not torch.any(torch.isnan(clip_target))\n",
    "\n",
    "            if epoch < int(mixup_pct * num_epochs):\n",
    "                perm_list = [perm_iters[f\"subj0{s}_iter{train_i}\"].detach().to(device) for s in subj_list]\n",
    "                perm = torch.cat(perm_list, dim=0)\n",
    "                betas_list = [betas_iters[f\"subj0{s}_iter{train_i}\"].detach().to(device) for s in subj_list]\n",
    "                betas = torch.cat(betas_list, dim=0)\n",
    "                select_list = [select_iters[f\"subj0{s}_iter{train_i}\"].detach().to(device) for s in subj_list]\n",
    "                select = torch.cat(select_list, dim=0)\n",
    "\n",
    "            voxel_ridge_list = [model.ridge(voxel_list[si],si) for si,s in enumerate(subj_list)]\n",
    "            voxel_ridge = torch.cat(voxel_ridge_list, dim=0)\n",
    "\n",
    "            backbone, clip_voxels, blurry_image_enc_ = model.backbone(voxel_ridge)\n",
    "\n",
    "            if clip_scale>0:\n",
    "                clip_voxels_norm = nn.functional.normalize(clip_voxels.flatten(1), dim=-1)\n",
    "                clip_target_norm = nn.functional.normalize(clip_target.flatten(1), dim=-1)\n",
    "\n",
    "            if use_prior:\n",
    "                loss_prior, prior_out = model.diffusion_prior(text_embed=backbone, image_embed=clip_target)\n",
    "                loss_prior_total += loss_prior.item()\n",
    "                loss_prior *= prior_scale\n",
    "                loss += loss_prior\n",
    "\n",
    "                recon_cossim += nn.functional.cosine_similarity(prior_out, clip_target).mean().item()\n",
    "                recon_mse += mse(prior_out, clip_target).item()\n",
    "\n",
    "            if clip_scale>0:\n",
    "                if epoch < int(mixup_pct * num_epochs):                \n",
    "                    loss_clip = utils.mixco_nce(\n",
    "                        clip_voxels_norm,\n",
    "                        clip_target_norm,\n",
    "                        temp=.006,\n",
    "                        perm=perm, betas=betas, select=select)\n",
    "                else:\n",
    "                    epoch_temp = soft_loss_temps[epoch-int(mixup_pct*num_epochs)]\n",
    "                    loss_clip = utils.soft_clip_loss(\n",
    "                        clip_voxels_norm,\n",
    "                        clip_target_norm,\n",
    "                        temp=epoch_temp)\n",
    "\n",
    "                loss_clip_total += loss_clip.item()\n",
    "                loss_clip *= clip_scale\n",
    "                loss += loss_clip\n",
    "\n",
    "            if blurry_recon:     \n",
    "                image_enc_pred, transformer_feats = blurry_image_enc_\n",
    "\n",
    "                image_enc = autoenc.encode(2*image-1).latent_dist.mode() * 0.18215\n",
    "                loss_blurry = l1(image_enc_pred, image_enc)\n",
    "                loss_blurry_total += loss_blurry.item()\n",
    "\n",
    "                if epoch < int(mixup_pct * num_epochs):\n",
    "                    image_enc_shuf = image_enc[perm]\n",
    "                    betas_shape = [-1] + [1]*(len(image_enc.shape)-1)\n",
    "                    image_enc[select] = image_enc[select] * betas[select].reshape(*betas_shape) + \\\n",
    "                        image_enc_shuf[select] * (1 - betas[select]).reshape(*betas_shape)\n",
    "\n",
    "                image_norm = (image - mean)/std\n",
    "                image_aug = (blur_augs(image) - mean)/std\n",
    "                _, cnx_embeds = cnx(image_norm)\n",
    "                _, cnx_aug_embeds = cnx(image_aug)\n",
    "\n",
    "                cont_loss = utils.soft_cont_loss(\n",
    "                    nn.functional.normalize(transformer_feats.reshape(-1, transformer_feats.shape[-1]), dim=-1),\n",
    "                    nn.functional.normalize(cnx_embeds.reshape(-1, cnx_embeds.shape[-1]), dim=-1),\n",
    "                    nn.functional.normalize(cnx_aug_embeds.reshape(-1, cnx_embeds.shape[-1]), dim=-1),\n",
    "                    temp=0.2)\n",
    "                loss_blurry_cont_total += cont_loss.item()\n",
    "\n",
    "                loss += (loss_blurry + 0.1*cont_loss) * blur_scale #/.18215\n",
    "\n",
    "            if clip_scale>0:\n",
    "                # forward and backward top 1 accuracy        \n",
    "                labels = torch.arange(len(clip_voxels_norm)).to(clip_voxels_norm.device) \n",
    "                fwd_percent_correct += utils.topk(utils.batchwise_cosine_similarity(clip_voxels_norm, clip_target_norm), labels, k=1).item()\n",
    "                bwd_percent_correct += utils.topk(utils.batchwise_cosine_similarity(clip_target_norm, clip_voxels_norm), labels, k=1).item()\n",
    "\n",
    "            if blurry_recon:\n",
    "                with torch.no_grad():\n",
    "                    # only doing pixcorr eval on a subset of the samples per batch because its costly & slow to compute autoenc.decode()\n",
    "                    random_samps = np.random.choice(np.arange(len(image)), size=len(image)//5, replace=False)\n",
    "                    blurry_recon_images = (autoenc.decode(image_enc_pred[random_samps]/0.18215).sample/ 2 + 0.5).clamp(0,1)\n",
    "                    pixcorr = utils.pixcorr(image[random_samps], blurry_recon_images)\n",
    "                    blurry_pixcorr += pixcorr.item()\n",
    "\n",
    "            utils.check_loss(loss)\n",
    "            accelerator.backward(loss)\n",
    "            optimizer.step()\n",
    "\n",
    "            losses.append(loss.item())\n",
    "            lrs.append(optimizer.param_groups[0]['lr'])\n",
    "\n",
    "            if lr_scheduler_type is not None:\n",
    "                lr_scheduler.step()\n",
    "\n",
    "    model.eval()\n",
    "    if local_rank==0:\n",
    "        with torch.no_grad(), torch.cuda.amp.autocast(dtype=data_type): \n",
    "            for test_i, (behav, past_behav, future_behav, old_behav) in enumerate(test_dl):  \n",
    "                # all test samples should be loaded per batch such that test_i should never exceed 0\n",
    "                assert len(behav) == num_test\n",
    "\n",
    "                ## Average same-image repeats ##\n",
    "                if test_image is None:\n",
    "                    voxel = voxels[f'subj0{subj}'][behav[:,0,5].cpu().long()]\n",
    "                    \n",
    "                    if seq_len==1:\n",
    "                        voxel = voxel.unsqueeze(1)\n",
    "                    else:\n",
    "                        if seq_past>0:\n",
    "                            past_behavior = past_behav[:,:(seq_past),5].cpu().long()\n",
    "                            past_voxels = voxels[f'subj0{subj}'][past_behavior]\n",
    "                            if torch.any(past_behavior==-1).item(): # remove invalid voxels (-1 if there is no timepoint available)\n",
    "                                past_voxels[torch.where(past_behavior==-1)[0]] = 0\n",
    "\n",
    "                        if seq_future>0:\n",
    "                            future_behavior = future_behav[:,:(seq_future),5].cpu().long()\n",
    "                            future_voxels = voxels[f'subj0{subj}'][future_behavior]                    \n",
    "                            if torch.any(future_behavior==-1).item(): # remove invalid voxels (-1 if there is no timepoint available)\n",
    "                                future_voxels[torch.where(future_behavior==-1)[0]] = 0\n",
    "                            \n",
    "                        if seq_past > 0 and seq_future > 0:\n",
    "                            voxel = torch.cat((voxel.unsqueeze(1), past_voxels), axis=1)\n",
    "                            voxel = torch.cat((voxel, future_voxels), axis=1)\n",
    "                        elif seq_past > 0:\n",
    "                            voxel = torch.cat((voxel.unsqueeze(1), past_voxels), axis=1)\n",
    "                        else:\n",
    "                            voxel = torch.cat((voxel.unsqueeze(1), future_voxels), axis=1)\n",
    "\n",
    "                    image = behav[:,0,0].cpu().long()\n",
    "\n",
    "                    unique_image, sort_indices = torch.unique(image, return_inverse=True)\n",
    "                    for im in unique_image:\n",
    "                        locs = torch.where(im == image)[0]\n",
    "                        if len(locs)==1:\n",
    "                            locs = locs.repeat(3)\n",
    "                        elif len(locs)==2:\n",
    "                            locs = locs.repeat(2)[:3]\n",
    "                        assert len(locs)==3\n",
    "                        if test_image is None:\n",
    "                            test_image = images[im][None]\n",
    "                            test_voxel = voxel[locs][None]\n",
    "                        else:\n",
    "                            test_image = torch.vstack((test_image, images[im][None]))\n",
    "                            test_voxel = torch.vstack((test_voxel, voxel[locs][None]))\n",
    "\n",
    "                loss=0.\n",
    "                            \n",
    "                test_indices = torch.arange(len(test_voxel))[:300]\n",
    "                voxel = test_voxel[test_indices].to(device)\n",
    "                image = test_image[test_indices].to(device)\n",
    "                assert len(image) == 300\n",
    "\n",
    "                clip_target = clip_img_embedder(image.float())\n",
    "\n",
    "                for rep in range(3):\n",
    "                    voxel_ridge = model.ridge(voxel[:,rep],0) # 0th index of subj_list\n",
    "                    backbone0, clip_voxels0, blurry_image_enc_ = model.backbone(voxel_ridge)\n",
    "                    if rep==0:\n",
    "                        clip_voxels = clip_voxels0\n",
    "                        backbone = backbone0\n",
    "                    else:\n",
    "                        clip_voxels += clip_voxels0\n",
    "                        backbone += backbone0\n",
    "                clip_voxels /= 3\n",
    "                backbone /= 3\n",
    "\n",
    "                if clip_scale>0:\n",
    "                    clip_voxels_norm = nn.functional.normalize(clip_voxels.flatten(1), dim=-1)\n",
    "                    clip_target_norm = nn.functional.normalize(clip_target.flatten(1), dim=-1)\n",
    "                \n",
    "                # for some evals, only doing a subset of the samples per batch because of computational cost\n",
    "                random_samps = np.random.choice(np.arange(len(image)), size=len(image)//5, replace=False)\n",
    "                \n",
    "                if use_prior:\n",
    "                    loss_prior, contaminated_prior_out = model.diffusion_prior(text_embed=backbone[random_samps], image_embed=clip_target[random_samps])\n",
    "                    test_loss_prior_total += loss_prior.item()\n",
    "                    loss_prior *= prior_scale\n",
    "                    loss += loss_prior\n",
    "                    \n",
    "                    if visualize_prior:\n",
    "                        # now get unCLIP prediction without feeding it the image embed to get uncontaminated reconstruction\n",
    "                        prior_out = model.diffusion_prior.p_sample_loop(backbone[random_samps].shape, \n",
    "                                        text_cond = dict(text_embed = backbone[random_samps]), \n",
    "                                        cond_scale = 1., timesteps = 20)\n",
    "\n",
    "                        test_recon_cossim += nn.functional.cosine_similarity(prior_out, clip_target[random_samps]).mean().item()\n",
    "                        test_recon_mse += mse(prior_out, clip_target[random_samps]).item()\n",
    "                        \n",
    "                if clip_scale>0:\n",
    "                    loss_clip = utils.soft_clip_loss(\n",
    "                        clip_voxels_norm,\n",
    "                        clip_target_norm,\n",
    "                        temp=.006)\n",
    "\n",
    "                    test_loss_clip_total += loss_clip.item()\n",
    "                    loss_clip = loss_clip * clip_scale\n",
    "                    loss += loss_clip\n",
    "\n",
    "                if blurry_recon:\n",
    "                    image_enc_pred, _ = blurry_image_enc_\n",
    "                    blurry_recon_images = (autoenc.decode(image_enc_pred[random_samps]/0.18215).sample / 2 + 0.5).clamp(0,1)\n",
    "                    pixcorr = utils.pixcorr(image[random_samps], blurry_recon_images)\n",
    "                    test_blurry_pixcorr += pixcorr.item()\n",
    "\n",
    "                if clip_scale>0:\n",
    "                    # forward and backward top 1 accuracy        \n",
    "                    labels = torch.arange(len(clip_voxels_norm)).to(clip_voxels_norm.device) \n",
    "                    test_fwd_percent_correct += utils.topk(utils.batchwise_cosine_similarity(clip_voxels_norm, clip_target_norm), labels, k=1).item()\n",
    "                    test_bwd_percent_correct += utils.topk(utils.batchwise_cosine_similarity(clip_target_norm, clip_voxels_norm), labels, k=1).item()\n",
    "                \n",
    "                utils.check_loss(loss)                \n",
    "                test_losses.append(loss.item())\n",
    "\n",
    "            # if utils.is_interactive(): clear_output(wait=True)\n",
    "            print(\"---\")\n",
    "\n",
    "            assert (test_i+1) == 1\n",
    "            logs = {\"train/loss\": np.mean(losses[-(train_i+1):]),\n",
    "                \"test/loss\": np.mean(test_losses[-(test_i+1):]),\n",
    "                \"train/lr\": lrs[-1],\n",
    "                \"train/num_steps\": len(losses),\n",
    "                \"test/num_steps\": len(test_losses),\n",
    "                \"train/fwd_pct_correct\": fwd_percent_correct / (train_i + 1),\n",
    "                \"train/bwd_pct_correct\": bwd_percent_correct / (train_i + 1),\n",
    "                \"test/test_fwd_pct_correct\": test_fwd_percent_correct / (test_i + 1),\n",
    "                \"test/test_bwd_pct_correct\": test_bwd_percent_correct / (test_i + 1),\n",
    "                \"train/loss_clip_total\": loss_clip_total / (train_i + 1),\n",
    "                \"train/loss_blurry_total\": loss_blurry_total / (train_i + 1),\n",
    "                \"train/loss_blurry_cont_total\": loss_blurry_cont_total / (train_i + 1),\n",
    "                \"test/loss_clip_total\": test_loss_clip_total / (test_i + 1),\n",
    "                \"train/blurry_pixcorr\": blurry_pixcorr / (train_i + 1),\n",
    "                \"test/blurry_pixcorr\": test_blurry_pixcorr / (test_i + 1),\n",
    "                \"train/recon_cossim\": recon_cossim / (train_i + 1),\n",
    "                \"test/recon_cossim\": test_recon_cossim / (test_i + 1),\n",
    "                \"train/recon_mse\": recon_mse / (train_i + 1),\n",
    "                \"test/recon_mse\": test_recon_mse / (test_i + 1),\n",
    "                \"train/loss_prior\": loss_prior_total / (train_i + 1),\n",
    "                \"test/loss_prior\": test_loss_prior_total / (test_i + 1),\n",
    "                }\n",
    "\n",
    "            # if finished training, save jpg recons if they exist\n",
    "            if (epoch == num_epochs-1) or (epoch % ckpt_interval == 0):\n",
    "                if blurry_recon:    \n",
    "                    image_enc = autoenc.encode(2*image[:4]-1).latent_dist.mode() * 0.18215\n",
    "                    # transform blurry recon latents to images and plot it\n",
    "                    fig, axes = plt.subplots(1, 8, figsize=(10, 4))\n",
    "                    jj=-1\n",
    "                    for j in [0,1,2,3]:\n",
    "                        jj+=1\n",
    "                        axes[jj].imshow(utils.torch_to_Image((autoenc.decode(image_enc[[j]]/0.18215).sample / 2 + 0.5).clamp(0,1)))\n",
    "                        axes[jj].axis('off')\n",
    "                        jj+=1\n",
    "                        axes[jj].imshow(utils.torch_to_Image((autoenc.decode(image_enc_pred[[j]]/0.18215).sample / 2 + 0.5).clamp(0,1)))\n",
    "                        axes[jj].axis('off')\n",
    "\n",
    "                    if wandb_log:\n",
    "                        logs[f\"test/blur_recons\"] = wandb.Image(fig, caption=f\"epoch{epoch:03d}\")\n",
    "                        plt.close()\n",
    "                    else:\n",
    "                        plt.show()\n",
    "                        \n",
    "                if use_prior and visualize_prior: # output recons every ckpt\n",
    "                    idx = np.random.randint(0, 3)\n",
    "                    print(f\"reconstructing... idx={idx}\")\n",
    "                    samples = utils.unclip_recon(prior_out[[idx]],\n",
    "                             diffusion_engine,\n",
    "                             vector_suffix)\n",
    "                    if wandb_log:\n",
    "                        logs[f\"test/orig\"] = wandb.Image(transforms.ToPILImage()(image[idx]),\n",
    "                                                           caption=f\"epoch{epoch:03d}\")\n",
    "                        logs[f\"test/recons\"] = wandb.Image(transforms.ToPILImage()(samples[0]),\n",
    "                                                           caption=f\"epoch{epoch:03d}\")\n",
    "                    if utils.is_interactive():\n",
    "                        plt.figure(figsize=(2,2))\n",
    "                        plt.imshow(transforms.ToPILImage()(image[idx]))\n",
    "                        plt.axis('off')\n",
    "                        plt.show()\n",
    "                        \n",
    "                        plt.figure(figsize=(2,2))\n",
    "                        plt.imshow(transforms.ToPILImage()(samples[0]))\n",
    "                        plt.axis('off')\n",
    "                        plt.show()\n",
    "\n",
    "            progress_bar.set_postfix(**logs)\n",
    "\n",
    "            if wandb_log: wandb.log(logs)\n",
    "            \n",
    "    # Save model checkpoint and reconstruct\n",
    "    if (ckpt_saving) and (epoch % ckpt_interval == 0):\n",
    "        save_ckpt(f'last')\n",
    "\n",
    "    # wait for other GPUs to catch up if needed\n",
    "    accelerator.wait_for_everyone()\n",
    "    torch.cuda.empty_cache()\n",
    "    gc.collect()\n",
    "\n",
    "print(\"\\n===Finished!===\\n\")\n",
    "if ckpt_saving:\n",
    "    save_ckpt(f'last')\n"
   ]
  },
  {
   "cell_type": "code",
   "execution_count": 23,
   "id": "a7e81ae3-171f-40ad-a3e8-24bee4472325",
   "metadata": {
    "tags": []
   },
   "outputs": [
    {
     "data": {
      "image/png": "[encoded data removed]",
      "text/plain": [
       "<Figure size 640x480 with 1 Axes>"
      ]
     },
     "metadata": {},
     "output_type": "display_data"
    },
    {
     "data": {
      "image/png": "[encoded data removed]",
      "text/plain": [
       "<Figure size 640x480 with 1 Axes>"
      ]
     },
     "metadata": {},
     "output_type": "display_data"
    }
   ],
   "source": [
    "plt.plot(losses)\n",
    "plt.show()\n",
    "plt.plot(test_losses)\n",
    "plt.show()"
   ]
  },
  {
   "cell_type": "code",
   "execution_count": null,
   "id": "958b4136-eebd-48ea-8552-9aecea23a797",
   "metadata": {},
   "outputs": [],
   "source": []
  }
 ],
 "metadata": {
  "kernelspec": {
   "display_name": "Python 3 (ipykernel)",
   "language": "python",
   "name": "python3"
  },
  "language_info": {
   "codemirror_mode": {
    "name": "ipython",
    "version": 3
   },
   "file_extension": ".py",
   "mimetype": "text/x-python",
   "name": "python",
   "nbconvert_exporter": "python",
   "pygments_lexer": "ipython3",
   "version": "3.11.9"
  },
  "toc": {
   "base_numbering": 1,
   "nav_menu": {},
   "number_sections": true,
   "sideBar": true,
   "skip_h1_title": false,
   "title_cell": "Table of Contents",
   "title_sidebar": "Contents",
   "toc_cell": false,
   "toc_position": {
    "height": "calc(100% - 180px)",
    "left": "10px",
    "top": "150px",
    "width": "165px"
   },
   "toc_section_display": true,
   "toc_window_display": true
  },
  "toc-autonumbering": true,
  "vscode": {
   "interpreter": {
    "hash": "62aae01ef0cf7b6af841ab1c8ce59175c4332e693ab3d00bc32ceffb78a35376"
   }
  }
 },
 "nbformat": 4,
 "nbformat_minor": 5
}
