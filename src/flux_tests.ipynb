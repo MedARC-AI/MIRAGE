{
 "cells": [
  {
   "cell_type": "code",
   "execution_count": null,
   "metadata": {},
   "outputs": [],
   "source": [
    "import os\n",
    "os.environ['CUDA_VISIBLE_DEVICES'] = '1,2'\n",
    "import torch\n",
    "from PIL import Image\n",
    "from IPython.display import display\n",
    "from flux_reconstructor import Flux_Reconstructor"
   ]
  },
  {
   "cell_type": "code",
   "execution_count": null,
   "metadata": {},
   "outputs": [],
   "source": [
    "device = \"cuda:1\"\n",
    "reconstructor = Flux_Reconstructor(offload=False)\n",
    "# reconstructor.set_lora(None, \"XLabs-AI/flux-RealismLora\", \"lora.safetensors\", 1)\n",
    "recon_path = \"/export/raid1/home/kneel027/Second-Sight/output/mental_imagery_paper_b3/vision/subj01_40sess_hypatia_ridge_sc_flux_enhanced/subject1/\"\n",
    "sc_recon_path = \"/export/raid1/home/kneel027/Second-Sight/output/mental_imagery_paper_b3/vision/subj01_40sess_hypatia_ridge_sc_flux/subject1/\"\n",
    "t5_preds = torch.load(recon_path + \"flux_t5_text_voxels.pt\")\n",
    "clip_text_preds = torch.load(recon_path + \"flux_clip_text_voxels.pt\")"
   ]
  },
  {
   "cell_type": "code",
   "execution_count": null,
   "metadata": {},
   "outputs": [],
   "source": []
  },
  {
   "cell_type": "code",
   "execution_count": null,
   "metadata": {},
   "outputs": [],
   "source": [
    "\n",
    "index = 6\n",
    "t5_pred = t5_preds[index]\n",
    "clip_text_pred = clip_text_preds[index]\n",
    "# prompt = \"a woman riding a horse\"\n",
    "image = Image.open(f\"{sc_recon_path}/{index}/5.png\")\n",
    "# prompt_embed = recon.embed_text(prompt)\n",
    "# image_embed = recon.embed_image(image)\n",
    "# image = Image.open(\"/home/naxos2-raid25/kneel027/home/kneel027/IP-Adapter_MEI/assets/images/horse.jpg\")\n",
    "# latent_embed = recon.embed_latent(image)\n",
    "# print(torch.mean(image_embed), torch.mean(prompt_embed), torch.sum(image_embed), torch.sum(prompt_embed))\n",
    "# print(prompt_embed.shape, image_embed.shape, latent_embed.shape)\n",
    "# url = \"https://raw.githubusercontent.com/CompVis/stable-diffusion/main/assets/stable-samples/img2img/sketch-mountains-input.jpg\"\n",
    "# init_image = load_image(url).resize((1024, 1024))\n",
    "\n",
    "images = reconstructor.reconstruct(image=image, c_t=clip_text_pred, t5=t5_pred, strength=0.8, num_steps=50, n_samples=1, cfg=3.5)\n",
    "# show_images(sample)\n",
    "# display(images[0])\n",
    "# display(images[1])\n",
    "display(images)"
   ]
  }
 ],
 "metadata": {
  "kernelspec": {
   "display_name": "flux",
   "language": "python",
   "name": "python3"
  },
  "language_info": {
   "codemirror_mode": {
    "name": "ipython",
    "version": 3
   },
   "file_extension": ".py",
   "mimetype": "text/x-python",
   "name": "python",
   "nbconvert_exporter": "python",
   "pygments_lexer": "ipython3",
   "version": "3.11.10"
  }
 },
 "nbformat": 4,
 "nbformat_minor": 2
}
