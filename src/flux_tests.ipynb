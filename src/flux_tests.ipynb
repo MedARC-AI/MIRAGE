{
 "cells": [
  {
   "cell_type": "code",
   "execution_count": 1,
   "metadata": {},
   "outputs": [
    {
     "name": "stderr",
     "output_type": "stream",
     "text": [
      "2024-10-24 21:57:58.578 WARNING streamlit.runtime.scriptrunner_utils.script_run_context: Thread 'MainThread': missing ScriptRunContext! This warning can be ignored when running in bare mode.\n",
      "/export/raid1/home/kneel027/mamba/envs/flux/lib/python3.11/site-packages/tqdm/auto.py:21: TqdmWarning: IProgress not found. Please update jupyter and ipywidgets. See https://ipywidgets.readthedocs.io/en/stable/user_install.html\n",
      "  from .autonotebook import tqdm as notebook_tqdm\n"
     ]
    }
   ],
   "source": [
    "import os\n",
    "os.environ['CUDA_VISIBLE_DEVICES'] = '0'\n",
    "import torch\n",
    "from PIL import Image\n",
    "from IPython.display import display\n",
    "from flux_reconstructor import Flux_Reconstructor"
   ]
  },
  {
   "cell_type": "code",
   "execution_count": 2,
   "metadata": {},
   "outputs": [
    {
     "name": "stdout",
     "output_type": "stream",
     "text": [
      "Flux Reconstructor: Loading model...\n"
     ]
    },
    {
     "name": "stderr",
     "output_type": "stream",
     "text": [
      "You are using the default legacy behaviour of the <class 'transformers.models.t5.tokenization_t5.T5Tokenizer'>. This is expected, and simply means that the `legacy` (previous) behavior will be used so nothing changes for you. If you want to use the new behaviour, set `legacy=False`. This should only be set if you understand what it means, and thoroughly read the reason why this was added as explained in https://github.com/huggingface/transformers/pull/24565\n"
     ]
    },
    {
     "name": "stdout",
     "output_type": "stream",
     "text": [
      "Init AE\n"
     ]
    }
   ],
   "source": [
    "device = \"cuda\"\n",
    "feature_extractor = Flux_Reconstructor(offload=False, embedder_only=True, device=device)\n",
    "# reconstructor.set_lora(None, \"XLabs-AI/flux-RealismLora\", \"lora.safetensors\", 1)\n",
    "# recon_path = \"/export/raid1/home/kneel027/Second-Sight/output/mental_imagery_paper_b3/vision/subj01_40sess_hypatia_ridge_sc_flux_enhanced/subject1/\"\n",
    "# sc_recon_path = \"/export/raid1/home/kneel027/Second-Sight/output/mental_imagery_paper_b3/vision/subj01_40sess_hypatia_ridge_sc_flux/subject1/\"\n",
    "# t5_preds = torch.load(recon_path + \"flux_t5_text_voxels.pt\")\n",
    "# clip_text_preds = torch.load(recon_path + \"flux_clip_text_voxels.pt\")"
   ]
  },
  {
   "cell_type": "code",
   "execution_count": null,
   "metadata": {},
   "outputs": [
    {
     "name": "stdout",
     "output_type": "stream",
     "text": [
      "torch.Size([1, 16, 128, 128])\n",
      "Flux Reconstructor: Loading model...\n",
      "Init model\n",
      "Loading checkpoint\n",
      "Init AE\n"
     ]
    }
   ],
   "source": [
    "\n",
    "# index = 6\n",
    "# t5_pred = t5_preds[index]\n",
    "# clip_text_pred = clip_text_preds[index]\n",
    "prompt = \"a woman riding a horse\"\n",
    "# image = Image.open(f\"{sc_recon_path}/{index}/5.png\")\n",
    "clip_text_pred, t5_pred = feature_extractor.embed_text(prompt)\n",
    "# image_embed = recon.embed_image(image)\n",
    "image = Image.open(\"/home/naxos2-raid25/kneel027/home/kneel027/IP-Adapter_MEI/assets/images/horse.jpg\")\n",
    "latent_embed = feature_extractor.embed_latent(image)\n",
    "print(latent_embed.shape)\n",
    "# print(torch.mean(image_embed), torch.mean(prompt_embed), torch.sum(image_embed), torch.sum(prompt_embed))\n",
    "# print(prompt_embed.shape, image_embed.shape, latent_embed.shape)\n",
    "# url = \"https://raw.githubusercontent.com/CompVis/stable-diffusion/main/assets/stable-samples/img2img/sketch-mountains-input.jpg\"\n",
    "# init_image = load_image(url).resize((1024, 1024))\n",
    "del feature_extractor\n",
    "reconstructor = Flux_Reconstructor(offload=True, device=device)\n",
    "images = reconstructor.reconstruct(latent=latent_embed, c_t=clip_text_pred, t5=t5_pred, strength=0.8, num_steps=50, n_samples=1, cfg=3.5)\n",
    "# show_images(sample)\n",
    "# display(images[0])\n",
    "# display(images[1])\n",
    "display(images)"
   ]
  }
 ],
 "metadata": {
  "kernelspec": {
   "display_name": "flux",
   "language": "python",
   "name": "python3"
  },
  "language_info": {
   "codemirror_mode": {
    "name": "ipython",
    "version": 3
   },
   "file_extension": ".py",
   "mimetype": "text/x-python",
   "name": "python",
   "nbconvert_exporter": "python",
   "pygments_lexer": "ipython3",
   "version": "3.11.10"
  }
 },
 "nbformat": 4,
 "nbformat_minor": 2
}
