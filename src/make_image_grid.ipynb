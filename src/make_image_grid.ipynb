{
 "cells": [
  {
   "cell_type": "code",
   "execution_count": 1,
   "metadata": {},
   "outputs": [],
   "source": [
    "import os, sys, torch\n",
    "from torchvision import transforms\n",
    "from PIL import Image\n",
    "from tqdm import tqdm\n",
    "import pandas as pd\n",
    "import numpy as np"
   ]
  },
  {
   "cell_type": "code",
   "execution_count": 3,
   "metadata": {},
   "outputs": [
    {
     "name": "stderr",
     "output_type": "stream",
     "text": [
      "/export/raid1/home/kneel027/miniconda3/envs/mindeyev2/lib/python3.11/site-packages/torchvision/transforms/functional.py:1603: UserWarning: The default value of the antialias parameter of all the resizing transforms (Resize(), RandomResizedCrop(), etc.) will change from None to True in v0.17, in order to be consistent across the PIL and Tensor backends. To suppress this warning, directly pass antialias=True (recommended, future default), antialias=None (current default, which means False for Tensors and True for PIL), or antialias=False (only works on Tensors - PIL will still use antialiasing). This also applies if you are using the inference transforms from the models weights: update the call to weights.transforms(antialias=True).\n",
      "  warnings.warn(\n"
     ]
    }
   ],
   "source": [
    "# model = \"mindeye1_40\"\n",
    "model = \"brain_diffuser_750_trials\"\n",
    "all_images = torch.load(\"evals/all_images.pt\")\n",
    "all_recons = torch.load(f\"evals/{model}/subj01_{model}_all_recons.pt\")\n",
    "# all_recons = torch.load(\"/home/naxos2-raid25/kneel027/home/kneel027/Second-Sight/data/preprocessed_data/subject7/mindeye_40_recons.pt\")\n",
    "\n",
    "imsize = 150\n",
    "if all_images.shape[-1] != imsize:\n",
    "    all_images = transforms.Resize((imsize,imsize))(all_images).float()\n",
    "if all_recons.shape[-1] != imsize:\n",
    "    all_recons = transforms.Resize((imsize,imsize))(all_recons).float()\n",
    "\n",
    "num_images = all_recons.shape[0]\n",
    "num_rows = (2 * num_images + 9) // 10\n",
    "\n",
    "# Interleave tensors\n",
    "merged = torch.stack([val for pair in zip(all_images, all_recons) for val in pair], dim=0)\n",
    "\n",
    "# Calculate grid size\n",
    "grid = torch.zeros((num_rows * 10, 3, all_recons.shape[-1], all_recons.shape[-1]))\n",
    "\n",
    "# Populate the grid\n",
    "grid[:2*num_images] = merged\n",
    "grid_images = [transforms.functional.to_pil_image(grid[i]) for i in range(num_rows * 10)]\n",
    "\n",
    "# Create the grid image\n",
    "grid_image = Image.new('RGB', (all_recons.shape[-1]*10, all_recons.shape[-1] * num_rows))  # 10 images wide\n",
    "\n",
    "# Paste images into the grid\n",
    "for i, img in enumerate(grid_images):\n",
    "    grid_image.paste(img, (all_recons.shape[-1] * (i % 10), all_recons.shape[-1] * (i // 10)))\n",
    "os.makedirs(f\"evals/{model}\", exist_ok=True)\n",
    "grid_image.save(f\"evals/{model}/{model}_1000recons.png\")"
   ]
  }
 ],
 "metadata": {
  "kernelspec": {
   "display_name": "mindeyev2",
   "language": "python",
   "name": "python3"
  },
  "language_info": {
   "codemirror_mode": {
    "name": "ipython",
    "version": 3
   },
   "file_extension": ".py",
   "mimetype": "text/x-python",
   "name": "python",
   "nbconvert_exporter": "python",
   "pygments_lexer": "ipython3",
   "version": "3.11.7"
  }
 },
 "nbformat": 4,
 "nbformat_minor": 2
}
