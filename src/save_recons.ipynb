{
 "cells": [
  {
   "cell_type": "code",
   "execution_count": 8,
   "metadata": {},
   "outputs": [],
   "source": [
    "import os\n",
    "import torch\n",
    "from PIL import Image\n",
    "from torchvision import transforms\n",
    "from tqdm import tqdm\n",
    "root = \"/home/naxos2-raid25/kneel027/home/kneel027/Second-Sight/output/mental_imagery_paper_b3/\"\n"
   ]
  },
  {
   "cell_type": "code",
   "execution_count": 9,
   "metadata": {},
   "outputs": [
    {
     "name": "stderr",
     "output_type": "stream",
     "text": [
      "100%|██████████| 18/18 [00:04<00:00,  3.75it/s]\n",
      "100%|██████████| 18/18 [00:04<00:00,  3.66it/s]\n",
      "100%|██████████| 18/18 [00:04<00:00,  3.62it/s]\n",
      "100%|██████████| 18/18 [00:04<00:00,  3.68it/s]\n",
      "100%|██████████| 18/18 [00:04<00:00,  3.76it/s]\n",
      "100%|██████████| 18/18 [00:04<00:00,  3.74it/s]\n",
      "100%|██████████| 18/18 [00:04<00:00,  3.70it/s]\n",
      "100%|██████████| 18/18 [00:04<00:00,  3.63it/s]\n"
     ]
    }
   ],
   "source": [
    "for mode in [\"imagery\", \"vision\"]:\n",
    "    for subject in [1,2,5,7]:\n",
    "        model_name = f\"mindeye1_subj0{subject}\"\n",
    "        all_recons = torch.zeros(18, 10, 3, 425, 425)\n",
    "        all_blurryrecons = torch.zeros(18, 10, 3, 425, 425)\n",
    "        all_clipvoxels = []\n",
    "        for sample in tqdm(range(18)):\n",
    "            for rep in range(10):\n",
    "                image_path = f\"{root}{mode}/mindeye/subject{subject}/{sample}/{rep}.png\"\n",
    "                image = Image.open(image_path)\n",
    "                all_recons[sample, rep] = transforms.ToTensor()(image.resize((425, 425)))\n",
    "                blurry_image_path = f\"{root}{mode}/mindeye/subject{subject}/{sample}/low_level.png\"\n",
    "                blurry_image = Image.open(image_path)\n",
    "                all_blurryrecons[sample, rep] = transforms.ToTensor()(blurry_image.resize((425, 425)))\n",
    "            all_clipvoxels.append(torch.load(f\"{root}{mode}/mindeye/subject{subject}/{sample}/clip_block.pt\"))\n",
    "        os.makedirs(f\"evals/{model_name}\", exist_ok=True)\n",
    "        torch.save(all_recons, f\"evals/{model_name}/{model_name}_all_recons_{mode}.pt\")\n",
    "        \n",
    "        torch.save(all_blurryrecons, f\"evals/{model_name}/{model_name}_all_blurryrecons_{mode}.pt\")\n",
    "        torch.save(torch.stack(all_clipvoxels), f\"evals/{model_name}/{model_name}_all_clipvoxels_{mode}.pt\")"
   ]
  }
 ],
 "metadata": {
  "kernelspec": {
   "display_name": "Python 3",
   "language": "python",
   "name": "python3"
  },
  "language_info": {
   "codemirror_mode": {
    "name": "ipython",
    "version": 3
   },
   "file_extension": ".py",
   "mimetype": "text/x-python",
   "name": "python",
   "nbconvert_exporter": "python",
   "pygments_lexer": "ipython3",
   "version": "3.11.9"
  }
 },
 "nbformat": 4,
 "nbformat_minor": 2
}
