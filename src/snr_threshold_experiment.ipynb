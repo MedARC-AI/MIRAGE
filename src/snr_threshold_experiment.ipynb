{
 "cells": [
  {
   "cell_type": "markdown",
   "id": "b0f0f4f3",
   "metadata": {},
   "source": [
    "# Import packages & functions"
   ]
  },
  {
   "cell_type": "code",
   "execution_count": 1,
   "id": "5bad764b-45c1-45ce-a716-8d055e09821a",
   "metadata": {
    "tags": []
   },
   "outputs": [],
   "source": [
    "import os\n",
    "import sys\n",
    "import json\n",
    "import argparse\n",
    "import numpy as np\n",
    "import math\n",
    "from einops import rearrange\n",
    "import time\n",
    "import random\n",
    "import string\n",
    "import h5py\n",
    "from tqdm import tqdm\n",
    "import webdataset as wds\n",
    "import gc\n",
    "\n",
    "import matplotlib.pyplot as plt\n",
    "import torch\n",
    "import torch.nn as nn\n",
    "from torchvision import transforms\n",
    "from accelerate import Accelerator\n",
    "\n",
    "os.chdir(\"/home/naxos2-raid25/ojeda040/local/ojeda040/MindEye_Imagery/src\")\n",
    "\n",
    "# SDXL unCLIP requires code from https://github.com/Stability-AI/generative-models/tree/main\n",
    "sys.path.append('generative_models/')\n",
    "import sgm\n",
    "from models import Clipper\n",
    "from generative_models.sgm.modules.encoders.modules import FrozenOpenCLIPImageEmbedder # bigG embedder\n",
    "\n",
    "# tf32 data type is faster than standard float32\n",
    "torch.backends.cuda.matmul.allow_tf32 = True\n",
    "\n",
    "# custom functions #\n",
    "from utils import *"
   ]
  },
  {
   "cell_type": "code",
   "execution_count": 2,
   "id": "a2914864",
   "metadata": {},
   "outputs": [
    {
     "data": {
      "text/plain": [
       "torch.Size([30000, 3931])"
      ]
     },
     "execution_count": 2,
     "metadata": {},
     "output_type": "execute_result"
    }
   ],
   "source": [
    "s = 1\n",
    "data_type = torch.float16\n",
    "data_path = \"/home/naxos2-raid25/ojeda040/local/ojeda040/MindEye_Imagery/dataset\"\n",
    "snr_threshold = 0.65\n",
    "betas = create_snr_betas(subject=s, data_type=data_type, data_path=data_path, threshold = snr_threshold)\n",
    "betas.shape"
   ]
  },
  {
   "cell_type": "code",
   "execution_count": null,
   "id": "ee225294",
   "metadata": {},
   "outputs": [],
   "source": [
    "#create_whole_region_unnormalized(subject = 1, include_heldout=True, mask_nsd_general=False)"
   ]
  },
  {
   "cell_type": "code",
   "execution_count": null,
   "id": "23b3a88f",
   "metadata": {},
   "outputs": [],
   "source": [
    "#create_whole_region_normalized(subject = 1, include_heldout=True, mask_nsd_general=False)"
   ]
  },
  {
   "cell_type": "code",
   "execution_count": null,
   "id": "c0763293",
   "metadata": {},
   "outputs": [],
   "source": [
    "# Stack load_nsd\n",
    "current_directory = os.getcwd()\n",
    "subject = 1\n",
    "beta_file = f\"{current_directory}/data/preprocessed_data/subject01/whole_brain_include_heldout.pt\"\n",
    "#beta_file = \"/home/naxos2-raid25/ojeda040/local/ojeda040/MindEye_Imagery/src/data/preprocessed_data/subject1/nsd_general_include_heldout.pt\"\n",
    "x = torch.load(beta_file).requires_grad_(False).to(\"cpu\")\n",
    "stim_descriptions = pd.read_csv(\"/\".join(current_directory.split(\"/\")[:-1]) + \"/dataset/nsddata/experiments/nsd/nsd_stim_info_merged.csv\", index_col=0)\n",
    "subj_train = stim_descriptions[(stim_descriptions['subject{}'.format(subject)] != 0) & (stim_descriptions['shared1000'] == False)]\n",
    "subj_test = stim_descriptions[(stim_descriptions['subject{}'.format(subject)] != 0) & (stim_descriptions['shared1000'] == True)]\n",
    "test_trials = []\n",
    "test_sessions = []\n",
    "x_train = torch.zeros((9000, 3, x.shape[1])).to(\"cpu\")\n",
    "pbar = tqdm(desc=\"loading samples\", total=x.shape[0])\n",
    "\n",
    "# Collect the non-test data for the training set\n",
    "for i in range(subj_train.shape[0]):\n",
    "    for j in range(3):\n",
    "        scanId = subj_train.iloc[i]['subject{}_rep{}'.format(subject, j)] - 1\n",
    "        if(scanId < x.shape[0]):\n",
    "            x_train[i, j, :] = x[scanId]\n",
    "            pbar.update() \n",
    "            \n",
    "            \n",
    "x_train.shape\n",
    "# betas = [voxels, reps, samples]\n",
    "# torch.Size([9000, 3, 238508])"
   ]
  },
  {
   "cell_type": "code",
   "execution_count": null,
   "id": "bb8175e9",
   "metadata": {},
   "outputs": [],
   "source": [
    "# SNR Calulation\n",
    "snr, signal, noise = calculate_snr(x_train)\n",
    "print(f\"SNR: {snr}\")\n",
    "print(f\"SIGNAL: {signal}\")\n",
    "print(f\"NOISE: {noise}\")"
   ]
  },
  {
   "cell_type": "code",
   "execution_count": null,
   "id": "405272d1",
   "metadata": {},
   "outputs": [],
   "source": [
    "torch.min(snr)"
   ]
  },
  {
   "cell_type": "code",
   "execution_count": null,
   "id": "0b4560be",
   "metadata": {},
   "outputs": [],
   "source": [
    "torch.max(snr)"
   ]
  },
  {
   "cell_type": "code",
   "execution_count": null,
   "id": "19ac07ac",
   "metadata": {},
   "outputs": [],
   "source": [
    "condition = snr > .35\n",
    "snr_tensor = torch.where(condition, x, torch.tensor(0.0))\n",
    "print(snr_tensor.shape)\n",
    "\n",
    "snr_tensor_no_zeros = (snr_tensor != 0.0).any(dim=0)\n",
    "\n",
    "# Filter out the zero columns\n",
    "filtered_tensor = snr_tensor[:, snr_tensor_no_zeros]\n",
    "\n",
    "print(filtered_tensor.shape)"
   ]
  },
  {
   "cell_type": "code",
   "execution_count": null,
   "id": "425d7b8e",
   "metadata": {},
   "outputs": [],
   "source": [
    "filtered_tensor.shape"
   ]
  }
 ],
 "metadata": {
  "kernelspec": {
   "display_name": "Python 3 (ipykernel)",
   "language": "python",
   "name": "python3"
  },
  "language_info": {
   "codemirror_mode": {
    "name": "ipython",
    "version": 3
   },
   "file_extension": ".py",
   "mimetype": "text/x-python",
   "name": "python",
   "nbconvert_exporter": "python",
   "pygments_lexer": "ipython3",
   "version": "3.11.9"
  },
  "toc": {
   "base_numbering": 1,
   "nav_menu": {},
   "number_sections": true,
   "sideBar": true,
   "skip_h1_title": false,
   "title_cell": "Table of Contents",
   "title_sidebar": "Contents",
   "toc_cell": false,
   "toc_position": {
    "height": "calc(100% - 180px)",
    "left": "10px",
    "top": "150px",
    "width": "165px"
   },
   "toc_section_display": true,
   "toc_window_display": true
  },
  "toc-autonumbering": true,
  "vscode": {
   "interpreter": {
    "hash": "62aae01ef0cf7b6af841ab1c8ce59175c4332e693ab3d00bc32ceffb78a35376"
   }
  }
 },
 "nbformat": 4,
 "nbformat_minor": 5
}
