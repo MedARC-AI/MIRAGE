{
 "cells": [
  {
   "cell_type": "code",
   "execution_count": 1,
   "id": "02254f50-230a-43e6-bcad-89d36d97489d",
   "metadata": {
    "tags": []
   },
   "outputs": [
    {
     "name": "stderr",
     "output_type": "stream",
     "text": [
      "/admin/home-mihirneal/miniconda3/envs/mindeye/lib/python3.10/site-packages/tqdm/auto.py:21: TqdmWarning: IProgress not found. Please update jupyter and ipywidgets. See https://ipywidgets.readthedocs.io/en/stable/user_install.html\n",
      "  from .autonotebook import tqdm as notebook_tqdm\n",
      "/admin/home-mihirneal/miniconda3/envs/mindeye/lib/python3.10/site-packages/scipy/__init__.py:155: UserWarning: A NumPy version >=1.18.5 and <1.25.0 is required for this version of SciPy (detected version 1.26.2\n",
      "  warnings.warn(f\"A NumPy version >={np_minversion} and <{np_maxversion}\"\n"
     ]
    }
   ],
   "source": [
    "import torch\n",
    "import h5py\n",
    "import os\n",
    "import sys\n",
    "from tqdm import tqdm\n",
    "sys.path.append('generative_models/')\n",
    "import sgm\n",
    "from generative_models.sgm.modules.encoders.modules import FrozenOpenCLIPImageEmbedder\n",
    "# from generative_models.sgm.models.diffusion import DiffusionEngine\n",
    "# from omegaconf import OmegaConf"
   ]
  },
  {
   "cell_type": "code",
   "execution_count": 2,
   "id": "cea67c72-2e5b-49cd-a238-d182fa5187e0",
   "metadata": {
    "tags": []
   },
   "outputs": [],
   "source": [
    "d1 = torch.device(\"cuda:0\")\n",
    "d2 = torch.device(\"cuda:1\")\n",
    "d3 = torch.device(\"cuda:2\")"
   ]
  },
  {
   "cell_type": "code",
   "execution_count": 3,
   "id": "721fdeec-16af-4db9-9e52-255383eafddb",
   "metadata": {
    "tags": []
   },
   "outputs": [],
   "source": [
    "data_path = \"/fsx/proj-fmri/shared/mindeyev2_dataset\"\n",
    "subj=1\n",
    "data_type = torch.float16"
   ]
  },
  {
   "cell_type": "code",
   "execution_count": 4,
   "id": "c5da2123-a421-40f4-8726-cc22a88338a6",
   "metadata": {
    "tags": []
   },
   "outputs": [
    {
     "name": "stdout",
     "output_type": "stream",
     "text": [
      "subj01 betas loaded into memory\n",
      "voxels torch.Size([30000, 15724])\n",
      "images torch.Size([73000, 3, 224, 224])\n"
     ]
    }
   ],
   "source": [
    "f = h5py.File(f'{data_path}/betas_all_subj0{subj}_fp32.hdf5', 'r')\n",
    "\n",
    "voxels = f['betas'][:]\n",
    "print(f\"subj0{subj} betas loaded into memory\")\n",
    "voxels = torch.Tensor(voxels).to(\"cpu\").to(data_type)\n",
    "print(\"voxels\", voxels.shape)\n",
    "num_voxels = voxels.shape[-1]\n",
    "\n",
    "# load orig images\n",
    "f = h5py.File(f'{data_path}/coco_images_224_float16.hdf5', 'r')\n",
    "images = f['images'][:]\n",
    "images = torch.Tensor(images).to(\"cpu\").to(data_type)\n",
    "print(\"images\", images.shape)"
   ]
  },
  {
   "cell_type": "code",
   "execution_count": 5,
   "id": "5089153a-e421-4244-878c-6e3d87f4474f",
   "metadata": {
    "tags": []
   },
   "outputs": [
    {
     "data": {
      "text/plain": [
       "FrozenOpenCLIPImageEmbedder(\n",
       "  (model): CLIP(\n",
       "    (visual): VisionTransformer(\n",
       "      (patchnorm_pre_ln): Identity()\n",
       "      (conv1): Conv2d(3, 1664, kernel_size=(14, 14), stride=(14, 14), bias=False)\n",
       "      (patch_dropout): Identity()\n",
       "      (ln_pre): LayerNorm((1664,), eps=1e-05, elementwise_affine=True)\n",
       "      (transformer): Transformer(\n",
       "        (resblocks): ModuleList(\n",
       "          (0-47): 48 x ResidualAttentionBlock(\n",
       "            (ln_1): LayerNorm((1664,), eps=1e-05, elementwise_affine=True)\n",
       "            (attn): MultiheadAttention(\n",
       "              (out_proj): NonDynamicallyQuantizableLinear(in_features=1664, out_features=1664, bias=True)\n",
       "            )\n",
       "            (ls_1): Identity()\n",
       "            (ln_2): LayerNorm((1664,), eps=1e-05, elementwise_affine=True)\n",
       "            (mlp): Sequential(\n",
       "              (c_fc): Linear(in_features=1664, out_features=8192, bias=True)\n",
       "              (gelu): GELU(approximate='none')\n",
       "              (c_proj): Linear(in_features=8192, out_features=1664, bias=True)\n",
       "            )\n",
       "            (ls_2): Identity()\n",
       "          )\n",
       "        )\n",
       "      )\n",
       "      (ln_post): LayerNorm((1664,), eps=1e-05, elementwise_affine=True)\n",
       "    )\n",
       "    (token_embedding): Embedding(49408, 1280)\n",
       "    (ln_final): LayerNorm((1280,), eps=1e-05, elementwise_affine=True)\n",
       "  )\n",
       ")"
      ]
     },
     "execution_count": 5,
     "metadata": {},
     "output_type": "execute_result"
    }
   ],
   "source": [
    "clip_img_embedder = FrozenOpenCLIPImageEmbedder(\n",
    "    arch=\"ViT-bigG-14\",\n",
    "    version=\"laion2b_s39b_b160k\",\n",
    "    output_tokens=True,\n",
    "    only_tokens=True,\n",
    ")\n",
    "clip_img_embedder.to(d1)"
   ]
  },
  {
   "cell_type": "code",
   "execution_count": 13,
   "id": "5ad009a8-50ba-40f1-b0a1-aaf6573c22e8",
   "metadata": {
    "tags": []
   },
   "outputs": [
    {
     "data": {
      "text/plain": [
       "torch.Size([1, 3, 224, 224])"
      ]
     },
     "execution_count": 13,
     "metadata": {},
     "output_type": "execute_result"
    }
   ],
   "source": [
    "x = torch.randn([3, 224, 224]).cuda()\n",
    "x = x.unsqueeze(0)\n",
    "y = clip_img_embedder(x)\n",
    "x.shape"
   ]
  },
  {
   "cell_type": "code",
   "execution_count": 12,
   "id": "7734c724-e07f-40ec-8037-d3c0f9c52414",
   "metadata": {
    "tags": []
   },
   "outputs": [
    {
     "name": "stderr",
     "output_type": "stream",
     "text": [
      "100%|█████████████████████████████████████████████████████████████████████████████████████████████████████████| 73000/73000 [33:54<00:00, 35.87it/s]\n"
     ]
    }
   ],
   "source": [
    "for i in tqdm(range(images.shape[0])):\n",
    "    img = images[i].unsqueeze(0).to(d1)\n",
    "    emb = clip_img_embedder(img)\n",
    "    full_path = os.path.join(\"/fsx/proj-fmri/shared/vitBG_embeds/\", f\"imgt{i+1}_embed.pt\")\n",
    "    torch.save(emb, full_path)"
   ]
  },
  {
   "cell_type": "code",
   "execution_count": 14,
   "id": "7bac274c-7f1e-45f8-950f-0a988ef068c6",
   "metadata": {
    "tags": []
   },
   "outputs": [],
   "source": [
    "from torch.utils.data import Dataset\n",
    "class imgViTBG(Dataset):\n",
    "    def __init__(self, directory):\n",
    "        self.directory = directory\n",
    "        \n",
    "    def __len__(self):\n",
    "        return len(os.listdir(self.directory))\n",
    "    \n",
    "    def __getitem__(self, idx):\n",
    "        \"\"\"\n",
    "        Load and return the tensor at the given index.\n",
    "        Args:\n",
    "        - idx (int): Index of the tensor to be loaded.\n",
    "        \"\"\"\n",
    "        filename = f\"imgt{idx+1}_embed.pt\"\n",
    "        file_path = os.path.join(self.directory, filename)\n",
    "        tensor = torch.load(file_path)\n",
    "        return tensor\n",
    "\n",
    "# Usage\n",
    "directory = '/fsx/proj-fmri/shared/vitBG_embeds/'  # Replace with your directory path\n",
    "imgemb_dataset = imgViTBG(directory)\n"
   ]
  },
  {
   "cell_type": "code",
   "execution_count": 17,
   "id": "7027e67a-57cd-4b5c-bdbe-26499c488cf4",
   "metadata": {
    "tags": []
   },
   "outputs": [],
   "source": [
    "x = imgemb_dataset[776]"
   ]
  },
  {
   "cell_type": "code",
   "execution_count": 18,
   "id": "eb7548aa-a633-4f5f-9224-fba5273583e6",
   "metadata": {
    "tags": []
   },
   "outputs": [
    {
     "data": {
      "text/plain": [
       "torch.Size([1, 256, 1664])"
      ]
     },
     "execution_count": 18,
     "metadata": {},
     "output_type": "execute_result"
    }
   ],
   "source": [
    "x.shape"
   ]
  },
  {
   "cell_type": "code",
   "execution_count": 19,
   "id": "683f3a31-bca9-4f5c-9466-9a4b2f37dcdd",
   "metadata": {
    "tags": []
   },
   "outputs": [],
   "source": [
    "img = images[776].unsqueeze(0).to(d1)\n",
    "y = clip_img_embedder(img)"
   ]
  },
  {
   "cell_type": "code",
   "execution_count": 20,
   "id": "7e8234cb-6799-4343-a776-ccf0ba61f27a",
   "metadata": {
    "tags": []
   },
   "outputs": [
    {
     "data": {
      "text/plain": [
       "tensor([[[True, True, True,  ..., True, True, True],\n",
       "         [True, True, True,  ..., True, True, True],\n",
       "         [True, True, True,  ..., True, True, True],\n",
       "         ...,\n",
       "         [True, True, True,  ..., True, True, True],\n",
       "         [True, True, True,  ..., True, True, True],\n",
       "         [True, True, True,  ..., True, True, True]]], device='cuda:0')"
      ]
     },
     "execution_count": 20,
     "metadata": {},
     "output_type": "execute_result"
    }
   ],
   "source": [
    "x == y"
   ]
  },
  {
   "cell_type": "code",
   "execution_count": null,
   "id": "3c03ae49-34d0-469f-b2cb-c4579a784b6a",
   "metadata": {},
   "outputs": [],
   "source": []
  }
 ],
 "metadata": {
  "kernelspec": {
   "display_name": "Python 3 (ipykernel)",
   "language": "python",
   "name": "python3"
  },
  "language_info": {
   "codemirror_mode": {
    "name": "ipython",
    "version": 3
   },
   "file_extension": ".py",
   "mimetype": "text/x-python",
   "name": "python",
   "nbconvert_exporter": "python",
   "pygments_lexer": "ipython3",
   "version": "3.10.8"
  }
 },
 "nbformat": 4,
 "nbformat_minor": 5
}
