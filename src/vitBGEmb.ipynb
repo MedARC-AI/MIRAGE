{
 "cells": [
  {
   "cell_type": "code",
   "execution_count": 1,
   "id": "02254f50-230a-43e6-bcad-89d36d97489d",
   "metadata": {
    "tags": []
   },
   "outputs": [
    {
     "name": "stderr",
     "output_type": "stream",
     "text": [
      "/admin/home-mihirneal/miniconda3/envs/mindeye/lib/python3.10/site-packages/scipy/__init__.py:155: UserWarning: A NumPy version >=1.18.5 and <1.25.0 is required for this version of SciPy (detected version 1.26.2\n",
      "  warnings.warn(f\"A NumPy version >={np_minversion} and <{np_maxversion}\"\n",
      "/admin/home-mihirneal/miniconda3/envs/mindeye/lib/python3.10/site-packages/tqdm/auto.py:21: TqdmWarning: IProgress not found. Please update jupyter and ipywidgets. See https://ipywidgets.readthedocs.io/en/stable/user_install.html\n",
      "  from .autonotebook import tqdm as notebook_tqdm\n"
     ]
    }
   ],
   "source": [
    "import torch\n",
    "import h5py\n",
    "import os\n",
    "import numpy as np\n",
    "import sys\n",
    "from tqdm import tqdm\n",
    "sys.path.append('generative_models/')\n",
    "import sgm\n",
    "from generative_models.sgm.modules.encoders.modules import FrozenOpenCLIPImageEmbedder\n",
    "from torch.utils.data import Dataset\n",
    "\n",
    "# from generative_models.sgm.models.diffusion import DiffusionEngine\n",
    "# from omegaconf import OmegaConf"
   ]
  },
  {
   "cell_type": "code",
   "execution_count": 2,
   "id": "cea67c72-2e5b-49cd-a238-d182fa5187e0",
   "metadata": {
    "tags": []
   },
   "outputs": [],
   "source": [
    "d1 = torch.device(\"cuda:0\")\n",
    "d2 = torch.device(\"cuda:1\")\n",
    "d3 = torch.device(\"cuda:2\")"
   ]
  },
  {
   "cell_type": "code",
   "execution_count": 17,
   "id": "721fdeec-16af-4db9-9e52-255383eafddb",
   "metadata": {
    "tags": []
   },
   "outputs": [],
   "source": [
    "data_path = \"/weka/proj-fmri/shared/mindeyev2_dataset\"\n",
    "subj=1\n",
    "data_type = torch.float32\n",
    "num_sessions=3\n",
    "num_devices=3\n",
    "batch_size = 8\n",
    "import webdataset as wds\n",
    "import random"
   ]
  },
  {
   "cell_type": "code",
   "execution_count": 18,
   "id": "8574e96c-7f94-4d06-bd9a-28842172db7c",
   "metadata": {},
   "outputs": [
    {
     "name": "stdout",
     "output_type": "stream",
     "text": [
      "num_sessions = 3 batch_size = 8 num_iterations_per_epoch = 533 num_samples_per_epoch = 4266\n",
      "/weka/proj-fmri/shared/mindeyev2_dataset/wds/subj01/train/{0..2}.tar\n"
     ]
    }
   ],
   "source": [
    "def my_split_by_node(urls): return urls\n",
    "\n",
    "nsessions_allsubj=np.array([40, 40, 32, 30, 40, 32, 40, 30])\n",
    "\n",
    "if num_sessions == 0: num_sessions = nsessions_allsubj[subj-1]\n",
    "\n",
    "num_samples_per_epoch = 12800 // num_devices \n",
    "# or if you want less samples per epoch if you're using less data, can do (750*num_sessions) // num_devices \n",
    "\n",
    "num_iterations_per_epoch = num_samples_per_epoch // batch_size\n",
    "\n",
    "print(\"num_sessions =\", num_sessions, \"batch_size =\", batch_size, \"num_iterations_per_epoch =\",num_iterations_per_epoch, \"num_samples_per_epoch =\",num_samples_per_epoch,)\n",
    "\n",
    "\n",
    "# In[7]:\n",
    "\n",
    "\n",
    "train_url = f\"{data_path}/wds/subj0{subj}/train/\" + \"{0..\" + f\"{num_sessions-1}\" + \"}.tar\"\n",
    "print(train_url)\n",
    "\n",
    "train_data = wds.WebDataset(train_url,resampled=True,nodesplitter=my_split_by_node)\\\n",
    "                    .shuffle(750, initial=1500, rng=random.Random(42))\\\n",
    "                    .decode(\"torch\")\\\n",
    "                    .rename(behav=\"behav.npy\", past_behav=\"past_behav.npy\", future_behav=\"future_behav.npy\", olds_behav=\"olds_behav.npy\")\\\n",
    "                    .to_tuple(*[\"behav\", \"past_behav\", \"future_behav\", \"olds_behav\"])\\\n",
    "                    .with_epoch(num_samples_per_epoch)\n",
    "train_dl = torch.utils.data.DataLoader(train_data, batch_size=batch_size, shuffle=False, drop_last=True, pin_memory=True)\n",
    "\n",
    "# if using same test dataset as MindEyeV1:\n",
    "test_url = f\"{data_path}/wds/subj0{subj}/test/\" + \"0.tar\"\n",
    "num_test = 2770 # total number of test samples\n",
    "test_batch_size = 30 # number of test samples to use during validation\n",
    "test_data = wds.WebDataset(test_url,resampled=False,nodesplitter=my_split_by_node)\\\n",
    "                    .shuffle(750, initial=1500, rng=random.Random(42))\\\n",
    "                    .decode(\"torch\")\\\n",
    "                    .rename(behav=\"behav.npy\", past_behav=\"past_behav.npy\", future_behav=\"future_behav.npy\", olds_behav=\"olds_behav.npy\")\\\n",
    "                    .to_tuple(*[\"behav\", \"past_behav\", \"future_behav\", \"olds_behav\"])\n",
    "test_dl = torch.utils.data.DataLoader(test_data, batch_size=num_test, shuffle=False, drop_last=False, pin_memory=True)"
   ]
  },
  {
   "cell_type": "code",
   "execution_count": 19,
   "id": "c5da2123-a421-40f4-8726-cc22a88338a6",
   "metadata": {
    "tags": []
   },
   "outputs": [
    {
     "name": "stdout",
     "output_type": "stream",
     "text": [
      "subj01 betas loaded into memory\n",
      "voxels torch.Size([30000, 15724])\n",
      "images torch.Size([73000, 3, 224, 224])\n"
     ]
    }
   ],
   "source": [
    "f = h5py.File(f'{data_path}/betas_all_subj0{subj}_fp32.hdf5', 'r')\n",
    "\n",
    "voxels = f['betas'][:]\n",
    "print(f\"subj0{subj} betas loaded into memory\")\n",
    "voxels = torch.Tensor(voxels).to(\"cpu\").to(data_type)\n",
    "print(\"voxels\", voxels.shape)\n",
    "num_voxels = voxels.shape[-1]\n",
    "\n",
    "# # load orig images\n",
    "f = h5py.File(f'{data_path}/coco_images_224_float16.hdf5', 'r')\n",
    "images = f['images'][:]\n",
    "images = torch.Tensor(images).to(\"cpu\").to(data_type)\n",
    "print(\"images\", images.shape)"
   ]
  },
  {
   "cell_type": "code",
   "execution_count": 45,
   "id": "c777bfc3-3113-4b05-9009-cc6c5cf17953",
   "metadata": {},
   "outputs": [],
   "source": [
    "class imgViTBG(Dataset):\n",
    "    def __init__(self, directory):\n",
    "        self.directory = directory\n",
    "        \n",
    "    def __len__(self):\n",
    "        return len(os.listdir(self.directory))\n",
    "    \n",
    "    def __getitem__(self, idx):\n",
    "        \"\"\"\n",
    "        Load and return the tensor at the given index.\n",
    "        Args:\n",
    "        - idx (int): Index of the tensor to be loaded.\n",
    "        \"\"\"\n",
    "        filename = f\"imgt{idx+1}_embed.pt\"\n",
    "        file_path = os.path.join(self.directory, filename)\n",
    "        # tensor = torch.load(file_path)\n",
    "        return file_path\n",
    "directory = '/weka/proj-fmri/shared/vitBG_embeds/'  # Replace with your directory path\n",
    "imgemb_dataset = imgViTBG(directory)"
   ]
  },
  {
   "cell_type": "code",
   "execution_count": 91,
   "id": "c2285f83-659a-4311-8ea9-684f286f55b5",
   "metadata": {},
   "outputs": [
    {
     "name": "stdout",
     "output_type": "stream",
     "text": [
      "tensor([36418, 70462, 47512, 69134, 11638, 69462, 58506, 59255])\n"
     ]
    }
   ],
   "source": [
    "for train_i, (behav, past_behav, future_behav, old_behav) in enumerate(train_dl):\n",
    "    if train_i == 8:\n",
    "        voxel = voxels[behav[:,0,5].cpu().long()].to(d1)\n",
    "        image = images[behav[:,0,0].cpu().long()].to(d1).float()\n",
    "        arr = behav[:,0,0].cpu().long()\n",
    "        print(behav[:,0,0].cpu().long())\n"
   ]
  },
  {
   "cell_type": "code",
   "execution_count": 92,
   "id": "d44fb1e1-b340-439f-98ed-6f4fa1692453",
   "metadata": {},
   "outputs": [
    {
     "data": {
      "text/plain": [
       "tensor([36418, 70462, 47512, 69134, 11638, 69462, 58506, 59255])"
      ]
     },
     "execution_count": 92,
     "metadata": {},
     "output_type": "execute_result"
    }
   ],
   "source": [
    "arr"
   ]
  },
  {
   "cell_type": "code",
   "execution_count": 98,
   "id": "62762a2b-a868-4de6-ab34-75bdd27fd04a",
   "metadata": {},
   "outputs": [
    {
     "data": {
      "text/plain": [
       "torch.Size([8, 3, 224, 224])"
      ]
     },
     "execution_count": 98,
     "metadata": {},
     "output_type": "execute_result"
    }
   ],
   "source": [
    "image.shape"
   ]
  },
  {
   "cell_type": "code",
   "execution_count": 21,
   "id": "5089153a-e421-4244-878c-6e3d87f4474f",
   "metadata": {
    "tags": []
   },
   "outputs": [
    {
     "data": {
      "text/plain": [
       "FrozenOpenCLIPImageEmbedder(\n",
       "  (model): CLIP(\n",
       "    (visual): VisionTransformer(\n",
       "      (conv1): Conv2d(3, 1664, kernel_size=(14, 14), stride=(14, 14), bias=False)\n",
       "      (patch_dropout): Identity()\n",
       "      (ln_pre): LayerNorm((1664,), eps=1e-05, elementwise_affine=True)\n",
       "      (transformer): Transformer(\n",
       "        (resblocks): ModuleList(\n",
       "          (0-47): 48 x ResidualAttentionBlock(\n",
       "            (ln_1): LayerNorm((1664,), eps=1e-05, elementwise_affine=True)\n",
       "            (attn): MultiheadAttention(\n",
       "              (out_proj): NonDynamicallyQuantizableLinear(in_features=1664, out_features=1664, bias=True)\n",
       "            )\n",
       "            (ls_1): Identity()\n",
       "            (ln_2): LayerNorm((1664,), eps=1e-05, elementwise_affine=True)\n",
       "            (mlp): Sequential(\n",
       "              (c_fc): Linear(in_features=1664, out_features=8192, bias=True)\n",
       "              (gelu): GELU(approximate='none')\n",
       "              (c_proj): Linear(in_features=8192, out_features=1664, bias=True)\n",
       "            )\n",
       "            (ls_2): Identity()\n",
       "          )\n",
       "        )\n",
       "      )\n",
       "      (ln_post): LayerNorm((1664,), eps=1e-05, elementwise_affine=True)\n",
       "    )\n",
       "    (token_embedding): Embedding(49408, 1280)\n",
       "    (ln_final): LayerNorm((1280,), eps=1e-05, elementwise_affine=True)\n",
       "  )\n",
       ")"
      ]
     },
     "execution_count": 21,
     "metadata": {},
     "output_type": "execute_result"
    }
   ],
   "source": [
    "clip_img_embedder = FrozenOpenCLIPImageEmbedder(\n",
    "    arch=\"ViT-bigG-14\",\n",
    "    version=\"laion2b_s39b_b160k\",\n",
    "    output_tokens=True,\n",
    "    only_tokens=True,\n",
    ").to(data_type)\n",
    "clip_img_embedder.to(d1)"
   ]
  },
  {
   "cell_type": "code",
   "execution_count": 44,
   "id": "7734c724-e07f-40ec-8037-d3c0f9c52414",
   "metadata": {
    "tags": []
   },
   "outputs": [
    {
     "name": "stderr",
     "output_type": "stream",
     "text": [
      "100%|█████████████████████████████████████████████████████████████████████████████████████████████████████████████████████████| 73000/73000 [33:52<00:00, 35.91it/s]\n"
     ]
    }
   ],
   "source": [
    "for i in tqdm(range(73000)):\n",
    "    img = images[i].unsqueeze(0).to(d1)\n",
    "    emb = clip_img_embedder(img).to(data_type)\n",
    "    full_path = os.path.join(\"/weka/proj-fmri/shared/vitBG_embeds/\", f\"imgt{i+1}_embed.pt\")\n",
    "    torch.save(emb, full_path)"
   ]
  },
  {
   "cell_type": "code",
   "execution_count": 33,
   "id": "6368e7bc-4d24-4791-9537-8e8fb94efb41",
   "metadata": {},
   "outputs": [
    {
     "data": {
      "text/plain": [
       "torch.float32"
      ]
     },
     "execution_count": 33,
     "metadata": {},
     "output_type": "execute_result"
    }
   ],
   "source": [
    "images.dtype"
   ]
  },
  {
   "cell_type": "code",
   "execution_count": 85,
   "id": "803e3a77-6708-4791-af46-22f78da4b4bd",
   "metadata": {},
   "outputs": [],
   "source": [
    "arr = [65000, 65001, 2, 3]"
   ]
  },
  {
   "cell_type": "code",
   "execution_count": 93,
   "id": "eb7548aa-a633-4f5f-9224-fba5273583e6",
   "metadata": {
    "tags": []
   },
   "outputs": [
    {
     "name": "stdout",
     "output_type": "stream",
     "text": [
      "/weka/proj-fmri/shared/vitBG_embeds/imgt36419_embed.pt\n",
      "/weka/proj-fmri/shared/vitBG_embeds/imgt70463_embed.pt\n",
      "/weka/proj-fmri/shared/vitBG_embeds/imgt47513_embed.pt\n",
      "/weka/proj-fmri/shared/vitBG_embeds/imgt69135_embed.pt\n",
      "/weka/proj-fmri/shared/vitBG_embeds/imgt11639_embed.pt\n",
      "/weka/proj-fmri/shared/vitBG_embeds/imgt69463_embed.pt\n",
      "/weka/proj-fmri/shared/vitBG_embeds/imgt58507_embed.pt\n",
      "/weka/proj-fmri/shared/vitBG_embeds/imgt59256_embed.pt\n",
      "torch.float16\n"
     ]
    }
   ],
   "source": [
    "def get_img_tensor(data, index_arr, batch_size):\n",
    "    emb_arr = []\n",
    "    for i in range(batch_size):\n",
    "        ind = index_arr[i]\n",
    "        path_emb = data[ind]\n",
    "        emb = torch.load(path_emb, map_location='cpu')\n",
    "        emb = emb.squeeze(0)\n",
    "        emb_arr.append(emb)\n",
    "    emb_tensor = torch.stack(emb_arr)\n",
    "    return emb_tensor\n",
    "x = get_img_tensor(imgemb_dataset, arr, 8).cuda()\n",
    "x = x.to(torch.float16)\n",
    "print(x.dtype)"
   ]
  },
  {
   "cell_type": "code",
   "execution_count": 94,
   "id": "683f3a31-bca9-4f5c-9466-9a4b2f37dcdd",
   "metadata": {
    "tags": []
   },
   "outputs": [
    {
     "name": "stdout",
     "output_type": "stream",
     "text": [
      "torch.Size([8, 256, 1664])\n"
     ]
    },
    {
     "data": {
      "text/plain": [
       "torch.float16"
      ]
     },
     "execution_count": 94,
     "metadata": {},
     "output_type": "execute_result"
    }
   ],
   "source": [
    "gt_image = images[arr].cuda()\n",
    "z = clip_img_embedder(gt_image)\n",
    "print(z.shape)\n",
    "z.dtype"
   ]
  },
  {
   "cell_type": "code",
   "execution_count": 98,
   "id": "7e8234cb-6799-4343-a776-ccf0ba61f27a",
   "metadata": {
    "tags": []
   },
   "outputs": [
    {
     "data": {
      "text/plain": [
       "tensor([[ 1.1475e+00, -8.7012e-01,  4.7339e-01,  ..., -7.4268e-01,\n",
       "          1.1846e+00,  4.8267e-01],\n",
       "        [ 9.2725e-01, -3.5107e-01,  7.5388e-04,  ...,  4.9316e-01,\n",
       "          9.3872e-02,  1.7566e-01],\n",
       "        [ 8.7891e-01, -1.0576e+00, -3.3325e-01,  ..., -8.5596e-01,\n",
       "         -2.2253e-01,  4.0649e-01],\n",
       "        ...,\n",
       "        [ 1.9958e-01,  1.3599e-01, -3.6938e-01,  ...,  7.1338e-01,\n",
       "          7.2852e-01,  1.0244e+00],\n",
       "        [-1.0602e-01, -7.0898e-01, -2.7008e-02,  ..., -7.0752e-01,\n",
       "          1.0225e+00,  7.6025e-01],\n",
       "        [ 2.0483e-01,  2.2217e-01, -5.3223e-01,  ..., -6.9141e-01,\n",
       "          6.4111e-01, -9.6289e-01]], device='cuda:0', dtype=torch.float16)"
      ]
     },
     "execution_count": 98,
     "metadata": {},
     "output_type": "execute_result"
    }
   ],
   "source": [
    "x[3]"
   ]
  },
  {
   "cell_type": "code",
   "execution_count": 97,
   "id": "3c03ae49-34d0-469f-b2cb-c4579a784b6a",
   "metadata": {},
   "outputs": [
    {
     "data": {
      "text/plain": [
       "tensor([[ 1.1504, -0.8696,  0.4709,  ..., -0.7407,  1.1875,  0.4797],\n",
       "        [ 0.9287, -0.3550,  0.0100,  ...,  0.4846,  0.1002,  0.1641],\n",
       "        [ 0.8770, -1.0576, -0.3286,  ..., -0.8540, -0.2194,  0.4082],\n",
       "        ...,\n",
       "        [ 0.1993,  0.1409, -0.3718,  ...,  0.7129,  0.7329,  1.0283],\n",
       "        [-0.1082, -0.7070, -0.0278,  ..., -0.7041,  1.0215,  0.7622],\n",
       "        [ 0.2048,  0.2233, -0.5347,  ..., -0.6909,  0.6411, -0.9604]],\n",
       "       device='cuda:0', dtype=torch.float16)"
      ]
     },
     "execution_count": 97,
     "metadata": {},
     "output_type": "execute_result"
    }
   ],
   "source": [
    "z[3]"
   ]
  },
  {
   "cell_type": "code",
   "execution_count": null,
   "id": "6c88cdaf-d964-4611-bbad-899f1d000874",
   "metadata": {},
   "outputs": [],
   "source": []
  }
 ],
 "metadata": {
  "kernelspec": {
   "display_name": "Python 3 (ipykernel)",
   "language": "python",
   "name": "python3"
  },
  "language_info": {
   "codemirror_mode": {
    "name": "ipython",
    "version": 3
   },
   "file_extension": ".py",
   "mimetype": "text/x-python",
   "name": "python",
   "nbconvert_exporter": "python",
   "pygments_lexer": "ipython3",
   "version": "3.10.8"
  }
 },
 "nbformat": 4,
 "nbformat_minor": 5
}
